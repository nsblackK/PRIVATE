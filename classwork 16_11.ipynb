{
 "cells": [
  {
   "cell_type": "code",
   "execution_count": 35,
   "metadata": {},
   "outputs": [
    {
     "data": {
      "text/html": [
       "<table>\n",
       "<thead><tr><th scope=col>Roll</th><th scope=col>Name</th><th scope=col>CIA I</th><th scope=col>MidTerm</th></tr></thead>\n",
       "<tbody>\n",
       "\t<tr><td>20112001                       </td><td>ABHIJITH PRAKASH               </td><td>14                             </td><td>41                             </td></tr>\n",
       "\t<tr><td>20112002                       </td><td>AKASH VARUGHESE JOSEPH         </td><td> 9                             </td><td>42                             </td></tr>\n",
       "\t<tr><td>20112003                       </td><td>AKSHITHA MASUNA                </td><td> 9                             </td><td>29                             </td></tr>\n",
       "\t<tr><td>20112004                       </td><td>ANIRUDH PRASHANTH              </td><td> 9                             </td><td>38                             </td></tr>\n",
       "\t<tr><td>20112005                       </td><td>ANSH SANCHETI                  </td><td>13                             </td><td>40                             </td></tr>\n",
       "\t<tr><td>20112006                       </td><td>ANUKRITI SHARMA                </td><td>13                             </td><td>43                             </td></tr>\n",
       "\t<tr><td>20112007                       </td><td>ARVIND BOSE                    </td><td> 9                             </td><td>30                             </td></tr>\n",
       "\t<tr><td>20112009                       </td><td>TANMAY NITIN PATIL             </td><td>12                             </td><td>35                             </td></tr>\n",
       "\t<tr><td>20112010                       </td><td>AYUSH SINGH                    </td><td>11                             </td><td>40                             </td></tr>\n",
       "\t<tr><td>20112013                       </td><td>FATHIMATHUL SUSNA SHOUKKATH ALI</td><td> 9                             </td><td>38                             </td></tr>\n",
       "\t<tr><td>20112014                       </td><td>ISHAAN CHATURVEDI              </td><td> 9                             </td><td>43                             </td></tr>\n",
       "\t<tr><td>20112016                       </td><td>K RAYYAN SUBAIR                </td><td> 7                             </td><td>20                             </td></tr>\n",
       "\t<tr><td>20112017                       </td><td>KIRAN BASIL VARGHESE           </td><td> 9                             </td><td>26                             </td></tr>\n",
       "\t<tr><td>20112018                       </td><td>ARUNDHATI KOLAHAL              </td><td>11                             </td><td>41                             </td></tr>\n",
       "\t<tr><td>20112019                       </td><td>MOHAMED PARVEZ                 </td><td>11                             </td><td>37                             </td></tr>\n",
       "\t<tr><td>20112020                       </td><td>MUBARIS MANSOOR                </td><td> 9                             </td><td>25                             </td></tr>\n",
       "\t<tr><td>20112021                       </td><td>NILAY PURAYAR                  </td><td>11                             </td><td>38                             </td></tr>\n",
       "\t<tr><td>20112022                       </td><td>NIRMALYA SARKAR                </td><td>11                             </td><td>35                             </td></tr>\n",
       "\t<tr><td>20112023                       </td><td>PRANAV KATARIA                 </td><td>13                             </td><td>32                             </td></tr>\n",
       "\t<tr><td>20112024                       </td><td>RAHULRAJ MADAYI PUTHIYAVEEDU   </td><td>11                             </td><td>39                             </td></tr>\n",
       "\t<tr><td>20112026                       </td><td>RENZIL NOEL PINTO              </td><td> 9                             </td><td>32                             </td></tr>\n",
       "\t<tr><td>20112027                       </td><td>ROHAN SIJU                     </td><td> 9                             </td><td>34                             </td></tr>\n",
       "\t<tr><td>20112029                       </td><td>S SANDEEP JABEZ                </td><td>13                             </td><td>38                             </td></tr>\n",
       "\t<tr><td>20112033                       </td><td>SWAYAMSHREE MOHANTY            </td><td>13                             </td><td>41                             </td></tr>\n",
       "\t<tr><td>20112034                       </td><td>TRISHA PRASAD                  </td><td>13                             </td><td>40                             </td></tr>\n",
       "\t<tr><td>20112035                       </td><td>U MAHIMA                       </td><td>12                             </td><td>43                             </td></tr>\n",
       "\t<tr><td>20112036                       </td><td>VIDHI SAHA                     </td><td>11                             </td><td>40                             </td></tr>\n",
       "\t<tr><td>20112037                       </td><td>YASH LUCAS                     </td><td>11                             </td><td>40                             </td></tr>\n",
       "\t<tr><td>20112039                       </td><td>NUNNA SREYA                    </td><td>13                             </td><td>47                             </td></tr>\n",
       "\t<tr><td>20112040                       </td><td>ROHIT VINOJ CHERUVATHOOR       </td><td>11                             </td><td>29                             </td></tr>\n",
       "\t<tr><td>20112041                       </td><td>SRUSHTI HRISHIKESH SUMMANWAR   </td><td>12                             </td><td>42                             </td></tr>\n",
       "\t<tr><td>20112042                       </td><td>AKSHAYARAM S                   </td><td>13                             </td><td>40                             </td></tr>\n",
       "\t<tr><td>20112045                       </td><td>NAVEEN N S                     </td><td>12                             </td><td>42                             </td></tr>\n",
       "\t<tr><td>20112046                       </td><td>SRIKANT SHUBHAM                </td><td>10                             </td><td>39                             </td></tr>\n",
       "\t<tr><td>20112047                       </td><td>SIMRAN SINGH                   </td><td>10                             </td><td>45                             </td></tr>\n",
       "</tbody>\n",
       "</table>\n"
      ],
      "text/latex": [
       "\\begin{tabular}{r|llll}\n",
       " Roll & Name & CIA I & MidTerm\\\\\n",
       "\\hline\n",
       "\t 20112001                        & ABHIJITH PRAKASH                & 14                              & 41                             \\\\\n",
       "\t 20112002                        & AKASH VARUGHESE JOSEPH          &  9                              & 42                             \\\\\n",
       "\t 20112003                        & AKSHITHA MASUNA                 &  9                              & 29                             \\\\\n",
       "\t 20112004                        & ANIRUDH PRASHANTH               &  9                              & 38                             \\\\\n",
       "\t 20112005                        & ANSH SANCHETI                   & 13                              & 40                             \\\\\n",
       "\t 20112006                        & ANUKRITI SHARMA                 & 13                              & 43                             \\\\\n",
       "\t 20112007                        & ARVIND BOSE                     &  9                              & 30                             \\\\\n",
       "\t 20112009                        & TANMAY NITIN PATIL              & 12                              & 35                             \\\\\n",
       "\t 20112010                        & AYUSH SINGH                     & 11                              & 40                             \\\\\n",
       "\t 20112013                        & FATHIMATHUL SUSNA SHOUKKATH ALI &  9                              & 38                             \\\\\n",
       "\t 20112014                        & ISHAAN CHATURVEDI               &  9                              & 43                             \\\\\n",
       "\t 20112016                        & K RAYYAN SUBAIR                 &  7                              & 20                             \\\\\n",
       "\t 20112017                        & KIRAN BASIL VARGHESE            &  9                              & 26                             \\\\\n",
       "\t 20112018                        & ARUNDHATI KOLAHAL               & 11                              & 41                             \\\\\n",
       "\t 20112019                        & MOHAMED PARVEZ                  & 11                              & 37                             \\\\\n",
       "\t 20112020                        & MUBARIS MANSOOR                 &  9                              & 25                             \\\\\n",
       "\t 20112021                        & NILAY PURAYAR                   & 11                              & 38                             \\\\\n",
       "\t 20112022                        & NIRMALYA SARKAR                 & 11                              & 35                             \\\\\n",
       "\t 20112023                        & PRANAV KATARIA                  & 13                              & 32                             \\\\\n",
       "\t 20112024                        & RAHULRAJ MADAYI PUTHIYAVEEDU    & 11                              & 39                             \\\\\n",
       "\t 20112026                        & RENZIL NOEL PINTO               &  9                              & 32                             \\\\\n",
       "\t 20112027                        & ROHAN SIJU                      &  9                              & 34                             \\\\\n",
       "\t 20112029                        & S SANDEEP JABEZ                 & 13                              & 38                             \\\\\n",
       "\t 20112033                        & SWAYAMSHREE MOHANTY             & 13                              & 41                             \\\\\n",
       "\t 20112034                        & TRISHA PRASAD                   & 13                              & 40                             \\\\\n",
       "\t 20112035                        & U MAHIMA                        & 12                              & 43                             \\\\\n",
       "\t 20112036                        & VIDHI SAHA                      & 11                              & 40                             \\\\\n",
       "\t 20112037                        & YASH LUCAS                      & 11                              & 40                             \\\\\n",
       "\t 20112039                        & NUNNA SREYA                     & 13                              & 47                             \\\\\n",
       "\t 20112040                        & ROHIT VINOJ CHERUVATHOOR        & 11                              & 29                             \\\\\n",
       "\t 20112041                        & SRUSHTI HRISHIKESH SUMMANWAR    & 12                              & 42                             \\\\\n",
       "\t 20112042                        & AKSHAYARAM S                    & 13                              & 40                             \\\\\n",
       "\t 20112045                        & NAVEEN N S                      & 12                              & 42                             \\\\\n",
       "\t 20112046                        & SRIKANT SHUBHAM                 & 10                              & 39                             \\\\\n",
       "\t 20112047                        & SIMRAN SINGH                    & 10                              & 45                             \\\\\n",
       "\\end{tabular}\n"
      ],
      "text/markdown": [
       "\n",
       "| Roll | Name | CIA I | MidTerm |\n",
       "|---|---|---|---|\n",
       "| 20112001                        | ABHIJITH PRAKASH                | 14                              | 41                              |\n",
       "| 20112002                        | AKASH VARUGHESE JOSEPH          |  9                              | 42                              |\n",
       "| 20112003                        | AKSHITHA MASUNA                 |  9                              | 29                              |\n",
       "| 20112004                        | ANIRUDH PRASHANTH               |  9                              | 38                              |\n",
       "| 20112005                        | ANSH SANCHETI                   | 13                              | 40                              |\n",
       "| 20112006                        | ANUKRITI SHARMA                 | 13                              | 43                              |\n",
       "| 20112007                        | ARVIND BOSE                     |  9                              | 30                              |\n",
       "| 20112009                        | TANMAY NITIN PATIL              | 12                              | 35                              |\n",
       "| 20112010                        | AYUSH SINGH                     | 11                              | 40                              |\n",
       "| 20112013                        | FATHIMATHUL SUSNA SHOUKKATH ALI |  9                              | 38                              |\n",
       "| 20112014                        | ISHAAN CHATURVEDI               |  9                              | 43                              |\n",
       "| 20112016                        | K RAYYAN SUBAIR                 |  7                              | 20                              |\n",
       "| 20112017                        | KIRAN BASIL VARGHESE            |  9                              | 26                              |\n",
       "| 20112018                        | ARUNDHATI KOLAHAL               | 11                              | 41                              |\n",
       "| 20112019                        | MOHAMED PARVEZ                  | 11                              | 37                              |\n",
       "| 20112020                        | MUBARIS MANSOOR                 |  9                              | 25                              |\n",
       "| 20112021                        | NILAY PURAYAR                   | 11                              | 38                              |\n",
       "| 20112022                        | NIRMALYA SARKAR                 | 11                              | 35                              |\n",
       "| 20112023                        | PRANAV KATARIA                  | 13                              | 32                              |\n",
       "| 20112024                        | RAHULRAJ MADAYI PUTHIYAVEEDU    | 11                              | 39                              |\n",
       "| 20112026                        | RENZIL NOEL PINTO               |  9                              | 32                              |\n",
       "| 20112027                        | ROHAN SIJU                      |  9                              | 34                              |\n",
       "| 20112029                        | S SANDEEP JABEZ                 | 13                              | 38                              |\n",
       "| 20112033                        | SWAYAMSHREE MOHANTY             | 13                              | 41                              |\n",
       "| 20112034                        | TRISHA PRASAD                   | 13                              | 40                              |\n",
       "| 20112035                        | U MAHIMA                        | 12                              | 43                              |\n",
       "| 20112036                        | VIDHI SAHA                      | 11                              | 40                              |\n",
       "| 20112037                        | YASH LUCAS                      | 11                              | 40                              |\n",
       "| 20112039                        | NUNNA SREYA                     | 13                              | 47                              |\n",
       "| 20112040                        | ROHIT VINOJ CHERUVATHOOR        | 11                              | 29                              |\n",
       "| 20112041                        | SRUSHTI HRISHIKESH SUMMANWAR    | 12                              | 42                              |\n",
       "| 20112042                        | AKSHAYARAM S                    | 13                              | 40                              |\n",
       "| 20112045                        | NAVEEN N S                      | 12                              | 42                              |\n",
       "| 20112046                        | SRIKANT SHUBHAM                 | 10                              | 39                              |\n",
       "| 20112047                        | SIMRAN SINGH                    | 10                              | 45                              |\n",
       "\n"
      ],
      "text/plain": [
       "   Roll     Name                            CIA I MidTerm\n",
       "1  20112001 ABHIJITH PRAKASH                14    41     \n",
       "2  20112002 AKASH VARUGHESE JOSEPH           9    42     \n",
       "3  20112003 AKSHITHA MASUNA                  9    29     \n",
       "4  20112004 ANIRUDH PRASHANTH                9    38     \n",
       "5  20112005 ANSH SANCHETI                   13    40     \n",
       "6  20112006 ANUKRITI SHARMA                 13    43     \n",
       "7  20112007 ARVIND BOSE                      9    30     \n",
       "8  20112009 TANMAY NITIN PATIL              12    35     \n",
       "9  20112010 AYUSH SINGH                     11    40     \n",
       "10 20112013 FATHIMATHUL SUSNA SHOUKKATH ALI  9    38     \n",
       "11 20112014 ISHAAN CHATURVEDI                9    43     \n",
       "12 20112016 K RAYYAN SUBAIR                  7    20     \n",
       "13 20112017 KIRAN BASIL VARGHESE             9    26     \n",
       "14 20112018 ARUNDHATI KOLAHAL               11    41     \n",
       "15 20112019 MOHAMED PARVEZ                  11    37     \n",
       "16 20112020 MUBARIS MANSOOR                  9    25     \n",
       "17 20112021 NILAY PURAYAR                   11    38     \n",
       "18 20112022 NIRMALYA SARKAR                 11    35     \n",
       "19 20112023 PRANAV KATARIA                  13    32     \n",
       "20 20112024 RAHULRAJ MADAYI PUTHIYAVEEDU    11    39     \n",
       "21 20112026 RENZIL NOEL PINTO                9    32     \n",
       "22 20112027 ROHAN SIJU                       9    34     \n",
       "23 20112029 S SANDEEP JABEZ                 13    38     \n",
       "24 20112033 SWAYAMSHREE MOHANTY             13    41     \n",
       "25 20112034 TRISHA PRASAD                   13    40     \n",
       "26 20112035 U MAHIMA                        12    43     \n",
       "27 20112036 VIDHI SAHA                      11    40     \n",
       "28 20112037 YASH LUCAS                      11    40     \n",
       "29 20112039 NUNNA SREYA                     13    47     \n",
       "30 20112040 ROHIT VINOJ CHERUVATHOOR        11    29     \n",
       "31 20112041 SRUSHTI HRISHIKESH SUMMANWAR    12    42     \n",
       "32 20112042 AKSHAYARAM S                    13    40     \n",
       "33 20112045 NAVEEN N S                      12    42     \n",
       "34 20112046 SRIKANT SHUBHAM                 10    39     \n",
       "35 20112047 SIMRAN SINGH                    10    45     "
      ]
     },
     "metadata": {},
     "output_type": "display_data"
    }
   ],
   "source": [
    "library(\"readxl\")\n",
    "ds<- read_excel(\"bscds.xlsx\")\n",
    "ds"
   ]
  },
  {
   "cell_type": "code",
   "execution_count": 36,
   "metadata": {},
   "outputs": [
    {
     "data": {
      "text/plain": [
       "      Roll              Name               CIA I          MidTerm     \n",
       " Min.   :20112001   Length:35          Min.   : 7.00   Min.   :20.00  \n",
       " 1st Qu.:20112012   Class :character   1st Qu.: 9.00   1st Qu.:34.50  \n",
       " Median :20112022   Mode  :character   Median :11.00   Median :39.00  \n",
       " Mean   :20112023                      Mean   :10.91   Mean   :37.26  \n",
       " 3rd Qu.:20112036                      3rd Qu.:12.50   3rd Qu.:41.00  \n",
       " Max.   :20112047                      Max.   :14.00   Max.   :47.00  "
      ]
     },
     "metadata": {},
     "output_type": "display_data"
    }
   ],
   "source": [
    "summary(ds)"
   ]
  },
  {
   "cell_type": "code",
   "execution_count": 37,
   "metadata": {},
   "outputs": [
    {
     "data": {
      "text/html": [
       "<table>\n",
       "<thead><tr><th scope=col>Roll</th><th scope=col>Name</th><th scope=col>CIA I</th><th scope=col>MidTerm</th></tr></thead>\n",
       "<tbody>\n",
       "\t<tr><td>20112001              </td><td>ABHIJITH PRAKASH      </td><td>14                    </td><td>41                    </td></tr>\n",
       "\t<tr><td>20112002              </td><td>AKASH VARUGHESE JOSEPH</td><td> 9                    </td><td>42                    </td></tr>\n",
       "\t<tr><td>20112003              </td><td>AKSHITHA MASUNA       </td><td> 9                    </td><td>29                    </td></tr>\n",
       "\t<tr><td>20112004              </td><td>ANIRUDH PRASHANTH     </td><td> 9                    </td><td>38                    </td></tr>\n",
       "\t<tr><td>20112005              </td><td>ANSH SANCHETI         </td><td>13                    </td><td>40                    </td></tr>\n",
       "\t<tr><td>20112006              </td><td>ANUKRITI SHARMA       </td><td>13                    </td><td>43                    </td></tr>\n",
       "</tbody>\n",
       "</table>\n"
      ],
      "text/latex": [
       "\\begin{tabular}{r|llll}\n",
       " Roll & Name & CIA I & MidTerm\\\\\n",
       "\\hline\n",
       "\t 20112001               & ABHIJITH PRAKASH       & 14                     & 41                    \\\\\n",
       "\t 20112002               & AKASH VARUGHESE JOSEPH &  9                     & 42                    \\\\\n",
       "\t 20112003               & AKSHITHA MASUNA        &  9                     & 29                    \\\\\n",
       "\t 20112004               & ANIRUDH PRASHANTH      &  9                     & 38                    \\\\\n",
       "\t 20112005               & ANSH SANCHETI          & 13                     & 40                    \\\\\n",
       "\t 20112006               & ANUKRITI SHARMA        & 13                     & 43                    \\\\\n",
       "\\end{tabular}\n"
      ],
      "text/markdown": [
       "\n",
       "| Roll | Name | CIA I | MidTerm |\n",
       "|---|---|---|---|\n",
       "| 20112001               | ABHIJITH PRAKASH       | 14                     | 41                     |\n",
       "| 20112002               | AKASH VARUGHESE JOSEPH |  9                     | 42                     |\n",
       "| 20112003               | AKSHITHA MASUNA        |  9                     | 29                     |\n",
       "| 20112004               | ANIRUDH PRASHANTH      |  9                     | 38                     |\n",
       "| 20112005               | ANSH SANCHETI          | 13                     | 40                     |\n",
       "| 20112006               | ANUKRITI SHARMA        | 13                     | 43                     |\n",
       "\n"
      ],
      "text/plain": [
       "  Roll     Name                   CIA I MidTerm\n",
       "1 20112001 ABHIJITH PRAKASH       14    41     \n",
       "2 20112002 AKASH VARUGHESE JOSEPH  9    42     \n",
       "3 20112003 AKSHITHA MASUNA         9    29     \n",
       "4 20112004 ANIRUDH PRASHANTH       9    38     \n",
       "5 20112005 ANSH SANCHETI          13    40     \n",
       "6 20112006 ANUKRITI SHARMA        13    43     "
      ]
     },
     "metadata": {},
     "output_type": "display_data"
    },
    {
     "data": {
      "text/html": [
       "<ol class=list-inline>\n",
       "\t<li>35</li>\n",
       "\t<li>4</li>\n",
       "</ol>\n"
      ],
      "text/latex": [
       "\\begin{enumerate*}\n",
       "\\item 35\n",
       "\\item 4\n",
       "\\end{enumerate*}\n"
      ],
      "text/markdown": [
       "1. 35\n",
       "2. 4\n",
       "\n",
       "\n"
      ],
      "text/plain": [
       "[1] 35  4"
      ]
     },
     "metadata": {},
     "output_type": "display_data"
    }
   ],
   "source": [
    "population = ds\n",
    "head(population)\n",
    "dim(population)"
   ]
  },
  {
   "cell_type": "code",
   "execution_count": 38,
   "metadata": {},
   "outputs": [
    {
     "data": {
      "text/html": [
       "<table>\n",
       "<thead><tr><th scope=col>Roll</th><th scope=col>Name</th><th scope=col>CIA I</th><th scope=col>MidTerm</th></tr></thead>\n",
       "<tbody>\n",
       "\t<tr><td>20112046                    </td><td>SRIKANT SHUBHAM             </td><td>10                          </td><td>39                          </td></tr>\n",
       "\t<tr><td>20112005                    </td><td>ANSH SANCHETI               </td><td>13                          </td><td>40                          </td></tr>\n",
       "\t<tr><td>20112034                    </td><td>TRISHA PRASAD               </td><td>13                          </td><td>40                          </td></tr>\n",
       "\t<tr><td>20112016                    </td><td>K RAYYAN SUBAIR             </td><td> 7                          </td><td>20                          </td></tr>\n",
       "\t<tr><td>20112014                    </td><td>ISHAAN CHATURVEDI           </td><td> 9                          </td><td>43                          </td></tr>\n",
       "\t<tr><td>20112024                    </td><td>RAHULRAJ MADAYI PUTHIYAVEEDU</td><td>11                          </td><td>39                          </td></tr>\n",
       "\t<tr><td>20112006                    </td><td>ANUKRITI SHARMA             </td><td>13                          </td><td>43                          </td></tr>\n",
       "\t<tr><td>20112001                    </td><td>ABHIJITH PRAKASH            </td><td>14                          </td><td>41                          </td></tr>\n",
       "</tbody>\n",
       "</table>\n"
      ],
      "text/latex": [
       "\\begin{tabular}{r|llll}\n",
       " Roll & Name & CIA I & MidTerm\\\\\n",
       "\\hline\n",
       "\t 20112046                     & SRIKANT SHUBHAM              & 10                           & 39                          \\\\\n",
       "\t 20112005                     & ANSH SANCHETI                & 13                           & 40                          \\\\\n",
       "\t 20112034                     & TRISHA PRASAD                & 13                           & 40                          \\\\\n",
       "\t 20112016                     & K RAYYAN SUBAIR              &  7                           & 20                          \\\\\n",
       "\t 20112014                     & ISHAAN CHATURVEDI            &  9                           & 43                          \\\\\n",
       "\t 20112024                     & RAHULRAJ MADAYI PUTHIYAVEEDU & 11                           & 39                          \\\\\n",
       "\t 20112006                     & ANUKRITI SHARMA              & 13                           & 43                          \\\\\n",
       "\t 20112001                     & ABHIJITH PRAKASH             & 14                           & 41                          \\\\\n",
       "\\end{tabular}\n"
      ],
      "text/markdown": [
       "\n",
       "| Roll | Name | CIA I | MidTerm |\n",
       "|---|---|---|---|\n",
       "| 20112046                     | SRIKANT SHUBHAM              | 10                           | 39                           |\n",
       "| 20112005                     | ANSH SANCHETI                | 13                           | 40                           |\n",
       "| 20112034                     | TRISHA PRASAD                | 13                           | 40                           |\n",
       "| 20112016                     | K RAYYAN SUBAIR              |  7                           | 20                           |\n",
       "| 20112014                     | ISHAAN CHATURVEDI            |  9                           | 43                           |\n",
       "| 20112024                     | RAHULRAJ MADAYI PUTHIYAVEEDU | 11                           | 39                           |\n",
       "| 20112006                     | ANUKRITI SHARMA              | 13                           | 43                           |\n",
       "| 20112001                     | ABHIJITH PRAKASH             | 14                           | 41                           |\n",
       "\n"
      ],
      "text/plain": [
       "  Roll     Name                         CIA I MidTerm\n",
       "1 20112046 SRIKANT SHUBHAM              10    39     \n",
       "2 20112005 ANSH SANCHETI                13    40     \n",
       "3 20112034 TRISHA PRASAD                13    40     \n",
       "4 20112016 K RAYYAN SUBAIR               7    20     \n",
       "5 20112014 ISHAAN CHATURVEDI             9    43     \n",
       "6 20112024 RAHULRAJ MADAYI PUTHIYAVEEDU 11    39     \n",
       "7 20112006 ANUKRITI SHARMA              13    43     \n",
       "8 20112001 ABHIJITH PRAKASH             14    41     "
      ]
     },
     "metadata": {},
     "output_type": "display_data"
    }
   ],
   "source": [
    "set.seed(15)\n",
    "srswor = population[sample(1:nrow(population),8),]\n",
    "srswor"
   ]
  },
  {
   "cell_type": "code",
   "execution_count": 39,
   "metadata": {},
   "outputs": [
    {
     "data": {
      "text/html": [
       "38.125"
      ],
      "text/latex": [
       "38.125"
      ],
      "text/markdown": [
       "38.125"
      ],
      "text/plain": [
       "[1] 38.125"
      ]
     },
     "metadata": {},
     "output_type": "display_data"
    }
   ],
   "source": [
    "sample_mean = mean(srswor$MidTerm)\n",
    "sample_mean"
   ]
  },
  {
   "cell_type": "code",
   "execution_count": 41,
   "metadata": {},
   "outputs": [
    {
     "data": {
      "text/html": [
       "37.2571428571429"
      ],
      "text/latex": [
       "37.2571428571429"
      ],
      "text/markdown": [
       "37.2571428571429"
      ],
      "text/plain": [
       "[1] 37.25714"
      ]
     },
     "metadata": {},
     "output_type": "display_data"
    },
    {
     "data": {
      "text/html": [
       "35"
      ],
      "text/latex": [
       "35"
      ],
      "text/markdown": [
       "35"
      ],
      "text/plain": [
       "[1] 35"
      ]
     },
     "metadata": {},
     "output_type": "display_data"
    }
   ],
   "source": [
    "#checking fr unbiased\n",
    "#unbiased\n",
    "pop_mean = mean(population$MidTerm)\n",
    "pop_mean\n",
    "N= length(population$MidTerm)\n",
    "N"
   ]
  },
  {
   "cell_type": "code",
   "execution_count": 42,
   "metadata": {},
   "outputs": [
    {
     "data": {
      "text/html": [
       "324632"
      ],
      "text/latex": [
       "324632"
      ],
      "text/markdown": [
       "324632"
      ],
      "text/plain": [
       "[1] 324632"
      ]
     },
     "metadata": {},
     "output_type": "display_data"
    }
   ],
   "source": [
    "n=5\n",
    "all_possible_sample = choose(N,n)#combination ....taking (5 out of 32)\n",
    "all_possible_sample"
   ]
  },
  {
   "cell_type": "code",
   "execution_count": 46,
   "metadata": {},
   "outputs": [
    {
     "data": {
      "text/html": [
       "37.2588001182878"
      ],
      "text/latex": [
       "37.2588001182878"
      ],
      "text/markdown": [
       "37.2588001182878"
      ],
      "text/plain": [
       "[1] 37.2588"
      ]
     },
     "metadata": {},
     "output_type": "display_data"
    }
   ],
   "source": [
    "set.seed(15)\n",
    "sampDist <- replicate (all_possible_sample,mean(sample(population$MidTerm,n)))\n",
    "mean(sampDist)"
   ]
  },
  {
   "cell_type": "markdown",
   "metadata": {},
   "source": [
    "since pop_mean is almost equal to  mean of (sampDist), data is unbiased!!!"
   ]
  }
 ],
 "metadata": {
  "kernelspec": {
   "display_name": "R",
   "language": "R",
   "name": "ir"
  },
  "language_info": {
   "codemirror_mode": "r",
   "file_extension": ".r",
   "mimetype": "text/x-r-source",
   "name": "R",
   "pygments_lexer": "r",
   "version": "3.6.1"
  }
 },
 "nbformat": 4,
 "nbformat_minor": 4
}
