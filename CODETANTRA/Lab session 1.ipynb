{
 "cells": [
  {
   "cell_type": "code",
   "execution_count": 5,
   "metadata": {},
   "outputs": [
    {
     "name": "stdout",
     "output_type": "stream",
     "text": [
      "Enter your nameNirmalya Sarkar\n",
      "Which course you are enrolled inBSC DS\n",
      "What is your sectionA\n",
      "Enter which year2020\n",
      "Enter your Father's namePinak Sarkar\n",
      "Enter your addressWB, barasat\n",
      "Enter your mobile number8617746088\n",
      "Enter your pincode700124\n",
      "Enter total number of classes100\n",
      "Enter how many classes you attended80\n",
      "Enter your marks of sub180\n",
      "Enter your marks of sub240\n",
      "Enter your marks of sub380\n",
      "Enter your marks of sub440\n",
      "Enter your marks of sub590\n",
      "name is Nirmalya Sarkar\n",
      "course is BSC DS\n",
      "section is A\n",
      "year is 2020\n",
      "Fathers name is Pinak Sarkar\n",
      "address is WB, barasat\n",
      "mobile number is 8617746088\n",
      "pincode is 700124\n",
      "number of class connducted 100\n",
      "number of class attended 100\n",
      "attendence percentage is 80.0\n",
      "total marks is 330\n",
      "percentage scored is 82.5\n",
      "CGPA is 8.68421052631579\n"
     ]
    }
   ],
   "source": [
    "#WAP to enter the following details of a student in the univeristy marks card and print:\n",
    "# name\n",
    "# course\n",
    "# section\n",
    "# year\n",
    "# fathers name\n",
    "# address\n",
    "# mob\n",
    "# pincode\n",
    "# classes conduted\n",
    "# classes attended\n",
    "# attendance percentage\n",
    "# marks of sub1\n",
    "# marks of sub2\n",
    "# marks of sub3\n",
    "# marks of sub4\n",
    "# marks of sub5\n",
    "# Total marks\n",
    "# percentage scored\n",
    "# CGPA\n",
    "# cgpa=percentage/9.5\n",
    "name= input(\"Enter your name\")\n",
    "course= input(\"Which course you are enrolled in\")\n",
    "sec= input(\"What is your section\")\n",
    "year= input(\"Enter which year\")\n",
    "F_name= input(\"Enter your Father's name\")\n",
    "address= input(\"Enter your address\")\n",
    "mob= input(\"Enter your mobile number\")\n",
    "pincode= input(\"Enter your pincode\")\n",
    "class_cond= int(input(\"Enter total number of classes\"))\n",
    "class_attend= int(input(\"Enter how many classes you attended\"))\n",
    "sub1=int(input(\"Enter your marks of sub1\"))\n",
    "sub2=int( input(\"Enter your marks of sub2\"))\n",
    "sub3= int(input(\"Enter your marks of sub3\"))\n",
    "sub4=int( input(\"Enter your marks of sub4\"))\n",
    "sub5= int(input(\"Enter your marks of sub5\"))\n",
    "\n",
    "\n",
    "attend_perc=class_attend/class_cond*100\n",
    "total_marks=sub1+sub2+sub3+sub4+sub5\n",
    "percentage=(total_marks/400)*100\n",
    "CGPA=percentage/9.5\n",
    "\n",
    "print(\"name is\",name)\n",
    "print(\"course is\",course)\n",
    "print(\"section is\",sec)\n",
    "print(\"year is\",year)\n",
    "print(\"Fathers name is\",F_name)\n",
    "print(\"address is\",address)\n",
    "print(\"mobile number is\",mob)\n",
    "print(\"pincode is\",pincode)\n",
    "print(\"number of class connducted\",class_cond)\n",
    "print(\"number of class attended\",class_cond)\n",
    "print(\"attendence percentage is\",attend_perc)\n",
    "print(\"total marks is\",total_marks)\n",
    "print(\"percentage scored is\",percentage)\n",
    "print(\"CGPA is\",CGPA)"
   ]
  },
  {
   "cell_type": "code",
   "execution_count": 4,
   "metadata": {},
   "outputs": [
    {
     "name": "stdout",
     "output_type": "stream",
     "text": [
      "enter 1st number5\n",
      "enter 2nd number3\n",
      "sum is: 8\n",
      "difference is: 2\n",
      "product is: 15\n",
      "integer division is: 1\n",
      "float division is: 1.6666666666666667\n",
      "Number 1 raised to the power of Number 2 is: 125\n",
      "Mod is: 2\n"
     ]
    }
   ],
   "source": [
    "#Create a program that takes in two numbers from the user and  perform all the calculations on the numbers\n",
    "num1=int(input(\"enter 1st number\"))\n",
    "num2=int(input(\"enter 2nd number\"))\n",
    "A=num1+num2\n",
    "S=num1-num2\n",
    "M=num1*num2\n",
    "Df=num1/num2\n",
    "Di=num1//num2\n",
    "expo=num1**num2\n",
    "mod=num1%num2\n",
    "\n",
    "print(\"sum is:\",A)\n",
    "print(\"difference is:\",S)\n",
    "print(\"product is:\",M)\n",
    "print(\"integer division is:\",Di)\n",
    "print(\"float division is:\",Df)\n",
    "print(\"Number 1 raised to the power of Number 2 is:\",expo)\n",
    "print(\"Mod is:\",mod)\n"
   ]
  },
  {
   "cell_type": "code",
   "execution_count": 3,
   "metadata": {},
   "outputs": [
    {
     "name": "stdout",
     "output_type": "stream",
     "text": [
      "enter 1st number1\n",
      "enter 2nd number5\n",
      "Enter what you want to do.. for sum enter +, for difference enter -, for product enter *, for division enter /*\n",
      "sum is: 5\n"
     ]
    }
   ],
   "source": [
    "#Create a program that takes in two or more numbers and ask user for an arithmetic operation and prints the result.\n",
    "#(Basic CALCULATOR)\n",
    "a=int(input(\"enter 1st number\"))\n",
    "b=int(input(\"enter 2nd number\"))\n",
    "\n",
    "operator=input(\"Enter what you want to do.. for sum enter +, for difference enter -, for product enter *, for division enter /\")\n",
    "if(operator == \"+\"):\n",
    "               print(\"sum is:\",a+b)\n",
    "elif(operator == \"-\"):\n",
    "               print(\"sum is:\",a-b)\n",
    "if(operator == \"*\"):\n",
    "               print(\"sum is:\",a*b)\n",
    "elif(operator == \"/\"):\n",
    "               print(\"sum is:\",a/b)"
   ]
  }
 ],
 "metadata": {
  "kernelspec": {
   "display_name": "Python 3",
   "language": "python",
   "name": "python3"
  },
  "language_info": {
   "codemirror_mode": {
    "name": "ipython",
    "version": 3
   },
   "file_extension": ".py",
   "mimetype": "text/x-python",
   "name": "python",
   "nbconvert_exporter": "python",
   "pygments_lexer": "ipython3",
   "version": "3.8.3"
  }
 },
 "nbformat": 4,
 "nbformat_minor": 4
}
