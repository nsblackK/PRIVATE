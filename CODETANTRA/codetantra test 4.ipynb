{
 "cells": [
  {
   "cell_type": "code",
   "execution_count": null,
   "metadata": {},
   "outputs": [
    {
     "name": "stdout",
     "output_type": "stream",
     "text": [
      "1. Add an Item 2. Delete an item 3. Update an item 4. Show the menu\n",
      "Enter your choice1\n",
      "Enter Item name which is to be addedShirts\n",
      "Already in the list\n",
      "1. Add an Item 2. Delete an item 3. Update an item 4. Show the menu\n",
      "Enter your choice1\n",
      "Enter Item name which is to be addedpants\n",
      "1. Add an Item 2. Delete an item 3. Update an item 4. Show the menu\n",
      "Enter your choice4\n",
      "['Shirts', 'Trousers', 'T-Shirts', 'Kurtas', 'Kurtis', 'Tracks', 'Shirts', 'pants']\n",
      "1. Add an Item 2. Delete an item 3. Update an item 4. Show the menu\n",
      "Enter your choice2\n",
      "Enter Item name which is to be deletedpants\n",
      "Item removed\n",
      "1. Add an Item 2. Delete an item 3. Update an item 4. Show the menu\n",
      "Enter your choice4\n",
      "['Shirts', 'Trousers', 'T-Shirts', 'Kurtas', 'Kurtis', 'Tracks', 'Shirts']\n",
      "1. Add an Item 2. Delete an item 3. Update an item 4. Show the menu\n",
      "Enter your choice3\n",
      "Enter item you want to updateTracks\n",
      "Enter Updated item nameTrack Pants\n",
      "1. Add an Item 2. Delete an item 3. Update an item 4. Show the menu\n",
      "Enter your choice4\n",
      "['Shirts', 'Trousers', 'T-Shirts', 'Kurtas', 'Kurtis', 'Shirts', 'Track Pants']\n",
      "1. Add an Item 2. Delete an item 3. Update an item 4. Show the menu\n",
      "Enter your choice3\n",
      "Enter item you want to update\n",
      "Enter Updated item name\n",
      "No such item found to update\n",
      "1. Add an Item 2. Delete an item 3. Update an item 4. Show the menu\n"
     ]
    }
   ],
   "source": [
    "shop = [\"Shirts\", \"Trousers\", \"T-Shirts\", \"Kurtas\", \"Kurtis\", \"Tracks\"]\n",
    "\n",
    "while True:\n",
    "    print(\"1. Add an Item 2. Delete an item 3. Update an item 4. Show the menu\")\n",
    "    c=int (input(\"Enter your choice\"))\n",
    "    if(c==4):\n",
    "        print(shop) \n",
    "        \n",
    "    elif(c==2):\n",
    "        shop.remove(input(\"Enter Item name which is to be deleted\"))\n",
    "        print(\"Item removed\")\n",
    "        \n",
    "    elif(c==3):\n",
    "        k=0\n",
    "        a=input(\"Enter item you want to update\")\n",
    "        b=input(\"Enter Updated item name\")\n",
    "        for i in shop:\n",
    "            if a==i:\n",
    "                k=1\n",
    "        if(k==1):\n",
    "            shop.remove(a)\n",
    "            shop.append(b)\n",
    "        else:\n",
    "            print(\"No such item found to update\")\n",
    "   \n",
    "    elif (c==1):\n",
    "        d=input(\"Enter Item name which is to be added\")\n",
    "        for i in shop:\n",
    "            if (i == d):\n",
    "                print(\"Already in the list\")\n",
    "            else:\n",
    "                shop.append(d)\n",
    "                break"
   ]
  },
  {
   "cell_type": "code",
   "execution_count": 1,
   "metadata": {},
   "outputs": [
    {
     "name": "stdout",
     "output_type": "stream",
     "text": [
      "\n",
      "\n",
      "\n",
      "\n",
      "\n",
      "\n"
     ]
    }
   ],
   "source": [
    "for i in range (1,7):\n",
    "    for j in range(1,i):\n",
    "        break\n",
    "        print (j,end=\" \")\n",
    "    print(\"\")"
   ]
  }
 ],
 "metadata": {
  "kernelspec": {
   "display_name": "Python 3",
   "language": "python",
   "name": "python3"
  },
  "language_info": {
   "codemirror_mode": {
    "name": "ipython",
    "version": 3
   },
   "file_extension": ".py",
   "mimetype": "text/x-python",
   "name": "python",
   "nbconvert_exporter": "python",
   "pygments_lexer": "ipython3",
   "version": "3.8.3"
  }
 },
 "nbformat": 4,
 "nbformat_minor": 4
}
