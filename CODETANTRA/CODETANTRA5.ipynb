{
 "cells": [
  {
   "cell_type": "code",
   "execution_count": 1,
   "metadata": {},
   "outputs": [],
   "source": [
    "#Write a program to Count number of occurrence of words in a given text and make it a key value pair.\n",
    "\n",
    "#Sample Text: “Mango banana apple pear Banana grapes strawberry Apple pear mango banana Kiwi apple mango strawberry”\n",
    "#Example:\n",
    "\n",
    "#Word_count={‘Mango’:3, ‘Banana’: 3, …..}"
   ]
  },
  {
   "cell_type": "code",
   "execution_count": 14,
   "metadata": {},
   "outputs": [
    {
     "name": "stdout",
     "output_type": "stream",
     "text": [
      "enter a string: Mango banana apple pear Banana grapes strawberry Apple pear mango banana Kiwi apple mango strawberry\n",
      "{'Mango': 1, 'banana': 2, 'apple': 2, 'pear': 2, 'Banana': 1, 'grapes': 1, 'strawberry': 2, 'Apple': 1, 'mango': 2, 'Kiwi': 1}\n"
     ]
    }
   ],
   "source": [
    "s=input(\"enter a string: \")\n",
    "s=s+\" \"\n",
    "wordlistA=[]\n",
    "w=\"\"\n",
    "l=len(s)\n",
    "for i in s:\n",
    "    if(i!=\" \"):\n",
    "        w+=i\n",
    "    elif(i==\" \"):\n",
    "        wordlistA.append(w)\n",
    "        w=\"\"\n",
    "\n",
    "   \n",
    "        \n",
    "def word_count(l):\n",
    "    dict_word={}\n",
    "    for i in l:\n",
    "        count=0\n",
    "        for j in range(0,len(l)):\n",
    "            if l[j]==i:\n",
    "                count+=1\n",
    "        dict_word[i]=count\n",
    "    print(dict_word)\n",
    "\n",
    "word_count(wordlistA)"
   ]
  }
 ],
 "metadata": {
  "kernelspec": {
   "display_name": "Python 3",
   "language": "python",
   "name": "python3"
  },
  "language_info": {
   "codemirror_mode": {
    "name": "ipython",
    "version": 3
   },
   "file_extension": ".py",
   "mimetype": "text/x-python",
   "name": "python",
   "nbconvert_exporter": "python",
   "pygments_lexer": "ipython3",
   "version": "3.8.3"
  }
 },
 "nbformat": 4,
 "nbformat_minor": 4
}
