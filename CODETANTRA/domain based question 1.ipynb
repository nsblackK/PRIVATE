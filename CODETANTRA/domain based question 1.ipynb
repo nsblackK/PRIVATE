{
 "cells": [
  {
   "cell_type": "code",
   "execution_count": 17,
   "metadata": {},
   "outputs": [
    {
     "name": "stdout",
     "output_type": "stream",
     "text": [
      "[['True' 'True' 'True']\n",
      " ['True' 'True' 'True']\n",
      " ['True' 'True' 'True']]\n"
     ]
    }
   ],
   "source": [
    "import numpy as np\n",
    "\n",
    "B=np.full((3,3),'True')\n",
    "print(B)"
   ]
  },
  {
   "cell_type": "code",
   "execution_count": 23,
   "metadata": {},
   "outputs": [
    {
     "name": "stdout",
     "output_type": "stream",
     "text": [
      "[1 3 5 7 9]\n"
     ]
    }
   ],
   "source": [
    "arr = np.array([0, 1, 2, 3, 4, 5, 6, 7, 8, 9])\n",
    "\n",
    "print(arr[arr%2==1])"
   ]
  },
  {
   "cell_type": "code",
   "execution_count": 24,
   "metadata": {},
   "outputs": [
    {
     "name": "stdout",
     "output_type": "stream",
     "text": [
      "Unsorted array:  [0.16034707 0.61074682 0.25725214 0.95724799 0.0718316  0.51537892\n",
      " 0.052726   0.63752086 0.10581794 0.91130444]\n",
      "Sorted array in ascending order: \n",
      "[0.052726   0.0718316  0.10581794 0.16034707 0.25725214 0.51537892\n",
      " 0.61074682 0.63752086 0.91130444 0.95724799]\n",
      "Sorted array in descending order: \n",
      "[0.95724799 0.91130444 0.63752086 0.61074682 0.51537892 0.25725214\n",
      " 0.16034707 0.10581794 0.0718316  0.052726  ]\n"
     ]
    }
   ],
   "source": [
    "arr=np.random.random(10)\n",
    "print(\"Unsorted array: \", arr)\n",
    "print(\"Sorted array in ascending order: \")\n",
    "print(np.sort(arr))\n",
    "print(\"Sorted array in descending order: \")\n",
    "print(np.sort(arr)[::-1])"
   ]
  },
  {
   "cell_type": "code",
   "execution_count": 11,
   "metadata": {},
   "outputs": [
    {
     "name": "stdout",
     "output_type": "stream",
     "text": [
      "choose from them:  ['Zinc-Carbon_AAA', 'Zinc-Carbon AA', 'Zinc-Carbon C', 'Zinc-Carbon D', 'alkaline AAA', 'alkaline AA', 'alkaline C', 'alkaline D']\n",
      "enter battery typeZinc-Carbon_AAA\n",
      "enter Current drawn.2\n",
      "0.2\n",
      "Batery life is:  1.0\n"
     ]
    }
   ],
   "source": [
    "BateryT= {0.2:'Zinc-Carbon_AAA', 0.4:'Zinc-Carbon AA',\n",
    "        1.5:'Zinc-Carbon C',3.0:'Zinc-Carbon D', 0.5:'alkaline AAA',\n",
    "        0.8:'alkaline AA',3.2:'alkaline C', 6.2:'alkaline D'}\n",
    "lista=['Zinc-Carbon_AAA','Zinc-Carbon AA','Zinc-Carbon C','Zinc-Carbon D',\n",
    "       'alkaline AAA','alkaline AA','alkaline C','alkaline D']\n",
    "print(\"choose from them: \", lista)DUMBASSS\n",
    "BT=input(\"enter battery type\")\n",
    "CD=float(input(\"enter Current drawn\"))\n",
    "amp=0\n",
    "for i in BateryT:\n",
    "    if(BT==BateryT[i]):\n",
    "        amp=i\n",
    "        print(i)\n",
    "\n",
    "bl=(float)(amp/CD)\n",
    "print(\"Batery life is: \",bl)\n"
   ]
  }
 ],
 "metadata": {
  "kernelspec": {
   "display_name": "Python 3",
   "language": "python",
   "name": "python3"
  },
  "language_info": {
   "codemirror_mode": {
    "name": "ipython",
    "version": 3
   },
   "file_extension": ".py",
   "mimetype": "text/x-python",
   "name": "python",
   "nbconvert_exporter": "python",
   "pygments_lexer": "ipython3",
   "version": "3.8.3"
  }
 },
 "nbformat": 4,
 "nbformat_minor": 4
}
