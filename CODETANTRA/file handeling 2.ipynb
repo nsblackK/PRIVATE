{
 "cells": [
  {
   "cell_type": "code",
   "execution_count": 35,
   "metadata": {},
   "outputs": [],
   "source": [
    "file=open(\"Several Lines\",\"r\")\n",
    "L=file.readlines()\n",
    "c=0\n",
    "c=len(L)\n",
    "file.close()\n",
    "\n",
    "file2=open(\"Several Lines\", mode=\"w\")\n",
    "file2.write(\"\")\n",
    "file2.close()\n",
    "\n",
    "file3=open(\"Several Lines\", mode=\"a\")\n",
    "for j in range(1,c):\n",
    "    file3.write(str(j)+\".\"+L[j])\n",
    "\n",
    "\n"
   ]
  }
 ],
 "metadata": {
  "kernelspec": {
   "display_name": "Python 3",
   "language": "python",
   "name": "python3"
  },
  "language_info": {
   "codemirror_mode": {
    "name": "ipython",
    "version": 3
   },
   "file_extension": ".py",
   "mimetype": "text/x-python",
   "name": "python",
   "nbconvert_exporter": "python",
   "pygments_lexer": "ipython3",
   "version": "3.8.3"
  }
 },
 "nbformat": 4,
 "nbformat_minor": 4
}
