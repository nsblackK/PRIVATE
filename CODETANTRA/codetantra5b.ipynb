{
 "cells": [
  {
   "cell_type": "code",
   "execution_count": null,
   "metadata": {},
   "outputs": [],
   "source": [
    "Display student details with attendance less or equal to a user input:\n",
    "\n",
    "\n",
    "\n",
    "Students = {‘Harry’: 52,‘Peter’ : 87,‘Lilly’: 58,‘Stark’ : 89,‘Arya’ : 60,‘Jaime’ : 400}\n",
    "\n",
    "\n",
    "\n",
    "Example:\n",
    "\n",
    "#Your output should look like this\n",
    "\n",
    "1.Student names\n",
    "\n",
    "2.Student attendance\n",
    "\n",
    "3.Filter based on attendance\n",
    "\n",
    "Enter your choice: 3\n",
    "\n",
    "Enter the filtration attendance range: 85\n",
    "\n",
    "Students with attendance more than 85\n",
    "\n",
    "Peter\n",
    "\n",
    "Stark\n"
   ]
  },
  {
   "cell_type": "code",
   "execution_count": 22,
   "metadata": {},
   "outputs": [
    {
     "name": "stdout",
     "output_type": "stream",
     "text": [
      "1.Student names\n",
      "\n",
      "2.Student attendance\n",
      "\n",
      "3.Filter based on attendance\n",
      "\n",
      "Enter your choice3\n",
      "enter fitration attendance range85\n",
      "students with attendence more than 85 are: \n",
      "\n",
      "Peter\n",
      "Stark\n",
      "Jaime\n"
     ]
    }
   ],
   "source": [
    "Students = {'Harry': 52,'Peter' : 87,'Lilly': 58,'Stark' : 89,'Arya' : 60,'Jaime' : 400}\n",
    "print(\"1.Student names\\n\")\n",
    "print(\"2.Student attendance\\n\")\n",
    "print(\"3.Filter based on attendance\\n\")\n",
    "\n",
    "ch=int(input(\"Enter your choice\"))\n",
    "\n",
    "if(ch==1):\n",
    "    for i in Students:\n",
    "        print(i)\n",
    "elif(ch==2):\n",
    "    print(Students)\n",
    "elif(ch==3):\n",
    "    f=int(input(\"enter fitration attendance range\"))\n",
    "    print(\"students with attendence more than\", f ,\"are: \\n\")\n",
    "    for i in Students:\n",
    "        if(Students.get(i)>f):\n",
    "            print(i)\n",
    "    "
   ]
  }
 ],
 "metadata": {
  "kernelspec": {
   "display_name": "Python 3",
   "language": "python",
   "name": "python3"
  },
  "language_info": {
   "codemirror_mode": {
    "name": "ipython",
    "version": 3
   },
   "file_extension": ".py",
   "mimetype": "text/x-python",
   "name": "python",
   "nbconvert_exporter": "python",
   "pygments_lexer": "ipython3",
   "version": "3.8.3"
  }
 },
 "nbformat": 4,
 "nbformat_minor": 4
}
