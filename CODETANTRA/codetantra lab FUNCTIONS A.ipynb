{
 "cells": [
  {
   "cell_type": "code",
   "execution_count": 11,
   "metadata": {},
   "outputs": [
    {
     "name": "stdout",
     "output_type": "stream",
     "text": [
      "Enter employee namehari\n",
      "Enter number of working days in a week5\n",
      "Enter salary per day1000\n",
      "hari earns 20000 every month and 1040000 in a year.\n"
     ]
    }
   ],
   "source": [
    "name=input(\"Enter employee name\")\n",
    "days = int(input(\"Enter number of working days in a week\"))\n",
    "salary= int(input(\"Enter salary per day\"))\n",
    "\n",
    "\n",
    "\n",
    "def sal_cal(n,d,s):\n",
    "    if d<=7:\n",
    "        m_sal=4*(d*s)\n",
    "        a_sal=52*m_sal\n",
    "        print(n+\" earns \"+str(m_sal)+\" every month and \"+str(a_sal)+\" in a year.\")\n",
    "    else:\n",
    "        print(\"invalid input\")\n",
    "sal_cal(name, days, salary)"
   ]
  }
 ],
 "metadata": {
  "kernelspec": {
   "display_name": "Python 3",
   "language": "python",
   "name": "python3"
  },
  "language_info": {
   "codemirror_mode": {
    "name": "ipython",
    "version": 3
   },
   "file_extension": ".py",
   "mimetype": "text/x-python",
   "name": "python",
   "nbconvert_exporter": "python",
   "pygments_lexer": "ipython3",
   "version": "3.8.3"
  }
 },
 "nbformat": 4,
 "nbformat_minor": 4
}
