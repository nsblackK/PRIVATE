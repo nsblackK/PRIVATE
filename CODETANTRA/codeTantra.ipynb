{
 "cells": [
  {
   "cell_type": "code",
   "execution_count": null,
   "metadata": {},
   "outputs": [],
   "source": [
    "#In Minnesota you can fish if you are 15 years old or less and your parent has a license.\n",
    "#If you are 16 years old or more you need to have your own license.\n",
    "#Write a program that uses short circuit logic to tell someone if they are legal to fish in Minnesota. \n",
    "#First ask them how old they are, whether they have a license or not, and whether their parent has a license or not."
   ]
  },
  {
   "cell_type": "code",
   "execution_count": 7,
   "metadata": {},
   "outputs": [
    {
     "name": "stdout",
     "output_type": "stream",
     "text": [
      "Enter your age 18\n",
      "if you have a lisence, input 1, else input 00\n",
      "you are not eligible to fish in Minnesota\n"
     ]
    }
   ],
   "source": [
    "age=int(input(\"Enter your age \"))\n",
    "l_P=0\n",
    "l=0\n",
    "if (age<=15):\n",
    "    l_P=int(input(\"if your parents have a lisence, input 1, else input 0\"))\n",
    "    if(l_P==1):\n",
    "        print(\"you are eligible to fish in Minnesota\")\n",
    "    else:\n",
    "        print(\"you are not eligible to fish in Minnesota\")\n",
    "else:\n",
    "    l=int(input(\"if you have a lisence, input 1, else input 0\"))\n",
    "    if(l==1):\n",
    "        print(\"you are eligible to fish in Minnesota\")\n",
    "    else:\n",
    "        print(\"you are not eligible to fish in Minnesota\")"
   ]
  },
  {
   "cell_type": "code",
   "execution_count": null,
   "metadata": {},
   "outputs": [],
   "source": [
    "#Write a program that prints a user’s grade given a percent of points achieved in the class. \n",
    "#The program should prompt the user to enter his/her percent of points. \n",
    "#It should then print a letter grade A, A-, B+, B, B-, C+, C, C-, D+, D, D-, F. The grading scale is:\n",
    "\n",
    "\n",
    "\n",
    "#Note that the there are six subjects in the semester which are Maths (100), Inferential statistics (100), \n",
    "#python programming (150), English (50), Additional English (50) and Digital Fundamentals (100). \n",
    "#Take these marks from the user as input and find the grade for a student."
   ]
  },
  {
   "cell_type": "code",
   "execution_count": 10,
   "metadata": {},
   "outputs": [
    {
     "name": "stdout",
     "output_type": "stream",
     "text": [
      "Enter maths score80\n",
      "Enter stats score90\n",
      "Enter pyhton score120\n",
      "Enter eng score30\n",
      "Enter Aeng score40\n",
      "Enter dcf score75\n",
      "C-\n"
     ]
    }
   ],
   "source": [
    "maths=int(input(\"Enter maths score\"))\n",
    "stats=int(input(\"Enter stats score\"))\n",
    "python=int(input(\"Enter pyhton score\"))\n",
    "eng=int(input(\"Enter eng score\"))\n",
    "Aeng=int(input(\"Enter Aeng score\"))\n",
    "dcf=int(input(\"Enter dcf score\"))\n",
    "\n",
    "total = maths+stats+python+eng+Aeng+dcf\n",
    "percent=(total/550)*100\n",
    "\n",
    "if(percent>=93.33):\n",
    "    print(\"A\")\n",
    "elif(percent>=90 and percent<93.33):\n",
    "    print(\"A-\")\n",
    "elif(percent>=90 and percent<93.33):\n",
    "    print(\"B+\")\n",
    "elif(percent>=90 and percent<93.33):\n",
    "    print(\"B\")\n",
    "elif(percent>=86.67 and percent<90):\n",
    "    print(\"B-\")\n",
    "elif(percent>=83.33 and percent<86.67):\n",
    "    print(\"C+\")\n",
    "elif(percent>=80 and percent<83.33):\n",
    "    print(\"C\")      \n",
    "elif(percent>=76.67 and percent<80):\n",
    "    print(\"C-\")\n",
    "elif(percent>=66.67 and percent<76.67):\n",
    "    print(\"D+\")\n",
    "elif(percent>=63.33 and percent<66.67):\n",
    "    print(\"D\")\n",
    "elif(percent>=60 and percent<63.33):\n",
    "    print(\"D-\") \n",
    "elif(percent>=0 and percent<60):\n",
    "    print(\"F\") "
   ]
  }
 ],
 "metadata": {
  "kernelspec": {
   "display_name": "Python 3",
   "language": "python",
   "name": "python3"
  },
  "language_info": {
   "codemirror_mode": {
    "name": "ipython",
    "version": 3
   },
   "file_extension": ".py",
   "mimetype": "text/x-python",
   "name": "python",
   "nbconvert_exporter": "python",
   "pygments_lexer": "ipython3",
   "version": "3.8.3"
  }
 },
 "nbformat": 4,
 "nbformat_minor": 4
}
