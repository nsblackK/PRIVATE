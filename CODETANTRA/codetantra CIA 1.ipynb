{
 "cells": [
  {
   "cell_type": "code",
   "execution_count": 6,
   "metadata": {},
   "outputs": [
    {
     "name": "stdout",
     "output_type": "stream",
     "text": [
      "Enter length of list8\n",
      "enter elementi\n",
      "enter elementam\n",
      "enter elementa\n",
      "enter elementgood\n",
      "enter elementboy\n",
      "enter elementare\n",
      "enter elementyou\n",
      "enter element?\n",
      "enter index number which you want to swap with the 1st element3\n",
      "['i', 'am', 'a', 'good', 'boy', 'are', 'you', '?']\n",
      "['a', 'am', 'i', 'good', 'boy', 'are', 'you', '?']\n"
     ]
    }
   ],
   "source": [
    "l=int(input(\"Enter length of list\"))\n",
    "if (l>6):\n",
    "    listA=[]\n",
    "    for i in range(l):\n",
    "        b=input(\"enter element\")\n",
    "        listA.append(b)\n",
    "    n=int(input(\"enter index number which you want to swap with the 1st element\"))\n",
    "    print(listA)\n",
    "    swap_variable=listA[0]\n",
    "    listA[0]=listA[n-1]\n",
    "    listA[n-1]=swap_variable\n",
    "    print(listA)\n",
    "else:\n",
    "    print(\"Invalid input!! Enter length of list greater than 6. TRY RERUNNING THE PROGRAM\")"
   ]
  }
 ],
 "metadata": {
  "kernelspec": {
   "display_name": "Python 3",
   "language": "python",
   "name": "python3"
  },
  "language_info": {
   "codemirror_mode": {
    "name": "ipython",
    "version": 3
   },
   "file_extension": ".py",
   "mimetype": "text/x-python",
   "name": "python",
   "nbconvert_exporter": "python",
   "pygments_lexer": "ipython3",
   "version": "3.8.3"
  }
 },
 "nbformat": 4,
 "nbformat_minor": 4
}
