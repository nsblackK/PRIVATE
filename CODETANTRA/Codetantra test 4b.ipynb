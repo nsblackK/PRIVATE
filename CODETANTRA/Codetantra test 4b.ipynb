{
 "cells": [
  {
   "cell_type": "code",
   "execution_count": 6,
   "metadata": {},
   "outputs": [
    {
     "name": "stdout",
     "output_type": "stream",
     "text": [
      "enter length of list5\n",
      "enter value1\n",
      "enter value2\n",
      "enter value5\n",
      "enter value4\n",
      "enter value3\n",
      "5\n"
     ]
    }
   ],
   "source": [
    "l=int(input(\"enter length of list\"))\n",
    "num=[]\n",
    "for i in range(0,l):\n",
    "    num.append(int(input(\"enter value\")))\n",
    "maxx=num[0]\n",
    "for i in num:\n",
    "    if(maxx<i):\n",
    "        maxx=i\n",
    "print(maxx)"
   ]
  }
 ],
 "metadata": {
  "kernelspec": {
   "display_name": "Python 3",
   "language": "python",
   "name": "python3"
  },
  "language_info": {
   "codemirror_mode": {
    "name": "ipython",
    "version": 3
   },
   "file_extension": ".py",
   "mimetype": "text/x-python",
   "name": "python",
   "nbconvert_exporter": "python",
   "pygments_lexer": "ipython3",
   "version": "3.8.3"
  }
 },
 "nbformat": 4,
 "nbformat_minor": 4
}
