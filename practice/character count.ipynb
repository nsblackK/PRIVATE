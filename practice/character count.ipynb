{
 "cells": [
  {
   "cell_type": "code",
   "execution_count": 1,
   "metadata": {},
   "outputs": [
    {
     "name": "stdout",
     "output_type": "stream",
     "text": [
      "enter a stringgoogle\n",
      "{'g': 2, 'o': 2, 'l': 1, 'e': 1}\n"
     ]
    }
   ],
   "source": [
    "def char_count(l):\n",
    "    dict_word={}\n",
    "    for i in l:\n",
    "        count=0\n",
    "        for j in range(0,len(l)):\n",
    "            if l[j]==i:\n",
    "                count+=1\n",
    "        dict_word[i]=count\n",
    "    print(dict_word)\n",
    "\n",
    "s=input(\"enter a string\")\n",
    "char_count(s)"
   ]
  },
  {
   "cell_type": "code",
   "execution_count": null,
   "metadata": {},
   "outputs": [],
   "source": [
    "s=input(\"enter a string\")\n",
    "dict_word={}\n",
    "for i in s:\n",
    "    count=0\n",
    "    for j in range(0,len(s)):\n",
    "        if s[j]==i:\n",
    "            count+=1\n",
    "    dict_word[i]=count\n",
    "print(dict_word)"
   ]
  }
 ],
 "metadata": {
  "kernelspec": {
   "display_name": "Python 3",
   "language": "python",
   "name": "python3"
  },
  "language_info": {
   "codemirror_mode": {
    "name": "ipython",
    "version": 3
   },
   "file_extension": ".py",
   "mimetype": "text/x-python",
   "name": "python",
   "nbconvert_exporter": "python",
   "pygments_lexer": "ipython3",
   "version": "3.8.3"
  }
 },
 "nbformat": 4,
 "nbformat_minor": 4
}
