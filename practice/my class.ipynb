{
 "cells": [
  {
   "cell_type": "code",
   "execution_count": 1,
   "metadata": {},
   "outputs": [
    {
     "data": {
      "text/plain": [
       "{1: 2, 3: 45, 56: 7}"
      ]
     },
     "execution_count": 1,
     "metadata": {},
     "output_type": "execute_result"
    }
   ],
   "source": [
    "#converting a list to a dicctionary\n",
    "listA=[(1,2),(3,45),(56,7)]\n",
    "dict(listA)"
   ]
  },
  {
   "cell_type": "code",
   "execution_count": 2,
   "metadata": {},
   "outputs": [
    {
     "name": "stdout",
     "output_type": "stream",
     "text": [
      "{1: 2, 2: 'FDsdf', 3: 6453, 4: 135435}\n",
      "{1: 2, 2: 'FDsdf', 3: 6453, 4: 135435, 7: 'ffjf'}\n"
     ]
    }
   ],
   "source": [
    "dictA={1:2, 2 :\"FDsdf\", 3: 6453, 4: 135435}\n",
    "print(dictA)\n",
    "dictA[7]=\"ffjf\"\n",
    "print(dictA)"
   ]
  },
  {
   "cell_type": "code",
   "execution_count": 3,
   "metadata": {},
   "outputs": [
    {
     "name": "stdout",
     "output_type": "stream",
     "text": [
      "{1: 2, 2: 'FDsdf', 3: 6453, 4: 135435, 7: 'ffjf'}\n",
      "{1: 2, 2: 'FDsdf', 3: 6453, 7: 'ffjf'}\n"
     ]
    }
   ],
   "source": [
    "print(dictA)\n",
    "dictA.pop(4)\n",
    "print(dictA)"
   ]
  },
  {
   "cell_type": "code",
   "execution_count": 4,
   "metadata": {},
   "outputs": [
    {
     "name": "stdout",
     "output_type": "stream",
     "text": [
      "{1: 2, 2: 'FDsdf', 3: 6453, 7: 'ffjf'}\n"
     ]
    }
   ],
   "source": [
    "#dictA.popitem()\n",
    "print(dictA)"
   ]
  },
  {
   "cell_type": "code",
   "execution_count": 5,
   "metadata": {},
   "outputs": [
    {
     "name": "stdout",
     "output_type": "stream",
     "text": [
      "{1: 2, 2: 'FDsdf', 3: 6453, 4: 135435} {1: 2, 2: 'FDsdf', 3: 6453, 4: 135435}\n",
      "{1: 2, 2: 'FDsdf', 3: 6453} {1: 2, 2: 'FDsdf', 3: 6453, 4: 135435} {1: 2, 2: 'FDsdf', 3: 6453}\n"
     ]
    }
   ],
   "source": [
    "dictB={1:2, 2 :\"FDsdf\", 3: 6453, 4: 135435}\n",
    "A=dictB.copy()\n",
    "b=dictB\n",
    "print(A,b)\n",
    "dictB.pop(4)\n",
    "print(dictB,A,b)"
   ]
  },
  {
   "cell_type": "code",
   "execution_count": 6,
   "metadata": {},
   "outputs": [
    {
     "name": "stdout",
     "output_type": "stream",
     "text": [
      "dict_keys([1, 2, 3]) dict_values([2, 'FDsdf', 6453]) dict_items([(1, 2), (2, 'FDsdf'), (3, 6453)])\n"
     ]
    }
   ],
   "source": [
    "a=dictB.keys()\n",
    "b=dictB.values()\n",
    "c=dictB.items()\n",
    "print(a,b,c)"
   ]
  },
  {
   "cell_type": "code",
   "execution_count": 7,
   "metadata": {},
   "outputs": [
    {
     "name": "stdout",
     "output_type": "stream",
     "text": [
      "{1: 'fsdf', 2: 3434, 3: 343, 5: 'fsdf'}\n",
      "{1: 'fsdf', 5: 'fsdf'}\n"
     ]
    }
   ],
   "source": [
    "dictC={1:2234,2:3434,3:343}\n",
    "dictD={1:\"fsdf\",5:\"fsdf\"}\n",
    "dictC.update(dictD)\n",
    "print(dictC)\n",
    "print(dictD)"
   ]
  },
  {
   "cell_type": "code",
   "execution_count": 8,
   "metadata": {},
   "outputs": [
    {
     "data": {
      "text/plain": [
       "27"
      ]
     },
     "execution_count": 8,
     "metadata": {},
     "output_type": "execute_result"
    }
   ],
   "source": [
    "fileA=open(\"Hello\",\"w\")\n",
    "fileA.write(\"call arun chiku and rohan tuttu\\n\")\n",
    "fileA.write(\"i am sad bcz food wazs ended\\n\")\n",
    "fileA.write(\"ending was not sooooo good\\n\")"
   ]
  },
  {
   "cell_type": "code",
   "execution_count": 9,
   "metadata": {},
   "outputs": [
    {
     "name": "stdout",
     "output_type": "stream",
     "text": [
      "call arun chiku and rohan tuttu\n",
      "\n",
      "i am sad bcz food wazs ended\n",
      "\n"
     ]
    }
   ],
   "source": [
    "fileA.close()\n",
    "fileB=open(\"Hello\",\"r\")\n",
    "#a=fileB.read(10)\n",
    "a=fileB.readline()\n",
    "print(a)\n",
    "a=fileB.readline()\n",
    "print(a)"
   ]
  },
  {
   "cell_type": "code",
   "execution_count": 10,
   "metadata": {},
   "outputs": [
    {
     "data": {
      "text/plain": [
       "13"
      ]
     },
     "execution_count": 10,
     "metadata": {},
     "output_type": "execute_result"
    }
   ],
   "source": [
    "fileA=open(\"Hello\",\"w\")\n",
    "fileA.write(\"rohan is dumb\")\n"
   ]
  },
  {
   "cell_type": "code",
   "execution_count": 11,
   "metadata": {},
   "outputs": [
    {
     "name": "stdout",
     "output_type": "stream",
     "text": [
      "rohan is dumb\n"
     ]
    }
   ],
   "source": [
    "fileA=open(\"Hello\",\"r\")\n",
    "a=fileA.read()\n",
    "print(a)"
   ]
  },
  {
   "cell_type": "code",
   "execution_count": null,
   "metadata": {},
   "outputs": [],
   "source": [
    "#Write a Python program to count the number of characters (character frequency) in a string. \n",
    "#Sample String : google.com'\n",
    "#Expected Result : {'g': 2, 'o': 3, 'l': 1, 'e': 1, '.': 1, 'c': 1, 'm': 1}\n",
    "dictA={}\n",
    "s=input(\"enter a string\")\n",
    "def check(w):\n",
    "    k=0\n",
    "    for i in s:\n",
    "        if(i==w):\n",
    "            k+=1\n",
    "    dictA[w]=k\n",
    "    return(dictA)\n",
    "    k=0\n",
    "    \n",
    "for j in s:\n",
    "    c=check(j)\n",
    "print(c)"
   ]
  },
  {
   "cell_type": "code",
   "execution_count": null,
   "metadata": {},
   "outputs": [],
   "source": [
    "def char_count(l):\n",
    "    dict_word={}\n",
    "    for i in l:\n",
    "        count=0\n",
    "        for j in range(0,len(l)):\n",
    "            if l[j]==i:\n",
    "                count+=1\n",
    "        dict_word[i]=count\n",
    "    print(dict_word)\n",
    "\n",
    "s=input(\"enter a string\")\n",
    "char_count(s)"
   ]
  }
 ],
 "metadata": {
  "kernelspec": {
   "display_name": "Python 3",
   "language": "python",
   "name": "python3"
  },
  "language_info": {
   "codemirror_mode": {
    "name": "ipython",
    "version": 3
   },
   "file_extension": ".py",
   "mimetype": "text/x-python",
   "name": "python",
   "nbconvert_exporter": "python",
   "pygments_lexer": "ipython3",
   "version": "3.8.3"
  }
 },
 "nbformat": 4,
 "nbformat_minor": 4
}
