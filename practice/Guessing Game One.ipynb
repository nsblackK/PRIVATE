{
 "cells": [
  {
   "cell_type": "code",
   "execution_count": 3,
   "metadata": {},
   "outputs": [
    {
     "name": "stdout",
     "output_type": "stream",
     "text": [
      "4\n",
      "guess the number4\n",
      "jackpot\n"
     ]
    }
   ],
   "source": [
    "import random\n",
    "r=random.randint(1,9)\n",
    "print(r)\n",
    "i=int(input(\"guess the number\"))\n",
    "\n",
    "if(i<r):\n",
    "    print(\"u guessed low\")\n",
    "elif(i>r):\n",
    "    print(\"u guessed high\")\n",
    "elif(i==r):\n",
    "    print(\"jackpot\")"
   ]
  }
 ],
 "metadata": {
  "kernelspec": {
   "display_name": "Python 3",
   "language": "python",
   "name": "python3"
  },
  "language_info": {
   "codemirror_mode": {
    "name": "ipython",
    "version": 3
   },
   "file_extension": ".py",
   "mimetype": "text/x-python",
   "name": "python",
   "nbconvert_exporter": "python",
   "pygments_lexer": "ipython3",
   "version": "3.8.3"
  }
 },
 "nbformat": 4,
 "nbformat_minor": 4
}
