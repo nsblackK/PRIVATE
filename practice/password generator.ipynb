{
 "cells": [
  {
   "cell_type": "code",
   "execution_count": null,
   "metadata": {},
   "outputs": [],
   "source": [
    "Write a password generator in Python. Be creative with how you\n",
    "generate passwords - strong passwords have a mix of lowercase letters, uppercase letters, numbers, and symbols.\n",
    "The passwords should be random, generating a new password every time the user asks for a new password.\n",
    "Include your code in a main method.\n",
    "\n",
    "Extra:\n",
    "\n",
    "Ask the user how strong they want their password to be. For weak passwords, pick a word or two from a list."
   ]
  },
  {
   "cell_type": "code",
   "execution_count": 29,
   "metadata": {},
   "outputs": [
    {
     "name": "stdout",
     "output_type": "stream",
     "text": [
      "b88s94X89k47\n"
     ]
    }
   ],
   "source": [
    "import string\n",
    "a=string.ascii_letters\n",
    "\n",
    "for i in range(4):\n",
    "    import random\n",
    "    b=random.choice(string.ascii_letters)\n",
    "    c=str(random.randint(1,100))\n",
    "    r=r+(b+c)\n",
    "print(r)\n",
    "r=\"\""
   ]
  },
  {
   "cell_type": "code",
   "execution_count": null,
   "metadata": {},
   "outputs": [],
   "source": []
  }
 ],
 "metadata": {
  "kernelspec": {
   "display_name": "Python 3",
   "language": "python",
   "name": "python3"
  },
  "language_info": {
   "codemirror_mode": {
    "name": "ipython",
    "version": 3
   },
   "file_extension": ".py",
   "mimetype": "text/x-python",
   "name": "python",
   "nbconvert_exporter": "python",
   "pygments_lexer": "ipython3",
   "version": "3.8.3"
  }
 },
 "nbformat": 4,
 "nbformat_minor": 4
}
