{
 "cells": [
  {
   "cell_type": "code",
   "execution_count": 1,
   "metadata": {
    "scrolled": true
   },
   "outputs": [
    {
     "name": "stdout",
     "output_type": "stream",
     "text": [
      "player 1 input rock, paper or sissors: rock\n",
      "player 2 input rock, paper or sissors: paper\n",
      "p2 wins\n",
      "enter q to quit or enter r to replay: r\n",
      "player 1 input rock, paper or sissors: rock\n",
      "player 2 input rock, paper or sissors: sissors\n",
      "p1 wins\n",
      "enter q to quit or enter r to replay: q\n"
     ]
    }
   ],
   "source": [
    "u1=input(\"player 1 input rock, paper or sissors: \")\n",
    "u2=input(\"player 2 input rock, paper or sissors: \")\n",
    "\n",
    "def check(p1,p2):\n",
    "    if(p1==p2):\n",
    "        print(\"draw\")\n",
    "\n",
    "    elif(p1=='rock' and p2=='sissors'):\n",
    "        print(\"p1 wins\")\n",
    "\n",
    "    elif(p1=='rock' and p2=='paper'):\n",
    "        print(\"p2 wins\")\n",
    "\n",
    "    elif(p1=='paper' and p2=='sissors'):\n",
    "        print(\"p2 wins\")\n",
    "\n",
    "    elif(p1=='paper' and p2=='rocks'):\n",
    "        print(\"p1 wins\")\n",
    "\n",
    "    elif(p1=='sissors' and p2=='paper'):\n",
    "        print(\"p1 wins\")\n",
    "\n",
    "    elif(p1=='sissors' and p2=='rocks'):\n",
    "        print(\"p2 wins\")\n",
    "\n",
    "check(u1,u2)\n",
    "for i in range(1,100):\n",
    "    e=input(\"enter q to quit or enter r to replay: \")\n",
    "    if(e=='q'):\n",
    "        break\n",
    "    elif(e=='r'):\n",
    "        v1=input(\"player 1 input rock, paper or sissors: \")\n",
    "        v2=input(\"player 2 input rock, paper or sissors: \")\n",
    "        check(v1,v2)\n",
    "    else:\n",
    "        print(\"invalid input\")"
   ]
  },
  {
   "cell_type": "code",
   "execution_count": null,
   "metadata": {},
   "outputs": [],
   "source": []
  }
 ],
 "metadata": {
  "kernelspec": {
   "display_name": "Python 3",
   "language": "python",
   "name": "python3"
  },
  "language_info": {
   "codemirror_mode": {
    "name": "ipython",
    "version": 3
   },
   "file_extension": ".py",
   "mimetype": "text/x-python",
   "name": "python",
   "nbconvert_exporter": "python",
   "pygments_lexer": "ipython3",
   "version": "3.8.3"
  }
 },
 "nbformat": 4,
 "nbformat_minor": 4
}
