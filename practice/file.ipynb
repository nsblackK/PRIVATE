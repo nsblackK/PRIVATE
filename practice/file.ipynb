{
 "cells": [
  {
   "cell_type": "code",
   "execution_count": 1,
   "metadata": {},
   "outputs": [
    {
     "data": {
      "text/plain": [
       "11"
      ]
     },
     "execution_count": 1,
     "metadata": {},
     "output_type": "execute_result"
    }
   ],
   "source": [
    "fileA=open(\"Hello\",\"w\")\n",
    "fileA.write(\"Hello World\")"
   ]
  },
  {
   "cell_type": "code",
   "execution_count": 4,
   "metadata": {},
   "outputs": [
    {
     "name": "stdout",
     "output_type": "stream",
     "text": [
      "Hello World I Love U\n",
      "bjsdhvfsdb/k\n",
      "dljbsdkbk/jBF;B\n",
      "GG\n",
      "SLFMEKNF\n",
      "S LksN\n"
     ]
    }
   ],
   "source": [
    "fileA=open(\"Hello\",\"r\")\n",
    "a=fileA.read()\n",
    "print(a)"
   ]
  },
  {
   "cell_type": "code",
   "execution_count": 3,
   "metadata": {},
   "outputs": [
    {
     "data": {
      "text/plain": [
       "9"
      ]
     },
     "execution_count": 3,
     "metadata": {},
     "output_type": "execute_result"
    }
   ],
   "source": [
    "fileA=open(\"Hello\",\"a\")\n",
    "fileA.write(\" I Love U\")"
   ]
  },
  {
   "cell_type": "code",
   "execution_count": 2,
   "metadata": {},
   "outputs": [
    {
     "name": "stdout",
     "output_type": "stream",
     "text": [
      "Hello World I Love U\n"
     ]
    }
   ],
   "source": [
    "fileA=open(\"Hello\",\"r\")\n",
    "a=fileA.read()\n",
    "print(a)\n",
    "fileA.close()"
   ]
  },
  {
   "cell_type": "code",
   "execution_count": 2,
   "metadata": {},
   "outputs": [
    {
     "name": "stdout",
     "output_type": "stream",
     "text": [
      "Hello World I Love U\n",
      "\n",
      "bjsdhvfsdb/k\n",
      "\n",
      "dljbsdkbk/jBF;B\n",
      "\n"
     ]
    }
   ],
   "source": [
    "#readline\n",
    "file3=open(\"Hello\",\"r\")\n",
    "print(file3.readline())\n",
    "print(file3.readline())\n",
    "print(file3.readline())"
   ]
  },
  {
   "cell_type": "code",
   "execution_count": 3,
   "metadata": {},
   "outputs": [
    {
     "name": "stdout",
     "output_type": "stream",
     "text": [
      "['Hello World I Love U\\n', 'bjsdhvfsdb/k\\n', 'dljbsdkbk/jBF;B\\n', 'GG\\n', 'SLFMEKNF\\n', 'S LksN']\n"
     ]
    }
   ],
   "source": [
    "file3=open(\"Hello\",\"r\")\n",
    "print(file3.readlines())"
   ]
  }
 ],
 "metadata": {
  "kernelspec": {
   "display_name": "Python 3",
   "language": "python",
   "name": "python3"
  },
  "language_info": {
   "codemirror_mode": {
    "name": "ipython",
    "version": 3
   },
   "file_extension": ".py",
   "mimetype": "text/x-python",
   "name": "python",
   "nbconvert_exporter": "python",
   "pygments_lexer": "ipython3",
   "version": "3.8.3"
  }
 },
 "nbformat": 4,
 "nbformat_minor": 4
}
