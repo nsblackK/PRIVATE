{
 "cells": [
  {
   "cell_type": "code",
   "execution_count": 3,
   "metadata": {},
   "outputs": [
    {
     "name": "stdout",
     "output_type": "stream",
     "text": [
      "Enter name of websiteflipkart\n",
      "success\n"
     ]
    }
   ],
   "source": [
    "from selenium import webdriver\n",
    "\n",
    "name=input(\"Enter name of website\")\n",
    "chromedriver=\"C:\\chromedriver_win32\\chromedriver\"\n",
    "driver=webdriver.Chrome(chromedriver)\n",
    "#driver.get(\"https://web.whatsapp.com/\")\n",
    "driver.get(\"https://www.{}.com/\".format(name))\n",
    "\n",
    "#driver.maximize_window()\n",
    "\n",
    "print(\"success\") \n"
   ]
  }
 ],
 "metadata": {
  "kernelspec": {
   "display_name": "Python 3",
   "language": "python",
   "name": "python3"
  },
  "language_info": {
   "codemirror_mode": {
    "name": "ipython",
    "version": 3
   },
   "file_extension": ".py",
   "mimetype": "text/x-python",
   "name": "python",
   "nbconvert_exporter": "python",
   "pygments_lexer": "ipython3",
   "version": "3.8.3"
  }
 },
 "nbformat": 4,
 "nbformat_minor": 4
}
