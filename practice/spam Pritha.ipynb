{
 "cells": [
  {
   "cell_type": "code",
   "execution_count": 4,
   "metadata": {},
   "outputs": [
    {
     "name": "stdout",
     "output_type": "stream",
     "text": [
      "name of reciepent: Bleah Blaah Blue\n",
      "enter message: muuuuuuuuuuah!!!\n",
      "enter count: 500\n",
      "Enter anything after qr scand\n",
      "success\n"
     ]
    }
   ],
   "source": [
    "from selenium import webdriver\n",
    "\n",
    "chromedriver=\"C:\\chromedriver_win32\\chromedriver\"\n",
    "driver=webdriver.Chrome(chromedriver)\n",
    "driver.get(\"https://web.whatsapp.com/\")\n",
    "\n",
    "driver.maximize_window()\n",
    "\n",
    "name=input(\"name of reciepent: \")\n",
    "msg=input(\"enter message: \")\n",
    "count=int(input(\"enter count: \"))\n",
    "\n",
    "input(\"Enter anything after qr scan\")\n",
    "\n",
    "Pritha_msgB=\"//*[@id='main']/footer/div[1]/div[2]/div/div[2]\"\n",
    "Pritha_Button=\"//*[@id='main']/footer/div[1]/div[3]/button\"\n",
    "\n",
    "\n",
    "\n",
    "\n",
    "user = driver.find_element_by_xpath(\"//span[@title='{}']\".format(name))\n",
    "user.click()\n",
    "\n",
    "msg_box = driver.find_element_by_xpath(Pritha_msgB)\n",
    "\n",
    "\n",
    "for index in range(count):\n",
    "    msg_box.send_keys(msg)\n",
    "    driver.find_element_by_xpath(Pritha_Button).click()\n",
    "\n",
    "print(\"success\") \n",
    "\n",
    "\n",
    "   #send buttot"
   ]
  },
  {
   "cell_type": "code",
   "execution_count": null,
   "metadata": {},
   "outputs": [],
   "source": [
    "pr3+6\n"
   ]
  }
 ],
 "metadata": {
  "kernelspec": {
   "display_name": "Python 3",
   "language": "python",
   "name": "python3"
  },
  "language_info": {
   "codemirror_mode": {
    "name": "ipython",
    "version": 3
   },
   "file_extension": ".py",
   "mimetype": "text/x-python",
   "name": "python",
   "nbconvert_exporter": "python",
   "pygments_lexer": "ipython3",
   "version": "3.8.3"
  }
 },
 "nbformat": 4,
 "nbformat_minor": 4
}
