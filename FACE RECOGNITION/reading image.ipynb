{
 "cells": [
  {
   "cell_type": "code",
   "execution_count": 1,
   "metadata": {},
   "outputs": [],
   "source": [
    "from PIL import Image, ImageFilter\n",
    "hinataIMG = Image.open('Hinata.jpg')\n",
    "#hinataIMG.show()\n",
    "hinataIMG_E=hinataIMG.filter(ImageFilter.EMBOSS())\n",
    "hinataIMG_E.show()"
   ]
  },
  {
   "cell_type": "code",
   "execution_count": 2,
   "metadata": {},
   "outputs": [
    {
     "name": "stdout",
     "output_type": "stream",
     "text": [
      "MY Photo.... (1152, 864, 3)\n"
     ]
    }
   ],
   "source": [
    "import face_recognition\n",
    "photo_me = face_recognition.load_image_file('me.jpg','RGB')\n",
    "print(\"MY Photo....\",photo_me.shape)"
   ]
  },
  {
   "cell_type": "code",
   "execution_count": 23,
   "metadata": {},
   "outputs": [],
   "source": [
    "\n",
    "from PIL import Image\n",
    "import face_recognition\n",
    "photo_me = face_recognition.load_image_file('me.jpg')\n",
    "\n",
    "me = Image.fromarray(photo_me-20)\n",
    "me.show()"
   ]
  },
  {
   "cell_type": "code",
   "execution_count": null,
   "metadata": {},
   "outputs": [],
   "source": []
  }
 ],
 "metadata": {
  "kernelspec": {
   "display_name": "Python 3",
   "language": "python",
   "name": "python3"
  },
  "language_info": {
   "codemirror_mode": {
    "name": "ipython",
    "version": 3
   },
   "file_extension": ".py",
   "mimetype": "text/x-python",
   "name": "python",
   "nbconvert_exporter": "python",
   "pygments_lexer": "ipython3",
   "version": "3.8.3"
  }
 },
 "nbformat": 4,
 "nbformat_minor": 4
}
