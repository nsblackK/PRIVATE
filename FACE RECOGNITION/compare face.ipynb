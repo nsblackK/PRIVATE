{
 "cells": [
  {
   "cell_type": "code",
   "execution_count": 6,
   "metadata": {},
   "outputs": [
    {
     "name": "stdout",
     "output_type": "stream",
     "text": [
      "not same person\n"
     ]
    }
   ],
   "source": [
    "import face_recognition\n",
    "p1 = face_recognition.load_image_file('me2.jpeg')\n",
    "p1_encode = face_recognition.face_encodings(p1)[0]\n",
    "\n",
    "p2 = face_recognition.load_image_file('rittik.jpeg')\n",
    "p2_encode = face_recognition.face_encodings(p2)[0]\n",
    "\n",
    "check = face_recognition.compare_faces([p1_encode],p2_encode, tolerance = 0.5)\n",
    "\n",
    "if check[0]:\n",
    "    print(\"same person\")\n",
    "else:\n",
    "    print(\"not same person\")"
   ]
  }
 ],
 "metadata": {
  "kernelspec": {
   "display_name": "Python 3",
   "language": "python",
   "name": "python3"
  },
  "language_info": {
   "codemirror_mode": {
    "name": "ipython",
    "version": 3
   },
   "file_extension": ".py",
   "mimetype": "text/x-python",
   "name": "python",
   "nbconvert_exporter": "python",
   "pygments_lexer": "ipython3",
   "version": "3.8.3"
  }
 },
 "nbformat": 4,
 "nbformat_minor": 4
}
