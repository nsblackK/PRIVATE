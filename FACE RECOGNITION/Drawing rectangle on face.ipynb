{
 "cells": [
  {
   "cell_type": "code",
   "execution_count": 18,
   "metadata": {},
   "outputs": [],
   "source": [
    "#drawing rectangle on face\n",
    "from PIL import Image, ImageDraw, ImageFont\n",
    "import face_recognition\n",
    "photo = face_recognition.load_image_file('me.jpg')\n",
    "l=face_recognition.face_locations(photo)\n",
    "\n",
    "top= l[0][0]\n",
    "right= l[0][1]\n",
    "bottom= l[0][2]\n",
    "left= l[0][3]\n",
    "\n",
    "photo_image=Image.fromarray(photo)\n",
    "\n",
    "draw = ImageDraw.Draw(photo_image)\n",
    "\n",
    "draw.rectangle((left,top,right,bottom), outline=(255,255,255), width = 10)\n",
    "fnt= ImageFont.truetype(\"arial.ttf\", 50)\n",
    "draw.text((left+10,bottom-60),\"Nirmalya\",font=fnt,fill=(255,0,0))\n",
    "photo_image.show()"
   ]
  },
  {
   "cell_type": "code",
   "execution_count": 23,
   "metadata": {},
   "outputs": [],
   "source": [
    "#multiple face crop\n",
    "from PIL import Image, ImageDraw, ImageFont\n",
    "import face_recognition\n",
    "photo = face_recognition.load_image_file('pujo.jpeg')\n",
    "l=face_recognition.face_locations(photo)\n",
    "face_count=len(l)\n",
    "photo_image=Image.fromarray(photo)\n",
    "draw = ImageDraw.Draw(photo_image)\n",
    "for i in range (face_count):\n",
    "    top= l[i][0]\n",
    "    right= l[i][1]\n",
    "    bottom= l[i][2]\n",
    "    left= l[i][3]\n",
    "    draw.rectangle((left,top,right,bottom), outline=(255,0,0), width = 3)\n",
    "photo_image.show()"
   ]
  }
 ],
 "metadata": {
  "kernelspec": {
   "display_name": "Python 3",
   "language": "python",
   "name": "python3"
  },
  "language_info": {
   "codemirror_mode": {
    "name": "ipython",
    "version": 3
   },
   "file_extension": ".py",
   "mimetype": "text/x-python",
   "name": "python",
   "nbconvert_exporter": "python",
   "pygments_lexer": "ipython3",
   "version": "3.8.3"
  }
 },
 "nbformat": 4,
 "nbformat_minor": 4
}
