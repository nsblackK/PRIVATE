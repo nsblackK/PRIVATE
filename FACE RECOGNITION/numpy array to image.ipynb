{
 "cells": [
  {
   "cell_type": "code",
   "execution_count": 2,
   "metadata": {},
   "outputs": [],
   "source": [
    "#numpy array to image\n",
    "from PIL import Image\n",
    "import face_recognition\n",
    "photo_me = face_recognition.load_image_file('me.jpg')\n",
    "me = Image.fromarray(photo_me)\n",
    "me.show()"
   ]
  },
  {
   "cell_type": "code",
   "execution_count": 3,
   "metadata": {},
   "outputs": [],
   "source": [
    "#turning color image to black and white\n",
    "from PIL import Image\n",
    "import face_recognition\n",
    "photo_me = face_recognition.load_image_file('me.jpg','L')\n",
    "me = Image.fromarray(photo_me)\n",
    "me.show()"
   ]
  }
 ],
 "metadata": {
  "kernelspec": {
   "display_name": "Python 3",
   "language": "python",
   "name": "python3"
  },
  "language_info": {
   "codemirror_mode": {
    "name": "ipython",
    "version": 3
   },
   "file_extension": ".py",
   "mimetype": "text/x-python",
   "name": "python",
   "nbconvert_exporter": "python",
   "pygments_lexer": "ipython3",
   "version": "3.8.3"
  }
 },
 "nbformat": 4,
 "nbformat_minor": 4
}
