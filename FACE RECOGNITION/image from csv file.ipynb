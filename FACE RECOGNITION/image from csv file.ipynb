{
 "cells": [
  {
   "cell_type": "code",
   "execution_count": 10,
   "metadata": {},
   "outputs": [
    {
     "name": "stdout",
     "output_type": "stream",
     "text": [
      "[True, False, False, False, False, False, False]\n"
     ]
    }
   ],
   "source": [
    "import pandas as pd\n",
    "import face_recognition\n",
    "from PIL import Image, ImageDraw, ImageFont\n",
    "f=pd.read_csv('imageSheet.csv')\n",
    "#print(f.to_string())\n",
    "fnt = ImageFont.truetype(\"arial.ttf\", 200)\n",
    "\n",
    "code = f[\"Code\"].tolist()\n",
    "name = f[\"Name\"].tolist()\n",
    "fileName = f[\"FileName\"].tolist()\n",
    "n = len(code)\n",
    "emp = []\n",
    "emp_encode = []\n",
    "uk = face_recognition.load_image_file(\"san.jpeg\")\n",
    "uk_encode = face_recognition.face_encodings(uk)[0]\n",
    "\n",
    "for i in range(n):\n",
    "    emp.append(face_recognition.load_image_file(fileName[i]))\n",
    "    emp_encode.append(face_recognition.face_encodings(emp[i])[0])\n",
    "    \n",
    "found = face_recognition.compare_faces(emp_encode,uk_encode, tolerance = 0.5)\n",
    "print(found)\n",
    "\n",
    "\n",
    "\"\"\"for i in range(n):\n",
    "    if found[i]:\n",
    "        print((emp[i].shape)\n",
    "        print(emp[i].shape[0])\n",
    "        left = 100\n",
    "        bottom = emp[i].shape[0]\n",
    "        pil_uk = Image.fromarray(uk)\n",
    "        draw.text((left,bottom - 50), name[i], font=fnt, fill =(225,0,0))\n",
    "        pil_uk.show()\"\"\"\n",
    "for i in range(n):\n",
    "    if found[i] == True:\n",
    "        left = 100\n",
    "        bottom = emp[i].shape[0]\n",
    "        pil_uk = Image.fromarray(uk)\n",
    "        draw = ImageDraw.Draw(pil_uk)\n",
    "        draw.text((left,bottom - 300), name[i], font=fnt, fill =(225,0,0))\n",
    "        pil_uk.show()\n",
    "        "
   ]
  },
  {
   "cell_type": "code",
   "execution_count": 11,
   "metadata": {},
   "outputs": [
    {
     "name": "stdout",
     "output_type": "stream",
     "text": [
      "   Code        Name          FileName\n",
      "0   124    Sanchari          san.jpeg\n",
      "1   546    Nirmalya          me2.jpeg\n",
      "2   451   rttik bro  rittik_bhai.jpeg\n",
      "3   457      rittik       rittik.jpeg\n",
      "4   158         joy           joy.jpg\n",
      "5   964      soumya         somo.jpeg\n",
      "6   125  soumya bro    somo_bhai.jpeg\n",
      "Code:  [124, 546, 451, 457, 158, 964, 125]\n",
      "name:  ['Sanchari', 'Nirmalya', 'rttik bro', 'rittik', 'joy', 'soumya', 'soumya bro']\n",
      "file name:  ['san.jpeg', 'me2.jpeg', 'rittik_bhai.jpeg', 'rittik.jpeg', 'joy.jpg', 'somo.jpeg', 'somo_bhai.jpeg']\n"
     ]
    }
   ],
   "source": [
    "f=pd.read_csv('imageSheet.csv')\n",
    "print(f.to_string())\n",
    "\n",
    "code = f[\"Code\"].tolist()\n",
    "name = f[\"Name\"].tolist()\n",
    "fileName = f[\"FileName\"].tolist()\n",
    "\n",
    "print(\"Code: \", code)\n",
    "print(\"name: \", name)\n",
    "print(\"file name: \", fileName)"
   ]
  }
 ],
 "metadata": {
  "kernelspec": {
   "display_name": "Python 3",
   "language": "python",
   "name": "python3"
  },
  "language_info": {
   "codemirror_mode": {
    "name": "ipython",
    "version": 3
   },
   "file_extension": ".py",
   "mimetype": "text/x-python",
   "name": "python",
   "nbconvert_exporter": "python",
   "pygments_lexer": "ipython3",
   "version": "3.8.3"
  }
 },
 "nbformat": 4,
 "nbformat_minor": 4
}
