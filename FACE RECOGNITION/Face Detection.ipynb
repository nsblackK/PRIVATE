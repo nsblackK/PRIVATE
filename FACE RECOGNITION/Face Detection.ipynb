{
 "cells": [
  {
   "cell_type": "code",
   "execution_count": 1,
   "metadata": {},
   "outputs": [
    {
     "name": "stdout",
     "output_type": "stream",
     "text": [
      "[(384, 562, 705, 241)]\n"
     ]
    }
   ],
   "source": [
    "#face crop\n",
    "from PIL import Image, ImageDraw, ImageFont\n",
    "import face_recognition\n",
    "photo = face_recognition.load_image_file('me.jpg')\n",
    "l=face_recognition.face_locations(photo)\n",
    "print(l)\n",
    "top= l[0][0]\n",
    "right= l[0][1]\n",
    "bottom= l[0][2]\n",
    "left= l[0][3]\n",
    "face=photo[top:bottom, left:right]\n",
    "face_image=Image.fromarray(face)\n",
    "face_image.show()"
   ]
  },
  {
   "cell_type": "code",
   "execution_count": 6,
   "metadata": {},
   "outputs": [],
   "source": [
    "#multiple face crop\n",
    "from PIL import Image, ImageDraw, ImageFont\n",
    "import face_recognition\n",
    "photo = face_recognition.load_image_file('pujo.jpeg')\n",
    "l=face_recognition.face_locations(photo)\n",
    "face_count=len(l)\n",
    "for i in range (face_count):\n",
    "    top= l[i][0]\n",
    "    right= l[i][1]\n",
    "    bottom= l[i][2]\n",
    "    left= l[i][3]\n",
    "    face=photo[top:bottom, left:right]\n",
    "    face_image=Image.fromarray(face)\n",
    "    face_image.show()"
   ]
  }
 ],
 "metadata": {
  "kernelspec": {
   "display_name": "Python 3",
   "language": "python",
   "name": "python3"
  },
  "language_info": {
   "codemirror_mode": {
    "name": "ipython",
    "version": 3
   },
   "file_extension": ".py",
   "mimetype": "text/x-python",
   "name": "python",
   "nbconvert_exporter": "python",
   "pygments_lexer": "ipython3",
   "version": "3.8.3"
  }
 },
 "nbformat": 4,
 "nbformat_minor": 4
}
