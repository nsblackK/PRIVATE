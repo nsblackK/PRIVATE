{
 "cells": [
  {
   "cell_type": "code",
   "execution_count": 22,
   "metadata": {},
   "outputs": [],
   "source": [
    "from PIL import Image, ImageDraw, ImageFont\n",
    "photo = Image.open(\"onepiece.jpg\")\n",
    "#photo.show()\n",
    "\n",
    "#making image drawable\n",
    "draw = ImageDraw.Draw(photo)\n",
    "\n",
    "draw.rectangle((200,300,500,600), outline=(255,255,255), width = 10)\n",
    "\n",
    "draw.line((200,300,500,600), fill=(150,150,150), width = 10)\n",
    "\n",
    "#choosing font style\n",
    "#font = ImageFont.load_default()\n",
    "font = ImageFont.truetype(\"arial.ttf\", 100)\n",
    "draw.text((250,650), \"Legendary Anime\", font=font, fill = (50,225,225))\n",
    "\n",
    "photo.show()"
   ]
  },
  {
   "cell_type": "code",
   "execution_count": null,
   "metadata": {},
   "outputs": [],
   "source": [
    "import face_recognition\n",
    "photo_me = face_recognition.load_image_file('me.jpg','L')\n"
   ]
  }
 ],
 "metadata": {
  "kernelspec": {
   "display_name": "Python 3",
   "language": "python",
   "name": "python3"
  },
  "language_info": {
   "codemirror_mode": {
    "name": "ipython",
    "version": 3
   },
   "file_extension": ".py",
   "mimetype": "text/x-python",
   "name": "python",
   "nbconvert_exporter": "python",
   "pygments_lexer": "ipython3",
   "version": "3.8.3"
  }
 },
 "nbformat": 4,
 "nbformat_minor": 4
}
