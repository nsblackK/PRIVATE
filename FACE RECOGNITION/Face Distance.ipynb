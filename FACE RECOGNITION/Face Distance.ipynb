{
 "cells": [
  {
   "cell_type": "code",
   "execution_count": 7,
   "metadata": {},
   "outputs": [
    {
     "name": "stdout",
     "output_type": "stream",
     "text": [
      "[0.69976035 0.         0.40934647 0.66397069 0.63981392 0.60423146]\n"
     ]
    }
   ],
   "source": [
    "import face_recognition\n",
    "nir =face_recognition.load_image_file(\"me.jpg\")\n",
    "somo =face_recognition.load_image_file(\"somo.jpeg\")\n",
    "bhaiS =face_recognition.load_image_file(\"somo_bhai.jpeg\")\n",
    "joy =face_recognition.load_image_file(\"joy.jpg\")\n",
    "bhaiR =face_recognition.load_image_file(\"rittik_bhai.jpeg\")\n",
    "rittik =face_recognition.load_image_file(\"rittik.jpeg\")\n",
    "\n",
    "#signatures\n",
    "S_nir =face_recognition.face_encodings(nir)[0]\n",
    "S_somo =face_recognition.face_encodings(somo)[0]\n",
    "S_bhaiS =face_recognition.face_encodings(bhai)[0]\n",
    "S_joy =face_recognition.face_encodings(joy)[0]\n",
    "S_rittik =face_recognition.face_encodings(rittik)[0]\n",
    "S_bhaiR =face_recognition.face_encodings(bhaiR)[0]\n",
    "\n",
    "faces =[S_nir, S_somo, S_bhai, S_joy, S_rittik, S_bhaiR]\n",
    "\n",
    "somo_distance = face_recognition.face_distance(faces,S_somo)\n",
    "#rittik_distance = face_recognition.face_distance(faces,S_rittik)\n",
    "\n",
    "print(somo_distance)"
   ]
  },
  {
   "cell_type": "code",
   "execution_count": 5,
   "metadata": {},
   "outputs": [
    {
     "name": "stdout",
     "output_type": "stream",
     "text": [
      "[0.46736765]\n"
     ]
    }
   ],
   "source": [
    "#same person\n",
    "\n",
    "import face_recognition\n",
    "\n",
    "nir =face_recognition.load_image_file(\"me.jpg\")\n",
    "nir2 =face_recognition.load_image_file(\"me2.jpeg\")\n",
    "\n",
    "#signatures\n",
    "S_nir =face_recognition.face_encodings(nir)[0]\n",
    "S_nir2 =face_recognition.face_encodings(nir2)[0]\n",
    "\n",
    "\n",
    "faces =[S_nir]\n",
    "\n",
    "d = face_recognition.face_distance(faces,S_nir2)\n",
    "\n",
    "print(d)"
   ]
  }
 ],
 "metadata": {
  "kernelspec": {
   "display_name": "Python 3",
   "language": "python",
   "name": "python3"
  },
  "language_info": {
   "codemirror_mode": {
    "name": "ipython",
    "version": 3
   },
   "file_extension": ".py",
   "mimetype": "text/x-python",
   "name": "python",
   "nbconvert_exporter": "python",
   "pygments_lexer": "ipython3",
   "version": "3.8.3"
  }
 },
 "nbformat": 4,
 "nbformat_minor": 4
}
