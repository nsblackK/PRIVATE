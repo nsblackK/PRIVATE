{
 "cells": [
  {
   "cell_type": "code",
   "execution_count": 6,
   "metadata": {},
   "outputs": [
    {
     "name": "stdout",
     "output_type": "stream",
     "text": [
      "Enter a letterf\n",
      "lower case\n"
     ]
    }
   ],
   "source": [
    "c=input(\"Enter a letter\")\n",
    "\n",
    "if(c.islower()):\n",
    "    print(\"lower case\")\n",
    "else:\n",
    "    print(\"upper case\")"
   ]
  },
  {
   "cell_type": "code",
   "execution_count": 10,
   "metadata": {},
   "outputs": [
    {
     "name": "stdout",
     "output_type": "stream",
     "text": [
      "press q to exit or r to continuer\n",
      "boom\n",
      "press q to exit or r to continuer\n",
      "boom\n",
      "press q to exit or r to continuer\n",
      "boom\n",
      "press q to exit or r to continueq\n",
      "boom\n"
     ]
    }
   ],
   "source": [
    "while True:\n",
    "    c=input(\"press q to exit or r to continue\")\n",
    "    print (\"boom\")\n",
    "    if(c== 'q'):\n",
    "        break"
   ]
  },
  {
   "cell_type": "code",
   "execution_count": 4,
   "metadata": {},
   "outputs": [
    {
     "name": "stdout",
     "output_type": "stream",
     "text": [
      "Welcome to calculator\n",
      "enter operator input: -\n",
      "enter first number: 8\n",
      "enter scnd number: 5\n",
      "3\n"
     ]
    }
   ],
   "source": [
    "print(\"Welcome to calculator\")\n",
    "\n",
    "operator = (input(\"enter operator input: \"))\n",
    "var1 = int(input(\"enter first number: \"))\n",
    "var2 = int(input(\"enter scnd number: \"))\n",
    "\n",
    "if operator==\"+\":\n",
    "    if var1 == 45 and var2 == 3:\n",
    "           print(\"62\")\n",
    "    else:\n",
    "        print(var1+var2)\n",
    "    \n",
    "if operator==\"-\":\n",
    "    if var1 == 36 and var2 == 22:\n",
    "        print(\"23\")\n",
    "    else:\n",
    "        print(var1-var2)"
   ]
  }
 ],
 "metadata": {
  "kernelspec": {
   "display_name": "Python 3",
   "language": "python",
   "name": "python3"
  },
  "language_info": {
   "codemirror_mode": {
    "name": "ipython",
    "version": 3
   },
   "file_extension": ".py",
   "mimetype": "text/x-python",
   "name": "python",
   "nbconvert_exporter": "python",
   "pygments_lexer": "ipython3",
   "version": "3.8.3"
  }
 },
 "nbformat": 4,
 "nbformat_minor": 4
}
