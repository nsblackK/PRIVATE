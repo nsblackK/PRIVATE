{
 "cells": [
  {
   "cell_type": "code",
   "execution_count": 1,
   "metadata": {},
   "outputs": [
    {
     "data": {
      "text/html": [
       "112"
      ],
      "text/latex": [
       "112"
      ],
      "text/markdown": [
       "112"
      ],
      "text/plain": [
       "[1] 112"
      ]
     },
     "metadata": {},
     "output_type": "display_data"
    }
   ],
   "source": [
    "student.height<-c(120,110,111,106,121,111,103,112,114)\n",
    "mean(student.height)\n",
    "\n",
    "x <- c(200,300,400,500,100)"
   ]
  },
  {
   "cell_type": "code",
   "execution_count": 2,
   "metadata": {},
   "outputs": [
    {
     "data": {
      "text/html": [
       "113.111111111111"
      ],
      "text/latex": [
       "113.111111111111"
      ],
      "text/markdown": [
       "113.111111111111"
      ],
      "text/plain": [
       "[1] 113.1111"
      ]
     },
     "metadata": {},
     "output_type": "display_data"
    }
   ],
   "source": [
    "student.height<-c(100,106,121,111,109,111,103,117,140)              \n",
    "mean(student.height)"
   ]
  },
  {
   "cell_type": "code",
   "execution_count": 3,
   "metadata": {},
   "outputs": [
    {
     "data": {
      "text/html": [
       "65.3333333333333"
      ],
      "text/latex": [
       "65.3333333333333"
      ],
      "text/markdown": [
       "65.3333333333333"
      ],
      "text/plain": [
       "[1] 65.33333"
      ]
     },
     "metadata": {},
     "output_type": "display_data"
    }
   ],
   "source": [
    "student.weight<-c(72,74,68,62,56,60)\n",
    "mean(student.weight)"
   ]
  },
  {
   "cell_type": "code",
   "execution_count": 4,
   "metadata": {},
   "outputs": [
    {
     "data": {
      "text/html": [
       "8400"
      ],
      "text/latex": [
       "8400"
      ],
      "text/markdown": [
       "8400"
      ],
      "text/plain": [
       "[1] 8400"
      ]
     },
     "metadata": {},
     "output_type": "display_data"
    }
   ],
   "source": [
    " salary<-c(12000,10000,5000,8000,7000)\n",
    "mean(salary)"
   ]
  },
  {
   "cell_type": "code",
   "execution_count": 5,
   "metadata": {},
   "outputs": [
    {
     "data": {
      "text/html": [
       "111.5"
      ],
      "text/latex": [
       "111.5"
      ],
      "text/markdown": [
       "111.5"
      ],
      "text/plain": [
       "[1] 111.5"
      ]
     },
     "metadata": {},
     "output_type": "display_data"
    }
   ],
   "source": [
    "student.height1<-c(100,106,121,111,109,111,103,117,114,NA,1047)\n",
    "mean(student.height1, trim = 0.1,na.rm=TRUE)\n"
   ]
  },
  {
   "cell_type": "code",
   "execution_count": 6,
   "metadata": {},
   "outputs": [
    {
     "data": {
      "text/html": [
       "111"
      ],
      "text/latex": [
       "111"
      ],
      "text/markdown": [
       "111"
      ],
      "text/plain": [
       "[1] 111"
      ]
     },
     "metadata": {},
     "output_type": "display_data"
    }
   ],
   "source": [
    "student.height1<-c(100,106,121,111,109,111,103,117,114,NA,1047)\n",
    "median(student.height1, na.rm=TRUE)"
   ]
  },
  {
   "cell_type": "code",
   "execution_count": 10,
   "metadata": {},
   "outputs": [
    {
     "data": {
      "text/plain": [
       "student.height\n",
       "100 103 106 109 111 117 121 140 \n",
       "  1   1   1   1   2   1   1   1 "
      ]
     },
     "metadata": {},
     "output_type": "display_data"
    },
    {
     "data": {
      "text/plain": [
       "student.height\n",
       "100 103 106 109 117 121 140 111 \n",
       "  1   1   1   1   1   1   1   2 "
      ]
     },
     "metadata": {},
     "output_type": "display_data"
    },
    {
     "data": {
      "text/html": [
       "<strong>111:</strong> 2"
      ],
      "text/latex": [
       "\\textbf{111:} 2"
      ],
      "text/markdown": [
       "**111:** 2"
      ],
      "text/plain": [
       "111 \n",
       "  2 "
      ]
     },
     "metadata": {},
     "output_type": "display_data"
    }
   ],
   "source": [
    "table(student.height)\n",
    "a<- table(student.height)\n",
    "sort(a)\n",
    "\n",
    "#for finding one value which is by indexing the position, where we sort the dataascending order.\n",
    "sort(a,decreasing = TRUE)[1] "
   ]
  },
  {
   "cell_type": "code",
   "execution_count": 11,
   "metadata": {},
   "outputs": [
    {
     "data": {
      "text/html": [
       "262"
      ],
      "text/latex": [
       "262"
      ],
      "text/markdown": [
       "262"
      ],
      "text/plain": [
       "[1] 262"
      ]
     },
     "metadata": {},
     "output_type": "display_data"
    }
   ],
   "source": [
    "#Mean\n",
    "data1.height<-c(150,170,180,260,254,222,740,120)\n",
    "mean(data1.height)"
   ]
  },
  {
   "cell_type": "code",
   "execution_count": 15,
   "metadata": {},
   "outputs": [
    {
     "data": {
      "text/html": [
       "518"
      ],
      "text/latex": [
       "518"
      ],
      "text/markdown": [
       "518"
      ],
      "text/plain": [
       "[1] 518"
      ]
     },
     "metadata": {},
     "output_type": "display_data"
    },
    {
     "data": {
      "text/html": [
       "518"
      ],
      "text/latex": [
       "518"
      ],
      "text/markdown": [
       "518"
      ],
      "text/plain": [
       "[1] 518"
      ]
     },
     "metadata": {},
     "output_type": "display_data"
    }
   ],
   "source": [
    "#Median\n",
    "data2.height<-c(550,560,570,445,480,420,555,486)\n",
    "median(data2.height,trim=0.2,na.rm=TRUE)\n",
    "\n",
    "median(data2.height)"
   ]
  },
  {
   "cell_type": "code",
   "execution_count": 14,
   "metadata": {},
   "outputs": [
    {
     "data": {
      "text/plain": [
       "data3.height\n",
       "124 140 145 150 152 160 210 320 \n",
       "  1   1   1   1   1   1   1   3 "
      ]
     },
     "metadata": {},
     "output_type": "display_data"
    },
    {
     "data": {
      "text/html": [
       "<ol class=list-inline>\n",
       "\t<li>124</li>\n",
       "\t<li>140</li>\n",
       "\t<li>145</li>\n",
       "\t<li>150</li>\n",
       "\t<li>152</li>\n",
       "\t<li>160</li>\n",
       "\t<li>210</li>\n",
       "\t<li>320</li>\n",
       "\t<li>320</li>\n",
       "\t<li>320</li>\n",
       "</ol>\n"
      ],
      "text/latex": [
       "\\begin{enumerate*}\n",
       "\\item 124\n",
       "\\item 140\n",
       "\\item 145\n",
       "\\item 150\n",
       "\\item 152\n",
       "\\item 160\n",
       "\\item 210\n",
       "\\item 320\n",
       "\\item 320\n",
       "\\item 320\n",
       "\\end{enumerate*}\n"
      ],
      "text/markdown": [
       "1. 124\n",
       "2. 140\n",
       "3. 145\n",
       "4. 150\n",
       "5. 152\n",
       "6. 160\n",
       "7. 210\n",
       "8. 320\n",
       "9. 320\n",
       "10. 320\n",
       "\n",
       "\n"
      ],
      "text/plain": [
       " [1] 124 140 145 150 152 160 210 320 320 320"
      ]
     },
     "metadata": {},
     "output_type": "display_data"
    },
    {
     "data": {
      "text/html": [
       "320"
      ],
      "text/latex": [
       "320"
      ],
      "text/markdown": [
       "320"
      ],
      "text/plain": [
       "[1] 320"
      ]
     },
     "metadata": {},
     "output_type": "display_data"
    }
   ],
   "source": [
    "#Mode\n",
    "data3.height<-c(140,150,160,145,152,210,124,320,320,320)\n",
    "table(data3.height)\n",
    "sort(data3.height)\n",
    "sort(data3.height,decreasing = TRUE)[1]"
   ]
  }
 ],
 "metadata": {
  "kernelspec": {
   "display_name": "R",
   "language": "R",
   "name": "ir"
  },
  "language_info": {
   "codemirror_mode": "r",
   "file_extension": ".r",
   "mimetype": "text/x-r-source",
   "name": "R",
   "pygments_lexer": "r",
   "version": "3.6.1"
  }
 },
 "nbformat": 4,
 "nbformat_minor": 4
}
