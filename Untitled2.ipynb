{
 "cells": [
  {
   "cell_type": "code",
   "execution_count": 2,
   "metadata": {},
   "outputs": [
    {
     "name": "stdout",
     "output_type": "stream",
     "text": [
      "Requirement already satisfied: numpy in c:\\users\\dell\\anaconda3\\lib\\site-packages (1.18.5)\n"
     ]
    }
   ],
   "source": [
    "!pip install numpy"
   ]
  },
  {
   "cell_type": "code",
   "execution_count": 12,
   "metadata": {},
   "outputs": [
    {
     "name": "stdout",
     "output_type": "stream",
     "text": [
      "[14.6 27.2 33.6]\n",
      "75.4\n"
     ]
    }
   ],
   "source": [
    "import numpy as np\n",
    "Dar=np.array([73,68,42])\n",
    "weights=np.array([0.2,0.4,0.8])\n",
    "print(Dar*weights)\n",
    "n=np.dot(Dar,weights)#dot product\n",
    "print(n)"
   ]
  },
  {
   "cell_type": "code",
   "execution_count": 29,
   "metadata": {},
   "outputs": [
    {
     "name": "stdout",
     "output_type": "stream",
     "text": [
      "5\n"
     ]
    }
   ],
   "source": [
    "import numpy as np\n",
    "a=[1,2,3,5,23,2,45,4,5,9]\n",
    "b=[]\n",
    "mob=5\n",
    "#for i in range(mob):\n",
    "b.append(np.array_split(a, mob))\n",
    "    \n",
    "print(len(b[0]))"
   ]
  },
  {
   "cell_type": "code",
   "execution_count": 30,
   "metadata": {},
   "outputs": [
    {
     "name": "stdout",
     "output_type": "stream",
     "text": [
      "0\n",
      "1\n",
      "8\n",
      "27\n",
      "64\n",
      "125\n",
      "216\n",
      "343\n",
      "512\n",
      "729\n"
     ]
    }
   ],
   "source": [
    "for i in range(10):\n",
    "    print(i**3)\n",
    "    "
   ]
  },
  {
   "cell_type": "code",
   "execution_count": 33,
   "metadata": {},
   "outputs": [
    {
     "name": "stdout",
     "output_type": "stream",
     "text": [
      "23\n",
      "23\n",
      "24\n",
      "22\n",
      "25\n",
      "21\n",
      "26\n",
      "20\n",
      "27\n",
      "19\n",
      "28\n",
      "18\n",
      "29\n",
      "17\n",
      "30\n",
      "16\n",
      "31\n",
      "15\n",
      "32\n",
      "14\n"
     ]
    }
   ],
   "source": [
    "for i in range(0,10):\n",
    "    print(23+i)\n",
    "    print(23-i)"
   ]
  },
  {
   "cell_type": "code",
   "execution_count": 4,
   "metadata": {},
   "outputs": [
    {
     "name": "stdout",
     "output_type": "stream",
     "text": [
      "enter 1st word: maa\n",
      "enter 2nd word: kaa\n",
      "no\n"
     ]
    }
   ],
   "source": [
    "w1=input(\"enter 1st word: \")\n",
    "w2=input(\"enter 2nd word: \")\n",
    "k=0\n",
    "for i in w1:\n",
    "    for j in w2:\n",
    "        if i==j:\n",
    "            k+=1\n",
    "if k==len(w1):\n",
    "    print(\"yes\")\n",
    "else:\n",
    "    print(\"no\")\n",
    "    "
   ]
  },
  {
   "cell_type": "code",
   "execution_count": null,
   "metadata": {},
   "outputs": [],
   "source": []
  }
 ],
 "metadata": {
  "kernelspec": {
   "display_name": "Python 3",
   "language": "python",
   "name": "python3"
  },
  "language_info": {
   "codemirror_mode": {
    "name": "ipython",
    "version": 3
   },
   "file_extension": ".py",
   "mimetype": "text/x-python",
   "name": "python",
   "nbconvert_exporter": "python",
   "pygments_lexer": "ipython3",
   "version": "3.8.3"
  }
 },
 "nbformat": 4,
 "nbformat_minor": 4
}
