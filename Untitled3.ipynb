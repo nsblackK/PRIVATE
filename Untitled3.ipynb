{
 "cells": [
  {
   "cell_type": "code",
   "execution_count": 1,
   "metadata": {},
   "outputs": [
    {
     "ename": "ERROR",
     "evalue": "Error in file.choose(): file choice cancelled\n",
     "output_type": "error",
     "traceback": [
      "Error in file.choose(): file choice cancelled\nTraceback:\n",
      "1. read.csv(file.choose(), header = TRUE)",
      "2. read.table(file = file, header = header, sep = sep, quote = quote, \n .     dec = dec, fill = fill, comment.char = comment.char, ...)",
      "3. file.choose()"
     ]
    }
   ],
   "source": [
    "school=read.csv(file.choose(),header=TRUE)\n",
    "print(school)"
   ]
  },
  {
   "cell_type": "code",
   "execution_count": null,
   "metadata": {},
   "outputs": [],
   "source": [
    "str(school)"
   ]
  },
  {
   "cell_type": "code",
   "execution_count": null,
   "metadata": {},
   "outputs": [],
   "source": [
    "school$school_setting<-as.factor(school$school_setting)\n",
    "school$school_type<-as.factor(school$school_type)\n",
    "\n",
    "school$teaching_method<-as.factor(school$teaching_method)\n",
    "school$gender<-as.factor(school$gender)\n",
    "school$lunch<-as.factor(school$lunch)"
   ]
  },
  {
   "cell_type": "code",
   "execution_count": null,
   "metadata": {},
   "outputs": [],
   "source": [
    "library(dplyr)\n",
    "ls(\"package:dplyr\")"
   ]
  },
  {
   "cell_type": "code",
   "execution_count": null,
   "metadata": {},
   "outputs": [],
   "source": [
    "\"1. Find the mean and median of the pretest and posttest marks for the schools grouped by school type.\n",
    "\"\n",
    "\n",
    "school %>% group_by(school_type)\n",
    "\n"
   ]
  },
  {
   "cell_type": "code",
   "execution_count": null,
   "metadata": {},
   "outputs": [],
   "source": [
    "school %>% group_by(school_type) %>% summarise(mean_scores=mean(pretest))"
   ]
  },
  {
   "cell_type": "code",
   "execution_count": null,
   "metadata": {},
   "outputs": [],
   "source": [
    "school %>% group_by(school_type) %>% summarise(median_scores=median(pretest))"
   ]
  },
  {
   "cell_type": "code",
   "execution_count": null,
   "metadata": {},
   "outputs": [],
   "source": [
    "\"2. Set the schools with  number of students less than the average number of students.\n",
    "\"\n",
    "\n",
    "\n",
    "school %>% \n",
    "  select(school,contains(\"n_student\")) %>%\n",
    "  filter(n_student < mean(n_student,na.rm=T) )"
   ]
  },
  {
   "cell_type": "code",
   "execution_count": null,
   "metadata": {},
   "outputs": [],
   "source": [
    "\"3. Rename all the column names with upper case letters.\"\n",
    "rename_with(school, toupper)"
   ]
  },
  {
   "cell_type": "code",
   "execution_count": null,
   "metadata": {},
   "outputs": [],
   "source": [
    "\"4. Sort the data based on the posttest marks in ascending order and save it as post_asc and pretest marks in descending order and save as pre_dsc.\n",
    "\"\n",
    "post_asc<-school%>% arrange(posttest)\n",
    "post_asc\n",
    "post_dsc<-school%>% arrange(desc(pretest))\n",
    "post_dsc"
   ]
  },
  {
   "cell_type": "code",
   "execution_count": null,
   "metadata": {},
   "outputs": [],
   "source": [
    "\"5. Create a new column percentage with the value [(posttest+pretest)/200]*100.\n",
    "\"\n",
    "school %>% mutate(percentage = ((posttest+pretest)/200)*100)"
   ]
  },
  {
   "cell_type": "code",
   "execution_count": null,
   "metadata": {},
   "outputs": [],
   "source": [
    "\"6. Create a new column Average with the value [(posttest+pretest)/200].\"\n",
    "\n",
    "school %>% mutate(Average = ((posttest+pretest)/200))\n",
    "\n"
   ]
  },
  {
   "cell_type": "code",
   "execution_count": null,
   "metadata": {},
   "outputs": [],
   "source": [
    "\"EDA (Univariate, Bivariate, Multivariate)\n",
    "Use appropriate plots and summarising methods to perform a univariate, bivariate or multivariate analysis.\n",
    "Univariate:"
   ]
  },
  {
   "cell_type": "code",
   "execution_count": null,
   "metadata": {},
   "outputs": [],
   "source": [
    "library(ggplot2)\n",
    "print(ggplot(school,aes(x=gender,fill=\"Gender\"))+geom_bar(position=\"dodge\"))+labs(title=\"Gender\")+theme_minimal()\n",
    "\n",
    "\n",
    "\"Inference=  Although male and female ration is almost same male has a small variation, compared to female\n",
    "\""
   ]
  },
  {
   "cell_type": "code",
   "execution_count": null,
   "metadata": {},
   "outputs": [],
   "source": [
    "library(ggplot2)\n",
    "print(ggplot(school,aes(x=teaching_method,fill=\"Mode of Teaching\"))+geom_bar(position=\"dodge\"))+labs(title=\"Mode od teaching\")+theme_minimal()\n"
   ]
  },
  {
   "cell_type": "code",
   "execution_count": null,
   "metadata": {},
   "outputs": [],
   "source": [
    "library(ggplot2)\n",
    "print(ggplot(school,aes(x=n_student,y=teaching_method ))+geom_boxplot()+labs(title=\"Mode of teaching with respect to teaching\n",
    "                                                                   \")+theme_minimal())\n",
    "\n",
    "\n",
    "\"Inference= More students are appearing for experimental than in standard eventhough standard is high \n",
    "which has been opted by students.\n",
    "\"\"\n",
    "\n"
   ]
  },
  {
   "cell_type": "code",
   "execution_count": null,
   "metadata": {},
   "outputs": [],
   "source": [
    "ggplot(data=school, aes(x=n_student , y=school_type ,col=school_setting)) + geom_point()\n",
    "\"Inference= Public schools has more students from urban than non public. \n",
    "Non public is being more of attended by students from rural. \n",
    "\""
   ]
  }
 ],
 "metadata": {
  "kernelspec": {
   "display_name": "R",
   "language": "R",
   "name": "ir"
  },
  "language_info": {
   "codemirror_mode": "r",
   "file_extension": ".r",
   "mimetype": "text/x-r-source",
   "name": "R",
   "pygments_lexer": "r",
   "version": "3.6.1"
  }
 },
 "nbformat": 4,
 "nbformat_minor": 4
}
