{
 "cells": [
  {
   "cell_type": "code",
   "execution_count": 1,
   "metadata": {
    "scrolled": true
   },
   "outputs": [
    {
     "data": {
      "text/html": [
       "<table>\n",
       "<thead><tr><th scope=col>school</th><th scope=col>school_setting</th><th scope=col>school_type</th><th scope=col>classroom</th><th scope=col>teaching_method</th><th scope=col>n_student</th><th scope=col>student_id</th><th scope=col>gender</th><th scope=col>lunch</th><th scope=col>pretest</th><th scope=col>posttest</th></tr></thead>\n",
       "<tbody>\n",
       "\t<tr><td>ANKYI           </td><td>Urban           </td><td>Non-public      </td><td>6OL             </td><td>Standard        </td><td>20              </td><td>2FHT3           </td><td>Female          </td><td>Does not qualify</td><td>62              </td><td>72              </td></tr>\n",
       "\t<tr><td>ANKYI           </td><td>Urban           </td><td>Non-public      </td><td>6OL             </td><td>Standard        </td><td>20              </td><td>3JIVH           </td><td>Female          </td><td>Does not qualify</td><td>66              </td><td>79              </td></tr>\n",
       "\t<tr><td>ANKYI           </td><td>Urban           </td><td>Non-public      </td><td>6OL             </td><td>Standard        </td><td>20              </td><td>3XOWE           </td><td>Male            </td><td>Does not qualify</td><td>64              </td><td>76              </td></tr>\n",
       "\t<tr><td>ANKYI           </td><td>Urban           </td><td>Non-public      </td><td>6OL             </td><td>Standard        </td><td>20              </td><td>556O0           </td><td>Female          </td><td>Does not qualify</td><td>61              </td><td>77              </td></tr>\n",
       "\t<tr><td>ANKYI           </td><td>Urban           </td><td>Non-public      </td><td>6OL             </td><td>Standard        </td><td>20              </td><td>74LOE           </td><td>Male            </td><td>Does not qualify</td><td>64              </td><td>76              </td></tr>\n",
       "\t<tr><td>ANKYI           </td><td>Urban           </td><td>Non-public      </td><td>6OL             </td><td>Standard        </td><td>20              </td><td>7YZO8           </td><td>Female          </td><td>Does not qualify</td><td>66              </td><td>74              </td></tr>\n",
       "</tbody>\n",
       "</table>\n"
      ],
      "text/latex": [
       "\\begin{tabular}{r|lllllllllll}\n",
       " school & school\\_setting & school\\_type & classroom & teaching\\_method & n\\_student & student\\_id & gender & lunch & pretest & posttest\\\\\n",
       "\\hline\n",
       "\t ANKYI            & Urban            & Non-public       & 6OL              & Standard         & 20               & 2FHT3            & Female           & Does not qualify & 62               & 72              \\\\\n",
       "\t ANKYI            & Urban            & Non-public       & 6OL              & Standard         & 20               & 3JIVH            & Female           & Does not qualify & 66               & 79              \\\\\n",
       "\t ANKYI            & Urban            & Non-public       & 6OL              & Standard         & 20               & 3XOWE            & Male             & Does not qualify & 64               & 76              \\\\\n",
       "\t ANKYI            & Urban            & Non-public       & 6OL              & Standard         & 20               & 556O0            & Female           & Does not qualify & 61               & 77              \\\\\n",
       "\t ANKYI            & Urban            & Non-public       & 6OL              & Standard         & 20               & 74LOE            & Male             & Does not qualify & 64               & 76              \\\\\n",
       "\t ANKYI            & Urban            & Non-public       & 6OL              & Standard         & 20               & 7YZO8            & Female           & Does not qualify & 66               & 74              \\\\\n",
       "\\end{tabular}\n"
      ],
      "text/markdown": [
       "\n",
       "| school | school_setting | school_type | classroom | teaching_method | n_student | student_id | gender | lunch | pretest | posttest |\n",
       "|---|---|---|---|---|---|---|---|---|---|---|\n",
       "| ANKYI            | Urban            | Non-public       | 6OL              | Standard         | 20               | 2FHT3            | Female           | Does not qualify | 62               | 72               |\n",
       "| ANKYI            | Urban            | Non-public       | 6OL              | Standard         | 20               | 3JIVH            | Female           | Does not qualify | 66               | 79               |\n",
       "| ANKYI            | Urban            | Non-public       | 6OL              | Standard         | 20               | 3XOWE            | Male             | Does not qualify | 64               | 76               |\n",
       "| ANKYI            | Urban            | Non-public       | 6OL              | Standard         | 20               | 556O0            | Female           | Does not qualify | 61               | 77               |\n",
       "| ANKYI            | Urban            | Non-public       | 6OL              | Standard         | 20               | 74LOE            | Male             | Does not qualify | 64               | 76               |\n",
       "| ANKYI            | Urban            | Non-public       | 6OL              | Standard         | 20               | 7YZO8            | Female           | Does not qualify | 66               | 74               |\n",
       "\n"
      ],
      "text/plain": [
       "  school school_setting school_type classroom teaching_method n_student\n",
       "1 ANKYI  Urban          Non-public  6OL       Standard        20       \n",
       "2 ANKYI  Urban          Non-public  6OL       Standard        20       \n",
       "3 ANKYI  Urban          Non-public  6OL       Standard        20       \n",
       "4 ANKYI  Urban          Non-public  6OL       Standard        20       \n",
       "5 ANKYI  Urban          Non-public  6OL       Standard        20       \n",
       "6 ANKYI  Urban          Non-public  6OL       Standard        20       \n",
       "  student_id gender lunch            pretest posttest\n",
       "1 2FHT3      Female Does not qualify 62      72      \n",
       "2 3JIVH      Female Does not qualify 66      79      \n",
       "3 3XOWE      Male   Does not qualify 64      76      \n",
       "4 556O0      Female Does not qualify 61      77      \n",
       "5 74LOE      Male   Does not qualify 64      76      \n",
       "6 7YZO8      Female Does not qualify 66      74      "
      ]
     },
     "metadata": {},
     "output_type": "display_data"
    }
   ],
   "source": [
    "df<-read.csv(\"test_scores - test_scores.csv\")\n",
    "head(df)"
   ]
  },
  {
   "cell_type": "code",
   "execution_count": 2,
   "metadata": {},
   "outputs": [
    {
     "data": {
      "text/plain": [
       "     school      school_setting     school_type     classroom   \n",
       " GOOBU  : 158   Rural   :510    Non-public: 551   18K    :  31  \n",
       " QOQTS  : 149   Suburban:717    Public    :1582   A93    :  30  \n",
       " UKPGS  : 128   Urban   :906                      Q0E    :  30  \n",
       " DNQDD  : 122                                     QA2    :  30  \n",
       " GJJHK  : 118                                     YTB    :  30  \n",
       " ZOWMK  : 117                                     ZBH    :  30  \n",
       " (Other):1341                                     (Other):1952  \n",
       "     teaching_method   n_student      student_id      gender    \n",
       " Experimental: 760   Min.   :14.0   02WIH  :   1   Female:1056  \n",
       " Standard    :1373   1st Qu.:20.0   038FI  :   1   Male  :1077  \n",
       "                     Median :22.0   03T0E  :   1                \n",
       "                     Mean   :22.8   03TIL  :   1                \n",
       "                     3rd Qu.:27.0   04AKE  :   1                \n",
       "                     Max.   :31.0   04DG5  :   1                \n",
       "                                    (Other):2127                \n",
       "                              lunch         pretest         posttest    \n",
       " Does not qualify                :1215   Min.   :22.00   Min.   : 32.0  \n",
       " Qualifies for reduced/free lunch: 918   1st Qu.:44.00   1st Qu.: 56.0  \n",
       "                                         Median :56.00   Median : 68.0  \n",
       "                                         Mean   :54.96   Mean   : 67.1  \n",
       "                                         3rd Qu.:65.00   3rd Qu.: 77.0  \n",
       "                                         Max.   :93.00   Max.   :100.0  \n",
       "                                                                        "
      ]
     },
     "metadata": {},
     "output_type": "display_data"
    }
   ],
   "source": [
    "summary(df)"
   ]
  },
  {
   "cell_type": "code",
   "execution_count": 3,
   "metadata": {},
   "outputs": [
    {
     "name": "stderr",
     "output_type": "stream",
     "text": [
      "Warning message:\n",
      "\"package 'ggplot2' was built under R version 3.6.3\""
     ]
    },
    {
     "data": {
      "image/png": "[encoded data removed]",
      "text/plain": [
       "plot without title"
      ]
     },
     "metadata": {},
     "output_type": "display_data"
    }
   ],
   "source": [
    "library(ggplot2)\n",
    "ggplot(df,aes(school_type))+geom_bar(aes(fill= school_type))"
   ]
  },
  {
   "cell_type": "code",
   "execution_count": 4,
   "metadata": {
    "scrolled": true
   },
   "outputs": [
    {
     "data": {
      "image/png": "[encoded data removed]",
      "text/plain": [
       "plot without title"
      ]
     },
     "metadata": {},
     "output_type": "display_data"
    }
   ],
   "source": [
    "ggplot(df,aes(gender))+geom_bar(aes(fill= gender))"
   ]
  },
  {
   "cell_type": "code",
   "execution_count": 5,
   "metadata": {},
   "outputs": [
    {
     "name": "stderr",
     "output_type": "stream",
     "text": [
      "Warning message:\n",
      "\"package 'dplyr' was built under R version 3.6.3\"\n",
      "Attaching package: 'dplyr'\n",
      "\n",
      "The following objects are masked from 'package:stats':\n",
      "\n",
      "    filter, lag\n",
      "\n",
      "The following objects are masked from 'package:base':\n",
      "\n",
      "    intersect, setdiff, setequal, union\n",
      "\n"
     ]
    }
   ],
   "source": [
    "library(dplyr)"
   ]
  },
  {
   "cell_type": "code",
   "execution_count": 6,
   "metadata": {},
   "outputs": [
    {
     "data": {
      "image/png": "[encoded data removed]",
      "text/plain": [
       "plot without title"
      ]
     },
     "metadata": {},
     "output_type": "display_data"
    }
   ],
   "source": [
    "c"
   ]
  },
  {
   "cell_type": "code",
   "execution_count": 7,
   "metadata": {},
   "outputs": [
    {
     "data": {
      "image/png": "[encoded data removed]",
      "text/plain": [
       "plot without title"
      ]
     },
     "metadata": {},
     "output_type": "display_data"
    }
   ],
   "source": [
    "df %>%\n",
    " ggplot(aes(gender, posttest)) +\n",
    " geom_boxplot(fill = \"yellow\", colour = \"black\") +\n",
    " labs(title = \"genderwise post test score\", x = \"Sex\", y = \"score\") +\n",
    " theme_minimal() "
   ]
  },
  {
   "cell_type": "code",
   "execution_count": 8,
   "metadata": {
    "scrolled": true
   },
   "outputs": [
    {
     "data": {
      "image/png": "[encoded data removed]",
      "text/plain": [
       "plot without title"
      ]
     },
     "metadata": {},
     "output_type": "display_data"
    }
   ],
   "source": [
    "df %>%\n",
    " ggplot(aes(school_type, pretest)) +\n",
    " geom_boxplot(fill = \"yellow\", colour = \"black\") +\n",
    " labs(title = \"school type v/s pre test scores\", x = \"school type\", y = \"pre test score\") +\n",
    " theme_minimal() "
   ]
  },
  {
   "cell_type": "code",
   "execution_count": 9,
   "metadata": {
    "scrolled": true
   },
   "outputs": [
    {
     "data": {
      "image/png": "[encoded data removed]",
      "text/plain": [
       "plot without title"
      ]
     },
     "metadata": {},
     "output_type": "display_data"
    }
   ],
   "source": [
    "df %>%\n",
    " ggplot(aes(school_type, posttest)) +\n",
    " geom_boxplot(fill = \"yellow\", colour = \"black\") +\n",
    " labs(title = \"school type v/s post test scores\", x = \"school typet\", y = \"post test scores\") +\n",
    " theme_minimal()"
   ]
  },
  {
   "cell_type": "code",
   "execution_count": 10,
   "metadata": {},
   "outputs": [
    {
     "data": {
      "image/png": "[encoded data removed]",
      "text/plain": [
       "plot without title"
      ]
     },
     "metadata": {},
     "output_type": "display_data"
    }
   ],
   "source": [
    "df %>%\n",
    " ggplot(aes(school_setting )) +\n",
    " geom_bar(aes(fill = school_type ), position = position_dodge()) +\n",
    " labs(title = \"gender distribution in groups\") +\n",
    " theme_minimal() +\n",
    " theme(axis.text.x = element_text(size = 10, vjust = 0.5))"
   ]
  },
  {
   "cell_type": "code",
   "execution_count": 15,
   "metadata": {},
   "outputs": [
    {
     "data": {
      "text/html": [
       "'Inference= Public schools has more students from urban than non public. \\nNon public is being more of attended by students from rural. \\n'"
      ],
      "text/latex": [
       "'Inference= Public schools has more students from urban than non public. \\textbackslash{}nNon public is being more of attended by students from rural. \\textbackslash{}n'"
      ],
      "text/markdown": [
       "'Inference= Public schools has more students from urban than non public. \\nNon public is being more of attended by students from rural. \\n'"
      ],
      "text/plain": [
       "[1] \"Inference= Public schools has more students from urban than non public. \\nNon public is being more of attended by students from rural. \\n\""
      ]
     },
     "metadata": {},
     "output_type": "display_data"
    },
    {
     "data": {
      "image/png": "[encoded data removed]",
      "text/plain": [
       "plot without title"
      ]
     },
     "metadata": {},
     "output_type": "display_data"
    }
   ],
   "source": [
    "ggplot(data=df, aes(x=n_student , y=school_type ,col=school_setting)) + geom_point()\n",
    "\"Inference= Public schools has more students from urban than non public. \n",
    "Non public is being more of attended by students from rural. \n",
    "\"\n"
   ]
  },
  {
   "cell_type": "code",
   "execution_count": 11,
   "metadata": {},
   "outputs": [
    {
     "data": {
      "text/html": [
       "'1. Find the mean and median of the pretest and posttest marks for the schools grouped by school type.'"
      ],
      "text/latex": [
       "'1. Find the mean and median of the pretest and posttest marks for the schools grouped by school type.'"
      ],
      "text/markdown": [
       "'1. Find the mean and median of the pretest and posttest marks for the schools grouped by school type.'"
      ],
      "text/plain": [
       "[1] \"1. Find the mean and median of the pretest and posttest marks for the schools grouped by school type.\""
      ]
     },
     "metadata": {},
     "output_type": "display_data"
    },
    {
     "data": {
      "text/html": [
       "<table>\n",
       "<thead><tr><th scope=col>df$school_type</th><th scope=col>mean_pretest</th><th scope=col>median_pretest</th><th scope=col>mean_posttest</th><th scope=col>median_posttest</th></tr></thead>\n",
       "<tbody>\n",
       "\t<tr><td>Non-public</td><td>63.25408  </td><td>64        </td><td>75.96189  </td><td>77        </td></tr>\n",
       "\t<tr><td>Public    </td><td>52.06574  </td><td>52        </td><td>64.01643  </td><td>63        </td></tr>\n",
       "</tbody>\n",
       "</table>\n"
      ],
      "text/latex": [
       "\\begin{tabular}{r|lllll}\n",
       " df\\$school\\_type & mean\\_pretest & median\\_pretest & mean\\_posttest & median\\_posttest\\\\\n",
       "\\hline\n",
       "\t Non-public & 63.25408   & 64         & 75.96189   & 77        \\\\\n",
       "\t Public     & 52.06574   & 52         & 64.01643   & 63        \\\\\n",
       "\\end{tabular}\n"
      ],
      "text/markdown": [
       "\n",
       "| df$school_type | mean_pretest | median_pretest | mean_posttest | median_posttest |\n",
       "|---|---|---|---|---|\n",
       "| Non-public | 63.25408   | 64         | 75.96189   | 77         |\n",
       "| Public     | 52.06574   | 52         | 64.01643   | 63         |\n",
       "\n"
      ],
      "text/plain": [
       "  df$school_type mean_pretest median_pretest mean_posttest median_posttest\n",
       "1 Non-public     63.25408     64             75.96189      77             \n",
       "2 Public         52.06574     52             64.01643      63             "
      ]
     },
     "metadata": {},
     "output_type": "display_data"
    }
   ],
   "source": [
    "\"1. Find the mean and median of the pretest and posttest marks for the schools grouped by school type.\"\n",
    "df%>% \n",
    "  group_by(df$school_type)%>%\n",
    "  summarize(mean_pretest= mean(pretest), median_pretest= median(pretest), mean_posttest= mean(posttest), median_posttest= median(posttest) )"
   ]
  },
  {
   "cell_type": "code",
   "execution_count": 12,
   "metadata": {
    "scrolled": false
   },
   "outputs": [
    {
     "data": {
      "text/html": [
       "<span style=white-space:pre-wrap>'2. Set the schools with  number of students less than the average number of students.'</span>"
      ],
      "text/latex": [
       "'2. Set the schools with  number of students less than the average number of students.'"
      ],
      "text/markdown": [
       "<span style=white-space:pre-wrap>'2. Set the schools with  number of students less than the average number of students.'</span>"
      ],
      "text/plain": [
       "[1] \"2. Set the schools with  number of students less than the average number of students.\""
      ]
     },
     "metadata": {},
     "output_type": "display_data"
    },
    {
     "data": {
      "text/html": [
       "<table>\n",
       "<thead><tr><th scope=col>school</th><th scope=col>n_student</th></tr></thead>\n",
       "<tbody>\n",
       "\t<tr><td>ANKYI</td><td>20   </td></tr>\n",
       "\t<tr><td>ANKYI</td><td>20   </td></tr>\n",
       "\t<tr><td>ANKYI</td><td>20   </td></tr>\n",
       "\t<tr><td>ANKYI</td><td>20   </td></tr>\n",
       "\t<tr><td>ANKYI</td><td>20   </td></tr>\n",
       "\t<tr><td>ANKYI</td><td>20   </td></tr>\n",
       "\t<tr><td>ANKYI</td><td>20   </td></tr>\n",
       "\t<tr><td>ANKYI</td><td>20   </td></tr>\n",
       "\t<tr><td>ANKYI</td><td>20   </td></tr>\n",
       "\t<tr><td>ANKYI</td><td>20   </td></tr>\n",
       "\t<tr><td>ANKYI</td><td>20   </td></tr>\n",
       "\t<tr><td>ANKYI</td><td>20   </td></tr>\n",
       "\t<tr><td>ANKYI</td><td>20   </td></tr>\n",
       "\t<tr><td>ANKYI</td><td>20   </td></tr>\n",
       "\t<tr><td>ANKYI</td><td>20   </td></tr>\n",
       "\t<tr><td>ANKYI</td><td>20   </td></tr>\n",
       "\t<tr><td>ANKYI</td><td>20   </td></tr>\n",
       "\t<tr><td>ANKYI</td><td>20   </td></tr>\n",
       "\t<tr><td>ANKYI</td><td>20   </td></tr>\n",
       "\t<tr><td>ANKYI</td><td>20   </td></tr>\n",
       "\t<tr><td>ANKYI</td><td>21   </td></tr>\n",
       "\t<tr><td>ANKYI</td><td>21   </td></tr>\n",
       "\t<tr><td>ANKYI</td><td>21   </td></tr>\n",
       "\t<tr><td>ANKYI</td><td>21   </td></tr>\n",
       "\t<tr><td>ANKYI</td><td>21   </td></tr>\n",
       "\t<tr><td>ANKYI</td><td>21   </td></tr>\n",
       "\t<tr><td>ANKYI</td><td>21   </td></tr>\n",
       "\t<tr><td>ANKYI</td><td>21   </td></tr>\n",
       "\t<tr><td>ANKYI</td><td>21   </td></tr>\n",
       "\t<tr><td>ANKYI</td><td>21   </td></tr>\n",
       "\t<tr><td>...</td><td>...</td></tr>\n",
       "\t<tr><td>VKWQH</td><td>22   </td></tr>\n",
       "\t<tr><td>VKWQH</td><td>22   </td></tr>\n",
       "\t<tr><td>VKWQH</td><td>22   </td></tr>\n",
       "\t<tr><td>VKWQH</td><td>22   </td></tr>\n",
       "\t<tr><td>VKWQH</td><td>22   </td></tr>\n",
       "\t<tr><td>VKWQH</td><td>22   </td></tr>\n",
       "\t<tr><td>VKWQH</td><td>22   </td></tr>\n",
       "\t<tr><td>VKWQH</td><td>22   </td></tr>\n",
       "\t<tr><td>ZMNYA</td><td>22   </td></tr>\n",
       "\t<tr><td>ZMNYA</td><td>22   </td></tr>\n",
       "\t<tr><td>ZMNYA</td><td>22   </td></tr>\n",
       "\t<tr><td>ZMNYA</td><td>22   </td></tr>\n",
       "\t<tr><td>ZMNYA</td><td>22   </td></tr>\n",
       "\t<tr><td>ZMNYA</td><td>22   </td></tr>\n",
       "\t<tr><td>ZMNYA</td><td>22   </td></tr>\n",
       "\t<tr><td>ZMNYA</td><td>22   </td></tr>\n",
       "\t<tr><td>ZMNYA</td><td>22   </td></tr>\n",
       "\t<tr><td>ZMNYA</td><td>22   </td></tr>\n",
       "\t<tr><td>ZMNYA</td><td>22   </td></tr>\n",
       "\t<tr><td>ZMNYA</td><td>22   </td></tr>\n",
       "\t<tr><td>ZMNYA</td><td>22   </td></tr>\n",
       "\t<tr><td>ZMNYA</td><td>22   </td></tr>\n",
       "\t<tr><td>ZMNYA</td><td>22   </td></tr>\n",
       "\t<tr><td>ZMNYA</td><td>22   </td></tr>\n",
       "\t<tr><td>ZMNYA</td><td>22   </td></tr>\n",
       "\t<tr><td>ZMNYA</td><td>22   </td></tr>\n",
       "\t<tr><td>ZMNYA</td><td>22   </td></tr>\n",
       "\t<tr><td>ZMNYA</td><td>22   </td></tr>\n",
       "\t<tr><td>ZMNYA</td><td>22   </td></tr>\n",
       "\t<tr><td>ZMNYA</td><td>22   </td></tr>\n",
       "</tbody>\n",
       "</table>\n"
      ],
      "text/latex": [
       "\\begin{tabular}{r|ll}\n",
       " school & n\\_student\\\\\n",
       "\\hline\n",
       "\t ANKYI & 20   \\\\\n",
       "\t ANKYI & 20   \\\\\n",
       "\t ANKYI & 20   \\\\\n",
       "\t ANKYI & 20   \\\\\n",
       "\t ANKYI & 20   \\\\\n",
       "\t ANKYI & 20   \\\\\n",
       "\t ANKYI & 20   \\\\\n",
       "\t ANKYI & 20   \\\\\n",
       "\t ANKYI & 20   \\\\\n",
       "\t ANKYI & 20   \\\\\n",
       "\t ANKYI & 20   \\\\\n",
       "\t ANKYI & 20   \\\\\n",
       "\t ANKYI & 20   \\\\\n",
       "\t ANKYI & 20   \\\\\n",
       "\t ANKYI & 20   \\\\\n",
       "\t ANKYI & 20   \\\\\n",
       "\t ANKYI & 20   \\\\\n",
       "\t ANKYI & 20   \\\\\n",
       "\t ANKYI & 20   \\\\\n",
       "\t ANKYI & 20   \\\\\n",
       "\t ANKYI & 21   \\\\\n",
       "\t ANKYI & 21   \\\\\n",
       "\t ANKYI & 21   \\\\\n",
       "\t ANKYI & 21   \\\\\n",
       "\t ANKYI & 21   \\\\\n",
       "\t ANKYI & 21   \\\\\n",
       "\t ANKYI & 21   \\\\\n",
       "\t ANKYI & 21   \\\\\n",
       "\t ANKYI & 21   \\\\\n",
       "\t ANKYI & 21   \\\\\n",
       "\t ... & ...\\\\\n",
       "\t VKWQH & 22   \\\\\n",
       "\t VKWQH & 22   \\\\\n",
       "\t VKWQH & 22   \\\\\n",
       "\t VKWQH & 22   \\\\\n",
       "\t VKWQH & 22   \\\\\n",
       "\t VKWQH & 22   \\\\\n",
       "\t VKWQH & 22   \\\\\n",
       "\t VKWQH & 22   \\\\\n",
       "\t ZMNYA & 22   \\\\\n",
       "\t ZMNYA & 22   \\\\\n",
       "\t ZMNYA & 22   \\\\\n",
       "\t ZMNYA & 22   \\\\\n",
       "\t ZMNYA & 22   \\\\\n",
       "\t ZMNYA & 22   \\\\\n",
       "\t ZMNYA & 22   \\\\\n",
       "\t ZMNYA & 22   \\\\\n",
       "\t ZMNYA & 22   \\\\\n",
       "\t ZMNYA & 22   \\\\\n",
       "\t ZMNYA & 22   \\\\\n",
       "\t ZMNYA & 22   \\\\\n",
       "\t ZMNYA & 22   \\\\\n",
       "\t ZMNYA & 22   \\\\\n",
       "\t ZMNYA & 22   \\\\\n",
       "\t ZMNYA & 22   \\\\\n",
       "\t ZMNYA & 22   \\\\\n",
       "\t ZMNYA & 22   \\\\\n",
       "\t ZMNYA & 22   \\\\\n",
       "\t ZMNYA & 22   \\\\\n",
       "\t ZMNYA & 22   \\\\\n",
       "\t ZMNYA & 22   \\\\\n",
       "\\end{tabular}\n"
      ],
      "text/markdown": [
       "\n",
       "| school | n_student |\n",
       "|---|---|\n",
       "| ANKYI | 20    |\n",
       "| ANKYI | 20    |\n",
       "| ANKYI | 20    |\n",
       "| ANKYI | 20    |\n",
       "| ANKYI | 20    |\n",
       "| ANKYI | 20    |\n",
       "| ANKYI | 20    |\n",
       "| ANKYI | 20    |\n",
       "| ANKYI | 20    |\n",
       "| ANKYI | 20    |\n",
       "| ANKYI | 20    |\n",
       "| ANKYI | 20    |\n",
       "| ANKYI | 20    |\n",
       "| ANKYI | 20    |\n",
       "| ANKYI | 20    |\n",
       "| ANKYI | 20    |\n",
       "| ANKYI | 20    |\n",
       "| ANKYI | 20    |\n",
       "| ANKYI | 20    |\n",
       "| ANKYI | 20    |\n",
       "| ANKYI | 21    |\n",
       "| ANKYI | 21    |\n",
       "| ANKYI | 21    |\n",
       "| ANKYI | 21    |\n",
       "| ANKYI | 21    |\n",
       "| ANKYI | 21    |\n",
       "| ANKYI | 21    |\n",
       "| ANKYI | 21    |\n",
       "| ANKYI | 21    |\n",
       "| ANKYI | 21    |\n",
       "| ... | ... |\n",
       "| VKWQH | 22    |\n",
       "| VKWQH | 22    |\n",
       "| VKWQH | 22    |\n",
       "| VKWQH | 22    |\n",
       "| VKWQH | 22    |\n",
       "| VKWQH | 22    |\n",
       "| VKWQH | 22    |\n",
       "| VKWQH | 22    |\n",
       "| ZMNYA | 22    |\n",
       "| ZMNYA | 22    |\n",
       "| ZMNYA | 22    |\n",
       "| ZMNYA | 22    |\n",
       "| ZMNYA | 22    |\n",
       "| ZMNYA | 22    |\n",
       "| ZMNYA | 22    |\n",
       "| ZMNYA | 22    |\n",
       "| ZMNYA | 22    |\n",
       "| ZMNYA | 22    |\n",
       "| ZMNYA | 22    |\n",
       "| ZMNYA | 22    |\n",
       "| ZMNYA | 22    |\n",
       "| ZMNYA | 22    |\n",
       "| ZMNYA | 22    |\n",
       "| ZMNYA | 22    |\n",
       "| ZMNYA | 22    |\n",
       "| ZMNYA | 22    |\n",
       "| ZMNYA | 22    |\n",
       "| ZMNYA | 22    |\n",
       "| ZMNYA | 22    |\n",
       "| ZMNYA | 22    |\n",
       "\n"
      ],
      "text/plain": [
       "     school n_student\n",
       "1    ANKYI  20       \n",
       "2    ANKYI  20       \n",
       "3    ANKYI  20       \n",
       "4    ANKYI  20       \n",
       "5    ANKYI  20       \n",
       "6    ANKYI  20       \n",
       "7    ANKYI  20       \n",
       "8    ANKYI  20       \n",
       "9    ANKYI  20       \n",
       "10   ANKYI  20       \n",
       "11   ANKYI  20       \n",
       "12   ANKYI  20       \n",
       "13   ANKYI  20       \n",
       "14   ANKYI  20       \n",
       "15   ANKYI  20       \n",
       "16   ANKYI  20       \n",
       "17   ANKYI  20       \n",
       "18   ANKYI  20       \n",
       "19   ANKYI  20       \n",
       "20   ANKYI  20       \n",
       "21   ANKYI  21       \n",
       "22   ANKYI  21       \n",
       "23   ANKYI  21       \n",
       "24   ANKYI  21       \n",
       "25   ANKYI  21       \n",
       "26   ANKYI  21       \n",
       "27   ANKYI  21       \n",
       "28   ANKYI  21       \n",
       "29   ANKYI  21       \n",
       "30   ANKYI  21       \n",
       "...  ...    ...      \n",
       "1104 VKWQH  22       \n",
       "1105 VKWQH  22       \n",
       "1106 VKWQH  22       \n",
       "1107 VKWQH  22       \n",
       "1108 VKWQH  22       \n",
       "1109 VKWQH  22       \n",
       "1110 VKWQH  22       \n",
       "1111 VKWQH  22       \n",
       "1112 ZMNYA  22       \n",
       "1113 ZMNYA  22       \n",
       "1114 ZMNYA  22       \n",
       "1115 ZMNYA  22       \n",
       "1116 ZMNYA  22       \n",
       "1117 ZMNYA  22       \n",
       "1118 ZMNYA  22       \n",
       "1119 ZMNYA  22       \n",
       "1120 ZMNYA  22       \n",
       "1121 ZMNYA  22       \n",
       "1122 ZMNYA  22       \n",
       "1123 ZMNYA  22       \n",
       "1124 ZMNYA  22       \n",
       "1125 ZMNYA  22       \n",
       "1126 ZMNYA  22       \n",
       "1127 ZMNYA  22       \n",
       "1128 ZMNYA  22       \n",
       "1129 ZMNYA  22       \n",
       "1130 ZMNYA  22       \n",
       "1131 ZMNYA  22       \n",
       "1132 ZMNYA  22       \n",
       "1133 ZMNYA  22       "
      ]
     },
     "metadata": {},
     "output_type": "display_data"
    }
   ],
   "source": [
    "\"2. Set the schools with  number of students less than the average number of students.\"\n",
    "df %>% \n",
    "  select(school,contains(\"n_student\")) %>%\n",
    "  filter(n_student < mean(n_student,na.rm=T) )"
   ]
  },
  {
   "cell_type": "code",
   "execution_count": 13,
   "metadata": {
    "scrolled": false
   },
   "outputs": [
    {
     "ename": "ERROR",
     "evalue": "Error in parse(text = x, srcfile = src): <text>:1:3: unexpected string constant\n1: \"\"\"3. Rename all the column names with upper case letters.\"\n      ^\n",
     "output_type": "error",
     "traceback": [
      "Error in parse(text = x, srcfile = src): <text>:1:3: unexpected string constant\n1: \"\"\"3. Rename all the column names with upper case letters.\"\n      ^\nTraceback:\n"
     ]
    }
   ],
   "source": [
    "\"\"\"3. Rename all the column names with upper case letters.\"\"\"\n",
    "rename_with(df, toupper)"
   ]
  },
  {
   "cell_type": "code",
   "execution_count": 1,
   "metadata": {},
   "outputs": [
    {
     "ename": "ERROR",
     "evalue": "Error in df %>% arrange(posttest): could not find function \"%>%\"\n",
     "output_type": "error",
     "traceback": [
      "Error in df %>% arrange(posttest): could not find function \"%>%\"\nTraceback:\n"
     ]
    }
   ],
   "source": [
    "post_asc<-df%>% arrange(posttest)\n",
    "post_asc\n",
    "post_dsc<-df%>% arrange(desc(pretest))\n",
    "post_dsc"
   ]
  },
  {
   "cell_type": "code",
   "execution_count": null,
   "metadata": {},
   "outputs": [],
   "source": [
    "#5. Create a new column percentage with the value [(posttest+pretest)/200]*100.\n",
    "df%>%\n",
    "  mutate(percentage=((posttest+pretest)/200)*100)\n"
   ]
  },
  {
   "cell_type": "code",
   "execution_count": null,
   "metadata": {},
   "outputs": [],
   "source": [
    "#6. Create a new column Average with the value [(posttest+pretest)/200].\n",
    "df%>%\n",
    "  mutate(Average=((posttest+pretest)/200))"
   ]
  }
 ],
 "metadata": {
  "kernelspec": {
   "display_name": "R",
   "language": "R",
   "name": "ir"
  },
  "language_info": {
   "codemirror_mode": "r",
   "file_extension": ".r",
   "mimetype": "text/x-r-source",
   "name": "R",
   "pygments_lexer": "r",
   "version": "3.6.1"
  }
 },
 "nbformat": 4,
 "nbformat_minor": 4
}
