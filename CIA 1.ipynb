{
 "cells": [
  {
   "cell_type": "code",
   "execution_count": 2,
   "metadata": {},
   "outputs": [
    {
     "name": "stdout",
     "output_type": "stream",
     "text": [
      "seat booking for this seat will charge:  600.0 Rs\n",
      "seat booking for this seat will charge:  960.0 Rs\n",
      "seat booking for this seat will charge:  900.0 Rs\n",
      "seat booking for this seat will charge:  720.0 Rs\n",
      "seat booking for this seat will charge:  600.0 Rs\n",
      "seat booking for this seat will charge:  96.0 Rs\n",
      "seat booking for this seat will charge:  1080.0 Rs\n",
      "seat booking for this seat will charge:  1086.0 Rs\n",
      "seat booking for this seat will charge:  600.0 Rs\n",
      "seat booking for this seat will charge:  892.8 Rs\n"
     ]
    }
   ],
   "source": [
    "#1. Choose any domain to design a problem where Generators could be used to provide the solution.\n",
    "\"\"\"Q:WAP for Seat booking of flights seats with dynamic pricing depending on the price of the \n",
    "ticket,(12% of ticket price)\"\"\"\n",
    "\n",
    "def booking(SP):\n",
    "    for i in SP:\n",
    "        yield i*0.12\n",
    "        \n",
    "        \n",
    "SeatPeices=[5000,8000,7500,6000,5000,800,9000,9050,5000,7440]\n",
    "d=booking(SeatPeices)\n",
    "for i in d:\n",
    "    print(\"seat booking for this seat will charge: \", i,\"Rs\")"
   ]
  },
  {
   "cell_type": "code",
   "execution_count": 65,
   "metadata": {},
   "outputs": [
    {
     "name": "stdout",
     "output_type": "stream",
     "text": [
      "60.0\n",
      "127.5\n",
      "45.9\n",
      "4.5600000000000005\n"
     ]
    }
   ],
   "source": [
    "#2. Choose any domain to design a problem where Decorators could be used to provide the solution.\n",
    "\"\"\"Q: Calculate the the toll tax given by different vehicles, the initial coder forgets \n",
    "to add lorry category, so add that using decorators\"\"\"\n",
    "\n",
    "vehicles={\"car\":600, \"truck\":850, \"2wheeler\":510, \"Lorry\":114}\n",
    "tax=[]\n",
    "\n",
    "def tolltax(v):\n",
    "    for i in v:\n",
    "        if i==\"car\":\n",
    "            tax.append(v[i]*0.1)\n",
    "        elif i==\"truck\":\n",
    "            tax.append(v[i]*0.15)\n",
    "        elif i==\"2wheeler\":\n",
    "            tax.append(v[i]*0.09)\n",
    "        else:\n",
    "            tax.append(v[i]*0.04)\n",
    "    return tax\n",
    "@dec_tax\n",
    "def dec_tax(fun):\n",
    "    def wrap_tax(v):\n",
    "         for i in v:\n",
    "                if i==\"lorry\":\n",
    "                    tax.append(v[i]*0.2)\n",
    "                    yield tax\n",
    "                else:\n",
    "                    return fun(v)\n",
    "    return wrap_tax\n",
    "\n",
    "d=tolltax(vehicles)\n",
    "for i in d:\n",
    "    print(i)"
   ]
  },
  {
   "cell_type": "code",
   "execution_count": 17,
   "metadata": {},
   "outputs": [
    {
     "name": "stdout",
     "output_type": "stream",
     "text": [
      "enter codeOFF150\n",
      "Enter price800\n",
      "price after code activation is : 650\n"
     ]
    }
   ],
   "source": [
    "#3. Choose any domain to design a problem where Lambda functions could be used to provide the solution.\n",
    "\"\"\"Q: while paying ur travel agency, it asks you if you have any promotional code, \n",
    "if you give the correct code, it will give you a discount!\"\"\"\n",
    "\n",
    "activation = lambda a,b:print(\"price after code activation is :\",b-150) if a==\"OFF150\" else print(\"invalid code\")\n",
    "x = input(\"enter code\")\n",
    "y = int(input(\"Enter price\"))\n",
    "activation(x,y)\n"
   ]
  },
  {
   "cell_type": "code",
   "execution_count": 18,
   "metadata": {},
   "outputs": [
    {
     "name": "stdout",
     "output_type": "stream",
     "text": [
      "700.0\n",
      "1400.0\n",
      "910.0\n",
      "1428.0\n",
      "1750.0\n",
      "2520.0\n"
     ]
    }
   ],
   "source": [
    "#4. Choose any domain to design a problem where Map Function could be used to provide the solution.\n",
    "\"\"\"Q: Write a code to display the discounted price for a list of train ticket fares\"\"\"\n",
    "fare=[1000,2000,1300,2040,2500,3600]\n",
    "def discount(b):\n",
    "       return b-b*0.3\n",
    "data=map(discount,fare)\n",
    "for i in data:\n",
    "    print(i)"
   ]
  },
  {
   "cell_type": "code",
   "execution_count": 19,
   "metadata": {},
   "outputs": [
    {
     "name": "stdout",
     "output_type": "stream",
     "text": [
      "premium pays this month are: \n",
      "45000\n",
      "52000\n"
     ]
    }
   ],
   "source": [
    "#5. Choose any domain to design a problem where Filter Function could be used to provide the solution.\n",
    "\"\"\"Q: WAP to find out the high sum payments of this month from different travel groups\"\"\"\n",
    "pay=[10000,20000,45000,12000,52000,23000]\n",
    "data=filter(lambda y:y>30000,pay)\n",
    "print(\"premium pays this month are: \")\n",
    "for i in data:\n",
    "    print(i)"
   ]
  },
  {
   "cell_type": "code",
   "execution_count": 20,
   "metadata": {
    "scrolled": true
   },
   "outputs": [
    {
     "name": "stdout",
     "output_type": "stream",
     "text": [
      "Total distance covered by Bus A1329 today:  380\n",
      "Total distance covered by Bus A1328 today:  435\n",
      "Total distance covered by Bus A1327 today:  473\n",
      "Total distance covered by Bus A1326 today:  438\n"
     ]
    }
   ],
   "source": [
    "#6. Choose any domain to design a problem where Reduce Function could be used to provide the solution.\n",
    "\"\"\"Q: Show the total distance travelled by different bus after a period of 10 days\"\"\"\n",
    "\n",
    "from functools import reduce\n",
    "A1329 = [10,10,50,69,85,34,8,57,28,29]\n",
    "A1328 = [70,5,60,69,85,34,18,57,28,9]\n",
    "A1327 = [80,60,20,69,85,34,81,7,28,9]\n",
    "A1326 = [20,40,20,69,85,34,82,57,2,29]\n",
    "dist = {\"A1329\" : A1329, \"A1328\" : A1328, \"A1327\": A1327, \"A1326\": A1326}\n",
    "def Add (a,b):\n",
    "    return a+b\n",
    "\n",
    "for i in dist:\n",
    "    data=reduce(Add ,dist[i])\n",
    "    print(\"Total distance covered by Bus {} today: \".format(i) ,data)\n",
    "    "
   ]
  },
  {
   "cell_type": "code",
   "execution_count": 3,
   "metadata": {},
   "outputs": [
    {
     "name": "stdout",
     "output_type": "stream",
     "text": [
      "Because of the current pandemic, we had to increase increase our price by 50 Rs, please dont mind.\n",
      "new prices are:  [250, 350, 290, 280, 452, 490]\n"
     ]
    }
   ],
   "source": [
    "#7. Choose any domain to design a problem where List Comprehension could be used to provide the solution.\n",
    "\"\"\"Q: Create a new list for bus tickets by adding 50 to all the existing elements because of pandemic\"\"\"\n",
    "\n",
    "price=[200,300,240,230,402,440]\n",
    "new_price=[i+50 for i in price]\n",
    "print(\"Because of the current pandemic, we had to increase increase our price by 50 Rs, please dont mind.\")\n",
    "print(\"new prices are: \",new_price)"
   ]
  },
  {
   "cell_type": "code",
   "execution_count": 21,
   "metadata": {},
   "outputs": [
    {
     "name": "stdout",
     "output_type": "stream",
     "text": [
      "Students Tire rate after discount:  [3825.0, 2210.0, 5100.0, 2550.0, 2975.0]\n",
      "Business Tire rate after discount:  [5850.0, 5040.0, 5940.0, 6300.0, 5877.0]\n",
      "General Tire rate: after discount [5225.0, 4085.0, 5700.0, 3800.0, 3325.0]\n"
     ]
    }
   ],
   "source": [
    "#8. Choose any domain to design a problem where Partial Functions could be used to provide the solution.\n",
    "\"\"\"Q: WAP for flight fare allowing different tire passengers different discounts\"\"\"\n",
    "\n",
    "students=[4500,2600,6000,3000,3500]\n",
    "business=[6500,5600,6600,7000,6530]\n",
    "general =[5500,4300,6000,4000,3500]\n",
    "from functools import partial\n",
    "S=partial(lambda a,dis:a-a*dis,dis=0.15)\n",
    "B=partial(lambda a,dis:a-a*dis,dis=0.10)\n",
    "G=partial(lambda a,dis:a-a*dis,dis=0.05)\n",
    "\n",
    "fS=[]\n",
    "fG=[]\n",
    "fB=[]\n",
    "\n",
    "for i in students:\n",
    "    fS.append(S(i))\n",
    "print(\"Students Tire rate after discount: \",fS)\n",
    "\n",
    "for i in business:\n",
    "    fB.append(B(i))\n",
    "print(\"Business Tire rate after discount: \",fB)\n",
    "\n",
    "for i in general:\n",
    "    fG.append(G(i))\n",
    "print(\"General Tire rate: after discount\",fG)\n"
   ]
  },
  {
   "cell_type": "code",
   "execution_count": 8,
   "metadata": {},
   "outputs": [
    {
     "name": "stdout",
     "output_type": "stream",
     "text": [
      "himachal\n",
      "Have you visited? y/n: n\n",
      "please visit himachal, its beautiful!\n"
     ]
    }
   ],
   "source": [
    "#9. Choose any domain to design a problem where Closures could be used to provide the solution.\n",
    "\"\"\"Q: Ask the customer if they have visited Himachal, if the user replies yes then dont \n",
    "bother user anymore, but if the user says no, request him to visit Himachal\"\"\"\n",
    "\n",
    "def state():\n",
    "    def city(x):\n",
    "        print(x,)\n",
    "        a=input(\"Have you visited? y/n: \")\n",
    "        return a\n",
    "    return city\n",
    "d=state()\n",
    "response = d(\"himachal\")\n",
    "if response==\"y\":\n",
    "    print(\"ok, have a good day\")\n",
    "else:\n",
    "    print(\"please visit himachal, its beautiful!\")\n",
    "\n"
   ]
  },
  {
   "cell_type": "code",
   "execution_count": 4,
   "metadata": {},
   "outputs": [
    {
     "name": "stdout",
     "output_type": "stream",
     "text": [
      "Please dont use your phones during take off\n",
      "Now you can use your phones and all other electronic gadgets\n",
      "Thank you\n"
     ]
    }
   ],
   "source": [
    "#10. Choose any domain to design a problem where Multiple Threads could be used to provide the solution.\n",
    "\"\"\"Q: Inform all the passengers to not use their phones while the flight takes off, \n",
    "after some time when the flight has taken off inform them again that now they can use theirs phones\"\"\"\n",
    "\n",
    "import threading\n",
    "import time\n",
    "def display():\n",
    "    time.sleep(4)\n",
    "    print(\"Now you can use your phones and all other electronic gadgets\")\n",
    "    \n",
    "def display2():\n",
    "    time.sleep(6)\n",
    "    print(\"Thank you\")\n",
    "    \n",
    "t1=threading.Thread(target=display)\n",
    "t1.start()\n",
    "\n",
    "t2=threading.Thread(target=display2)\n",
    "t2.start()\n",
    "time.sleep(0.3)\n",
    "print(\"Please dont use your phones during take off\")\n"
   ]
  },
  {
   "cell_type": "code",
   "execution_count": 19,
   "metadata": {},
   "outputs": [
    {
     "name": "stdout",
     "output_type": "stream",
     "text": [
      "Rocket to MARS taking off in...\n",
      "10\n",
      "9\n",
      "8\n",
      "7\n",
      "6\n",
      "5\n",
      "4\n",
      "3\n",
      "2\n",
      "1\n",
      "grrrr................Kabooom!!!\n"
     ]
    }
   ],
   "source": [
    "#11. Choose any domain to design a problem where Daemon Thread could be used to provide the solution.\n",
    "\"\"\"Q: Write a code to show the countdown before a take off\"\"\"\n",
    "import threading\n",
    "import time\n",
    "\n",
    "def disp():\n",
    "    print (\"Rocket to MARS taking off in...\")\n",
    "    m=10\n",
    "    while m!=0:\n",
    "        time.sleep(1) \n",
    "        print(m)\n",
    "        m-=1\n",
    "    print(\"grrrr................Kabooom!!!\")\n",
    "t=threading.Thread(target=disp, daemon= True)\n",
    "t.start()"
   ]
  }
 ],
 "metadata": {
  "kernelspec": {
   "display_name": "Python 3",
   "language": "python",
   "name": "python3"
  },
  "language_info": {
   "codemirror_mode": {
    "name": "ipython",
    "version": 3
   },
   "file_extension": ".py",
   "mimetype": "text/x-python",
   "name": "python",
   "nbconvert_exporter": "python",
   "pygments_lexer": "ipython3",
   "version": "3.8.3"
  }
 },
 "nbformat": 4,
 "nbformat_minor": 4
}
