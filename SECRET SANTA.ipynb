{
 "cells": [
  {
   "cell_type": "code",
   "execution_count": 19,
   "metadata": {},
   "outputs": [
    {
     "name": "stdout",
     "output_type": "stream",
     "text": [
      "['G', 'E', 'J', 'E', 'E', 'H']\n"
     ]
    }
   ],
   "source": [
    "#\n",
    "import random\n",
    "A=[\"A\",\"B\",\"C\",\"D\",\"E\",\"F\",\"E\",\"F\",\"G\",\"H\",\"I\",\"J\"]\n",
    "B=[]\n",
    "for i in range(int(len(A)/2)):\n",
    "    B.append(random.choice(A))\n",
    "print(B)\n"
   ]
  },
  {
   "cell_type": "code",
   "execution_count": null,
   "metadata": {},
   "outputs": [],
   "source": [
    "for i in range(len(A)):\n",
    "    if A[i]==B[i]:\n",
    "        A.delete"
   ]
  }
 ],
 "metadata": {
  "kernelspec": {
   "display_name": "Python 3",
   "language": "python",
   "name": "python3"
  },
  "language_info": {
   "codemirror_mode": {
    "name": "ipython",
    "version": 3
   },
   "file_extension": ".py",
   "mimetype": "text/x-python",
   "name": "python",
   "nbconvert_exporter": "python",
   "pygments_lexer": "ipython3",
   "version": "3.8.3"
  }
 },
 "nbformat": 4,
 "nbformat_minor": 4
}
