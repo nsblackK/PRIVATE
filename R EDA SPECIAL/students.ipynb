{
 "cells": [
  {
   "cell_type": "code",
   "execution_count": 1,
   "metadata": {
    "scrolled": true
   },
   "outputs": [
    {
     "data": {
      "text/html": [
       "<table>\n",
       "<thead><tr><th scope=col>gender</th><th scope=col>race.ethnicity</th><th scope=col>parental.level.of.education</th><th scope=col>lunch</th><th scope=col>test.preparation.course</th><th scope=col>math.score</th><th scope=col>reading.score</th><th scope=col>writing.score</th></tr></thead>\n",
       "<tbody>\n",
       "\t<tr><td>female            </td><td>group B           </td><td>bachelor's degree </td><td>standard          </td><td>none              </td><td>72                </td><td>72                </td><td>74                </td></tr>\n",
       "\t<tr><td>female            </td><td>group C           </td><td>some college      </td><td>standard          </td><td>completed         </td><td>69                </td><td>90                </td><td>88                </td></tr>\n",
       "\t<tr><td>female            </td><td>group B           </td><td>master's degree   </td><td>standard          </td><td>none              </td><td>90                </td><td>95                </td><td>93                </td></tr>\n",
       "\t<tr><td>male              </td><td>group A           </td><td>associate's degree</td><td>free/reduced      </td><td>none              </td><td>47                </td><td>57                </td><td>44                </td></tr>\n",
       "\t<tr><td>male              </td><td>group C           </td><td>some college      </td><td>standard          </td><td>none              </td><td>76                </td><td>78                </td><td>75                </td></tr>\n",
       "\t<tr><td>female            </td><td>group B           </td><td>associate's degree</td><td>standard          </td><td>none              </td><td>71                </td><td>83                </td><td>78                </td></tr>\n",
       "</tbody>\n",
       "</table>\n"
      ],
      "text/latex": [
       "\\begin{tabular}{r|llllllll}\n",
       " gender & race.ethnicity & parental.level.of.education & lunch & test.preparation.course & math.score & reading.score & writing.score\\\\\n",
       "\\hline\n",
       "\t female             & group B            & bachelor's degree  & standard           & none               & 72                 & 72                 & 74                \\\\\n",
       "\t female             & group C            & some college       & standard           & completed          & 69                 & 90                 & 88                \\\\\n",
       "\t female             & group B            & master's degree    & standard           & none               & 90                 & 95                 & 93                \\\\\n",
       "\t male               & group A            & associate's degree & free/reduced       & none               & 47                 & 57                 & 44                \\\\\n",
       "\t male               & group C            & some college       & standard           & none               & 76                 & 78                 & 75                \\\\\n",
       "\t female             & group B            & associate's degree & standard           & none               & 71                 & 83                 & 78                \\\\\n",
       "\\end{tabular}\n"
      ],
      "text/markdown": [
       "\n",
       "| gender | race.ethnicity | parental.level.of.education | lunch | test.preparation.course | math.score | reading.score | writing.score |\n",
       "|---|---|---|---|---|---|---|---|\n",
       "| female             | group B            | bachelor's degree  | standard           | none               | 72                 | 72                 | 74                 |\n",
       "| female             | group C            | some college       | standard           | completed          | 69                 | 90                 | 88                 |\n",
       "| female             | group B            | master's degree    | standard           | none               | 90                 | 95                 | 93                 |\n",
       "| male               | group A            | associate's degree | free/reduced       | none               | 47                 | 57                 | 44                 |\n",
       "| male               | group C            | some college       | standard           | none               | 76                 | 78                 | 75                 |\n",
       "| female             | group B            | associate's degree | standard           | none               | 71                 | 83                 | 78                 |\n",
       "\n"
      ],
      "text/plain": [
       "  gender race.ethnicity parental.level.of.education lunch       \n",
       "1 female group B        bachelor's degree           standard    \n",
       "2 female group C        some college                standard    \n",
       "3 female group B        master's degree             standard    \n",
       "4 male   group A        associate's degree          free/reduced\n",
       "5 male   group C        some college                standard    \n",
       "6 female group B        associate's degree          standard    \n",
       "  test.preparation.course math.score reading.score writing.score\n",
       "1 none                    72         72            74           \n",
       "2 completed               69         90            88           \n",
       "3 none                    90         95            93           \n",
       "4 none                    47         57            44           \n",
       "5 none                    76         78            75           \n",
       "6 none                    71         83            78           "
      ]
     },
     "metadata": {},
     "output_type": "display_data"
    }
   ],
   "source": [
    "data<-read.csv(\"StudentsPerformance.csv\")\n",
    "head(data)"
   ]
  },
  {
   "cell_type": "code",
   "execution_count": 2,
   "metadata": {},
   "outputs": [
    {
     "data": {
      "text/html": [
       "<span style=white-space:pre-wrap>'No. of rows in the dataframe:  1000'</span>"
      ],
      "text/latex": [
       "'No. of rows in the dataframe:  1000'"
      ],
      "text/markdown": [
       "<span style=white-space:pre-wrap>'No. of rows in the dataframe:  1000'</span>"
      ],
      "text/plain": [
       "[1] \"No. of rows in the dataframe:  1000\""
      ]
     },
     "metadata": {},
     "output_type": "display_data"
    },
    {
     "data": {
      "text/html": [
       "<span style=white-space:pre-wrap>'No. of columns in the dataframe:  8'</span>"
      ],
      "text/latex": [
       "'No. of columns in the dataframe:  8'"
      ],
      "text/markdown": [
       "<span style=white-space:pre-wrap>'No. of columns in the dataframe:  8'</span>"
      ],
      "text/plain": [
       "[1] \"No. of columns in the dataframe:  8\""
      ]
     },
     "metadata": {},
     "output_type": "display_data"
    }
   ],
   "source": [
    "paste(\"No. of rows in the dataframe: \", nrow(data))\n",
    "paste(\"No. of columns in the dataframe: \", ncol(data))"
   ]
  },
  {
   "cell_type": "code",
   "execution_count": 3,
   "metadata": {},
   "outputs": [
    {
     "name": "stdout",
     "output_type": "stream",
     "text": [
      "'data.frame':\t1000 obs. of  8 variables:\n",
      " $ gender                     : Factor w/ 2 levels \"female\",\"male\": 1 1 1 2 2 1 1 2 2 1 ...\n",
      " $ race.ethnicity             : Factor w/ 5 levels \"group A\",\"group B\",..: 2 3 2 1 3 2 2 2 4 2 ...\n",
      " $ parental.level.of.education: Factor w/ 6 levels \"associate's degree\",..: 2 5 4 1 5 1 5 5 3 3 ...\n",
      " $ lunch                      : Factor w/ 2 levels \"free/reduced\",..: 2 2 2 1 2 2 2 1 1 1 ...\n",
      " $ test.preparation.course    : Factor w/ 2 levels \"completed\",\"none\": 2 1 2 2 2 2 1 2 1 2 ...\n",
      " $ math.score                 : int  72 69 90 47 76 71 88 40 64 38 ...\n",
      " $ reading.score              : int  72 90 95 57 78 83 95 43 64 60 ...\n",
      " $ writing.score              : int  74 88 93 44 75 78 92 39 67 50 ...\n"
     ]
    }
   ],
   "source": [
    "str(data)"
   ]
  },
  {
   "cell_type": "code",
   "execution_count": 4,
   "metadata": {},
   "outputs": [
    {
     "data": {
      "text/html": [
       "<dl class=dl-horizontal>\n",
       "\t<dt>gender</dt>\n",
       "\t\t<dd>0</dd>\n",
       "\t<dt>race.ethnicity</dt>\n",
       "\t\t<dd>0</dd>\n",
       "\t<dt>parental.level.of.education</dt>\n",
       "\t\t<dd>0</dd>\n",
       "\t<dt>lunch</dt>\n",
       "\t\t<dd>0</dd>\n",
       "\t<dt>test.preparation.course</dt>\n",
       "\t\t<dd>0</dd>\n",
       "\t<dt>math.score</dt>\n",
       "\t\t<dd>0</dd>\n",
       "\t<dt>reading.score</dt>\n",
       "\t\t<dd>0</dd>\n",
       "\t<dt>writing.score</dt>\n",
       "\t\t<dd>0</dd>\n",
       "</dl>\n"
      ],
      "text/latex": [
       "\\begin{description*}\n",
       "\\item[gender] 0\n",
       "\\item[race.ethnicity] 0\n",
       "\\item[parental.level.of.education] 0\n",
       "\\item[lunch] 0\n",
       "\\item[test.preparation.course] 0\n",
       "\\item[math.score] 0\n",
       "\\item[reading.score] 0\n",
       "\\item[writing.score] 0\n",
       "\\end{description*}\n"
      ],
      "text/markdown": [
       "gender\n",
       ":   0race.ethnicity\n",
       ":   0parental.level.of.education\n",
       ":   0lunch\n",
       ":   0test.preparation.course\n",
       ":   0math.score\n",
       ":   0reading.score\n",
       ":   0writing.score\n",
       ":   0\n",
       "\n"
      ],
      "text/plain": [
       "                     gender              race.ethnicity \n",
       "                          0                           0 \n",
       "parental.level.of.education                       lunch \n",
       "                          0                           0 \n",
       "    test.preparation.course                  math.score \n",
       "                          0                           0 \n",
       "              reading.score               writing.score \n",
       "                          0                           0 "
      ]
     },
     "metadata": {},
     "output_type": "display_data"
    }
   ],
   "source": [
    "colSums(is.na(data))"
   ]
  },
  {
   "cell_type": "code",
   "execution_count": 5,
   "metadata": {},
   "outputs": [],
   "source": [
    "#UNIVARIATE ANALYSIS STARTS FROM HERE"
   ]
  },
  {
   "cell_type": "code",
   "execution_count": 6,
   "metadata": {},
   "outputs": [
    {
     "data": {
      "text/plain": [
       "    gender    race.ethnicity     parental.level.of.education          lunch    \n",
       " female:518   group A: 89    associate's degree:222          free/reduced:355  \n",
       " male  :482   group B:190    bachelor's degree :118          standard    :645  \n",
       "              group C:319    high school       :196                            \n",
       "              group D:262    master's degree   : 59                            \n",
       "              group E:140    some college      :226                            \n",
       "                             some high school  :179                            \n",
       " test.preparation.course   math.score     reading.score    writing.score   \n",
       " completed:358           Min.   :  0.00   Min.   : 17.00   Min.   : 10.00  \n",
       " none     :642           1st Qu.: 57.00   1st Qu.: 59.00   1st Qu.: 57.75  \n",
       "                         Median : 66.00   Median : 70.00   Median : 69.00  \n",
       "                         Mean   : 66.09   Mean   : 69.17   Mean   : 68.05  \n",
       "                         3rd Qu.: 77.00   3rd Qu.: 79.00   3rd Qu.: 79.00  \n",
       "                         Max.   :100.00   Max.   :100.00   Max.   :100.00  "
      ]
     },
     "metadata": {},
     "output_type": "display_data"
    }
   ],
   "source": [
    "summary(data)"
   ]
  },
  {
   "cell_type": "code",
   "execution_count": 7,
   "metadata": {},
   "outputs": [
    {
     "name": "stderr",
     "output_type": "stream",
     "text": [
      "Warning message:\n",
      "\"package 'ggplot2' was built under R version 3.6.3\""
     ]
    },
    {
     "data": {
      "image/png": "[encoded data removed]",
      "text/plain": [
       "plot without title"
      ]
     },
     "metadata": {},
     "output_type": "display_data"
    }
   ],
   "source": [
    "library(ggplot2)\n",
    "ggplot(data,aes(gender))+geom_bar(aes(fill= gender))"
   ]
  },
  {
   "cell_type": "code",
   "execution_count": 8,
   "metadata": {
    "scrolled": true
   },
   "outputs": [
    {
     "data": {
      "image/png": "[encoded data removed]",
      "text/plain": [
       "plot without title"
      ]
     },
     "metadata": {},
     "output_type": "display_data"
    }
   ],
   "source": [
    "\n",
    "ggplot(data,aes( parental.level.of.education))+geom_bar(aes(fill= parental.level.of.education))"
   ]
  },
  {
   "cell_type": "code",
   "execution_count": 9,
   "metadata": {},
   "outputs": [
    {
     "data": {
      "image/png": "[encoded data removed]",
      "text/plain": [
       "plot without title"
      ]
     },
     "metadata": {},
     "output_type": "display_data"
    }
   ],
   "source": [
    "ggplot(data,aes( test.preparation.course\n",
    "))+geom_bar(aes(fill= test.preparation.course\n",
    "))"
   ]
  },
  {
   "cell_type": "code",
   "execution_count": 10,
   "metadata": {},
   "outputs": [],
   "source": [
    "#BI-VARIEATE"
   ]
  },
  {
   "cell_type": "code",
   "execution_count": 11,
   "metadata": {},
   "outputs": [
    {
     "name": "stderr",
     "output_type": "stream",
     "text": [
      "Warning message:\n",
      "\"package 'dplyr' was built under R version 3.6.3\"\n",
      "Attaching package: 'dplyr'\n",
      "\n",
      "The following objects are masked from 'package:stats':\n",
      "\n",
      "    filter, lag\n",
      "\n",
      "The following objects are masked from 'package:base':\n",
      "\n",
      "    intersect, setdiff, setequal, union\n",
      "\n"
     ]
    },
    {
     "data": {
      "text/html": [
       "<table>\n",
       "<thead><tr><th scope=col>race.ethnicity</th><th scope=col>avg_maths</th><th scope=col>avg_reading</th><th scope=col>avg_writing</th></tr></thead>\n",
       "<tbody>\n",
       "\t<tr><td>group A </td><td>61.62921</td><td>64.67416</td><td>62.67416</td></tr>\n",
       "\t<tr><td>group B </td><td>63.45263</td><td>67.35263</td><td>65.60000</td></tr>\n",
       "\t<tr><td>group C </td><td>64.46395</td><td>69.10345</td><td>67.82759</td></tr>\n",
       "\t<tr><td>group D </td><td>67.36260</td><td>70.03053</td><td>70.14504</td></tr>\n",
       "\t<tr><td>group E </td><td>73.82143</td><td>73.02857</td><td>71.40714</td></tr>\n",
       "</tbody>\n",
       "</table>\n"
      ],
      "text/latex": [
       "\\begin{tabular}{r|llll}\n",
       " race.ethnicity & avg\\_maths & avg\\_reading & avg\\_writing\\\\\n",
       "\\hline\n",
       "\t group A  & 61.62921 & 64.67416 & 62.67416\\\\\n",
       "\t group B  & 63.45263 & 67.35263 & 65.60000\\\\\n",
       "\t group C  & 64.46395 & 69.10345 & 67.82759\\\\\n",
       "\t group D  & 67.36260 & 70.03053 & 70.14504\\\\\n",
       "\t group E  & 73.82143 & 73.02857 & 71.40714\\\\\n",
       "\\end{tabular}\n"
      ],
      "text/markdown": [
       "\n",
       "| race.ethnicity | avg_maths | avg_reading | avg_writing |\n",
       "|---|---|---|---|\n",
       "| group A  | 61.62921 | 64.67416 | 62.67416 |\n",
       "| group B  | 63.45263 | 67.35263 | 65.60000 |\n",
       "| group C  | 64.46395 | 69.10345 | 67.82759 |\n",
       "| group D  | 67.36260 | 70.03053 | 70.14504 |\n",
       "| group E  | 73.82143 | 73.02857 | 71.40714 |\n",
       "\n"
      ],
      "text/plain": [
       "  race.ethnicity avg_maths avg_reading avg_writing\n",
       "1 group A        61.62921  64.67416    62.67416   \n",
       "2 group B        63.45263  67.35263    65.60000   \n",
       "3 group C        64.46395  69.10345    67.82759   \n",
       "4 group D        67.36260  70.03053    70.14504   \n",
       "5 group E        73.82143  73.02857    71.40714   "
      ]
     },
     "metadata": {},
     "output_type": "display_data"
    }
   ],
   "source": [
    "library(dplyr)\n",
    "\n",
    "data %>%\n",
    "group_by(race.ethnicity) %>%\n",
    "summarize(avg_maths = mean(math.score), avg_reading = mean(reading.score), avg_writing = mean(writing.score))"
   ]
  },
  {
   "cell_type": "code",
   "execution_count": 12,
   "metadata": {},
   "outputs": [
    {
     "data": {
      "image/png": "[encoded data removed]",
      "text/plain": [
       "plot without title"
      ]
     },
     "metadata": {},
     "output_type": "display_data"
    }
   ],
   "source": [
    "data %>%\n",
    " ggplot(aes(gender, math.score)) +\n",
    " geom_boxplot(fill = \"yellow\", colour = \"black\") +\n",
    " labs(title = \"genderwise maths score\", x = \"Sex\", y = \"maths score\") +\n",
    " theme_minimal() "
   ]
  },
  {
   "cell_type": "code",
   "execution_count": 13,
   "metadata": {},
   "outputs": [
    {
     "data": {
      "image/png": "[encoded data removed]",
      "text/plain": [
       "plot without title"
      ]
     },
     "metadata": {},
     "output_type": "display_data"
    }
   ],
   "source": [
    "data %>%\n",
    " ggplot(aes(gender, reading.score)) +\n",
    " geom_boxplot(fill = \"green\", colour = \"black\") +\n",
    " labs(title = \"genderwise reading score\", x = \"Sex\", y = \"reading score\") +\n",
    " theme_minimal()"
   ]
  },
  {
   "cell_type": "code",
   "execution_count": 14,
   "metadata": {
    "scrolled": true
   },
   "outputs": [
    {
     "data": {
      "image/png": "[encoded data removed]",
      "text/plain": [
       "plot without title"
      ]
     },
     "metadata": {},
     "output_type": "display_data"
    }
   ],
   "source": [
    "data %>%\n",
    " ggplot(aes(gender, writing.score)) +\n",
    " geom_boxplot(fill = \"blue\", colour = \"black\") +\n",
    " labs(title = \"genderwise writing score\", x = \"Sex\", y = \"writing score\") +\n",
    " theme_minimal()"
   ]
  },
  {
   "cell_type": "code",
   "execution_count": null,
   "metadata": {},
   "outputs": [],
   "source": []
  },
  {
   "cell_type": "code",
   "execution_count": 15,
   "metadata": {
    "scrolled": true
   },
   "outputs": [
    {
     "data": {
      "image/png": "[encoded data removed]",
      "text/plain": [
       "plot without title"
      ]
     },
     "metadata": {},
     "output_type": "display_data"
    }
   ],
   "source": [
    "data %>%\n",
    " ggplot(aes(x = test.preparation.course, y = math.score)) +\n",
    " geom_bar(stat = \"identity\", fill = \"purple\") +\n",
    " labs(x = \"Preperation status\", y = \"maths score\", title = \"preperation results\")\n"
   ]
  },
  {
   "cell_type": "code",
   "execution_count": null,
   "metadata": {},
   "outputs": [],
   "source": []
  },
  {
   "cell_type": "code",
   "execution_count": 16,
   "metadata": {},
   "outputs": [
    {
     "data": {
      "image/png": "[encoded data removed]",
      "text/plain": [
       "plot without title"
      ]
     },
     "metadata": {},
     "output_type": "display_data"
    }
   ],
   "source": [
    "data %>%\n",
    " ggplot(aes(race.ethnicity )) +\n",
    " geom_bar(aes(fill = gender ), position = position_dodge()) +\n",
    " labs(title = \"gender distribution in groups\") +\n",
    " theme_minimal() +\n",
    " theme(axis.text.x = element_text(size = 10, vjust = 0.5))"
   ]
  },
  {
   "cell_type": "code",
   "execution_count": 17,
   "metadata": {},
   "outputs": [
    {
     "name": "stderr",
     "output_type": "stream",
     "text": [
      "`summarise()` has grouped output by 'race.ethnicity'. You can override using the `.groups` argument.\n"
     ]
    },
    {
     "data": {
      "text/html": [
       "<table>\n",
       "<thead><tr><th scope=col>race.ethnicity</th><th scope=col>gender</th><th scope=col>avg_maths</th><th scope=col>avg_reading</th><th scope=col>avg_writing</th></tr></thead>\n",
       "<tbody>\n",
       "\t<tr><td>group A </td><td>female  </td><td>58.52778</td><td>69.00000</td><td>67.86111</td></tr>\n",
       "\t<tr><td>group A </td><td>male    </td><td>63.73585</td><td>61.73585</td><td>59.15094</td></tr>\n",
       "\t<tr><td>group B </td><td>female  </td><td>61.40385</td><td>71.07692</td><td>70.04808</td></tr>\n",
       "\t<tr><td>group B </td><td>male    </td><td>65.93023</td><td>62.84884</td><td>60.22093</td></tr>\n",
       "\t<tr><td>group C </td><td>female  </td><td>62.03333</td><td>71.94444</td><td>71.77778</td></tr>\n",
       "\t<tr><td>group C </td><td>male    </td><td>67.61151</td><td>65.42446</td><td>62.71223</td></tr>\n",
       "\t<tr><td>group D </td><td>female  </td><td>65.24806</td><td>74.04651</td><td>75.02326</td></tr>\n",
       "\t<tr><td>group D </td><td>male    </td><td>69.41353</td><td>66.13534</td><td>65.41353</td></tr>\n",
       "\t<tr><td>group E </td><td>female  </td><td>70.81159</td><td>75.84058</td><td>75.53623</td></tr>\n",
       "\t<tr><td>group E </td><td>male    </td><td>76.74648</td><td>70.29577</td><td>67.39437</td></tr>\n",
       "</tbody>\n",
       "</table>\n"
      ],
      "text/latex": [
       "\\begin{tabular}{r|lllll}\n",
       " race.ethnicity & gender & avg\\_maths & avg\\_reading & avg\\_writing\\\\\n",
       "\\hline\n",
       "\t group A  & female   & 58.52778 & 69.00000 & 67.86111\\\\\n",
       "\t group A  & male     & 63.73585 & 61.73585 & 59.15094\\\\\n",
       "\t group B  & female   & 61.40385 & 71.07692 & 70.04808\\\\\n",
       "\t group B  & male     & 65.93023 & 62.84884 & 60.22093\\\\\n",
       "\t group C  & female   & 62.03333 & 71.94444 & 71.77778\\\\\n",
       "\t group C  & male     & 67.61151 & 65.42446 & 62.71223\\\\\n",
       "\t group D  & female   & 65.24806 & 74.04651 & 75.02326\\\\\n",
       "\t group D  & male     & 69.41353 & 66.13534 & 65.41353\\\\\n",
       "\t group E  & female   & 70.81159 & 75.84058 & 75.53623\\\\\n",
       "\t group E  & male     & 76.74648 & 70.29577 & 67.39437\\\\\n",
       "\\end{tabular}\n"
      ],
      "text/markdown": [
       "\n",
       "| race.ethnicity | gender | avg_maths | avg_reading | avg_writing |\n",
       "|---|---|---|---|---|\n",
       "| group A  | female   | 58.52778 | 69.00000 | 67.86111 |\n",
       "| group A  | male     | 63.73585 | 61.73585 | 59.15094 |\n",
       "| group B  | female   | 61.40385 | 71.07692 | 70.04808 |\n",
       "| group B  | male     | 65.93023 | 62.84884 | 60.22093 |\n",
       "| group C  | female   | 62.03333 | 71.94444 | 71.77778 |\n",
       "| group C  | male     | 67.61151 | 65.42446 | 62.71223 |\n",
       "| group D  | female   | 65.24806 | 74.04651 | 75.02326 |\n",
       "| group D  | male     | 69.41353 | 66.13534 | 65.41353 |\n",
       "| group E  | female   | 70.81159 | 75.84058 | 75.53623 |\n",
       "| group E  | male     | 76.74648 | 70.29577 | 67.39437 |\n",
       "\n"
      ],
      "text/plain": [
       "   race.ethnicity gender avg_maths avg_reading avg_writing\n",
       "1  group A        female 58.52778  69.00000    67.86111   \n",
       "2  group A        male   63.73585  61.73585    59.15094   \n",
       "3  group B        female 61.40385  71.07692    70.04808   \n",
       "4  group B        male   65.93023  62.84884    60.22093   \n",
       "5  group C        female 62.03333  71.94444    71.77778   \n",
       "6  group C        male   67.61151  65.42446    62.71223   \n",
       "7  group D        female 65.24806  74.04651    75.02326   \n",
       "8  group D        male   69.41353  66.13534    65.41353   \n",
       "9  group E        female 70.81159  75.84058    75.53623   \n",
       "10 group E        male   76.74648  70.29577    67.39437   "
      ]
     },
     "metadata": {},
     "output_type": "display_data"
    }
   ],
   "source": [
    "data %>%\n",
    "group_by(race.ethnicity, gender) %>%\n",
    "summarize(avg_maths = mean(math.score), avg_reading = mean(reading.score), \n",
    "          avg_writing = mean(writing.score))"
   ]
  },
  {
   "cell_type": "code",
   "execution_count": 18,
   "metadata": {},
   "outputs": [
    {
     "data": {
      "image/png": "[encoded data removed]",
      "text/plain": [
       "plot without title"
      ]
     },
     "metadata": {},
     "output_type": "display_data"
    }
   ],
   "source": [
    "data %>%\n",
    " ggplot(aes(gender)) +\n",
    " geom_bar(aes(fill = test.preparation.course)) +\n",
    " labs(title = \"male female distribution in preperation\") +\n",
    " theme_minimal() +\n",
    " theme(axis.text.x = element_text( size = 10, vjust = 0.5))"
   ]
  },
  {
   "cell_type": "code",
   "execution_count": 19,
   "metadata": {},
   "outputs": [
    {
     "ename": "ERROR",
     "evalue": "Error in parse(text = x, srcfile = src): <text>:2:3: unexpected string constant\n6: Students are not very sincere\n7: \"\n     ^\n",
     "output_type": "error",
     "traceback": [
      "Error in parse(text = x, srcfile = src): <text>:2:3: unexpected string constant\n6: Students are not very sincere\n7: \"\n     ^\nTraceback:\n"
     ]
    }
   ],
   "source": [
    "#Inferences\n",
    "\"\"\"\n",
    "Bad grouping\n",
    "Males are better in maths nd females are better in reading & writing\n",
    "educated people dont send their wards to this school\n",
    "Students are not very sincere\n",
    "\"\"\"\n"
   ]
  }
 ],
 "metadata": {
  "kernelspec": {
   "display_name": "R",
   "language": "R",
   "name": "ir"
  },
  "language_info": {
   "codemirror_mode": "r",
   "file_extension": ".r",
   "mimetype": "text/x-r-source",
   "name": "R",
   "pygments_lexer": "r",
   "version": "3.6.1"
  }
 },
 "nbformat": 4,
 "nbformat_minor": 4
}
