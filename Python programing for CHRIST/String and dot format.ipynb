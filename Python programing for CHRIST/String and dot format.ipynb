{
 "cells": [
  {
   "cell_type": "code",
   "execution_count": 1,
   "metadata": {},
   "outputs": [
    {
     "name": "stdout",
     "output_type": "stream",
     "text": [
      "Thursday\n"
     ]
    }
   ],
   "source": [
    "#lower and upper\n",
    "today = \"thursday\"\n",
    "a=today.upper()\n",
    "b=a.lower()\n",
    "print(today,a,b)\n",
    "\n",
    "\n",
    "#capitalize\n",
    "c=today.capitalize()\n",
    "print(c)"
   ]
  },
  {
   "cell_type": "code",
   "execution_count": 10,
   "metadata": {},
   "outputs": [
    {
     "name": "stdout",
     "output_type": "stream",
     "text": [
      "hello world\n",
      "world world\n"
     ]
    }
   ],
   "source": [
    "#replace\n",
    "#nextDay=today. replace(\"thurs\",\"fri\")\n",
    "#print(nextDay)\n",
    "\n",
    "a='hello'\n",
    "b=\"world\"\n",
    "print(a,b)\n",
    "a=a.replace(a,b)\n",
    "print(a,b)"
   ]
  },
  {
   "cell_type": "code",
   "execution_count": 4,
   "metadata": {},
   "outputs": [
    {
     "name": "stdout",
     "output_type": "stream",
     "text": [
      "['as', 'd', 'f', 'g', 'h', 'j']\n",
      "f\n"
     ]
    }
   ],
   "source": [
    "#split string\n",
    "string= \"as,d,f,g,h,j\"\n",
    "a=string.split(\",\")\n",
    "print(a)\n",
    "print(a[2])"
   ]
  },
  {
   "cell_type": "code",
   "execution_count": 4,
   "metadata": {},
   "outputs": [
    {
     "data": {
      "text/plain": [
       "'jskbusfbuksb'"
      ]
     },
     "execution_count": 4,
     "metadata": {},
     "output_type": "execute_result"
    }
   ],
   "source": [
    "#strip\n",
    "String2=\"               jskbusfbuksb         \"\n",
    "String2.strip()"
   ]
  },
  {
   "cell_type": "code",
   "execution_count": 5,
   "metadata": {},
   "outputs": [
    {
     "ename": "SyntaxError",
     "evalue": "invalid syntax (<ipython-input-5-d9922c052cd6>, line 1)",
     "output_type": "error",
     "traceback": [
      "\u001b[1;36m  File \u001b[1;32m\"<ipython-input-5-d9922c052cd6>\"\u001b[1;36m, line \u001b[1;32m1\u001b[0m\n\u001b[1;33m    you own a mini mart.\u001b[0m\n\u001b[1;37m        ^\u001b[0m\n\u001b[1;31mSyntaxError\u001b[0m\u001b[1;31m:\u001b[0m invalid syntax\n"
     ]
    }
   ],
   "source": [
    "you own a mini mart. \n",
    "You sell body lotion,onion, tomato, rice and dal. \n",
    "onion=Rs 28, Rice= Rs 35, Lotion = Rs 79,dal=Rs 80, tomato=Rs 35.\n",
    "Take the quantity as input from user and print the total value with the quantity and price  of each item in the output."
   ]
  },
  {
   "cell_type": "code",
   "execution_count": 9,
   "metadata": {},
   "outputs": [
    {
     "name": "stdout",
     "output_type": "stream",
     "text": [
      "enter amount of body_lotion bought2\n",
      "enter amount of onion bought in kgs3\n",
      "enter amount of tomato bought in kgs4\n",
      "enter amount of rice bought in kgs2\n",
      "enter amount of dal bought in kgs3\n",
      "the total amount for 3kg onion, 4kg tomato, 2kg rice, 3kg dal, 2piece lotion is 692\n"
     ]
    }
   ],
   "source": [
    "lotion = int(input(\"enter amount of body_lotion bought\"))\n",
    "onion = int(input(\"enter amount of onion bought in kgs\"))\n",
    "tomato = int(input(\"enter amount of tomato bought in kgs\"))\n",
    "rice = int(input(\"enter amount of rice bought in kgs\"))\n",
    "dal = int(input(\"enter amount of dal bought in kgs\"))\n",
    "\n",
    "onionP= 28\n",
    "RiceP= 35\n",
    "LotionP = 79\n",
    "dalP= 80\n",
    "tomatoP= 35\n",
    "\n",
    "total=(lotion*LotionP) + (onion*onionP) + (tomato*tomatoP) + (rice*RiceP) + (dal*dalP)\n",
    "\n",
    "print(\"the total amount for {}kg onion, {}kg tomato, {}kg rice, {}kg dal, {}piece lotion is {}\".format(onion,tomato,rice,dal,lotion,total))\n"
   ]
  },
  {
   "cell_type": "code",
   "execution_count": 17,
   "metadata": {},
   "outputs": [
    {
     "name": "stdout",
     "output_type": "stream",
     "text": [
      "awf\n"
     ]
    }
   ],
   "source": [
    "lista=[\"adwa\",\"awf\"]\n",
    "listb=[\"Aff\",lista,\"fsdg\"]\n",
    "print(listb[1][1])"
   ]
  }
 ],
 "metadata": {
  "kernelspec": {
   "display_name": "Python 3",
   "language": "python",
   "name": "python3"
  },
  "language_info": {
   "codemirror_mode": {
    "name": "ipython",
    "version": 3
   },
   "file_extension": ".py",
   "mimetype": "text/x-python",
   "name": "python",
   "nbconvert_exporter": "python",
   "pygments_lexer": "ipython3",
   "version": "3.8.3"
  }
 },
 "nbformat": 4,
 "nbformat_minor": 4
}
