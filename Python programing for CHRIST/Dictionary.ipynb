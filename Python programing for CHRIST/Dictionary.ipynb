{
 "cells": [
  {
   "cell_type": "code",
   "execution_count": 1,
   "metadata": {},
   "outputs": [
    {
     "name": "stdout",
     "output_type": "stream",
     "text": [
      "{1: 'one', 2: 'two', 3: 'three'}\n"
     ]
    }
   ],
   "source": [
    "#create a dictionary\n",
    "dict1={}\n",
    "dict1={1:'one', 2:'two', 3:'three'} #1,2,3 are keys. \"one\", \"two\", :three\" are values.\n",
    "print(dict1)"
   ]
  },
  {
   "cell_type": "code",
   "execution_count": 2,
   "metadata": {},
   "outputs": [
    {
     "name": "stdout",
     "output_type": "stream",
     "text": [
      "{1: 'Apple', 'b': 'ball'}\n"
     ]
    }
   ],
   "source": [
    "#dict\n",
    "dict3 = dict({1:\"Apple\",'b':'ball'})\n",
    "print(dict3)"
   ]
  },
  {
   "cell_type": "code",
   "execution_count": 3,
   "metadata": {},
   "outputs": [
    {
     "data": {
      "text/plain": [
       "{'name': 'aaa', 'h': 'hlw'}"
      ]
     },
     "execution_count": 3,
     "metadata": {},
     "output_type": "execute_result"
    }
   ],
   "source": [
    "#dictionary from list\n",
    "study_D = [(\"name\", \"aaa\"), (\"h\",\"hlw\")]\n",
    "dict(study_D)"
   ]
  },
  {
   "cell_type": "code",
   "execution_count": 2,
   "metadata": {},
   "outputs": [
    {
     "name": "stdout",
     "output_type": "stream",
     "text": [
      "{1: 'one', 2: 'two', 3: 'three'}\n",
      "three\n"
     ]
    }
   ],
   "source": [
    "#accessing the items\n",
    "print(dict1)\n",
    "dict1[1]\n",
    "dict1[3]\n",
    "\n",
    "#get\n",
    "print(dict1.get(3))"
   ]
  },
  {
   "cell_type": "code",
   "execution_count": 5,
   "metadata": {},
   "outputs": [
    {
     "name": "stdout",
     "output_type": "stream",
     "text": [
      "{'name': 'hari', 'age': 22, 'course': 'bsc', 'year': 2020, 'cia1': 20, 'cia2': 25, 'cia3': 22}\n"
     ]
    }
   ],
   "source": [
    "student_details={'name':'hari', 'age':22, 'course':'bsc','year':2020,'cia1':20, 'cia2':25, 'cia3':22}\n",
    "print(student_details)"
   ]
  },
  {
   "cell_type": "code",
   "execution_count": 6,
   "metadata": {},
   "outputs": [
    {
     "name": "stdout",
     "output_type": "stream",
     "text": [
      "{'name': 'hari', 'age': 22, 'course': 'bsc', 'year': 2020, 'cia1': 20, 'cia2': 25, 'cia3': 22}\n"
     ]
    }
   ],
   "source": [
    "st1=dict({'name':'hari', 'age':22, 'course':'bsc','year':2020,'cia1':20, 'cia2':25, 'cia3':22})\n",
    "print(st1)"
   ]
  },
  {
   "cell_type": "code",
   "execution_count": null,
   "metadata": {},
   "outputs": [],
   "source": []
  },
  {
   "cell_type": "code",
   "execution_count": 7,
   "metadata": {},
   "outputs": [
    {
     "name": "stdout",
     "output_type": "stream",
     "text": [
      "{'name': 'ahuja', 'age': 34}\n"
     ]
    }
   ],
   "source": [
    "st2=dict([('name','ahuja'),('age',34)])\n",
    "print(st2)"
   ]
  },
  {
   "cell_type": "code",
   "execution_count": 8,
   "metadata": {},
   "outputs": [
    {
     "name": "stdout",
     "output_type": "stream",
     "text": [
      "{1: 'asd', 2: 'fgsjdgfj'}\n",
      "{1: 'asd', 2: 'fgsjdgfj', 4: 2}\n"
     ]
    }
   ],
   "source": [
    "#updating dictionary\n",
    "dict1={1:\"asd\",2:\"fgsjdgfj\"}\n",
    "print(dict1)\n",
    "dict1[4]=2\n",
    "print(dict1)"
   ]
  },
  {
   "cell_type": "code",
   "execution_count": 3,
   "metadata": {},
   "outputs": [
    {
     "name": "stdout",
     "output_type": "stream",
     "text": [
      "{1: 'akash', 2: 'ansh', 3: 'akshita', 4: 'arun'}\n",
      "{2: 'ansh', 3: 'akshita', 4: 'arun'}\n"
     ]
    }
   ],
   "source": [
    "#pop\n",
    "reg_no = {1:'akash',2:'ansh',3:'akshita',4:'arun'}\n",
    "print(reg_no)\n",
    "reg_no.pop(1)\n",
    "print(reg_no)"
   ]
  },
  {
   "cell_type": "code",
   "execution_count": null,
   "metadata": {},
   "outputs": [],
   "source": [
    "#popitem\n",
    "reg_no1 = {1:'akash',2:'ansh',3:'akshita',4:'arun'}\n",
    "reg_no1.popitem()\n",
    "print(reg_no1)"
   ]
  },
  {
   "cell_type": "code",
   "execution_count": 11,
   "metadata": {
    "scrolled": true
   },
   "outputs": [
    {
     "name": "stdout",
     "output_type": "stream",
     "text": [
      "{1: 'akash', 2: 'ansh', 3: 'akshita', 4: 'arun'}\n",
      "{1: 'akash', 2: 'ansh', 3: 'akshita', 4: 'arun'}\n"
     ]
    }
   ],
   "source": [
    "#copy\n",
    "reg_no = {1:'akash',2:'ansh',3:'akshita',4:'arun'}\n",
    "a=reg_no.copy()\n",
    "b=reg_no\n",
    "print(a)\n",
    "print(b)"
   ]
  },
  {
   "cell_type": "raw",
   "metadata": {},
   "source": [
    "#default value for invalid key\n",
    "print(reg_no.get(8))\n",
    "print(reg_no.get(8,\"invalid key\"))\n",
    "print(reg_no.get(2,\"invalid key\"))"
   ]
  },
  {
   "cell_type": "code",
   "execution_count": 5,
   "metadata": {},
   "outputs": [
    {
     "name": "stdout",
     "output_type": "stream",
     "text": [
      "akash\n"
     ]
    }
   ],
   "source": [
    "h={1:'akash',2:'ansh',3:'akshita',4:'arun'}\n",
    "\n",
    "print(h.get(1))"
   ]
  },
  {
   "cell_type": "code",
   "execution_count": 12,
   "metadata": {},
   "outputs": [
    {
     "name": "stdout",
     "output_type": "stream",
     "text": [
      "dict_keys([1, 2, 3, 4])\n",
      "dict_values(['akash', 'ansh', 'akshita', 'arun'])\n",
      "dict_items([(1, 'akash'), (2, 'ansh'), (3, 'akshita'), (4, 'arun')])\n",
      "<class 'dict_items'>\n"
     ]
    }
   ],
   "source": [
    "reg_no = {1:'akash',2:'ansh',3:'akshita',4:'arun'}\n",
    "a=reg_no.keys()\n",
    "b=reg_no.values()\n",
    "c=reg_no.items()\n",
    "print(a)\n",
    "print(b)\n",
    "print(c)\n",
    "print(type(c))"
   ]
  },
  {
   "cell_type": "code",
   "execution_count": 13,
   "metadata": {},
   "outputs": [
    {
     "name": "stdout",
     "output_type": "stream",
     "text": [
      "{1: 'one', 2: 'two', 3: 'THEreeeeeeeee', 4: 'Four'}\n"
     ]
    }
   ],
   "source": [
    "dict1={1:'one', 2:'two', 3:'three'}\n",
    "dict2={3:'THEreeeeeeeee',4:'Four'}\n",
    "dict1.update(dict2)\n",
    "print(dict1)"
   ]
  },
  {
   "cell_type": "code",
   "execution_count": 14,
   "metadata": {},
   "outputs": [
    {
     "name": "stdout",
     "output_type": "stream",
     "text": [
      "{1: 10, 2: 20, 3: 30, 4: 40, 5: 50, 6: 60}\n"
     ]
    }
   ],
   "source": [
    "dict1={1:10, 2:20}\n",
    "dict2={3:30, 4:40}\n",
    "dict3={5:50,6:60}\n",
    "dict4 = {}\n",
    "for i in (dict1,dict2,dict3):\n",
    "    dict4.update(i)\n",
    "print(dict4)"
   ]
  },
  {
   "cell_type": "code",
   "execution_count": null,
   "metadata": {},
   "outputs": [],
   "source": [
    "#Write a Python script to generate and print a dictionary that\n",
    "#contains a number (between 1 and n taken from user)  in the form {x:x*2}\n",
    "n=int(input(\"enter range of dictionary\"))\n",
    "dictAB={}\n",
    "for i in range(1,n):\n",
    "    dictAB[i]=i*2\n",
    "print (dictAB)"
   ]
  }
 ],
 "metadata": {
  "kernelspec": {
   "display_name": "Python 3",
   "language": "python",
   "name": "python3"
  },
  "language_info": {
   "codemirror_mode": {
    "name": "ipython",
    "version": 3
   },
   "file_extension": ".py",
   "mimetype": "text/x-python",
   "name": "python",
   "nbconvert_exporter": "python",
   "pygments_lexer": "ipython3",
   "version": "3.8.3"
  }
 },
 "nbformat": 4,
 "nbformat_minor": 4
}
