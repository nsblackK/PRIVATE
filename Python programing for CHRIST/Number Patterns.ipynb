{
 "cells": [
  {
   "cell_type": "code",
   "execution_count": 9,
   "metadata": {},
   "outputs": [
    {
     "name": "stdout",
     "output_type": "stream",
     "text": [
      "* * * * * * *  \n",
      "*           *  \n",
      "*           *  \n",
      "*           *  \n",
      "*           *  \n",
      "*           *  \n",
      "*           *  \n",
      "* * * * * * *  \n"
     ]
    }
   ],
   "source": [
    "for i in range(8):\n",
    "    for j in range(7):\n",
    "        if i==0 or i==7:\n",
    "            print(\"*\",end=\" \")\n",
    "        elif (j==0 or j==6) and (i>0 and i<7):\n",
    "            print(\"*\",end=\" \")\n",
    "        else:\n",
    "            print(\" \",end=\" \")\n",
    "    print(\" \")"
   ]
  },
  {
   "cell_type": "code",
   "execution_count": 8,
   "metadata": {},
   "outputs": [
    {
     "name": "stdout",
     "output_type": "stream",
     "text": [
      "*              \n",
      "*              \n",
      "*              \n",
      "*              \n",
      "*              \n",
      "*              \n",
      "*              \n",
      "*              \n"
     ]
    }
   ],
   "source": [
    "for i in range(8):\n",
    "    for j in range(7):\n",
    "        if j==0:\n",
    "            print(\"*\",end=\" \")\n",
    "        else:\n",
    "            print(\" \",end=\" \")\n",
    "    print(\" \")"
   ]
  },
  {
   "cell_type": "code",
   "execution_count": 10,
   "metadata": {},
   "outputs": [
    {
     "name": "stdout",
     "output_type": "stream",
     "text": [
      "* * * * * * *  \n",
      "            *  \n",
      "            *  \n",
      "* * * * * * *  \n",
      "*              \n",
      "*              \n",
      "*              \n",
      "* * * * * * *  \n"
     ]
    }
   ],
   "source": [
    "for i in range(8):\n",
    "    for j in range(7):\n",
    "        if i==0 or i==7 or i==3:\n",
    "            print(\"*\",end=\" \")\n",
    "        elif (j==6 and i<7/2):\n",
    "            print(\"*\",end=\" \")\n",
    "        elif (j==0 and i>7/2):\n",
    "            print(\"*\",end=\" \")\n",
    "        else:\n",
    "            print(\" \",end=\" \")\n",
    "    print(\" \")"
   ]
  },
  {
   "cell_type": "code",
   "execution_count": 12,
   "metadata": {},
   "outputs": [
    {
     "name": "stdout",
     "output_type": "stream",
     "text": [
      "* * * * * * *  \n",
      "            *  \n",
      "            *  \n",
      "* * * * * * *  \n",
      "            *  \n",
      "            *  \n",
      "            *  \n",
      "* * * * * * *  \n"
     ]
    }
   ],
   "source": [
    "for i in range(8):\n",
    "    for j in range(7):\n",
    "        if i==0 or i==7 or i==3:\n",
    "            print(\"*\",end=\" \")\n",
    "        elif (j==6):\n",
    "            print(\"*\",end=\" \")\n",
    "       \n",
    "        else:\n",
    "            print(\" \",end=\" \")\n",
    "    print(\" \")"
   ]
  },
  {
   "cell_type": "code",
   "execution_count": 19,
   "metadata": {},
   "outputs": [
    {
     "name": "stdout",
     "output_type": "stream",
     "text": [
      "*           *  \n",
      "*           *  \n",
      "*           *  \n",
      "* * * * * * *  \n",
      "            *  \n",
      "            *  \n",
      "            *  \n",
      "            *  \n"
     ]
    }
   ],
   "source": [
    "for i in range(8):\n",
    "    for j in range(7):\n",
    "       \n",
    "        if (j==6 or (j==0 and i<7/2)):\n",
    "            print(\"*\",end=\" \")\n",
    "        elif(i==3):\n",
    "            print(\"*\",end=\" \")\n",
    "        else:\n",
    "            print(\" \",end=\" \")\n",
    "    print(\" \")"
   ]
  },
  {
   "cell_type": "code",
   "execution_count": 20,
   "metadata": {},
   "outputs": [
    {
     "name": "stdout",
     "output_type": "stream",
     "text": [
      "* * * * * * *  \n",
      "*              \n",
      "*              \n",
      "* * * * * * *  \n",
      "            *  \n",
      "            *  \n",
      "            *  \n",
      "* * * * * * *  \n"
     ]
    }
   ],
   "source": [
    "for i in range(8):\n",
    "    for j in range(7):\n",
    "        if i==0 or i==7 or i==3:\n",
    "            print(\"*\",end=\" \")\n",
    "        elif (j==0 and i<7/2):\n",
    "            print(\"*\",end=\" \")\n",
    "        elif (j==6 and i>7/2):\n",
    "            print(\"*\",end=\" \")\n",
    "        else:\n",
    "            print(\" \",end=\" \")\n",
    "    print(\" \")"
   ]
  },
  {
   "cell_type": "code",
   "execution_count": 22,
   "metadata": {},
   "outputs": [
    {
     "name": "stdout",
     "output_type": "stream",
     "text": [
      "* * * * * * *  \n",
      "*              \n",
      "*              \n",
      "* * * * * * *  \n",
      "*           *  \n",
      "*           *  \n",
      "*           *  \n",
      "* * * * * * *  \n"
     ]
    }
   ],
   "source": [
    "for i in range(8):\n",
    "    for j in range(7):\n",
    "        if i==0 or i==7 or i==3:\n",
    "            print(\"*\",end=\" \")\n",
    "        elif (j==0 ):\n",
    "            print(\"*\",end=\" \")\n",
    "        elif (j==6 and i>7/2):\n",
    "            print(\"*\",end=\" \")\n",
    "        else:\n",
    "            print(\" \",end=\" \")\n",
    "    print(\" \")"
   ]
  },
  {
   "cell_type": "code",
   "execution_count": 25,
   "metadata": {},
   "outputs": [
    {
     "name": "stdout",
     "output_type": "stream",
     "text": [
      "* * * * * * *  \n",
      "            *  \n",
      "            *  \n",
      "            *  \n",
      "            *  \n",
      "            *  \n",
      "            *  \n",
      "            *  \n"
     ]
    }
   ],
   "source": [
    "for i in range(8):\n",
    "    for j in range(7):\n",
    "        if i==0 :\n",
    "            print(\"*\",end=\" \")\n",
    "        elif (j==6):\n",
    "            print(\"*\",end=\" \")\n",
    "        else:\n",
    "            print(\" \",end=\" \")\n",
    "    print(\" \")"
   ]
  },
  {
   "cell_type": "code",
   "execution_count": 27,
   "metadata": {},
   "outputs": [
    {
     "name": "stdout",
     "output_type": "stream",
     "text": [
      "* * * * * * *  \n",
      "*           *  \n",
      "*           *  \n",
      "* * * * * * *  \n",
      "*           *  \n",
      "*           *  \n",
      "*           *  \n",
      "* * * * * * *  \n"
     ]
    }
   ],
   "source": [
    "for i in range(8):\n",
    "    for j in range(7):\n",
    "        if i==0 or i==7 or i==3:\n",
    "            print(\"*\",end=\" \")\n",
    "        elif (j==0 ):\n",
    "            print(\"*\",end=\" \")\n",
    "        elif (j==6 ):\n",
    "            print(\"*\",end=\" \")\n",
    "        else:\n",
    "            print(\" \",end=\" \")\n",
    "    print(\" \")"
   ]
  },
  {
   "cell_type": "code",
   "execution_count": 31,
   "metadata": {},
   "outputs": [
    {
     "name": "stdout",
     "output_type": "stream",
     "text": [
      "* * * * * * *  \n",
      "*           *  \n",
      "*           *  \n",
      "* * * * * * *  \n",
      "            *  \n",
      "            *  \n",
      "            *  \n",
      "* * * * * * *  \n"
     ]
    }
   ],
   "source": [
    "for i in range(8):\n",
    "    for j in range(7):\n",
    "        if i==0 or i==7 or i==3:\n",
    "            print(\"*\",end=\" \")\n",
    "        elif (j==0 and i<3 ):\n",
    "            print(\"*\",end=\" \")\n",
    "        elif (j==6 ):\n",
    "            print(\"*\",end=\" \")\n",
    "        else:\n",
    "            print(\" \",end=\" \")\n",
    "    print(\" \")"
   ]
  },
  {
   "cell_type": "code",
   "execution_count": null,
   "metadata": {},
   "outputs": [],
   "source": []
  }
 ],
 "metadata": {
  "kernelspec": {
   "display_name": "Python 3",
   "language": "python",
   "name": "python3"
  }
 },
 "nbformat": 4,
 "nbformat_minor": 4
}
