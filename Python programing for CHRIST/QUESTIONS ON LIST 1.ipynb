{
 "cells": [
  {
   "cell_type": "code",
   "execution_count": 1,
   "metadata": {},
   "outputs": [
    {
     "name": "stdout",
     "output_type": "stream",
     "text": [
      "enter the length of the list5\n",
      "Enter element4\n",
      "Enter element65\n",
      "Enter element45\n",
      "Enter element42\n",
      "Enter element12\n",
      "[4, 65, 45, 42, 12]\n"
     ]
    }
   ],
   "source": [
    "#TAKING LENGTH OF LIST AND INPUT FROM USER.\n",
    "length=int(input(\"enter the length of the list\"))\n",
    "list1=[]\n",
    "for i in range(0,length):\n",
    "    value=int(input('Enter element'))\n",
    "    list1.append(value)\n",
    "\n",
    "print(list1)"
   ]
  },
  {
   "cell_type": "code",
   "execution_count": 2,
   "metadata": {},
   "outputs": [
    {
     "name": "stdout",
     "output_type": "stream",
     "text": [
      "4  is even\n",
      "65  is odd\n",
      "45  is odd\n",
      "42  is even\n",
      "12  is even\n"
     ]
    }
   ],
   "source": [
    "#SEPERATING EVEN AND ODD\n",
    "for j in list1:\n",
    "    if(j%2==0):\n",
    "        print(j,\" is even\")\n",
    "    else:\n",
    "        print(j,\" is odd\")\n",
    "   "
   ]
  },
  {
   "cell_type": "code",
   "execution_count": 5,
   "metadata": {},
   "outputs": [
    {
     "name": "stdout",
     "output_type": "stream",
     "text": [
      "168\n"
     ]
    }
   ],
   "source": [
    "#SUM\n",
    "summ=0\n",
    "for i in list1:\n",
    "    summ = summ +i\n",
    "print(summ)"
   ]
  },
  {
   "cell_type": "code",
   "execution_count": 6,
   "metadata": {},
   "outputs": [
    {
     "name": "stdout",
     "output_type": "stream",
     "text": [
      "65\n"
     ]
    }
   ],
   "source": [
    "#HIGHEST\n",
    "h=list1[0]\n",
    "for i in list1:\n",
    "    if i>h:\n",
    "        h=i\n",
    "print(h)\n",
    "        "
   ]
  },
  {
   "cell_type": "code",
   "execution_count": 10,
   "metadata": {},
   "outputs": [
    {
     "name": "stdout",
     "output_type": "stream",
     "text": [
      "[4, 12, 42, 45, 65]\n",
      "[65, 45, 42, 12, 4]\n"
     ]
    }
   ],
   "source": [
    "#Create a duplicate list with the name dup_list and sort the list in ascending and descending order.\n",
    "dup_list=sorted(list1)\n",
    "print(dup_list)\n",
    "dup_list=sorted(list1,reverse=True)\n",
    "print(dup_list)"
   ]
  }
 ],
 "metadata": {
  "kernelspec": {
   "display_name": "Python 3",
   "language": "python",
   "name": "python3"
  },
  "language_info": {
   "codemirror_mode": {
    "name": "ipython",
    "version": 3
   },
   "file_extension": ".py",
   "mimetype": "text/x-python",
   "name": "python",
   "nbconvert_exporter": "python",
   "pygments_lexer": "ipython3",
   "version": "3.8.3"
  }
 },
 "nbformat": 4,
 "nbformat_minor": 4
}
