{
 "cells": [
  {
   "cell_type": "code",
   "execution_count": null,
   "metadata": {},
   "outputs": [],
   "source": [
    "a=int(input(\"enter a number\"))\n",
    "b=int(input(\"enter another number\"))\n",
    "c=int(input(\"enter another number\"))\n",
    "summ=a+b+c\n",
    "diff=a-b-c\n",
    "multi=a*b*c\n",
    "div1=a/b\n",
    "div2=b//c\n",
    "epxo=a**b\n",
    "mod=a%b\n",
    "\n",
    "print (sum)\n"
   ]
  }
 ],
 "metadata": {
  "kernelspec": {
   "display_name": "Python 3",
   "language": "python",
   "name": "python3"
  },
  "language_info": {
   "codemirror_mode": {
    "name": "ipython",
    "version": 3
   },
   "file_extension": ".py",
   "mimetype": "text/x-python",
   "name": "python",
   "nbconvert_exporter": "python",
   "pygments_lexer": "ipython3",
   "version": "3.8.3"
  }
 },
 "nbformat": 4,
 "nbformat_minor": 4
}
