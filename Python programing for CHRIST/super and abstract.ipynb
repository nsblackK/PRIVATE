{
 "cells": [
  {
   "cell_type": "code",
   "execution_count": 18,
   "metadata": {},
   "outputs": [
    {
     "name": "stdout",
     "output_type": "stream",
     "text": [
      "parent1\n",
      "child\n"
     ]
    }
   ],
   "source": [
    "class parent1:\n",
    "    def x(self):\n",
    "        print(\"parent1\")\n",
    "class parent2:\n",
    "    def y(self):\n",
    "        print(\"parent2\")\n",
    "class child(parent1,parent2):\n",
    "    def x(self):\n",
    "        super().x()\n",
    "        print(\"child\")\n",
    "obj1=child()\n",
    "obj1.x()"
   ]
  },
  {
   "cell_type": "code",
   "execution_count": 49,
   "metadata": {},
   "outputs": [
    {
     "name": "stdout",
     "output_type": "stream",
     "text": [
      "The class teacher of g is Akhil Sir\n"
     ]
    }
   ],
   "source": [
    "import abc\n",
    "class details(abc.ABC):\n",
    "    @abc.abstractmethod\n",
    "    def class_teacher(self):\n",
    "        pass\n",
    "\n",
    "class bscds(details):\n",
    "    def __init__(self,name,strength):\n",
    "        self.name = name\n",
    "        self.strength = strength\n",
    "    def class_teacher(self):\n",
    "        print('The class teacher of {} is Akhil Sir'.format(self.name))\n",
    "\n",
    "        \n",
    "student2=bscds('g',5)\n",
    "student2.class_teacher()"
   ]
  },
  {
   "cell_type": "code",
   "execution_count": 3,
   "metadata": {},
   "outputs": [
    {
     "name": "stdout",
     "output_type": "stream",
     "text": [
      "The class teacher of BScds is Akhil Sir\n"
     ]
    }
   ],
   "source": [
    "import abc\n",
    "class class_details:\n",
    "    pass\n",
    "class bscds(class_details):\n",
    "    def __init__(self, name, strength):\n",
    "        self.name=name\n",
    "        self.strength=strength\n",
    "    def class_teacher(self):\n",
    "        print('The class teacher of {} is Akhil Sir'.format(self.name))\n",
    "student1=bscds('BScds',37)\n",
    "student1.class_teacher()"
   ]
  },
  {
   "cell_type": "code",
   "execution_count": 7,
   "metadata": {},
   "outputs": [
    {
     "ename": "SyntaxError",
     "evalue": "invalid syntax (<ipython-input-7-fa6f0d460507>, line 16)",
     "output_type": "error",
     "traceback": [
      "\u001b[1;36m  File \u001b[1;32m\"<ipython-input-7-fa6f0d460507>\"\u001b[1;36m, line \u001b[1;32m16\u001b[0m\n\u001b[1;33m    student1=bscds('BSCds',37)\u001b[0m\n\u001b[1;37m    ^\u001b[0m\n\u001b[1;31mSyntaxError\u001b[0m\u001b[1;31m:\u001b[0m invalid syntax\n"
     ]
    }
   ],
   "source": [
    "from abc import ABC, abstractmethod\n",
    "class class_details(abc.ABC):\n",
    "    \n",
    "    @abc.abstractmethod\n",
    "    def class_teacher(self):\n",
    "        pass\n",
    "    def domain(self):\n",
    "        pass\n",
    "class bscds(class_details):\n",
    "    def __init__(self,name,strength):\n",
    "        self.name=name\n",
    "        self.strength=strength\n",
    "    def class_teacher(self):\n",
    "        (print('The class teacher of {} is Akhil Sir'.format(self.name))\n",
    "         \n",
    "student1 = bscds('BSCds',37)\n",
    "student1.class_teacher()"
   ]
  },
  {
   "cell_type": "code",
   "execution_count": 3,
   "metadata": {},
   "outputs": [
    {
     "ename": "SyntaxError",
     "evalue": "invalid syntax (<ipython-input-3-3a6ae19220f2>, line 18)",
     "output_type": "error",
     "traceback": [
      "\u001b[1;36m  File \u001b[1;32m\"<ipython-input-3-3a6ae19220f2>\"\u001b[1;36m, line \u001b[1;32m18\u001b[0m\n\u001b[1;33m    student1 = bscds('BSCds',37)\u001b[0m\n\u001b[1;37m    ^\u001b[0m\n\u001b[1;31mSyntaxError\u001b[0m\u001b[1;31m:\u001b[0m invalid syntax\n"
     ]
    }
   ],
   "source": [
    "from abc import ABC, abstractmethod\n",
    "class class_details(abc.ABC):\n",
    "    \n",
    "    @abc.abstractmethod\n",
    "    def class_teacher(self):\n",
    "        pass\n",
    "    @abc.abstractmethod\n",
    "    def domain(self):\n",
    "        pass\n",
    "@class_details.register\n",
    "class bscds():\n",
    "    def __init__(self,name,strength):\n",
    "        self.name=name\n",
    "        self.strength=strength\n",
    "    def class_teacher(self):\n",
    "        (print('The class teacher of {} is Akhil Sir'.format(self.name))\n",
    "         \n",
    "student1 = bscds('BSCds',37)\n",
    "student1.class_teacher()"
   ]
  }
 ],
 "metadata": {
  "kernelspec": {
   "display_name": "Python 3",
   "language": "python",
   "name": "python3"
  },
  "language_info": {
   "codemirror_mode": {
    "name": "ipython",
    "version": 3
   },
   "file_extension": ".py",
   "mimetype": "text/x-python",
   "name": "python",
   "nbconvert_exporter": "python",
   "pygments_lexer": "ipython3",
   "version": "3.8.3"
  }
 },
 "nbformat": 4,
 "nbformat_minor": 4
}
