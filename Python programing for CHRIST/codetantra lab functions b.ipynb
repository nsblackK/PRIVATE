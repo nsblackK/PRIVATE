{
 "cells": [
  {
   "cell_type": "code",
   "execution_count": 1,
   "metadata": {},
   "outputs": [],
   "source": [
    "WAP to implement functions in ecommerce website such that the -\n",
    "\n",
    "func_1 takes the input of items to be added to the cart from the user.\n",
    "\n",
    "func_2 calculates the total amount of products added to the cart.\n",
    "\n",
    "funct_3 deduct the discount percentage of 13% for any user from the total amount\n",
    "and print the total price and discounted amount separately with a message \" the order has been placed successfully\"."
   ]
  },
  {
   "cell_type": "code",
   "execution_count": 16,
   "metadata": {},
   "outputs": [
    {
     "name": "stdout",
     "output_type": "stream",
     "text": [
      "enter item nameflowers\n",
      "enter item price500\n",
      "item flowers of price 500 has been added to your cart!\n",
      "Total price is 500\n",
      "Price after discount is 435.0\n"
     ]
    }
   ],
   "source": [
    "iName=input(\"enter item name\")\n",
    "iPrice=int(input(\"enter item price\"))\n",
    "cart={}\n",
    "def func_1(n,p):\n",
    "    \n",
    "    cart[p]=n\n",
    "    print(\"item {} of price {} has been added to your cart!\".format(n,p))\n",
    "    \n",
    "\n",
    "\n",
    "def func_2():\n",
    "    s=0\n",
    "    for i in cart:\n",
    "        s=s+i\n",
    "    return s\n",
    "   \n",
    "    \n",
    "def func_3(t):\n",
    "    D_price=t-(13/100*t)\n",
    "    print(\"Total price is \"+str(t))\n",
    "    print(\"Price after discount is \"+str(D_price))\n",
    "\n",
    "func_1(iName,iPrice )\n",
    "Total=func_2()\n",
    "func_3(Total)\n"
   ]
  }
 ],
 "metadata": {
  "kernelspec": {
   "display_name": "Python 3",
   "language": "python",
   "name": "python3"
  },
  "language_info": {
   "codemirror_mode": {
    "name": "ipython",
    "version": 3
   },
   "file_extension": ".py",
   "mimetype": "text/x-python",
   "name": "python",
   "nbconvert_exporter": "python",
   "pygments_lexer": "ipython3",
   "version": "3.8.3"
  }
 },
 "nbformat": 4,
 "nbformat_minor": 4
}
