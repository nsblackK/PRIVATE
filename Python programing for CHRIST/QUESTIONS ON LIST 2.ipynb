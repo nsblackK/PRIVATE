{
 "cells": [
  {
   "cell_type": "code",
   "execution_count": 2,
   "metadata": {},
   "outputs": [
    {
     "name": "stdout",
     "output_type": "stream",
     "text": [
      "Enter a name\n",
      "One for you, one for me.\n",
      " Where  is the given name\n"
     ]
    }
   ],
   "source": [
    "# Two-fer or 2-fer is short for two for one. One for you and one for me.\n",
    "# Given a name, return a string with the message:\n",
    "# One for X, one for me.\n",
    "# Where X is the given name.\n",
    "# However, if the name is missing, return the string:\n",
    "# One for you, one for me.\n",
    "# Name     String to return\n",
    "# Alice     One for Alice, one for me.\n",
    "# Bob     One for Bob, one for me.\n",
    "name=input(\"Enter a name\")\n",
    "if(name!=\"\"):\n",
    "    print(\"One for %s and one for me.\"%name)\n",
    "else:\n",
    "    print(\"One for you, one for me.\")\n",
    "print(\" Where %s is the given name\"%name)\n",
    "#print(\"One for %s and one for me.\"%name)"
   ]
  },
  {
   "cell_type": "code",
   "execution_count": 3,
   "metadata": {},
   "outputs": [
    {
     "name": "stdout",
     "output_type": "stream",
     "text": [
      "1\n",
      "1\n",
      "2\n",
      "3\n",
      "5\n",
      "8\n",
      "13\n",
      "2\n"
     ]
    }
   ],
   "source": [
    "# Take a list, say for example this one:\n",
    "#   a = [1, 1, 2, 3, 5, 8, 13, 2, 34, 55, 89]\n",
    "# and write a program that prints out all the elements of the list that are less than \n",
    "a = [1, 1, 2, 3, 5, 8, 13, 2, 34, 55, 89]\n",
    "for i in a:\n",
    "    if (i<=15):\n",
    "        print(i)"
   ]
  },
  {
   "cell_type": "code",
   "execution_count": 7,
   "metadata": {},
   "outputs": [
    {
     "name": "stdout",
     "output_type": "stream",
     "text": [
      "enter the length of the list5\n",
      "Enter element4\n",
      "Enter element2\n",
      "Enter element4\n",
      "Enter element2\n",
      "Enter element1\n",
      "[4, 2, 4, 2, 1]\n",
      "[4, 2, 1]\n"
     ]
    }
   ],
   "source": [
    "#Write a program (function!) that takes a list and returns a new list \n",
    "#that contains all the elements of the first list minus all the duplicates.\n",
    "length=int(input(\"enter the length of the list\"))\n",
    "list1=[]\n",
    "for i in range(0,length):\n",
    "    value=int(input('Enter element'))\n",
    "    list1.append(value)\n",
    "print (list1)\n",
    "list2=[]\n",
    "for j in list1:\n",
    "    if j not in list2:\n",
    "            list2.append(j)\n",
    "print (list2)"
   ]
  },
  {
   "cell_type": "code",
   "execution_count": 6,
   "metadata": {},
   "outputs": [
    {
     "name": "stdout",
     "output_type": "stream",
     "text": [
      "enter a string: malayalam\n",
      "length of the string is 9\n",
      "palindrome\n"
     ]
    }
   ],
   "source": [
    "#Ask the user for a string and print out whether this string is a palindrome or not.\n",
    "string1=input(\"enter a string: \")\n",
    "l = len(string1)\n",
    "print (\"length of the string is %i\"%l)\n",
    "k=1\n",
    "for i in range(int(l/2)):\n",
    "    if(string1[i]!=string1[(l-1)-i]):\n",
    "        k=0\n",
    "if(k==1):\n",
    "    print(\"palindrome\")\n",
    "else:\n",
    "    print(\"not palindrome\")"
   ]
  },
  {
   "cell_type": "code",
   "execution_count": 26,
   "metadata": {},
   "outputs": [
    {
     "name": "stdout",
     "output_type": "stream",
     "text": [
      "[1, 2, 3, 5, 8, 13]\n"
     ]
    }
   ],
   "source": [
    "#Take two lists, say for example these two:\n",
    "# a = [1, 1, 2, 3, 5, 8, 13, 21, 34, 55, 89]\n",
    "# b = [1, 2, 3, 4, 5, 6, 7, 8, 9, 10, 11, 12, 13]\n",
    "#and write a program that returns a list that contains only the elements that are \n",
    "#common between the lists (without duplicates).\n",
    "a = [1, 1, 2, 3, 5, 8, 13, 21, 34, 55, 89]\n",
    "b = [1, 2, 3, 4, 5, 6, 7, 8, 9, 10, 11, 12, 13]\n",
    "c=[]\n",
    "for i in a:\n",
    "    for j in b:\n",
    "        if(i==j) and j not in c:\n",
    "             c.append(i)\n",
    "print(c)"
   ]
  }
 ],
 "metadata": {
  "kernelspec": {
   "display_name": "Python 3",
   "language": "python",
   "name": "python3"
  },
  "language_info": {
   "codemirror_mode": {
    "name": "ipython",
    "version": 3
   },
   "file_extension": ".py",
   "mimetype": "text/x-python",
   "name": "python",
   "nbconvert_exporter": "python",
   "pygments_lexer": "ipython3",
   "version": "3.8.3"
  }
 },
 "nbformat": 4,
 "nbformat_minor": 4
}
