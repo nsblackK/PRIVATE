{
 "cells": [
  {
   "cell_type": "code",
   "execution_count": 11,
   "metadata": {},
   "outputs": [
    {
     "name": "stdout",
     "output_type": "stream",
     "text": [
      "enter a number-8\n",
      "enter a number-6\n",
      "enter a number-10\n",
      "-6\n"
     ]
    }
   ],
   "source": [
    "def maxi(a,b,c):\n",
    "    if(a>b):\n",
    "        if(a>c):\n",
    "            return a\n",
    "        else:\n",
    "            return c\n",
    "    else:\n",
    "        if(b>c):\n",
    "            return b\n",
    "        else:\n",
    "            return c\n",
    "\n",
    "def intake():\n",
    "    a=int(input(\"enter a number\"))\n",
    "    return a\n",
    "\n",
    "n1=intake()\n",
    "n2=intake()\n",
    "n3=intake()\n",
    "\n",
    "r=maxi(n1,n2,n3)\n",
    "\n",
    "def show(f):\n",
    "    print(f)\n",
    "    \n",
    "show(r)"
   ]
  },
  {
   "cell_type": "code",
   "execution_count": 8,
   "metadata": {},
   "outputs": [
    {
     "name": "stdout",
     "output_type": "stream",
     "text": [
      "4\n"
     ]
    }
   ],
   "source": [
    "a=4\n",
    "\n",
    "def show(r):\n",
    "    print(r)\n",
    "show(a)       "
   ]
  }
 ],
 "metadata": {
  "kernelspec": {
   "display_name": "Python 3",
   "language": "python",
   "name": "python3"
  },
  "language_info": {
   "codemirror_mode": {
    "name": "ipython",
    "version": 3
   },
   "file_extension": ".py",
   "mimetype": "text/x-python",
   "name": "python",
   "nbconvert_exporter": "python",
   "pygments_lexer": "ipython3",
   "version": "3.8.3"
  }
 },
 "nbformat": 4,
 "nbformat_minor": 4
}
