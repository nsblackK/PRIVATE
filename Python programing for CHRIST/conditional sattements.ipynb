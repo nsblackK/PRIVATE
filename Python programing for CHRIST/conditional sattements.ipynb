{
 "cells": [
  {
   "cell_type": "code",
   "execution_count": null,
   "metadata": {
    "scrolled": true
   },
   "outputs": [],
   "source": [
    "#if\n",
    "#elif\n",
    "#else\n",
    "#find a no. is single digit or not\n",
    "\n",
    "number = int(input(\"enter a number\"))\n",
    "print(\"entered number is\", number)\n",
    "\n",
    "if(number>-10 and number<10):\n",
    "        print(\"it is a single digit\")\n",
    "else:\n",
    "        print(\"double digit\")\n"
   ]
  },
  {
   "cell_type": "code",
   "execution_count": null,
   "metadata": {},
   "outputs": [],
   "source": [
    "i= 55\n",
    "print (\"abcd %i\",%i)"
   ]
  }
 ],
 "metadata": {
  "kernelspec": {
   "display_name": "Python 3",
   "language": "python",
   "name": "python3"
  },
  "language_info": {
   "codemirror_mode": {
    "name": "ipython",
    "version": 3
   },
   "file_extension": ".py",
   "mimetype": "text/x-python",
   "name": "python",
   "nbconvert_exporter": "python",
   "pygments_lexer": "ipython3",
   "version": "3.8.3"
  }
 },
 "nbformat": 4,
 "nbformat_minor": 4
}
