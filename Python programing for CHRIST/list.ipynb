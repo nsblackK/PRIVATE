{
 "cells": [
  {
   "cell_type": "code",
   "execution_count": 1,
   "metadata": {},
   "outputs": [
    {
     "name": "stdout",
     "output_type": "stream",
     "text": [
      "{}\n",
      "[1, 23, 34, 45, 56, 67]\n",
      "['s', 'asd', 563, 5.44]\n"
     ]
    }
   ],
   "source": [
    "#List\n",
    "list1 = {}\n",
    "print(list1)\n",
    "listint=[1,23,34,45,56,67]\n",
    "print(listint)\n",
    "listS=['s','asd', 563, 5.44]\n",
    "print(listS)"
   ]
  },
  {
   "cell_type": "code",
   "execution_count": 14,
   "metadata": {},
   "outputs": [
    {
     "name": "stdout",
     "output_type": "stream",
     "text": [
      "[[1, 2, 3, 4, 5, 6, 7, 8], ['a', 'b', 'c', 'd'], [1.2, 1.2, 1.3, 0.25]]\n",
      "b\n"
     ]
    }
   ],
   "source": [
    "list1=[1,2,3,4,5,6,7,8]\n",
    "list2=['a','b','c','d']\n",
    "list3=[1.2,1.2,1.3,.25]\n",
    "list4=[list1,list2,list3]\n",
    "print(list4)\n",
    "print(list4[1][1])"
   ]
  },
  {
   "cell_type": "code",
   "execution_count": 19,
   "metadata": {},
   "outputs": [
    {
     "name": "stdout",
     "output_type": "stream",
     "text": [
      "563\n",
      "5.44\n"
     ]
    }
   ],
   "source": [
    "#indexing\n",
    "listS=['s','asd', 563, 5.44]\n",
    "print(listS[2])\n",
    "print(listS[-1])"
   ]
  },
  {
   "cell_type": "code",
   "execution_count": 18,
   "metadata": {},
   "outputs": [
    {
     "name": "stdout",
     "output_type": "stream",
     "text": [
      "Abc\n"
     ]
    }
   ],
   "source": [
    "#nested indexing\n",
    "lista=[1,2,'Abc',True]\n",
    "listb=[1,2,3,4,5,6]\n",
    "list5=[lista,listb]\n",
    "list1=[1,2,3,4,5,6,7,8]\n",
    "list2=['a','b','c','d']\n",
    "list4=[list1,list2,list3,list5]\n",
    "print(list4[3][0][2])"
   ]
  },
  {
   "cell_type": "code",
   "execution_count": 28,
   "metadata": {},
   "outputs": [
    {
     "name": "stdout",
     "output_type": "stream",
     "text": [
      "['b', 'c', 'd']\n"
     ]
    }
   ],
   "source": [
    "#slicing\n",
    "print(list2[1:4])"
   ]
  },
  {
   "cell_type": "code",
   "execution_count": 31,
   "metadata": {},
   "outputs": [
    {
     "name": "stdout",
     "output_type": "stream",
     "text": [
      "[1, 2, 3, 4, 'hello', 6, 7, 8]\n"
     ]
    }
   ],
   "source": [
    "#adding\n",
    "list1[4]=\"hello\"\n",
    "print(list1)"
   ]
  },
  {
   "cell_type": "code",
   "execution_count": 34,
   "metadata": {},
   "outputs": [
    {
     "name": "stdout",
     "output_type": "stream",
     "text": [
      "[1, 2, 'A', 'B', 'hello', 6, 7, 8]\n"
     ]
    }
   ],
   "source": [
    "list1[2:4]=[\"A\",\"B\"]\n",
    "print(list1)"
   ]
  },
  {
   "cell_type": "code",
   "execution_count": 36,
   "metadata": {},
   "outputs": [
    {
     "name": "stdout",
     "output_type": "stream",
     "text": [
      "[1.2, 1.2, 1.3, 0.25, 'e aa e aa oooo', 'e aa e aa oooo']\n"
     ]
    }
   ],
   "source": [
    "#Append\n",
    "list3.append('e aa e aa oooo')\n",
    "print(list3)"
   ]
  },
  {
   "cell_type": "code",
   "execution_count": 39,
   "metadata": {},
   "outputs": [
    {
     "name": "stdout",
     "output_type": "stream",
     "text": [
      "[1.2, 1.2, 1.3, 0.25, 'e aa e aa oooo', 'e aa e aa oooo', 'dfdsf', 'fsdfs', 'efsdfs', 'dfdsf', 'fsdfs', 'efsdfs', 'dfdsf', 'fsdfs', 'efsdfs']\n"
     ]
    }
   ],
   "source": [
    "list3.extend(['dfdsf','fsdfs','efsdfs'])\n",
    "print(list3)"
   ]
  },
  {
   "cell_type": "code",
   "execution_count": 42,
   "metadata": {},
   "outputs": [
    {
     "name": "stdout",
     "output_type": "stream",
     "text": [
      "[11, 22, 33, 'a', 'b', 'A', 'b']\n"
     ]
    }
   ],
   "source": [
    "#concatination\n",
    "newLIST = [11,22,33]+list2\n",
    "print(newLIST)"
   ]
  },
  {
   "cell_type": "code",
   "execution_count": 48,
   "metadata": {},
   "outputs": [
    {
     "name": "stdout",
     "output_type": "stream",
     "text": [
      "['hey baby. ', 'hey baby. ', 'hey baby. ', 'hey baby. ']\n"
     ]
    },
    {
     "data": {
      "text/plain": [
       "4"
      ]
     },
     "execution_count": 48,
     "metadata": {},
     "output_type": "execute_result"
    }
   ],
   "source": [
    "#REPEAT\n",
    "newLIST=[\"hey baby. \"]*4\n",
    "print(newLIST)\n",
    "len(newLIST)"
   ]
  },
  {
   "cell_type": "code",
   "execution_count": 2,
   "metadata": {},
   "outputs": [
    {
     "ename": "NameError",
     "evalue": "name 'lista' is not defined",
     "output_type": "error",
     "traceback": [
      "\u001b[1;31m---------------------------------------------------------------------------\u001b[0m",
      "\u001b[1;31mNameError\u001b[0m                                 Traceback (most recent call last)",
      "\u001b[1;32m<ipython-input-2-31f82b78671d>\u001b[0m in \u001b[0;36m<module>\u001b[1;34m\u001b[0m\n\u001b[1;32m----> 1\u001b[1;33m \u001b[0mlista\u001b[0m\u001b[1;33m.\u001b[0m\u001b[0minsert\u001b[0m\u001b[1;33m(\u001b[0m\u001b[1;36m2\u001b[0m\u001b[1;33m,\u001b[0m\u001b[1;34m\"ho\"\u001b[0m\u001b[1;33m)\u001b[0m\u001b[1;33m\u001b[0m\u001b[1;33m\u001b[0m\u001b[0m\n\u001b[0m\u001b[0;32m      2\u001b[0m \u001b[0mprint\u001b[0m\u001b[1;33m(\u001b[0m\u001b[0mlista\u001b[0m\u001b[1;33m)\u001b[0m\u001b[1;33m\u001b[0m\u001b[1;33m\u001b[0m\u001b[0m\n\u001b[0;32m      3\u001b[0m \u001b[1;32mdel\u001b[0m \u001b[0mlista\u001b[0m\u001b[1;33m[\u001b[0m\u001b[1;36m2\u001b[0m\u001b[1;33m]\u001b[0m\u001b[1;33m\u001b[0m\u001b[1;33m\u001b[0m\u001b[0m\n\u001b[0;32m      4\u001b[0m \u001b[0mprint\u001b[0m\u001b[1;33m(\u001b[0m\u001b[0mlista\u001b[0m\u001b[1;33m)\u001b[0m\u001b[1;33m\u001b[0m\u001b[1;33m\u001b[0m\u001b[0m\n",
      "\u001b[1;31mNameError\u001b[0m: name 'lista' is not defined"
     ]
    }
   ],
   "source": [
    "lista.insert(2,\"ho\")\n",
    "print(lista)\n",
    "del lista[2]\n",
    "print(lista)"
   ]
  },
  {
   "cell_type": "code",
   "execution_count": 6,
   "metadata": {},
   "outputs": [
    {
     "name": "stdout",
     "output_type": "stream",
     "text": [
      "['a', 'b', 'c', 'd']\n",
      "['a', 'b', 'd']\n"
     ]
    }
   ],
   "source": [
    "#remove perticular element from list\n",
    "list2=['a','b','c','d']\n",
    "print(list2)\n",
    "list2.remove('c')\n",
    "print(list2)"
   ]
  },
  {
   "cell_type": "code",
   "execution_count": 10,
   "metadata": {},
   "outputs": [
    {
     "name": "stdout",
     "output_type": "stream",
     "text": [
      "['a', 'b', 'c', 'd']\n",
      "['a', 'b', 'c']\n"
     ]
    }
   ],
   "source": [
    "#pop\n",
    "list2=['a','b','c','d']\n",
    "print(list2)\n",
    "list2.pop()\n",
    "print(list2)"
   ]
  },
  {
   "cell_type": "code",
   "execution_count": 13,
   "metadata": {},
   "outputs": [
    {
     "name": "stdout",
     "output_type": "stream",
     "text": [
      "[5, 2, 6, 4, 8, 3, 1, 5, 1, 52]\n",
      "[1, 1, 2, 3, 4, 5, 5, 6, 8, 52]\n",
      "[52, 8, 6, 5, 5, 4, 3, 2, 1, 1]\n"
     ]
    }
   ],
   "source": [
    "\n",
    "#SORT\n",
    "newlist=[5,2,6,4,8,3,1,5,1,52]\n",
    "print(newlist)\n",
    "newlist.sort()\n",
    "print(newlist)\n",
    "newlist.sort(reverse=True)\n",
    "print(newlist)"
   ]
  },
  {
   "cell_type": "code",
   "execution_count": 16,
   "metadata": {},
   "outputs": [
    {
     "name": "stdout",
     "output_type": "stream",
     "text": [
      "[5, 4, 5, 4, 6, 2, 8, 4, 6, 2, 3, 7, 9]\n",
      "[2, 2, 3, 4, 4, 4, 5, 5, 6, 6, 7, 8, 9]\n"
     ]
    }
   ],
   "source": [
    "#sorted function\n",
    "newlist2=[5,4,5,4,6,2,8,4,6,2,3,7,9]\n",
    "A=sorted(newlist2)\n",
    "print(newlist2)\n",
    "print(A)\n",
    "\n"
   ]
  },
  {
   "cell_type": "code",
   "execution_count": 18,
   "metadata": {},
   "outputs": [
    {
     "name": "stdout",
     "output_type": "stream",
     "text": [
      "[0, 2, 2, 10, 12, 15, 33, 34, 78]\n",
      "[78, 34, 33, 15, 12, 10, 2, 2, 0]\n"
     ]
    }
   ],
   "source": [
    "age=[12,2,34,33,2,0,78,10,15]\n",
    "age.sort()\n",
    "print(age)\n",
    "desc=sorted(age,reverse=True)\n",
    "print(desc)"
   ]
  },
  {
   "cell_type": "code",
   "execution_count": 1,
   "metadata": {},
   "outputs": [
    {
     "name": "stdout",
     "output_type": "stream",
     "text": [
      "[2, 4, 2.4, 5.6, 'sd', 'ff', True]\n",
      "None\n"
     ]
    }
   ],
   "source": [
    "listMix=[2,4,2.4,5.6,\"sd\",'ff',True]\n",
    "print(listMix)\n",
    "a=listMix.reverse()\n",
    "print(a)"
   ]
  },
  {
   "cell_type": "code",
   "execution_count": 26,
   "metadata": {},
   "outputs": [
    {
     "name": "stdout",
     "output_type": "stream",
     "text": [
      "[True, 'ff', 'sd', 5.6, 2.4, 4, 2]\n"
     ]
    }
   ],
   "source": [
    "listMix[::-1]\n",
    "print(listMix)\n"
   ]
  },
  {
   "cell_type": "code",
   "execution_count": 27,
   "metadata": {},
   "outputs": [
    {
     "data": {
      "text/plain": [
       "2"
      ]
     },
     "execution_count": 27,
     "metadata": {},
     "output_type": "execute_result"
    }
   ],
   "source": [
    "list11=['a',\"df\",1,2,135,\"True\"]\n",
    "list11.index(1)"
   ]
  },
  {
   "cell_type": "code",
   "execution_count": 6,
   "metadata": {},
   "outputs": [
    {
     "name": "stdout",
     "output_type": "stream",
     "text": [
      "4\n"
     ]
    }
   ],
   "source": [
    "helo=[1,2,3,4,5,6,7]\n",
    "print(helo.index(5))"
   ]
  }
 ],
 "metadata": {
  "kernelspec": {
   "display_name": "Python 3",
   "language": "python",
   "name": "python3"
  },
  "language_info": {
   "codemirror_mode": {
    "name": "ipython",
    "version": 3
   },
   "file_extension": ".py",
   "mimetype": "text/x-python",
   "name": "python",
   "nbconvert_exporter": "python",
   "pygments_lexer": "ipython3",
   "version": "3.8.3"
  }
 },
 "nbformat": 4,
 "nbformat_minor": 4
}
