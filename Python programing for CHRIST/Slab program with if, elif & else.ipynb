{
 "cells": [
  {
   "cell_type": "code",
   "execution_count": 3,
   "metadata": {},
   "outputs": [
    {
     "name": "stdout",
     "output_type": "stream",
     "text": [
      "fghjk 55\n",
      "DFDSFDF 55\n"
     ]
    }
   ],
   "source": [
    "i=55\n",
    "print (\"fghjk %i\"%i)\n",
    "print (\"DFDSFDF\", i)"
   ]
  },
  {
   "cell_type": "code",
   "execution_count": 7,
   "metadata": {},
   "outputs": [
    {
     "name": "stdout",
     "output_type": "stream",
     "text": [
      "number obtaines 5\n",
      "Grade recieved is: B\n"
     ]
    }
   ],
   "source": [
    "c=int(input(\"number obtaines \"))\n",
    "\n",
    "if (c>=9 and c<=10):\n",
    "    print (\"Grade recieved is: A+\")\n",
    "elif(c>=6 and c<=8):\n",
    "    print (\"Grade recieved is: A\")\n",
    "elif(c>=5 and c<=7):\n",
    "    print (\"Grade recieved is: B\")\n",
    "else:\n",
    "    print (\"Grade recieved is: C\")    "
   ]
  },
  {
   "cell_type": "code",
   "execution_count": 3,
   "metadata": {},
   "outputs": [
    {
     "name": "stdout",
     "output_type": "stream",
     "text": [
      "Number of classes held  10\n",
      "Number of classes attended  5\n",
      "you can not attend next class, get out!!!\n"
     ]
    }
   ],
   "source": [
    "Held=int(input(\"Number of classes held  \"))\n",
    "attended=int(input(\"Number of classes attended  \"))\n",
    "\n",
    "pp = int(attended/Held*100)\n",
    "if(pp >= 75):\n",
    "    print(\"you can attend next class\")\n",
    "else:\n",
    "    print(\"you can not attend next class, get out!!!\")\n"
   ]
  },
  {
   "cell_type": "code",
   "execution_count": 2,
   "metadata": {},
   "outputs": [
    {
     "name": "stdout",
     "output_type": "stream",
     "text": [
      "ENTER MARKS OBTAINED55\n",
      "grade C\n"
     ]
    }
   ],
   "source": [
    "marks = int(input(\"ENTER MARKS OBTAINED\"))\n",
    "\n",
    "if(marks>=80):\n",
    "    print(\"grade A\")\n",
    "elif(marks>60 and marks<80):\n",
    "    print(\"grade B\")\n",
    "elif(marks>50 and marks<80):\n",
    "    print(\"grade C\")\n",
    "elif(marks>45 and marks<80):\n",
    "    print(\"grade D\")\n",
    "elif(marks>6 and marks<80):\n",
    "    print(\"grade E\")\n",
    "elif(marks>60 and marks<80):\n",
    "    print(\"grade F\")"
   ]
  }
 ],
 "metadata": {
  "kernelspec": {
   "display_name": "Python 3",
   "language": "python",
   "name": "python3"
  },
  "language_info": {
   "codemirror_mode": {
    "name": "ipython",
    "version": 3
   },
   "file_extension": ".py",
   "mimetype": "text/x-python",
   "name": "python",
   "nbconvert_exporter": "python",
   "pygments_lexer": "ipython3",
   "version": "3.8.3"
  }
 },
 "nbformat": 4,
 "nbformat_minor": 4
}
