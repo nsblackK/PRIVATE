{
 "cells": [
  {
   "cell_type": "code",
   "execution_count": 5,
   "metadata": {},
   "outputs": [
    {
     "name": "stdout",
     "output_type": "stream",
     "text": [
      "enter first number5\n",
      "enter second number7\n",
      "enter third number8\n",
      "sum of 5, 7 and 8 is 20\n",
      "difference of 5, 7 and 8 is -10\n",
      "multiplication of 5, 7 and 8 is 280\n",
      "integer division of 5 and 7 is 0.7142857142857143\n",
      "float division of  7 and 8 is 0\n",
      "exponent of 5 and 7 is 78125\n",
      "sum of 7 and 8 is 5764801\n",
      "mod of 5 x 7 and 8 is 3\n"
     ]
    }
   ],
   "source": [
    "a=int(input(\"enter first number\"))\n",
    "b=int(input(\"enter second number\"))\n",
    "c=int(input(\"enter third number\"))\n",
    "summ=a+b+c\n",
    "diff=a-b-c\n",
    "multi=a*b*c\n",
    "div1=a/b\n",
    "div2=b//c\n",
    "expo=a**b\n",
    "expo2=b**c\n",
    "mod=(a*b)%c\n",
    "\n",
    "print ('sum of %i, %i and %i is'%(a,b,c), summ)\n",
    "\n",
    "print ('difference of %i, %i and %i is'%(a,b,c), diff)\n",
    "print ('multiplication of %i, %i and %i is'%(a,b,c), multi)\n",
    "print ('integer division of %i and %i is'%(a,b,), div1)\n",
    "print ('float division of  %i and %i is'%(b,c), div2)\n",
    "\n",
    "print ('exponent of %i and %i is'%(a,b), expo)\n",
    "\n",
    "print ('sum of %i and %i is'%(b,c), expo2)\n",
    "print ('mod of %i x %i and %i is'%(a,b,c), mod)"
   ]
  },
  {
   "cell_type": "code",
   "execution_count": 1,
   "metadata": {},
   "outputs": [
    {
     "ename": "SyntaxError",
     "evalue": "invalid syntax (<ipython-input-1-9bce84742081>, line 3)",
     "output_type": "error",
     "traceback": [
      "\u001b[1;36m  File \u001b[1;32m\"<ipython-input-1-9bce84742081>\"\u001b[1;36m, line \u001b[1;32m3\u001b[0m\n\u001b[1;33m    print(x,+,y)\u001b[0m\n\u001b[1;37m             ^\u001b[0m\n\u001b[1;31mSyntaxError\u001b[0m\u001b[1;31m:\u001b[0m invalid syntax\n"
     ]
    }
   ],
   "source": [
    "x=2\n",
    "y=5\n",
    "print(x,+,y)"
   ]
  }
 ],
 "metadata": {
  "kernelspec": {
   "display_name": "Python 3",
   "language": "python",
   "name": "python3"
  },
  "language_info": {
   "codemirror_mode": {
    "name": "ipython",
    "version": 3
   },
   "file_extension": ".py",
   "mimetype": "text/x-python",
   "name": "python",
   "nbconvert_exporter": "python",
   "pygments_lexer": "ipython3",
   "version": "3.8.3"
  }
 },
 "nbformat": 4,
 "nbformat_minor": 4
}
