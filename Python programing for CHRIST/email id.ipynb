{
 "cells": [
  {
   "cell_type": "code",
   "execution_count": 2,
   "metadata": {},
   "outputs": [
    {
     "name": "stdout",
     "output_type": "stream",
     "text": [
      "Enter the email ID: dhfghgfdsasdf\n",
      "Email ID is Invalid\n",
      "Enter the email ID: 2222\n",
      "Email ID is Invalid\n",
      "Enter the email ID: 2@dd\n",
      "Email ID is Invalid\n",
      "Enter the email ID: @.com\n",
      "Email ID is Invalid\n",
      "Enter the email ID: s@.com\n",
      "Email ID is Valid\n"
     ]
    }
   ],
   "source": [
    "import re\n",
    "while True:\n",
    "    string=input(\"Enter the email ID: \")\n",
    "    pattern = re.compile('^[A-za-z0-9_]')\n",
    "    n=0\n",
    "    result= pattern.match(string)\n",
    "    if result:\n",
    "        a=('[@]')\n",
    "        result = re.search(a,string)\n",
    "        if result:\n",
    "            a=re.compile('[A-Za-z]$')\n",
    "            result = re.search(a,string)\n",
    "            if result!=None:\n",
    "                a=re.compile('[^A-Za-z0-9_@.]')\n",
    "                result=re.search(a,string)\n",
    "                if(not result):\n",
    "                    a='\\.'\n",
    "                    result= re.search(a,string)\n",
    "                    if result:\n",
    "                        print(\"Email ID is Valid\")\n",
    "                        n=1\n",
    "\n",
    "    if n==0:\n",
    "        print(\"Email ID is Invalid\")\n",
    "    else:\n",
    "        break"
   ]
  }
 ],
 "metadata": {
  "kernelspec": {
   "display_name": "Python 3",
   "language": "python",
   "name": "python3"
  },
  "language_info": {
   "codemirror_mode": {
    "name": "ipython",
    "version": 3
   },
   "file_extension": ".py",
   "mimetype": "text/x-python",
   "name": "python",
   "nbconvert_exporter": "python",
   "pygments_lexer": "ipython3",
   "version": "3.8.3"
  }
 },
 "nbformat": 4,
 "nbformat_minor": 4
}
