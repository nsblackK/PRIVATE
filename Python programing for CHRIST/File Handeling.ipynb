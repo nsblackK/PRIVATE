{
 "cells": [
  {
   "cell_type": "code",
   "execution_count": 1,
   "metadata": {},
   "outputs": [
    {
     "name": "stdout",
     "output_type": "stream",
     "text": [
      "hulahas the edit\n",
      "ooooooooooooooooooooooooooo\n",
      "ooooooooooooooooooooooooooo\n",
      "ooooooooooooooooooooooooooo\n"
     ]
    }
   ],
   "source": [
    "file1 = open(\"File A\",\"r\")\n",
    "a=file1.read()\n",
    "print(a)"
   ]
  },
  {
   "cell_type": "code",
   "execution_count": 3,
   "metadata": {},
   "outputs": [
    {
     "data": {
      "text/plain": [
       "16"
      ]
     },
     "execution_count": 3,
     "metadata": {},
     "output_type": "execute_result"
    }
   ],
   "source": [
    "file1 = open(\"File A\",\"w\")#w means write mode\n",
    "file1.write(\"THis is the edit\")#overrites the whole file\n",
    "\n"
   ]
  },
  {
   "cell_type": "code",
   "execution_count": 6,
   "metadata": {},
   "outputs": [
    {
     "name": "stdout",
     "output_type": "stream",
     "text": [
      "THis is the edit\n"
     ]
    }
   ],
   "source": [
    "file1 = open(\"File A\",\"r\")\n",
    "print(file1.read())"
   ]
  },
  {
   "cell_type": "code",
   "execution_count": 2,
   "metadata": {},
   "outputs": [
    {
     "data": {
      "text/plain": [
       "8"
      ]
     },
     "execution_count": 2,
     "metadata": {},
     "output_type": "execute_result"
    }
   ],
   "source": [
    "file=open(\"text\",\"a\")#creats a new file in not previously existing, onlt happens in write mode\n",
    "file.write(\"hulaha, zesxdrcfgvhbjnkmexrdctf gvyhjktfc ygvhbj\")\n",
    "file.write(\"\\nhulaha,\")"
   ]
  },
  {
   "cell_type": "code",
   "execution_count": 14,
   "metadata": {},
   "outputs": [
    {
     "name": "stdout",
     "output_type": "stream",
     "text": [
      "s the edit\n"
     ]
    }
   ],
   "source": [
    "file2=open(\"file A\", mode=\"r+\")\n",
    "file2.write(\"hulaha\")\n",
    "fileB=open(\"Hello\",\"r\")\n",
    "a=fileB.read()\n",
    "print(a)"
   ]
  },
  {
   "cell_type": "code",
   "execution_count": null,
   "metadata": {},
   "outputs": [],
   "source": [
    "#open\n",
    "#read\n",
    "#write\n",
    "#modes=r,w,r+,a\n"
   ]
  },
  {
   "cell_type": "code",
   "execution_count": 17,
   "metadata": {},
   "outputs": [
    {
     "data": {
      "text/plain": [
       "28"
      ]
     },
     "execution_count": 17,
     "metadata": {},
     "output_type": "execute_result"
    }
   ],
   "source": [
    "file2=open(\"file A\", mode=\"a\")\n",
    "file2.write(\"\\nooooooooooooooooooooooooooo\")\n",
    "#print(file2.read())"
   ]
  },
  {
   "cell_type": "code",
   "execution_count": 19,
   "metadata": {},
   "outputs": [],
   "source": [
    "file2.close()"
   ]
  },
  {
   "cell_type": "code",
   "execution_count": null,
   "metadata": {},
   "outputs": [],
   "source": [
    "#read"
   ]
  },
  {
   "cell_type": "code",
   "execution_count": 26,
   "metadata": {},
   "outputs": [
    {
     "name": "stdout",
     "output_type": "stream",
     "text": [
      "hulaha, zesxdrcfgvhbjnkmexrdctf gvyhjktfc ygvhbj\n",
      "\n",
      "hulaha,\n"
     ]
    }
   ],
   "source": [
    "#readline\n",
    "file3=open(\"text\",\"r\")\n",
    "print(file3.readline())\n",
    "print(file3.readline())"
   ]
  },
  {
   "cell_type": "code",
   "execution_count": 28,
   "metadata": {},
   "outputs": [
    {
     "name": "stdout",
     "output_type": "stream",
     "text": [
      "['hulaha, zesxdrcfgvhbjnkmexrdctf gvyhjktfc ygvhbj\\n', 'hulaha,']\n"
     ]
    }
   ],
   "source": [
    "#readlines\n",
    "file3=open(\"text\",\"r\")\n",
    "print(file3.readlines())"
   ]
  },
  {
   "cell_type": "code",
   "execution_count": null,
   "metadata": {},
   "outputs": [],
   "source": [
    "file=open(\"text\",\"a\")"
   ]
  }
 ],
 "metadata": {
  "kernelspec": {
   "display_name": "Python 3",
   "language": "python",
   "name": "python3"
  },
  "language_info": {
   "codemirror_mode": {
    "name": "ipython",
    "version": 3
   },
   "file_extension": ".py",
   "mimetype": "text/x-python",
   "name": "python",
   "nbconvert_exporter": "python",
   "pygments_lexer": "ipython3",
   "version": "3.8.3"
  }
 },
 "nbformat": 4,
 "nbformat_minor": 4
}
