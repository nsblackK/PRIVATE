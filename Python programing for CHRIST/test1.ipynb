{
 "cells": [
  {
   "cell_type": "code",
   "execution_count": 9,
   "metadata": {},
   "outputs": [
    {
     "name": "stdout",
     "output_type": "stream",
     "text": [
      "enter an integer number5\n",
      "press q to quit input\n",
      "enter an integer number5\n",
      "press q to quit input\n",
      "enter an integer number5\n",
      "press q to quit input\n",
      "enter an integer number5\n",
      "press q to quit input\n",
      "enter an integer numberq\n",
      "press q to quit input\n",
      "[5, 5, 5, 5]\n",
      "625 5.0\n"
     ]
    }
   ],
   "source": [
    "# Task 1:Take integer inputs from the user until he/she presses q ( Ask to press q to quit after every integer input ). \n",
    "# Task 2:Print average and product of all numbers entered.\n",
    "\n",
    "listA = []\n",
    "\n",
    "for i in range (1,10000):\n",
    "    b=(input(\"enter an integer number\"))\n",
    "    print(\"press q to quit input\")\n",
    "    if(b==\"q\"):\n",
    "        break\n",
    "    listA.append(int(b))\n",
    "print(listA) \n",
    "s=0\n",
    "p=1\n",
    "l=len(listA)\n",
    "for j in listA:\n",
    "    s+=j\n",
    "    p*=j\n",
    "    avg=s/l\n",
    "print(p,avg)"
   ]
  }
 ],
 "metadata": {
  "kernelspec": {
   "display_name": "Python 3",
   "language": "python",
   "name": "python3"
  },
  "language_info": {
   "codemirror_mode": {
    "name": "ipython",
    "version": 3
   },
   "file_extension": ".py",
   "mimetype": "text/x-python",
   "name": "python",
   "nbconvert_exporter": "python",
   "pygments_lexer": "ipython3",
   "version": "3.8.3"
  }
 },
 "nbformat": 4,
 "nbformat_minor": 4
}
