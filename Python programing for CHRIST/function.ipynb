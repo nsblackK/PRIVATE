{
 "cells": [
  {
   "cell_type": "code",
   "execution_count": 1,
   "metadata": {},
   "outputs": [
    {
     "name": "stdout",
     "output_type": "stream",
     "text": [
      "Enter a number9\n",
      "Enter a sign: + for plus, - for minus, * for multiply, / for division, % for mod+\n",
      "Enter another number3\n",
      "12\n"
     ]
    }
   ],
   "source": [
    "#CALCULATOR USING FUNCTION\n",
    "\n",
    "def summ(x,y):\n",
    "    print(x+y)\n",
    "    \n",
    "def diff(x,y):\n",
    "    print(x-y)\n",
    "    \n",
    "def mul(x,y):\n",
    "    print(x*y)\n",
    "    \n",
    "def div(x,y):\n",
    "    print(x/y)\n",
    "    \n",
    "def mod(x,y):\n",
    "    print(x**y)\n",
    "    \n",
    "num1=int(input(\"Enter a number\"))\n",
    "symbol=input(\"Enter a sign: + for plus, - for minus, * for multiply, / for division, % for mod\")\n",
    "num2=int(input(\"Enter another number\"))\n",
    "\n",
    "if(symbol==\"+\"):\n",
    "    summ(num1,num2)\n",
    "elif(symbol==\"-\"):\n",
    "    diff(num1,num2)\n",
    "elif(symbol==\"*\"):\n",
    "    mul(num1,num2)\n",
    "elif(symbol==\"/\"):\n",
    "    div(num1,num2)\n",
    "elif(symbol==\"%\"):\n",
    "    mod(num1,num2)"
   ]
  }
 ],
 "metadata": {
  "kernelspec": {
   "display_name": "Python 3",
   "language": "python",
   "name": "python3"
  },
  "language_info": {
   "codemirror_mode": {
    "name": "ipython",
    "version": 3
   },
   "file_extension": ".py",
   "mimetype": "text/x-python",
   "name": "python",
   "nbconvert_exporter": "python",
   "pygments_lexer": "ipython3",
   "version": "3.8.3"
  }
 },
 "nbformat": 4,
 "nbformat_minor": 4
}
