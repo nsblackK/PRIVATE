{
 "cells": [
  {
   "cell_type": "code",
   "execution_count": 1,
   "metadata": {},
   "outputs": [
    {
     "name": "stdout",
     "output_type": "stream",
     "text": [
      "4\n"
     ]
    }
   ],
   "source": [
    "listA=['it','one','i','Three','Five','in','Python']\n",
    "c=0\n",
    "r=int(len(listA))\n",
    "for i in range(0,r):\n",
    "    if (len(listA[i])>2):\n",
    "        c+=1\n",
    "print(c)"
   ]
  },
  {
   "cell_type": "code",
   "execution_count": 2,
   "metadata": {},
   "outputs": [
    {
     "name": "stdout",
     "output_type": "stream",
     "text": [
      "1\n"
     ]
    }
   ],
   "source": [
    "listA=['it','one','i','ThreeT','Five','in','Python']\n",
    "c=0\n",
    "r=int(len(listA))\n",
    "for i in listA:\n",
    "    if len(i)!=1 and (i[0]==i[-1]):\n",
    "        c+=1\n",
    "print(c)"
   ]
  },
  {
   "cell_type": "code",
   "execution_count": 4,
   "metadata": {},
   "outputs": [
    {
     "name": "stdout",
     "output_type": "stream",
     "text": [
      "['Five', 'one', 'i', 'ThreeT', 'in']\n"
     ]
    }
   ],
   "source": [
    "listB=['Five','in','one','one','i','ThreeT',\"in\"]\n",
    "#r=int(len(listB))\n",
    "for i in listB:\n",
    "    for j in listB[listB.index(i)+1:]:\n",
    "        if (i==j):\n",
    "            listB.remove(i)\n",
    "print(listB)\n"
   ]
  },
  {
   "cell_type": "code",
   "execution_count": 23,
   "metadata": {},
   "outputs": [
    {
     "name": "stdout",
     "output_type": "stream",
     "text": [
      "i\n",
      "ThreeT\n",
      "Five\n",
      "in\n",
      "Python\n"
     ]
    }
   ],
   "source": [
    "for i in listA[2:]:\n",
    "    print(i)"
   ]
  },
  {
   "cell_type": "code",
   "execution_count": 13,
   "metadata": {},
   "outputs": [
    {
     "name": "stdout",
     "output_type": "stream",
     "text": [
      "[36, 49, 64, 81, 100, 121, 144, 169, 196, 225, 256, 289, 324, 361, 400, 441, 484, 529, 576, 625, 676, 729, 784, 841, 900]\n",
      "[1, 4, 9, 16, 25, 36, 49, 64, 81, 100, 121, 144, 169, 196, 225, 256, 289, 324, 361, 400, 441, 484, 529, 576, 625, 676, 729, 784, 841, 900]\n"
     ]
    }
   ],
   "source": [
    "A=[]\n",
    "for i in range(1,31):\n",
    "    sq=i**2\n",
    "    A.append(sq)\n",
    "print(A[5:])\n",
    "print(A)"
   ]
  },
  {
   "cell_type": "code",
   "execution_count": 20,
   "metadata": {},
   "outputs": [
    {
     "name": "stdout",
     "output_type": "stream",
     "text": [
      "enter search key5\n",
      "not existing\n"
     ]
    }
   ],
   "source": [
    "name = {1:'akash',2:'ansh',3:'akshita',4:'arun'}\n",
    "c=name.keys()\n",
    "#print(c)\n",
    "k=0\n",
    "r=int(input(\"enter search key\"))\n",
    "for i in c:\n",
    "    if i==r:\n",
    "        k=1\n",
    "if(k==1):\n",
    "    print(\"existing\")\n",
    "else:\n",
    "    print(\"not existing\")"
   ]
  },
  {
   "cell_type": "code",
   "execution_count": null,
   "metadata": {},
   "outputs": [],
   "source": [
    "D1 = {}\n",
    "for i in range(1,16):\n",
    "    r=input(\"enter element\")\n",
    "    D1[i]=r5\n",
    "print(D1)\n",
    "    "
   ]
  }
 ],
 "metadata": {
  "kernelspec": {
   "display_name": "Python 3",
   "language": "python",
   "name": "python3"
  },
  "language_info": {
   "codemirror_mode": {
    "name": "ipython",
    "version": 3
   },
   "file_extension": ".py",
   "mimetype": "text/x-python",
   "name": "python",
   "nbconvert_exporter": "python",
   "pygments_lexer": "ipython3",
   "version": "3.8.3"
  }
 },
 "nbformat": 4,
 "nbformat_minor": 4
}
