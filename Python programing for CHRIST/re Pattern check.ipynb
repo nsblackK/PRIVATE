{
 "cells": [
  {
   "cell_type": "code",
   "execution_count": 5,
   "metadata": {},
   "outputs": [
    {
     "name": "stdout",
     "output_type": "stream",
     "text": [
      "enter a number46846313\n",
      "no\n"
     ]
    }
   ],
   "source": [
    "import re\n",
    "num=input(\"enter a number\")\n",
    "a='^[6-9][0-9]{9}'#[]for range, {}for number of characters,\n",
    "result=re.match(a,num)\n",
    "\n",
    "if result:\n",
    "    print(\"yes\")\n",
    "else:\n",
    "    print(\"no\")"
   ]
  },
  {
   "cell_type": "code",
   "execution_count": 3,
   "metadata": {},
   "outputs": [],
   "source": [
    "# [] - They are used for specifying a character class [A-Za-z]\n",
    "# . - every character\n",
    "# ^ - start with or complement ^[A-Z]\n",
    "# $ - end with\n",
    "# * - zero or occurance [0-9]*   '98746560'\n",
    "# + - one or more occurance\n",
    "# \\ - escape a literal \n",
    "# | - or\n",
    "# () - group\n",
    "# {} - number of occurance\n",
    "# natch - determine if the RE matches at the beginning of the string.\n",
    "# search - scan through a string, looking for any location where this RE matches"
   ]
  },
  {
   "cell_type": "code",
   "execution_count": null,
   "metadata": {},
   "outputs": [],
   "source": []
  }
 ],
 "metadata": {
  "kernelspec": {
   "display_name": "Python 3",
   "language": "python",
   "name": "python3"
  },
  "language_info": {
   "codemirror_mode": {
    "name": "ipython",
    "version": 3
   },
   "file_extension": ".py",
   "mimetype": "text/x-python",
   "name": "python",
   "nbconvert_exporter": "python",
   "pygments_lexer": "ipython3",
   "version": "3.8.3"
  }
 },
 "nbformat": 4,
 "nbformat_minor": 4
}
