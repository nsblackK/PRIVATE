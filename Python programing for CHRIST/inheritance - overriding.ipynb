{
 "cells": [
  {
   "cell_type": "code",
   "execution_count": 1,
   "metadata": {},
   "outputs": [
    {
     "name": "stdout",
     "output_type": "stream",
     "text": [
      "animals do move\n",
      "tigers run\n",
      "cats do move\n",
      "dogs do move\n",
      "animals do move\n"
     ]
    }
   ],
   "source": [
    "class animal:\n",
    "    def move(self):\n",
    "        print(\"animals do move\")\n",
    "class dogs(animal):\n",
    "    def move(self):\n",
    "        print(\"dogs do move\")\n",
    "class cats(animal):\n",
    "    def move(self):\n",
    "        print(\"cats do move\")\n",
    "class tigers(animal):\n",
    "    def move(self):\n",
    "        super().move()\n",
    "        print(\"tigers run\")\n",
    "obj1=tigers()\n",
    "obj1.move()\n",
    "\n",
    "obj2=cats()\n",
    "obj2.move()\n",
    "\n",
    "obj3=dogs()\n",
    "obj3.move()\n",
    "\n",
    "obj4=animal()\n",
    "obj4.move()"
   ]
  },
  {
   "cell_type": "code",
   "execution_count": null,
   "metadata": {},
   "outputs": [],
   "source": []
  }
 ],
 "metadata": {
  "kernelspec": {
   "display_name": "Python 3",
   "language": "python",
   "name": "python3"
  },
  "language_info": {
   "codemirror_mode": {
    "name": "ipython",
    "version": 3
   },
   "file_extension": ".py",
   "mimetype": "text/x-python",
   "name": "python",
   "nbconvert_exporter": "python",
   "pygments_lexer": "ipython3",
   "version": "3.8.3"
  }
 },
 "nbformat": 4,
 "nbformat_minor": 4
}
