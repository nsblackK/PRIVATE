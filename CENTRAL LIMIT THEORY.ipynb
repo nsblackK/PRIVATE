{
 "cells": [
  {
   "cell_type": "code",
   "execution_count": 8,
   "metadata": {},
   "outputs": [
    {
     "data": {
      "image/png": "[encoded data removed]",
      "text/plain": [
       "Plot with title \"Histogram of r\""
      ]
     },
     "metadata": {},
     "output_type": "display_data"
    }
   ],
   "source": [
    "#create 10000 numbers with uniform distribution\n",
    "r<- runif (10000) #generete random uniform numbers\n",
    "hist(r)"
   ]
  },
  {
   "cell_type": "code",
   "execution_count": 32,
   "metadata": {},
   "outputs": [
    {
     "data": {
      "text/html": [
       "0.498347442939179"
      ],
      "text/latex": [
       "0.498347442939179"
      ],
      "text/markdown": [
       "0.498347442939179"
      ],
      "text/plain": [
       "[1] 0.4983474"
      ]
     },
     "metadata": {},
     "output_type": "display_data"
    }
   ],
   "source": [
    "meanr=mean(r)\n",
    "meanr"
   ]
  },
  {
   "cell_type": "code",
   "execution_count": 29,
   "metadata": {},
   "outputs": [
    {
     "data": {
      "text/html": [
       "0.28695139928929"
      ],
      "text/latex": [
       "0.28695139928929"
      ],
      "text/markdown": [
       "0.28695139928929"
      ],
      "text/plain": [
       "[1] 0.2869514"
      ]
     },
     "metadata": {},
     "output_type": "display_data"
    }
   ],
   "source": [
    "srd<- sd(r)#standard deviation\n",
    "srd"
   ]
  },
  {
   "cell_type": "code",
   "execution_count": 14,
   "metadata": {},
   "outputs": [
    {
     "data": {
      "text/html": [
       "0.426540897932136"
      ],
      "text/latex": [
       "0.426540897932136"
      ],
      "text/markdown": [
       "0.426540897932136"
      ],
      "text/plain": [
       "[1] 0.4265409"
      ]
     },
     "metadata": {},
     "output_type": "display_data"
    }
   ],
   "source": [
    "##draw random 4 sample and calculate mean\n",
    "a=sample(r,40)\n",
    "mean(a)"
   ]
  },
  {
   "cell_type": "code",
   "execution_count": 23,
   "metadata": {},
   "outputs": [
    {
     "data": {
      "text/html": [
       "0.310292226844467"
      ],
      "text/latex": [
       "0.310292226844467"
      ],
      "text/markdown": [
       "0.310292226844467"
      ],
      "text/plain": [
       "[1] 0.3102922"
      ]
     },
     "metadata": {},
     "output_type": "display_data"
    }
   ],
   "source": [
    "#draw 4 sample from the uniformly distributed population r, 1000 times and take mean\n",
    "#of these ans draw histogram of these sample means\n",
    "c14 <- mean(sample(r,4))\n",
    "for(i in 1:1000){c14 <- c(mean(sample(r,4)))}\n",
    "hist(c14)"
   ]
  },
  {
   "cell_type": "code",
   "execution_count": 19,
   "metadata": {},
   "outputs": [
    {
     "data": {
      "text/html": [
       "0.497318898822036"
      ],
      "text/latex": [
       "0.497318898822036"
      ],
      "text/markdown": [
       "0.497318898822036"
      ],
      "text/plain": [
       "[1] 0.4973189"
      ]
     },
     "metadata": {},
     "output_type": "display_data"
    },
    {
     "data": {
      "text/html": [
       "0.137875590502324"
      ],
      "text/latex": [
       "0.137875590502324"
      ],
      "text/markdown": [
       "0.137875590502324"
      ],
      "text/plain": [
       "[1] 0.1378756"
      ]
     },
     "metadata": {},
     "output_type": "display_data"
    }
   ],
   "source": [
    "#take the mean and sd of the sample mean which has been stored in the vector c14\n",
    "meanc14 <- mean(c14)\n",
    "meanc14\n",
    "\n",
    "sdc14 <- sd(c14)\n",
    "sdc14"
   ]
  },
  {
   "cell_type": "code",
   "execution_count": 34,
   "metadata": {},
   "outputs": [
    {
     "data": {
      "image/png": "[encoded data removed]",
      "text/plain": [
       "Plot with title \"4 sample\""
      ]
     },
     "metadata": {},
     "output_type": "display_data"
    }
   ],
   "source": [
    "#your work now instead of taking 4 samples at a time,\n",
    "#let draw 9 sample at a time\n",
    "par(mfrow = c(2,2))\n",
    "hist(r, main = '1 sample')\n",
    "mtext(srd, side=3)\n",
    "mtext(meanr,side=4)\n",
    "\n",
    "hist(c14, main = \"4 sample\")\n",
    "mtext(sdc14, side=3)\n",
    "mtext(meanc14, side=4)"
   ]
  },
  {
   "cell_type": "code",
   "execution_count": 39,
   "metadata": {},
   "outputs": [
    {
     "data": {
      "text/html": [
       "<ol class=list-inline>\n",
       "\t<li>2.0542066314521</li>\n",
       "\t<li>0.112263422940231</li>\n",
       "\t<li>1.31714216438102</li>\n",
       "\t<li>-0.889453861006769</li>\n",
       "\t<li>0.752387613898311</li>\n",
       "\t<li>0.0787713851314598</li>\n",
       "\t<li>-0.755351281549121</li>\n",
       "\t<li>-2.4123404934824</li>\n",
       "\t<li>-0.938637638028855</li>\n",
       "\t<li>0.865301181470628</li>\n",
       "</ol>\n"
      ],
      "text/latex": [
       "\\begin{enumerate*}\n",
       "\\item 2.0542066314521\n",
       "\\item 0.112263422940231\n",
       "\\item 1.31714216438102\n",
       "\\item -0.889453861006769\n",
       "\\item 0.752387613898311\n",
       "\\item 0.0787713851314598\n",
       "\\item -0.755351281549121\n",
       "\\item -2.4123404934824\n",
       "\\item -0.938637638028855\n",
       "\\item 0.865301181470628\n",
       "\\end{enumerate*}\n"
      ],
      "text/markdown": [
       "1. 2.0542066314521\n",
       "2. 0.112263422940231\n",
       "3. 1.31714216438102\n",
       "4. -0.889453861006769\n",
       "5. 0.752387613898311\n",
       "6. 0.0787713851314598\n",
       "7. -0.755351281549121\n",
       "8. -2.4123404934824\n",
       "9. -0.938637638028855\n",
       "10. 0.865301181470628\n",
       "\n",
       "\n"
      ],
      "text/plain": [
       " [1]  2.05420663  0.11226342  1.31714216 -0.88945386  0.75238761  0.07877139\n",
       " [7] -0.75535128 -2.41234049 -0.93863764  0.86530118"
      ]
     },
     "metadata": {},
     "output_type": "display_data"
    },
    {
     "data": {
      "text/html": [
       "<ol class=list-inline>\n",
       "\t<li>99.7542057978256</li>\n",
       "\t<li>99.1567681768426</li>\n",
       "\t<li>99.0347313462022</li>\n",
       "\t<li>100.029493359964</li>\n",
       "\t<li>99.0949010076994</li>\n",
       "\t<li>99.3200044378462</li>\n",
       "\t<li>99.6362117537957</li>\n",
       "\t<li>100.326913946686</li>\n",
       "\t<li>100.046977507188</li>\n",
       "\t<li>100.160410556149</li>\n",
       "</ol>\n"
      ],
      "text/latex": [
       "\\begin{enumerate*}\n",
       "\\item 99.7542057978256\n",
       "\\item 99.1567681768426\n",
       "\\item 99.0347313462022\n",
       "\\item 100.029493359964\n",
       "\\item 99.0949010076994\n",
       "\\item 99.3200044378462\n",
       "\\item 99.6362117537957\n",
       "\\item 100.326913946686\n",
       "\\item 100.046977507188\n",
       "\\item 100.160410556149\n",
       "\\end{enumerate*}\n"
      ],
      "text/markdown": [
       "1. 99.7542057978256\n",
       "2. 99.1567681768426\n",
       "3. 99.0347313462022\n",
       "4. 100.029493359964\n",
       "5. 99.0949010076994\n",
       "6. 99.3200044378462\n",
       "7. 99.6362117537957\n",
       "8. 100.326913946686\n",
       "9. 100.046977507188\n",
       "10. 100.160410556149\n",
       "\n",
       "\n"
      ],
      "text/plain": [
       " [1]  99.75421  99.15677  99.03473 100.02949  99.09490  99.32000  99.63621\n",
       " [8] 100.32691 100.04698 100.16041"
      ]
     },
     "metadata": {},
     "output_type": "display_data"
    },
    {
     "data": {
      "text/html": [
       "0.5"
      ],
      "text/latex": [
       "0.5"
      ],
      "text/markdown": [
       "0.5"
      ],
      "text/plain": [
       "[1] 0.5"
      ]
     },
     "metadata": {},
     "output_type": "display_data"
    },
    {
     "data": {
      "text/html": [
       "0.0249978951482204"
      ],
      "text/latex": [
       "0.0249978951482204"
      ],
      "text/markdown": [
       "0.0249978951482204"
      ],
      "text/plain": [
       "[1] 0.0249979"
      ]
     },
     "metadata": {},
     "output_type": "display_data"
    },
    {
     "data": {
      "text/html": [
       "-1.64485362695147"
      ],
      "text/latex": [
       "-1.64485362695147"
      ],
      "text/markdown": [
       "-1.64485362695147"
      ],
      "text/plain": [
       "[1] -1.644854"
      ]
     },
     "metadata": {},
     "output_type": "display_data"
    }
   ],
   "source": [
    "#normal probability distrinbution\n",
    "#randomly generate sample from standard normal distribution\n",
    "rnorm(10)\n",
    "#randomly generate sample from normal distribution (men=100, sd-1)\n",
    "rnorm(10, mean = 100, sd=1)\n",
    "#at z = 0 the valueof prob is 0.5\n",
    "pnorm(0)\n",
    "#at z= -1.96, the probability is 0.025\n",
    "pnorm(-1.96)\n",
    "#what at z= -1.64, the prob value is ?\n",
    "#qnorm\n",
    "qnorm(0.05)"
   ]
  }
 ],
 "metadata": {
  "kernelspec": {
   "display_name": "R",
   "language": "R",
   "name": "ir"
  },
  "language_info": {
   "codemirror_mode": "r",
   "file_extension": ".r",
   "mimetype": "text/x-r-source",
   "name": "R",
   "pygments_lexer": "r",
   "version": "3.6.1"
  }
 },
 "nbformat": 4,
 "nbformat_minor": 4
}
