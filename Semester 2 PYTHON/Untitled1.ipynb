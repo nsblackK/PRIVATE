{
 "cells": [
  {
   "cell_type": "code",
   "execution_count": 10,
   "metadata": {},
   "outputs": [
    {
     "name": "stdout",
     "output_type": "stream",
     "text": [
      "enter country nameindia\n",
      "<class 'list'>\n",
      "<class 'str'>\n"
     ]
    }
   ],
   "source": [
    "import urllib.request, urllib.parse\n",
    "import json\n",
    "\n",
    "furl = \"http://universities.hipolabs.com/search?\"\n",
    "c=input(\"enter country name\")\n",
    "lurl =urllib.parse.urlencode({\"country\":c})\n",
    "url=furl+lurl\n",
    "\n",
    "#print(url)\n",
    "data= urllib.request.urlopen(url)\n",
    "jdata=data.read().decode()\n",
    "d=json.loads(jdata)\n",
    "\n",
    "print(type(d))\n",
    "\n",
    "d=json.dumps(jdata)\n",
    "\n",
    "print(type(d))\n",
    "\n"
   ]
  },
  {
   "cell_type": "code",
   "execution_count": 4,
   "metadata": {},
   "outputs": [
    {
     "name": "stdout",
     "output_type": "stream",
     "text": [
      "Roy\n",
      "Sam\n"
     ]
    }
   ],
   "source": [
    "import xml.etree.ElementTree as ET\n",
    "\n",
    "input=\"\"\"<students>\n",
    "\t<student id='1'>\n",
    "\t\t<name>Roy</name>\n",
    "\t\t<age>21</age>\n",
    "\t\t<phone>874644666</phone>\n",
    "\t</student>\n",
    "\n",
    "\t<student id ='2'>\n",
    "\t\t<name>Sam</name>\n",
    "\t\t<age>19</age>\n",
    "\t\t<phone>111224456</phone>\n",
    "\t</student>\n",
    "</students>\"\"\"\n",
    "\n",
    "data= ET.fromstring(input)\n",
    "\n",
    "a=data.findall('student')\n",
    "for i in a:\n",
    "    print(i.find('name').text)"
   ]
  }
 ],
 "metadata": {
  "kernelspec": {
   "display_name": "Python 3",
   "language": "python",
   "name": "python3"
  },
  "language_info": {
   "codemirror_mode": {
    "name": "ipython",
    "version": 3
   },
   "file_extension": ".py",
   "mimetype": "text/x-python",
   "name": "python",
   "nbconvert_exporter": "python",
   "pygments_lexer": "ipython3",
   "version": "3.8.3"
  }
 },
 "nbformat": 4,
 "nbformat_minor": 4
}
