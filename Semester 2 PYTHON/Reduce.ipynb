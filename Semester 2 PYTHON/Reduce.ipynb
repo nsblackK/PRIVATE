{
 "cells": [
  {
   "cell_type": "code",
   "execution_count": 5,
   "metadata": {},
   "outputs": [
    {
     "name": "stdout",
     "output_type": "stream",
     "text": [
      "56\n"
     ]
    }
   ],
   "source": [
    "a=[1,4,2,6,8,3,8,7,8,9]\n",
    "\n",
    "def sum(a):\n",
    "    s=0\n",
    "    for i in a:\n",
    "        s=s+i\n",
    "    return s\n",
    "    \n",
    "data=sum(a)\n",
    "print(data)"
   ]
  },
  {
   "cell_type": "code",
   "execution_count": 7,
   "metadata": {},
   "outputs": [
    {
     "name": "stdout",
     "output_type": "stream",
     "text": [
      "56\n"
     ]
    }
   ],
   "source": [
    "#reduce(func,iterable)\n",
    "\n",
    "from functools import reduce\n",
    "a=[1,4,2,6,8,3,8,7,8,9]\n",
    "def fun (a,b):\n",
    "    return a+b\n",
    "data=reduce(fun ,a)\n",
    "print(data)"
   ]
  }
 ],
 "metadata": {
  "kernelspec": {
   "display_name": "Python 3",
   "language": "python",
   "name": "python3"
  },
  "language_info": {
   "codemirror_mode": {
    "name": "ipython",
    "version": 3
   },
   "file_extension": ".py",
   "mimetype": "text/x-python",
   "name": "python",
   "nbconvert_exporter": "python",
   "pygments_lexer": "ipython3",
   "version": "3.8.3"
  }
 },
 "nbformat": 4,
 "nbformat_minor": 4
}
