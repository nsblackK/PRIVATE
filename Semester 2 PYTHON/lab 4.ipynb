{
 "cells": [
  {
   "cell_type": "code",
   "execution_count": 95,
   "metadata": {},
   "outputs": [
    {
     "name": "stdout",
     "output_type": "stream",
     "text": [
      "Enter URL: https://www1.gogoanimeplay.net/\n",
      "Connected\n",
      "<class 'str'>\n",
      "48\n",
      "HTTP/1.1 400 Bad Request\n",
      "Date: Fri, 09 Apr 2021 10:40:40 GMT\n",
      "Content-Type: text/html\n",
      "Content-Length: 155\n",
      "Connection: close\n",
      "Server: cloudflare\n",
      "CF-RAY: 63d31e5afc46ddf9-SIN\n",
      "\n",
      "<html>\n",
      "<head><title>400 Bad Request</title></head>\n",
      "<body>\n",
      "<center><h1>400 Bad Request</h1></center>\n",
      "<hr><center>cloudflare</center>\n",
      "</body>\n",
      "</html>\n",
      "\n",
      "Count =  335\n"
     ]
    }
   ],
   "source": [
    "\"\"\"1. Write a socket program to prompt the user for the URL so it can read any web page. You\n",
    "can use split(’/’) to break the URL into its component parts so you can extract the host\n",
    "name for the socket connect call. Program counts the number of characters it has\n",
    "received and stops displaying any text after it has shown 3000 characters. The program\n",
    "should retrieve the entire document and count the total number of characters and\n",
    "display the count of the number of characters at the end of the document.\n",
    "\"\"\"\n",
    "\n",
    "import socket\n",
    "s=socket.socket(socket.AF_INET,socket.SOCK_STREAM)\n",
    "\n",
    "web=input(\"Enter URL: \")\n",
    "a=web.split(\"/\")\n",
    "\n",
    "host=a[2]\n",
    "port=80 #since http\n",
    "\n",
    "s.connect((host,port))\n",
    "print(\"Connected\")\n",
    "\n",
    "print(type(web))\n",
    "msg=\"GET \"+web+\" HTTP/1.0\\r\\n\\r\\n\"\n",
    "print(s.send(msg.encode()))\n",
    "\n",
    "a=s.recv(3000).decode()\n",
    "print(a)\n",
    "count=0\n",
    "while(a!=\"\"):\n",
    "    count+=len(a)\n",
    "    a=s.recv(1024).decode()\n",
    "\n",
    "print(\"Count = \",count)\n"
   ]
  },
  {
   "cell_type": "code",
   "execution_count": 101,
   "metadata": {},
   "outputs": [
    {
     "name": "stdout",
     "output_type": "stream",
     "text": [
      "The total number of paragraphs in this web page are:  52\n"
     ]
    }
   ],
   "source": [
    "\"\"\"2. Write a python program which extracts HTML data using urllib library and count\n",
    "paragraph (p) tags from the retrieved HTML document and display the count of the\n",
    "paragraphs as the output of your program. Do not display the paragraph text, only count\n",
    "them. Test your program on several small web pages as well as some larger web pages.\n",
    "\"\"\"\n",
    "import urllib.request\n",
    "from bs4 import BeautifulSoup\n",
    "\n",
    "data=urllib.request.urlopen(\"https://en.wikipedia.org/wiki/One_Piece\").read().decode()\n",
    "\n",
    "soup = BeautifulSoup(data, 'html.parser')\n",
    "c=0\n",
    "a=soup('p')\n",
    "for i in a:\n",
    "    c+=1\n",
    "print(\"The total number of paragraphs in this web page are: \", c)\n"
   ]
  },
  {
   "cell_type": "code",
   "execution_count": 85,
   "metadata": {
    "scrolled": false
   },
   "outputs": [
    {
     "name": "stdout",
     "output_type": "stream",
     "text": [
      "http://www.gogreen.org/blog/how-humans-have-changed-the-landscape\n",
      "How Humans Have Changed The Landscape\n"
     ]
    }
   ],
   "source": [
    "\"\"\"3. Write a program to access the http://www.gogreen.org/ website and extract any one\n",
    "article (name ,Link) from the website and store the article name as filename and article\n",
    "link inside the file as data and send an email to pramila.rm@christuniversity.in with\n",
    "Subject: LAB 4 “username” and content brief description about the article.\"\"\"\n",
    "\n",
    "import urllib.request\n",
    "from bs4 import BeautifulSoup\n",
    "import re\n",
    "\n",
    "data=urllib.request.urlopen(\"http://www.gogreen.org/\").read().decode()\n",
    "\n",
    "soup = BeautifulSoup(data, 'html.parser')\n",
    "\n",
    "a=soup('a')\n",
    "\n",
    "lnk=(soup.find_all('a', href=re.compile('how-human')))\n",
    "for i in lnk:\n",
    "    link=(i.get('href'))\n",
    "    break\n",
    "#print(link)\n",
    "\n",
    "nam=(soup.find_all('h1'))\n",
    "for i in nam:\n",
    "    name=(i.text)\n",
    "    break\n",
    "#print(name)"
   ]
  },
  {
   "cell_type": "code",
   "execution_count": 94,
   "metadata": {},
   "outputs": [
    {
     "data": {
      "text/plain": [
       "(221, b'2.0.0 closing connection a65sm2086264pfb.116 - gsmtp')"
      ]
     },
     "execution_count": 94,
     "metadata": {},
     "output_type": "execute_result"
    }
   ],
   "source": [
    "import smtplib\n",
    "from email.mime.multipart import MIMEMultipart\n",
    "from email.mime.text import MIMEText\n",
    "from email.mime.base import MIMEBase\n",
    "from email import encoders\n",
    "msg=MIMEMultipart()\n",
    "msg['From']='<nirmalya <nsblack.2001@gmail.com>'\n",
    "msg['To']='PM<pramila.rm@christuniversity.in>'\n",
    "msg['Subject']=\"LAB 4 Nirmalya\"\n",
    "    \n",
    "body=\"article\"\n",
    "msg.attach(MIMEText(body,'plain'))\n",
    "\n",
    "\n",
    "filename=name\n",
    "f=open(name,'w')\n",
    "f.write(link)\n",
    "f.close()\n",
    "f=open(name,'r')\n",
    "\n",
    "b=MIMEBase('text','plain')\n",
    "b.set_payload((f).read())\n",
    "encoders.encode_base64(b)\n",
    "b.add_header(\"Content-Disposition\",f\"attachment; filename= How Humans Have Changed The Landscape\")\n",
    "msg.attach(b)\n",
    "\n",
    "\n",
    "\n",
    "st=smtplib.SMTP_SSL('smtp.gmail.com',465)\n",
    "st.login('nsblack.2001@gmail.com','PASSWORD')\n",
    "message=msg.as_string()\n",
    "st.sendmail('nsblack.2001@gmail.com','pramila.rm@christuniversity.in',message)\n",
    "st.quit()\n"
   ]
  }
 ],
 "metadata": {
  "kernelspec": {
   "display_name": "Python 3",
   "language": "python",
   "name": "python3"
  },
  "language_info": {
   "codemirror_mode": {
    "name": "ipython",
    "version": 3
   },
   "file_extension": ".py",
   "mimetype": "text/x-python",
   "name": "python",
   "nbconvert_exporter": "python",
   "pygments_lexer": "ipython3",
   "version": "3.8.3"
  }
 },
 "nbformat": 4,
 "nbformat_minor": 4
}
