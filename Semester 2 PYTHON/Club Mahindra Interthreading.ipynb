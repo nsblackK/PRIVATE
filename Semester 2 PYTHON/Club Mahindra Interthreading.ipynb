{
 "cells": [
  {
   "cell_type": "code",
   "execution_count": null,
   "metadata": {},
   "outputs": [],
   "source": [
    "\"\"\"Club Mahidra decides to host an Event for the sports fan online: \n",
    "The main event would be to honor the Asian golf club winner \"Ron vegas\", The honoring \n",
    "ceremony follows the below steps\n",
    "step1: Welcome the gathering\n",
    "step2: Introduction to Asian Golf Club Game\n",
    "Step3:Introduce the Winner.\n",
    "Step4: Play a demo game\n",
    "Step5: Honor the Winner with medal\n",
    "Club wants to make sure there is no gap between the main event,but demo game setup would take time, \n",
    "so the club decides to \n",
    "host mini events during this delay which can be stopped once the setup for game is complete.\n",
    "Mini event 1: Display all 5 sponsers of the Event\n",
    "Mini event 2: Display 5 pictures of the Game\"\"\""
   ]
  },
  {
   "cell_type": "code",
   "execution_count": 15,
   "metadata": {},
   "outputs": [
    {
     "name": "stdout",
     "output_type": "stream",
     "text": [
      "Welcome the gathering\n",
      "Introduction to Asian Golf Club Game\n",
      "...and the Winner is Ron Vegas!!!\n",
      "we will play a demo game soon...\n",
      "Plays a demo game\n",
      "Honor the Winner with medal\n",
      "The sponsers for this Event are...\n",
      "Pantanjali dantkanti, aapke daanto ko rakhe fresh!\n",
      "Kent RO, RO hi lagana...\n",
      "Uncle chips, kahe mere lips....Uncle chips!!!\n",
      "oolala lipsticks..... muaah\n",
      "Red Bull, ...gives you wings\n",
      "Display 5 pictures of the Game\n"
     ]
    }
   ],
   "source": [
    "def greetings():\n",
    "    print(\"Welcome the gathering\")\n",
    "    print(\"Introduction to Asian Golf Club Game\")\n",
    "    print(\"...and the Winner is Ron Vegas!!!\")\n",
    "    print(\"we will play a demo game soon...\")\n",
    "    e.set()\n",
    "    #time.sleep(0.01)\n",
    "    #e.clear()\n",
    "    e.wait()\n",
    "    #here, mini events will happen!\n",
    "    print(\"Plays a demo game\")\n",
    "    print(\"Honor the Winner with medal\")\n",
    "        \n",
    "        \n",
    "def minievent():\n",
    "    if(e.isSet()):\n",
    "        print(\"The sponsers for this Event are...\")\n",
    "        \n",
    "        print(\"Pantanjali dantkanti, aapke daanto ko rakhe fresh!\")\n",
    "        print(\"Kent RO, RO hi lagana...\")\n",
    "        print(\"Uncle chips, kahe mere lips....Uncle chips!!!\")\n",
    "        print(\"oolala lipsticks..... muaah\")\n",
    "        print(\"Red Bull, ...gives you wings\")\n",
    "        \n",
    "        print(\"Display 5 pictures of the Game\")\n",
    "\n",
    "e=threading.Event()\n",
    "t1=threading.Thread(target=greetings)\n",
    "t2=threading.Thread(target=minievent)\n",
    "t1.start()\n",
    "t2.start()"
   ]
  }
 ],
 "metadata": {
  "kernelspec": {
   "display_name": "Python 3",
   "language": "python",
   "name": "python3"
  },
  "language_info": {
   "codemirror_mode": {
    "name": "ipython",
    "version": 3
   },
   "file_extension": ".py",
   "mimetype": "text/x-python",
   "name": "python",
   "nbconvert_exporter": "python",
   "pygments_lexer": "ipython3",
   "version": "3.8.3"
  }
 },
 "nbformat": 4,
 "nbformat_minor": 4
}
