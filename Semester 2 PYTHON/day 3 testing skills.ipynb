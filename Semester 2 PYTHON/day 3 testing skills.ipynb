{
 "cells": [
  {
   "cell_type": "code",
   "execution_count": 1,
   "metadata": {},
   "outputs": [
    {
     "name": "stdout",
     "output_type": "stream",
     "text": [
      "{'Monty': '17-03-1996', 'Joy': '18-04-1996', 'Ronny': '17-05-1996'}\n"
     ]
    }
   ],
   "source": [
    "#2nd Question\n",
    "\"\"\"Write a python program to retrieve name and date of birth\n",
    "(mm-dd-yyyy) of students from a given file student.txt. and store the\n",
    "name as key and DOB as value in dictionary\n",
    "Assume the content in student.txt as:\"\"\"\n",
    "\n",
    "\n",
    "\"\"\"f = open('Student', 'r')\n",
    "d={}\n",
    "for line in f:\n",
    "    word=line.split()\n",
    "    if word[1] not in d:\n",
    "        d[word[1]]=word[3]\n",
    "print(d)\"\"\"\n",
    "\n",
    "import re\n",
    "d={}\n",
    "f = open('Student', 'r')\n",
    "for line in f:\n",
    "    data=re.findall('([a-zA-Z]+)\\s[A-Z]+\\s([0-9]+[-][0-9]+[-][0-9]+)',line)\n",
    "    if len(data)>0:\n",
    "        for i in data:\n",
    "            if i[0] not in d:\n",
    "                d[i[0]]=i[1]\n",
    "            else:\n",
    "                continue\n",
    "print(d)"
   ]
  },
  {
   "cell_type": "code",
   "execution_count": 22,
   "metadata": {},
   "outputs": [
    {
     "name": "stdout",
     "output_type": "stream",
     "text": [
      "sum is:  5500\n",
      "ang is:  2750.0\n"
     ]
    }
   ],
   "source": [
    "#first question\n",
    "\n",
    "\"\"\"Write a program to look for lines of the form `New Revision: 39772` and\n",
    "extract the number from each of the lines using a regular expression and\n",
    "the findall() method. Compute the average of the numbers and print out\n",
    "the average.\"\"\"\n",
    "\n",
    "import re\n",
    "summ=0\n",
    "k=0\n",
    "f=open('NR.txt','r')\n",
    "for line in f:\n",
    "    data=re.findall('New Revision: ([0-9]+)',line)\n",
    "    if len(data)>0:\n",
    "        k+=1\n",
    "        summ+=int(data[0])\n",
    "print('sum is: ',summ)\n",
    "print('ang is: ',summ/k)\n"
   ]
  },
  {
   "cell_type": "code",
   "execution_count": 5,
   "metadata": {},
   "outputs": [],
   "source": [
    "\"\"\"Write a program to prompt for a file name, and then read through the file\n",
    "and look for lines of the Form: X-DSPAM-Confidence#0.8475. Extract\n",
    "only character up to ‘#’ and save it another file in reverse order.\"\"\"\n",
    "\n",
    "import re\n",
    "f=open('NR.txt','r')\n",
    "for line in f:\n",
    "    if(re.findall('[#]',line)):\n",
    "        file=open(\"text\",\"a\")\n",
    "        file.write(line[::-1])\n",
    "  "
   ]
  },
  {
   "cell_type": "code",
   "execution_count": 23,
   "metadata": {},
   "outputs": [
    {
     "name": "stdout",
     "output_type": "stream",
     "text": [
      "['@uct.ac.za']\n",
      "total character:  7\n",
      "['@uct.za']\n",
      "total character:  5\n",
      "['@uct.ac.za']\n",
      "total character:  7\n",
      "['@uct.mac.za']\n",
      "total character:  8\n",
      "['@uct.ac.za']\n",
      "total character:  7\n",
      "['@uct.ac.za']\n",
      "total character:  7\n",
      "['@uct.ac.za']\n",
      "total character:  7\n",
      "['@uct.ac.za']\n",
      "total character:  7\n"
     ]
    }
   ],
   "source": [
    "\"\"\"Write a python program to find for the lines having ‘@’sign between\n",
    "characters in a read text file and extract the characters after ‘@’ Symbol\n",
    "and print the count of characters only until space is encountered from the\n",
    "extracted set.\"\"\"\n",
    "\n",
    "import re\n",
    "f=open('mail','r')\n",
    "for lines in f:\n",
    "    k=0\n",
    "    data=re.findall('@[a-zA-z0-9.]+',lines)\n",
    "    print(data)\n",
    "    for i in data[0]:\n",
    "        if i!=\".\" and i!=\"@\":\n",
    "            k+=1\n",
    "    print(\"total character: \",k)"
   ]
  },
  {
   "cell_type": "code",
   "execution_count": null,
   "metadata": {},
   "outputs": [],
   "source": []
  }
 ],
 "metadata": {
  "kernelspec": {
   "display_name": "Python 3",
   "language": "python",
   "name": "python3"
  },
  "language_info": {
   "codemirror_mode": {
    "name": "ipython",
    "version": 3
   },
   "file_extension": ".py",
   "mimetype": "text/x-python",
   "name": "python",
   "nbconvert_exporter": "python",
   "pygments_lexer": "ipython3",
   "version": "3.8.3"
  }
 },
 "nbformat": 4,
 "nbformat_minor": 4
}
