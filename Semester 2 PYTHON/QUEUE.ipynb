{
 "cells": [
  {
   "cell_type": "code",
   "execution_count": 1,
   "metadata": {},
   "outputs": [
    {
     "name": "stdout",
     "output_type": "stream",
     "text": [
      "1\n",
      "2\n",
      "3\n",
      "4\n",
      "5\n",
      "6\n",
      "7\n",
      "8\n",
      "9\n",
      "10\n",
      "11\n",
      "12\n",
      "13\n",
      "14\n",
      "15\n",
      "16\n",
      "17\n",
      "18\n",
      "19\n",
      "20\n",
      "21\n",
      "22\n",
      "23\n",
      "24\n",
      "25\n",
      "26\n",
      "27\n",
      "28\n",
      "29\n",
      "30\n",
      "31\n",
      "32\n",
      "33\n",
      "34\n",
      "35\n",
      "36\n",
      "37\n",
      "38\n",
      "39\n",
      "40\n",
      "41\n",
      "42\n",
      "43\n",
      "44\n",
      "45\n",
      "46\n",
      "47\n",
      "48\n",
      "49\n",
      "50\n"
     ]
    }
   ],
   "source": [
    "import threading\n",
    "#import time\n",
    "import queue\n",
    "\n",
    "def prod():\n",
    "    c=0\n",
    "    while c<50:\n",
    "        c+=1\n",
    "        q.put(c)\n",
    "def conc():\n",
    "    while not q.empty():\n",
    "        print(q.get())\n",
    "#q=queue.Queue()\n",
    "#q=queue.LifoQueue()\n",
    "q=queue.PriorityQueue()\n",
    "t1=threading.Thread(target=prod)\n",
    "t2=threading.Thread(target=conc)\n",
    "t1.start()\n",
    "t2.start()\n"
   ]
  },
  {
   "cell_type": "code",
   "execution_count": 13,
   "metadata": {},
   "outputs": [
    {
     "name": "stdout",
     "output_type": "stream",
     "text": [
      "[{'Sam', 25}, {'ram', 29}, {'Ritu', 23}, {'Roy', 55}, {'Riya', 45}]\n"
     ]
    }
   ],
   "source": [
    "import threading\n",
    "import time\n",
    "import queue\n",
    "l=[]\n",
    "def prod():\n",
    "    l={25:\"Sam\",55:\"Roy\",29:\"ram\",45:\"Riya\",23:\"Ritu\"}\n",
    "    for key,val in l.items():\n",
    "        q.put({key,val})\n",
    "    \n",
    "    \n",
    "def cons():\n",
    "    while not q.empty():\n",
    "        l.append(q.get())\n",
    "\n",
    "q=queue.PriorityQueue()\n",
    "t1=threading.Thread(target=prod)\n",
    "t2=threading.Thread(target=cons)\n",
    "t1.start()\n",
    "t2.start()\n",
    "\n",
    "t1.join()\n",
    "t2.join()\n",
    "print(l)"
   ]
  },
  {
   "cell_type": "code",
   "execution_count": 15,
   "metadata": {},
   "outputs": [
    {
     "name": "stdout",
     "output_type": "stream",
     "text": [
      "con  10\n",
      "con  9\n",
      "con  8\n",
      "con  7\n",
      "con  6\n",
      "con  5con2 4\n",
      "con2 \n",
      "3\n",
      "con2 2\n",
      "con2 1\n"
     ]
    }
   ],
   "source": [
    "import threading\n",
    "import time\n",
    "import queue\n",
    "\n",
    "def prod():\n",
    "    c=0\n",
    "    while c<10:\n",
    "        c+=1\n",
    "        q.put(c)\n",
    "    \n",
    "    \n",
    "def cons():\n",
    "    while not q.empty():\n",
    "        print(\"con \",q.get())\n",
    "        \n",
    "def cons2():\n",
    "    while not q.empty():\n",
    "        print(\"con2\",q.get())\n",
    "    \n",
    "\n",
    "q=queue.LifoQueue()\n",
    "t1=threading.Thread(target=prod)\n",
    "t2=threading.Thread(target=cons)\n",
    "t3=threading.Thread(target=cons2)\n",
    "t1.start()\n",
    "t2.start()\n",
    "t3.start()"
   ]
  }
 ],
 "metadata": {
  "kernelspec": {
   "display_name": "Python 3",
   "language": "python",
   "name": "python3"
  },
  "language_info": {
   "codemirror_mode": {
    "name": "ipython",
    "version": 3
   },
   "file_extension": ".py",
   "mimetype": "text/x-python",
   "name": "python",
   "nbconvert_exporter": "python",
   "pygments_lexer": "ipython3",
   "version": "3.8.3"
  }
 },
 "nbformat": 4,
 "nbformat_minor": 4
}
