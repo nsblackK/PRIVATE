{
 "cells": [
  {
   "cell_type": "code",
   "execution_count": 7,
   "metadata": {},
   "outputs": [
    {
     "name": "stdout",
     "output_type": "stream",
     "text": [
      "enter a number:4\n",
      "enter a number:5\n",
      "enter a number:68\n",
      "enter a number:7\n",
      "enter a number:done\n",
      "['4', '5', '68', '7']\n",
      "Maximum: 7\n",
      "Minimum: 4\n"
     ]
    }
   ],
   "source": [
    "lst=[]\n",
    "while True:\n",
    "    a = (input(\"enter a number:\"))\n",
    "    if(a=='done'):\n",
    "        break\n",
    "    else:\n",
    "        lst.append(a)\n",
    "print(lst)\n",
    "print('Maximum:',max(lst))\n",
    "print('Minimum:',min(lst))"
   ]
  },
  {
   "cell_type": "code",
   "execution_count": 2,
   "metadata": {},
   "outputs": [
    {
     "name": "stdout",
     "output_type": "stream",
     "text": [
      "Sat\n",
      "sun\n",
      "mon\n",
      "Sat\n",
      "{'Sat': 2, 'sun': 1, 'mon': 1}\n"
     ]
    }
   ],
   "source": [
    "f = open(\"mail\",\"r\")\n",
    "d={}\n",
    "for line in f:\n",
    "    words = line.split()\n",
    "    print(words[2])\n",
    "    if words[2] not in d:\n",
    "        d[words[2]]=d.get(words[2],1)\n",
    "    else:\n",
    "        d[words[2]]=d.get(words[2])+1\n",
    "print(d)"
   ]
  },
  {
   "cell_type": "code",
   "execution_count": 18,
   "metadata": {},
   "outputs": [
    {
     "name": "stdout",
     "output_type": "stream",
     "text": [
      "final dictionary:  {'stephen.marquard': 3, 'jack.marquard': 3, 'rob.marquard': 2}\n"
     ]
    }
   ],
   "source": [
    "f = open(\"mail\",\"r\")\n",
    "d={}\n",
    "l=[]\n",
    "k=0\n",
    "for line in f:\n",
    "    words = line.split()\n",
    "    \n",
    "    l.append(words[1].split(\"@\"))\n",
    "    words[1]=l[k][0]\n",
    "    k+=1\n",
    "    if words[1] not in d:\n",
    "        d[words[1]]=d.get(words[1],1)\n",
    "    else:\n",
    "        d[words[1]]=d.get(words[1])+1\n",
    "print(\"final dictionary: \",d)\n"
   ]
  },
  {
   "cell_type": "code",
   "execution_count": null,
   "metadata": {},
   "outputs": [],
   "source": []
  }
 ],
 "metadata": {
  "kernelspec": {
   "display_name": "Python 3",
   "language": "python",
   "name": "python3"
  },
  "language_info": {
   "codemirror_mode": {
    "name": "ipython",
    "version": 3
   },
   "file_extension": ".py",
   "mimetype": "text/x-python",
   "name": "python",
   "nbconvert_exporter": "python",
   "pygments_lexer": "ipython3",
   "version": "3.8.3"
  }
 },
 "nbformat": 4,
 "nbformat_minor": 4
}
