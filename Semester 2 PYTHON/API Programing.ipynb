{
 "cells": [
  {
   "cell_type": "code",
   "execution_count": null,
   "metadata": {},
   "outputs": [],
   "source": [
    "import urllib.request,urllib.parse\n",
    "import json\n",
    "furl=\"https://dog-facts-api.herokuapp.com/api/v1/resources/dogs?\"\n",
    "num=int(input(\"Enter the number of dogs retrival\"))\n",
    "apurl=urllib.parse.urlencode({\"number\":num})\n",
    "url=furl+apurl\n",
    "print(url)\n",
    "data=urllib.request.urlopen(url)\n",
    "jdata=data.read().decode()\n",
    "print(type(jdata))\n",
    "d=json.loads(jdata)\n",
    "print(d)\n",
    "print(d[0][\"fact\"])"
   ]
  }
 ],
 "metadata": {
  "kernelspec": {
   "display_name": "Python 3",
   "language": "python",
   "name": "python3"
  },
  "language_info": {
   "codemirror_mode": {
    "name": "ipython",
    "version": 3
   },
   "file_extension": ".py",
   "mimetype": "text/x-python",
   "name": "python",
   "nbconvert_exporter": "python",
   "pygments_lexer": "ipython3",
   "version": "3.8.3"
  }
 },
 "nbformat": 4,
 "nbformat_minor": 4
}
