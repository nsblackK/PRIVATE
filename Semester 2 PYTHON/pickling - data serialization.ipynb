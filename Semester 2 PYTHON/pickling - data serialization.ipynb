{
 "cells": [
  {
   "cell_type": "code",
   "execution_count": 1,
   "metadata": {},
   "outputs": [],
   "source": [
    "#writing nd encoding\n",
    "import pickle\n",
    "data={'a':1,'b':2,'c':3}\n",
    "f=open('1.pickle','wb')\n",
    "pickle.dump(data,f)\n",
    "f.close()"
   ]
  },
  {
   "cell_type": "code",
   "execution_count": 2,
   "metadata": {},
   "outputs": [
    {
     "name": "stdout",
     "output_type": "stream",
     "text": [
      "{'a': 1, 'b': 2, 'c': 3}\n"
     ]
    }
   ],
   "source": [
    "#decoding nd reading\n",
    "import pickle\n",
    "f=open('1.pickle','rb')\n",
    "pickle.load(f)\n",
    "print(data)"
   ]
  },
  {
   "cell_type": "code",
   "execution_count": 3,
   "metadata": {},
   "outputs": [
    {
     "name": "stdout",
     "output_type": "stream",
     "text": [
      "b'\\x80\\x04\\x95\\x11\\x00\\x00\\x00\\x00\\x00\\x00\\x00}\\x94(\\x8c\\x01a\\x94K\\x02\\x8c\\x01f\\x94K\\x04u.'\n"
     ]
    }
   ],
   "source": [
    "import pickle\n",
    "d={'a':2,'f':4}\n",
    "data=pickle.dumps(d)\n",
    "print(data)"
   ]
  },
  {
   "cell_type": "code",
   "execution_count": 4,
   "metadata": {},
   "outputs": [
    {
     "name": "stdout",
     "output_type": "stream",
     "text": [
      "{'a': 2, 'f': 4}\n"
     ]
    }
   ],
   "source": [
    "t=pickle.loads(data)\n",
    "print(t)"
   ]
  },
  {
   "cell_type": "code",
   "execution_count": null,
   "metadata": {},
   "outputs": [],
   "source": [
    "import json\n",
    "import pickle\n",
    "\n",
    "data={\"book\":[{\n",
    "  \"id\":1,\n",
    "  \"book_name\":\"python\",\n",
    "  \"In-stock\":True,\n",
    "  \"published\":[2019,2020],\n",
    "  \"authors\":[{\"name\":\"john\",\"age\":32},{\"name\":\"Marley\",\"age\":32}]\n",
    "}],\n",
    "\"srticle\":[\n",
    "{\n",
    "  \"id\":2,\n",
    "  \"book_name\":\"Adv python\",\n",
    "  \"In-stock\":true,\n",
    "  \"published\":[2019,2020],\n",
    "  \"authors\":[{\"name\":\"john\",\"age\":32},{\"name\":\"Marley\",\"age\":32}]\n",
    "}]\n",
    "}\n",
    "\n",
    "print(type(data))\n",
    "d=pickle.dumps(data)\n",
    "print(d)"
   ]
  },
  {
   "cell_type": "code",
   "execution_count": null,
   "metadata": {},
   "outputs": [],
   "source": [
    "import pickle\n",
    "\n",
    "data=pickle.loads(d)\n",
    "print(data)"
   ]
  }
 ],
 "metadata": {
  "kernelspec": {
   "display_name": "Python 3",
   "language": "python",
   "name": "python3"
  },
  "language_info": {
   "codemirror_mode": {
    "name": "ipython",
    "version": 3
   },
   "file_extension": ".py",
   "mimetype": "text/x-python",
   "name": "python",
   "nbconvert_exporter": "python",
   "pygments_lexer": "ipython3",
   "version": "3.8.3"
  }
 },
 "nbformat": 4,
 "nbformat_minor": 4
}
