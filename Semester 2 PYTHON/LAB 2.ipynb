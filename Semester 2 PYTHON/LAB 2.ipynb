{
 "cells": [
  {
   "cell_type": "code",
   "execution_count": 14,
   "metadata": {},
   "outputs": [
    {
     "name": "stdout",
     "output_type": "stream",
     "text": [
      "Students Tire final rate:  [3825.0, 2210.0, 5100.0, 2550.0, 2975.0]\n",
      "Business Tire final rate:  [5850.0, 5040.0, 5940.0, 6300.0, 5877.0]\n",
      "General Tire final rate:  [5225.0, 4085.0, 5700.0, 3800.0, 3325.0]\n"
     ]
    }
   ],
   "source": [
    "#WAP for flight fare allowing different tire passengers different discounts\n",
    "\n",
    "students=[4500,2600,6000,3000,3500]\n",
    "business=[6500,5600,6600,7000,6530]\n",
    "general =[5500,4300,6000,4000,3500]\n",
    "from functools import partial\n",
    "S=partial(lambda a,dis:a-a*dis,dis=0.15)\n",
    "B=partial(lambda a,dis:a-a*dis,dis=0.10)\n",
    "G=partial(lambda a,dis:a-a*dis,dis=0.05)\n",
    "\n",
    "fS=[]\n",
    "fG=[]\n",
    "fB=[]\n",
    "\n",
    "for i in students:\n",
    "    fS.append(S(i))\n",
    "print(\"Students Tire final rate: \",fS)\n",
    "\n",
    "for i in business:\n",
    "    fB.append(B(i))\n",
    "print(\"Business Tire final rate: \",fB)\n",
    "\n",
    "for i in general:\n",
    "    fG.append(G(i))\n",
    "print(\"General Tire final rate: \",fG)"
   ]
  },
  {
   "cell_type": "code",
   "execution_count": null,
   "metadata": {},
   "outputs": [],
   "source": [
    "#An insurence company gives intrests according to the age of the policy holder, calculate the \n",
    "#maturity amount!\n",
    "@dec_intrst\n",
    "def interest(age):\n",
    "    def spcl(amt):\n",
    "        a=amt+amt*0.1\n",
    "        return a\n",
    "    def norml(amt):\n",
    "        b=amt+amt*0.07\n",
    "        return b\n",
    "    if(age>65):\n",
    "        return spcl\n",
    "    else:\n",
    "        return norml\n",
    "\n",
    "d=interest(ag)"
   ]
  },
  {
   "cell_type": "code",
   "execution_count": 30,
   "metadata": {},
   "outputs": [
    {
     "name": "stdout",
     "output_type": "stream",
     "text": [
      "Enter age of policy holder 66\n",
      "Enter investment amount 30000\n",
      "Maturity amount is:  33000.0\n"
     ]
    }
   ],
   "source": [
    "def dec_intrst(fun):\n",
    "    def wrap_div(a):\n",
    "        def childSPCL():\n",
    "            b=amt+amt*0.15\n",
    "            return b\n",
    "        if(a<18):\n",
    "            return childSPCL\n",
    "        else:\n",
    "            return fun(a)\n",
    "    return wrap_div\n",
    "\n",
    "\n",
    "ag=int(input(\"Enter age of policy holder \")) \n",
    "amnt=int(input(\"Enter investment amount \"))\n",
    "\n",
    "m=d(amnt)\n",
    "print(\"Maturity amount is: \", m)"
   ]
  }
 ],
 "metadata": {
  "kernelspec": {
   "display_name": "Python 3",
   "language": "python",
   "name": "python3"
  },
  "language_info": {
   "codemirror_mode": {
    "name": "ipython",
    "version": 3
   },
   "file_extension": ".py",
   "mimetype": "text/x-python",
   "name": "python",
   "nbconvert_exporter": "python",
   "pygments_lexer": "ipython3",
   "version": "3.8.3"
  }
 },
 "nbformat": 4,
 "nbformat_minor": 4
}
