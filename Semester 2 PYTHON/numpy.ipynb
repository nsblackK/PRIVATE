{
 "cells": [
  {
   "cell_type": "code",
   "execution_count": null,
   "metadata": {},
   "outputs": [],
   "source": [
    "Darjeeling = [73, 68, 42]"
   ]
  },
  {
   "cell_type": "code",
   "execution_count": 12,
   "metadata": {},
   "outputs": [],
   "source": [
    "#2d array\n",
    "import numpy as np\n",
    "a=np.array([[\n",
    "            [1,2,1],\n",
    "            [1,2,1],\n",
    "            [2,2,1]\n",
    "            ],\n",
    "            [\n",
    "            [2,2,1],\n",
    "            [3,3,1],\n",
    "            [2,2,1]\n",
    "            ]\n",
    "            ])\n",
    "b=np.array([[\n",
    "            [2,2,1],\n",
    "            [2,2,3],\n",
    "            [4,2,1]\n",
    "            ],\n",
    "            [\n",
    "            [5,2,1],\n",
    "            [2,3,3],\n",
    "            [1,2,4]\n",
    "            ]\n",
    "            ])"
   ]
  },
  {
   "cell_type": "code",
   "execution_count": 13,
   "metadata": {},
   "outputs": [
    {
     "name": "stdout",
     "output_type": "stream",
     "text": [
      "(2, 3, 3)\n",
      "int32\n",
      "[[[[10  8  8]\n",
      "   [10 10 11]]\n",
      "\n",
      "  [[10  8  8]\n",
      "   [10 10 11]]\n",
      "\n",
      "  [[12 10  9]\n",
      "   [15 12 12]]]\n",
      "\n",
      "\n",
      " [[[12 10  9]\n",
      "   [15 12 12]]\n",
      "\n",
      "  [[16 14 13]\n",
      "   [22 17 16]]\n",
      "\n",
      "  [[12 10  9]\n",
      "   [15 12 12]]]]\n"
     ]
    }
   ],
   "source": [
    "#3d array\n",
    "import numpy as np\n",
    "print(a.shape)\n",
    "print(a.dtype)\n",
    "\n",
    "print(np.dot(a,b))"
   ]
  },
  {
   "cell_type": "code",
   "execution_count": 14,
   "metadata": {},
   "outputs": [
    {
     "data": {
      "text/plain": [
       "array([[[10,  8,  8],\n",
       "        [10,  8,  8],\n",
       "        [12, 10,  9]],\n",
       "\n",
       "       [[15, 12, 12],\n",
       "        [22, 17, 16],\n",
       "        [15, 12, 12]]])"
      ]
     },
     "execution_count": 14,
     "metadata": {},
     "output_type": "execute_result"
    }
   ],
   "source": [
    "np.matmul(a,b)"
   ]
  },
  {
   "cell_type": "code",
   "execution_count": 16,
   "metadata": {},
   "outputs": [
    {
     "data": {
      "text/plain": [
       "array([[[10,  8,  8],\n",
       "        [10,  8,  8],\n",
       "        [12, 10,  9]],\n",
       "\n",
       "       [[15, 12, 12],\n",
       "        [22, 17, 16],\n",
       "        [15, 12, 12]]])"
      ]
     },
     "execution_count": 16,
     "metadata": {},
     "output_type": "execute_result"
    }
   ],
   "source": [
    "a@b"
   ]
  },
  {
   "cell_type": "code",
   "execution_count": null,
   "metadata": {},
   "outputs": [],
   "source": []
  }
 ],
 "metadata": {
  "kernelspec": {
   "display_name": "Python 3",
   "language": "python",
   "name": "python3"
  },
  "language_info": {
   "codemirror_mode": {
    "name": "ipython",
    "version": 3
   },
   "file_extension": ".py",
   "mimetype": "text/x-python",
   "name": "python",
   "nbconvert_exporter": "python",
   "pygments_lexer": "ipython3",
   "version": "3.8.3"
  }
 },
 "nbformat": 4,
 "nbformat_minor": 4
}
