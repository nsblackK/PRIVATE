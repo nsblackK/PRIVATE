{
 "cells": [
  {
   "cell_type": "code",
   "execution_count": 3,
   "metadata": {},
   "outputs": [],
   "source": [
    "\"\"\"\n",
    "1. A customer has taken loan of 55000 with interest rate of the loan is 7.5%. write a\n",
    "program using function to calculate the interest to be paid by the customer.\n",
    "(a) Bank manager decides not to provide loan to the customers above the age 60. Write\n",
    "a decorator function to print “ NO LOAN” for age above 60 else print the interest\n",
    "amount to be paid.\"\"\"\n",
    "@dec_interest\n",
    "def interest(a):\n",
    "    print(\"age is: \",a)\n",
    "    intr=55000*7.5\n",
    "    return intr"
   ]
  },
  {
   "cell_type": "code",
   "execution_count": 4,
   "metadata": {},
   "outputs": [
    {
     "name": "stdout",
     "output_type": "stream",
     "text": [
      "enter age56\n",
      "age is:  56\n",
      "412500.0\n"
     ]
    }
   ],
   "source": [
    "def dec_interest(fun):\n",
    "    def wrap_interest(a):\n",
    "        if(a>60):\n",
    "            print(\"No Loan\")\n",
    "        else:\n",
    "            return fun(a)\n",
    "    return wrap_interest\n",
    "\n",
    "age=int(input(\"enter age\"))\n",
    "d=interest(age)\n",
    "print(d)  "
   ]
  },
  {
   "cell_type": "code",
   "execution_count": 11,
   "metadata": {},
   "outputs": [
    {
     "name": "stdout",
     "output_type": "stream",
     "text": [
      "7500000.0\n",
      "1875000.0\n",
      "1762500.0\n",
      "34090875.0\n",
      "4098847.5\n",
      "916800.0\n",
      "11559900.0\n",
      "26598982.5\n",
      "260130.0\n",
      "3081397.5\n"
     ]
    }
   ],
   "source": [
    "\"\"\"\n",
    "2. Bank has provide loan to 10 customers with interest of 7.5% calculate the interest to be\n",
    "paid by the customers using Generators\"\"\"\n",
    "\n",
    "loan=[1000000,250000,235000,4545450,546513,122240,1541320,3546531,34684,410853]\n",
    "\n",
    "def intrst(b):\n",
    "    for i in b:\n",
    "        intr=i*7.5\n",
    "        yield intr\n",
    "d=intrst(loan)\n",
    "\n",
    "for i in d:\n",
    "    print(i)\n",
    "    "
   ]
  },
  {
   "cell_type": "code",
   "execution_count": 13,
   "metadata": {},
   "outputs": [],
   "source": [
    "\"\"\"\n",
    "3. (a) A customer has taken loan of 55000 and interest rate of the loan is 7.5%. write a\n",
    "program using function to calculate the interest to be paid by the customer.\n",
    "(b) Five more customers have taken loan from the bank so the bank decides to plan\n",
    "different interest rate for the bank based on the loan amount taken. Manager\n",
    "declared loan amount above 100000 will have interest rate 10.5% below 100000 is\n",
    "same as previously decided. Write a decorator function to provide solution to the\n",
    "problem. (use generator if applicable)\"\"\"\n",
    "\n",
    "@dec_interest\n",
    "def interest(a):\n",
    "    intr= a*7.5\n",
    "    yield intr"
   ]
  },
  {
   "cell_type": "code",
   "execution_count": 22,
   "metadata": {},
   "outputs": [
    {
     "name": "stdout",
     "output_type": "stream",
     "text": [
      "21000000.0\n",
      "4783327.5\n",
      "4918872.0\n",
      "6808872.0\n",
      "412500.0\n",
      "159015.0\n"
     ]
    }
   ],
   "source": [
    "def dec_interest(fun):\n",
    "    def wrap_interest(a):\n",
    "        if(a>100000):\n",
    "            intr = a*10.5\n",
    "            yield intr\n",
    "        else:\n",
    "            yield fun(a)\n",
    "    return wrap_interest\n",
    "\n",
    "\"\"\"amt=int(input(\"enter loan amount\"))\n",
    "d=interest(amt)\n",
    "print(d) \"\"\" \n",
    "d=[]\n",
    "amt=[2000000,455555,468464,648464,55000,21202]\n",
    "for i in amt:\n",
    "    d.append(interest (i))\n",
    "for i in d:\n",
    "    print(i)"
   ]
  },
  {
   "cell_type": "code",
   "execution_count": 59,
   "metadata": {},
   "outputs": [
    {
     "name": "stdout",
     "output_type": "stream",
     "text": [
      "85\n",
      "95\n",
      "91\n",
      "89\n"
     ]
    }
   ],
   "source": [
    "\"\"\"\n",
    "4. Scholarship 2000 would be given to all the students who score 85 and above in math\n",
    "subject. Given the math scores of ten students find the students who are eligible to apply\n",
    "for scholarship. (use Lambda)\n",
    "a=[85,65,95,84,91,23,56,89]\"\"\"\n",
    "\n",
    "a=[85,65,95,84,91,23,56,89]\n",
    "d=(filter(lambda x:x>=85,a))\n",
    "for i in d:\n",
    "    print(i)"
   ]
  },
  {
   "cell_type": "code",
   "execution_count": 66,
   "metadata": {},
   "outputs": [
    {
     "name": "stdout",
     "output_type": "stream",
     "text": [
      "382500.0\n",
      "297500.0\n",
      "212500.0\n",
      "425000.0\n",
      "382500.0\n"
     ]
    }
   ],
   "source": [
    "\"\"\"\n",
    "5. Given loan amount and Interest Rate for each of the customer calculate the percentage\n",
    "of interest to be paid by the customer.\n",
    "Incr=8.5%\n",
    "loan=[45000,35000,25000,50000,45000]\"\"\"\n",
    "\n",
    "loan=[45000,35000,25000,50000,45000]\n",
    "\n",
    "def intr(l):\n",
    "    intre=[]\n",
    "    for i in l:\n",
    "        intre.append(i*8.5)\n",
    "    return intre\n",
    "\n",
    "d=intr(loan)\n",
    "\n",
    "for i in d:\n",
    "    print(i)"
   ]
  },
  {
   "cell_type": "code",
   "execution_count": 67,
   "metadata": {},
   "outputs": [
    {
     "name": "stdout",
     "output_type": "stream",
     "text": [
      "900.0\n",
      "1750.0\n",
      "500.0\n",
      "2500.0\n",
      "2250.0\n"
     ]
    }
   ],
   "source": [
    "\"\"\"\n",
    "6. Given age, salary and Salary Increment Percentage for each of the employee calculate\n",
    "the percentage of salary incremented for each of the Employee based on the condition if\n",
    "age&gt;60 5% increment else 2% increment (using map and Lambada Function)\n",
    "a=[55,65,45,84,71,23,56,69]\n",
    "s=[45000,35000,25000,50000,45000]\"\"\"\n",
    "\n",
    "\n",
    "a=[55,65,45,84,71,23,56,69]\n",
    "s=[45000,35000,25000,50000,45000]\n",
    "data=map(lambda x,y:x*5/100 if y>60 else x*2/100,s,a)\n",
    "for i in data:\n",
    "    print(i)\n"
   ]
  },
  {
   "cell_type": "code",
   "execution_count": 68,
   "metadata": {},
   "outputs": [
    {
     "name": "stdout",
     "output_type": "stream",
     "text": [
      "{'a': 23, 'b': 21, 'c': 22, 'd': 21, 'e': 20}\n"
     ]
    }
   ],
   "source": [
    "\"\"\"\n",
    "7. A List of student names and age is collected from a school to process the data name and\n",
    "age has to be combined either in the form of tuple or dictionary. Convert and print the\n",
    "combined data.\"\"\"\n",
    "\n",
    "\n",
    "\n",
    "name=['a','b','c','d','e']\n",
    "age=[23,21,22,21,20]\n",
    "d={name[i]: age[i] for i in range(len(name))}\n",
    "print(d)\n"
   ]
  },
  {
   "cell_type": "code",
   "execution_count": 69,
   "metadata": {},
   "outputs": [
    {
     "name": "stdout",
     "output_type": "stream",
     "text": [
      "[3375.0, 4125.0, 6150.0, 1050.0, 1125.0]\n"
     ]
    }
   ],
   "source": [
    "#8. Provide solution to 3 (b) using List Comprehension\n",
    "a=[45000,55000,82000,14000,15000]\n",
    "data=[i*10.5/100 if i>100000 else i*7.5/100 for i in a]\n",
    "print(data)"
   ]
  },
  {
   "cell_type": "code",
   "execution_count": null,
   "metadata": {},
   "outputs": [],
   "source": [
    "#9. Provide solution to 4 using List Comprehension\n",
    "a=[85,65,95,84,91,23,56,89]\n",
    "d=[i for i in a if i>=85]\n",
    "print(d)"
   ]
  },
  {
   "cell_type": "code",
   "execution_count": 70,
   "metadata": {},
   "outputs": [
    {
     "name": "stdout",
     "output_type": "stream",
     "text": [
      "{45000: 3375.0, 55000: 4125.0, 82000: 6150.0, 14000: 1050.0, 15000: 1125.0}\n"
     ]
    }
   ],
   "source": [
    "#11. Provide solution to 3(b) using Dictionary Comprehension\n",
    "a=[45000,55000,82000,14000,15000]\n",
    "data={i:i*10.5/100 if i>100000 else i*7.5/100 for i in a}\n",
    "print(data)\n"
   ]
  }
 ],
 "metadata": {
  "kernelspec": {
   "display_name": "Python 3",
   "language": "python",
   "name": "python3"
  },
  "language_info": {
   "codemirror_mode": {
    "name": "ipython",
    "version": 3
   },
   "file_extension": ".py",
   "mimetype": "text/x-python",
   "name": "python",
   "nbconvert_exporter": "python",
   "pygments_lexer": "ipython3",
   "version": "3.8.3"
  }
 },
 "nbformat": 4,
 "nbformat_minor": 4
}
