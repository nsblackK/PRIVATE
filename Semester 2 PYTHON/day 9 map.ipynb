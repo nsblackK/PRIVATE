{
 "cells": [
  {
   "cell_type": "code",
   "execution_count": null,
   "metadata": {},
   "outputs": [],
   "source": [
    "#map(function, iterable, ... "
   ]
  },
  {
   "cell_type": "code",
   "execution_count": 8,
   "metadata": {},
   "outputs": [
    {
     "name": "stdout",
     "output_type": "stream",
     "text": [
      "1\n",
      "8\n",
      "27\n",
      "64\n",
      "125\n",
      "216\n"
     ]
    }
   ],
   "source": [
    "a=[1,2,3,4,5,6]\n",
    "def cube(b):\n",
    "       return b**3\n",
    "data=map(cube,a)\n",
    "for i in data:\n",
    "    print(i)"
   ]
  },
  {
   "cell_type": "code",
   "execution_count": 12,
   "metadata": {},
   "outputs": [
    {
     "name": "stdout",
     "output_type": "stream",
     "text": [
      "1\n",
      "8\n",
      "27\n",
      "64\n",
      "125\n",
      "216\n"
     ]
    }
   ],
   "source": [
    "a=[1,2,3,4,5,6]\n",
    "data=map(lambda x:x**3,a)\n",
    "for i in data:\n",
    "    print(i)"
   ]
  },
  {
   "cell_type": "code",
   "execution_count": 4,
   "metadata": {},
   "outputs": [
    {
     "name": "stdout",
     "output_type": "stream",
     "text": [
      "2750.0\n",
      "2250.0\n",
      "3000.0\n",
      "2500.0\n",
      "3250.0\n"
     ]
    }
   ],
   "source": [
    "a=[55000,45000,30000,50000,65000]\n",
    "def inc(b):\n",
    "        \n",
    "        if (b*12 > 500000):\n",
    "            return b*0.05\n",
    "        else:\n",
    "            return b*0.1\n",
    "data=map(inc,a)\n",
    "for i in data:\n",
    "    print(i)"
   ]
  },
  {
   "cell_type": "code",
   "execution_count": 5,
   "metadata": {},
   "outputs": [
    {
     "name": "stdout",
     "output_type": "stream",
     "text": [
      "2750.0\n",
      "2250.0\n",
      "3000.0\n",
      "2500.0\n",
      "3250.0\n"
     ]
    }
   ],
   "source": [
    "#with lambda\n",
    "a=[55000,45000,30000,50000,65000]\n",
    "data=map(lambda x:x*0.05 if x*12>500000  else x*0.1,a)\n",
    "for i in data:\n",
    "    print(i)"
   ]
  },
  {
   "cell_type": "code",
   "execution_count": 11,
   "metadata": {},
   "outputs": [
    {
     "name": "stdout",
     "output_type": "stream",
     "text": [
      "55000\n",
      "45000\n",
      "30000\n",
      "50000\n",
      "65000\n"
     ]
    }
   ],
   "source": [
    "a=[55000,45000,30000,50000,65000,]\n",
    "data=filter(lambda x:x*0.05 if x*12>500000  else x*0.1,a)\n",
    "for i in data:\n",
    "    print(i)"
   ]
  },
  {
   "cell_type": "code",
   "execution_count": 36,
   "metadata": {},
   "outputs": [
    {
     "name": "stdout",
     "output_type": "stream",
     "text": [
      "[30000.0, 4000.0, 4000.0, 4000.0, 30000.0, 12750.0]\n"
     ]
    }
   ],
   "source": [
    "#without lambda\n",
    "s=[50000,20000,10000,40000,60000,85000]\n",
    "i=[0.6,0.2,0.4,0.1,0.5,0.15]\n",
    "f=[]\n",
    "def inc(a,b):\n",
    "    f=[]\n",
    "    for i in range (0, len(a)):\n",
    "        f.append(a[i]*b[i])\n",
    "    return (f)\n",
    "d = inc(s,i)\n",
    "print(d)"
   ]
  },
  {
   "cell_type": "code",
   "execution_count": 37,
   "metadata": {},
   "outputs": [
    {
     "name": "stdout",
     "output_type": "stream",
     "text": [
      "30000.0\n",
      "4000.0\n",
      "4000.0\n",
      "4000.0\n",
      "30000.0\n",
      "12750.0\n"
     ]
    }
   ],
   "source": [
    "#with lmbda\n",
    "s=[50000,20000,10000,40000,60000,85000]\n",
    "i=[0.6,0.2,0.4,0.1,0.5,0.15]\n",
    "\n",
    "data=map(lambda a,b:a*b,s,i)\n",
    "for i in data:\n",
    "    print(i)"
   ]
  },
  {
   "cell_type": "code",
   "execution_count": 73,
   "metadata": {},
   "outputs": [
    {
     "name": "stdout",
     "output_type": "stream",
     "text": [
      "{'sam': 23}\n",
      "{'naruto': 30}\n",
      "{'ram': 45}\n",
      "{'joyboy': 80}\n",
      "{'luffy': 19}\n",
      "{'duku': 17}\n"
     ]
    }
   ],
   "source": [
    "#making a dictionary\n",
    "name=['sam', 'naruto', 'ram', 'joyboy', 'luffy', 'duku']\n",
    "age=[23, 30, 45, 80, 19, 17]\n",
    "d={}\n",
    "e=map(lambda a,b:{a:b},name,age)\n",
    "for i in e:\n",
    "    print(i)\n"
   ]
  },
  {
   "cell_type": "code",
   "execution_count": null,
   "metadata": {},
   "outputs": [],
   "source": []
  }
 ],
 "metadata": {
  "kernelspec": {
   "display_name": "Python 3",
   "language": "python",
   "name": "python3"
  },
  "language_info": {
   "codemirror_mode": {
    "name": "ipython",
    "version": 3
   },
   "file_extension": ".py",
   "mimetype": "text/x-python",
   "name": "python",
   "nbconvert_exporter": "python",
   "pygments_lexer": "ipython3",
   "version": "3.8.3"
  }
 },
 "nbformat": 4,
 "nbformat_minor": 4
}
