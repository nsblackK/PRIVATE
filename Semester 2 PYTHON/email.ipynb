{
 "cells": [
  {
   "cell_type": "code",
   "execution_count": null,
   "metadata": {},
   "outputs": [],
   "source": [
    "import smtplib\n",
    "\n",
    "st=smtplib.SMTP_SSL('smtp.gmail.com', 465)\n",
    "st.login('nsblack.2001@gmail.com','tombsking')\n",
    "\n",
    "message='''From: nsblack.2001@gmail.com>\n",
    "To: nirmalya.sarkar@science.christuniversity.in>\n",
    "Subject: test\n",
    "content-type: text/html\n",
    "<h1>welcome</h1>\n",
    "to the unknown'''\n",
    "st.sendmail('nsblack.2001@gmail.com','smrn2905@gmail.com',message)\n",
    "st.quit()"
   ]
  },
  {
   "cell_type": "code",
   "execution_count": null,
   "metadata": {},
   "outputs": [],
   "source": [
    "import smtplib\n",
    "from email.mime.multipart import MIMEMultipart\n",
    "from email.mime.text import MIMEText\n",
    "from email.mime.base import MIMEBase\n",
    "from email import encoders\n",
    "\n",
    "msg=MIMEMultipart()\n",
    "msg['From']='nsblack.2001@gmail.com'\n",
    "msg['To']='nsblack.blue@gmail.com'\n",
    "msg['Subject']='MIME TEST MAIL 3'\n",
    "\n",
    "body=\"Devil Power\"\n",
    "\n",
    "msg.attach(MIMEText(body,'plain'))\n",
    "\n",
    "message=msg.as_string()\n",
    "\n",
    "fn=\"1.txt\"\n",
    "f=open(fn, 'r')\n",
    "m=MIMEBase('text','plain')\n",
    "m.set_payload((f).read())\n",
    "encoders.encode_base64(m)\n",
    "m.add_header(\"Content-Disposition\",f\"attachment; filename={fn}\")\n",
    "msg.attach(m)\n",
    "\n",
    "\n",
    "\n",
    "st=smtplib.SMTP_SSL('smtp.gmail.com', 465)\n",
    "st.login('nsblack.2001@gmail.com','tombsking')\n",
    "\n",
    "st.sendmail('nsblack.2001@gmail.com','nsblack.blue@gmail.com',message)\n",
    "st.quit()\n"
   ]
  },
  {
   "cell_type": "code",
   "execution_count": 1,
   "metadata": {},
   "outputs": [
    {
     "data": {
      "text/plain": [
       "(221, b'2.0.0 closing connection x13sm1738857pja.3 - gsmtp')"
      ]
     },
     "execution_count": 1,
     "metadata": {},
     "output_type": "execute_result"
    }
   ],
   "source": [
    "import smtplib\n",
    "from email.mime.multipart import MIMEMultipart\n",
    "from email.mime.text import MIMEText\n",
    "from email.mime.base import MIMEBase\n",
    "from email import encoders\n",
    "msg=MIMEMultipart()\n",
    "msg['From']='nsblack.2001@gmail.com>'\n",
    "msg['To']='PM<nsblack.blue@gmail.com>'\n",
    "msg['Subject']=\"MIME TEST MAIL\"\n",
    "body=\"Welcome to chirst\"\n",
    "msg.attach(MIMEText(body,'plain'))\n",
    "message=msg.as_string()\n",
    "fn=\"1.txt\"\n",
    "f=open(fn,'rb')\n",
    "m=MIMEBase('application','octet-stream')\n",
    "m.set_payload((f).read())\n",
    "encoders.encode_base64(m)\n",
    "m.add_header(\"Content-Disposition\",f\"attachemnt; filename={fn}\")\n",
    "msg.attach(m)\n",
    "server=smtplib.SMTP_SSL(\"smtp.gmail.com\",465)\n",
    "server.login('nsblack.2001@gmail.com','Tombsking')\n",
    "server.sendmail('nsblack.2001@gmail.com',\"nsblack.blue@gmail.com\",message)\n",
    "server.quit()"
   ]
  },
  {
   "cell_type": "code",
   "execution_count": 2,
   "metadata": {},
   "outputs": [
    {
     "data": {
      "text/plain": [
       "(221, b'2.0.0 closing connection n39sm1480681pfv.51 - gsmtp')"
      ]
     },
     "execution_count": 2,
     "metadata": {},
     "output_type": "execute_result"
    }
   ],
   "source": [
    "#mam's code\n",
    "import smtplib\n",
    "from email.mime.multipart import MIMEMultipart\n",
    "from email.mime.text import MIMEText\n",
    "from email.mime.base import MIMEBase\n",
    "from email import encoders\n",
    "msg=MIMEMultipart()\n",
    "msg['From']='nirmalya <nsblack.2001@gmail.com>'\n",
    "msg['To']='PM<nsblack.blue@gmail.com>'\n",
    "msg['Subject']=\"MIME TEST MAIL\"\n",
    "    \n",
    "body=\"Welcome to Christ\"\n",
    "\n",
    "msg.attach(MIMEText(body,'plain'))\n",
    "filename='1.txt'\n",
    "f=open('1.txt','rb')\n",
    "b=MIMEBase('application','octet-stream')\n",
    "b.set_payload((f).read())\n",
    "encoders.encode_base64(b)\n",
    "b.add_header(\"Content-Disposition\",f\"attachment; filename=1.txt\")\n",
    "msg.attach(b)\n",
    "st=smtplib.SMTP_SSL('smtp.gmail.com',465)\n",
    "st.login('nsblack.2001@gmail.com','Tombsking')\n",
    "message=msg.as_string()\n",
    "st.sendmail('nsblack.2001@gmail.com','nsblack.blue@gmail.com',message)\n",
    "st.quit()\n"
   ]
  }
 ],
 "metadata": {
  "kernelspec": {
   "display_name": "Python 3",
   "language": "python",
   "name": "python3"
  },
  "language_info": {
   "codemirror_mode": {
    "name": "ipython",
    "version": 3
   },
   "file_extension": ".py",
   "mimetype": "text/x-python",
   "name": "python",
   "nbconvert_exporter": "python",
   "pygments_lexer": "ipython3",
   "version": "3.8.3"
  }
 },
 "nbformat": 4,
 "nbformat_minor": 4
}
