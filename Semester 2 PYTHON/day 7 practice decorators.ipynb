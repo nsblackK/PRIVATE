{
 "cells": [
  {
   "cell_type": "code",
   "execution_count": 9,
   "metadata": {},
   "outputs": [],
   "source": [
    "@dec_incr\n",
    "def incr(salary):\n",
    "    \n",
    "    newSal = salary*(0.1)\n",
    "    return newSal\n",
    "    "
   ]
  },
  {
   "cell_type": "code",
   "execution_count": 10,
   "metadata": {},
   "outputs": [
    {
     "name": "stdout",
     "output_type": "stream",
     "text": [
      "6750.0\n",
      "8250.0\n",
      "11250.0\n",
      "9000.0\n",
      "2000.0\n"
     ]
    }
   ],
   "source": [
    "def dec_incr(fun):\n",
    "    def wrap_incr(sala):\n",
    "        for i in sala:\n",
    "            if(i*12>500000):\n",
    "                newSal = i*0.15\n",
    "                yield newSal\n",
    "            else:\n",
    "                yield fun(i)\n",
    "    return wrap_incr\n",
    "\n",
    "\n",
    "sal=[45000,55000,75000,60000,20000]\n",
    "c=incr(sal)\n",
    "for i in c:\n",
    "    print(i)\n"
   ]
  }
 ],
 "metadata": {
  "kernelspec": {
   "display_name": "Python 3",
   "language": "python",
   "name": "python3"
  },
  "language_info": {
   "codemirror_mode": {
    "name": "ipython",
    "version": 3
   },
   "file_extension": ".py",
   "mimetype": "text/x-python",
   "name": "python",
   "nbconvert_exporter": "python",
   "pygments_lexer": "ipython3",
   "version": "3.8.3"
  }
 },
 "nbformat": 4,
 "nbformat_minor": 4
}
