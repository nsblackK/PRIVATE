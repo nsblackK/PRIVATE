{
 "cells": [
  {
   "cell_type": "code",
   "execution_count": 8,
   "metadata": {},
   "outputs": [
    {
     "name": "stdout",
     "output_type": "stream",
     "text": [
      "Please enter number of hours workedff\n",
      "Please enter rate per hours workedf\n",
      "invalid input\n"
     ]
    }
   ],
   "source": [
    "hrs= input(\"Please enter number of hours worked\")\n",
    "rate= input(\"Please enter rate per hours worked\")\n",
    "try:\n",
    "    if(hrs>40):\n",
    "        extra=(hrs-40)*rate*1.5\n",
    "        pay= (40*rate)+extra\n",
    "    else:\n",
    "        pay = hrs*rate\n",
    "    print(\"Your Pay is: \",pay)\n",
    "except:\n",
    "    print(\"invalid input\")\n",
    "    \n",
    "\n"
   ]
  },
  {
   "cell_type": "code",
   "execution_count": 12,
   "metadata": {},
   "outputs": [
    {
     "name": "stdout",
     "output_type": "stream",
     "text": [
      "['Arise', 'But', 'It', 'Juliet', 'Who', 'already', 'and', 'breaks', 'east', 'envious', 'fair', 'grief', 'is', 'kill', 'light', 'moon', 'pale', 'sick', 'soft', 'sun', 'the', 'through', 'what', 'window', 'with', 'yonder']\n"
     ]
    }
   ],
   "source": [
    "word_list = []\n",
    "final_list=[]\n",
    "file1 = open(\"romeo\",\"r\")\n",
    "for i in range(1,5):\n",
    "    a=file1.readline()\n",
    "    word_list.append(a.split())\n",
    "\n",
    "for i in word_list:\n",
    "    for j in i:\n",
    "        if j not in final_list:\n",
    "            final_list.append(j)\n",
    "\n",
    "final_list.sort()\n",
    "print(final_list)\n"
   ]
  },
  {
   "cell_type": "code",
   "execution_count": 1,
   "metadata": {},
   "outputs": [
    {
     "name": "stdout",
     "output_type": "stream",
     "text": [
      "[9, 3, 56, 'the', 4, 'is']\n"
     ]
    }
   ],
   "source": [
    "lst=[9,3,4,56,\"is\",\"the\",4,\"is\"]\n",
    "\n",
    "for i in lst:\n",
    "    k=lst.index(i)\n",
    "    for j in lst[k+1:]:\n",
    "        if(i==j):\n",
    "            lst.remove(j)  \n",
    "print(lst) "
   ]
  }
 ],
 "metadata": {
  "kernelspec": {
   "display_name": "Python 3",
   "language": "python",
   "name": "python3"
  },
  "language_info": {
   "codemirror_mode": {
    "name": "ipython",
    "version": 3
   },
   "file_extension": ".py",
   "mimetype": "text/x-python",
   "name": "python",
   "nbconvert_exporter": "python",
   "pygments_lexer": "ipython3",
   "version": "3.8.3"
  }
 },
 "nbformat": 4,
 "nbformat_minor": 4
}
