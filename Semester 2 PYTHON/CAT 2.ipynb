{
 "cells": [
  {
   "cell_type": "code",
   "execution_count": null,
   "metadata": {},
   "outputs": [],
   "source": [
    "import urllib.request,urllib.parse\n",
    "import json\n",
    "UniDic={}\n",
    "\n",
    "furl=\"http://universities.hipolabs.com/search?\"\n",
    "country=input(\"Enter country name: \")\n",
    "apurl=urllib.parse.urlencode({\"country\":country})\n",
    "url=furl+apurl\n",
    "\n",
    "data=urllib.request.urlopen(url)\n",
    "jdata=data.read().decode()\n",
    "d=json.loads(jdata)\n",
    "#print(d)\n",
    "k=0\n",
    "for i in d:\n",
    "    UniDic[(d[k]['name'])]=(d[k]['web_pages'][0])\n",
    "    k+=1\n",
    "#print(UniDic)\n",
    "\n",
    "d=json.dumps(UniDic, indent=3, sort_keys=True)\n",
    "\n",
    "\n",
    "f=open('University.json','w')\n",
    "f.write(d)\n",
    "f.close()"
   ]
  },
  {
   "cell_type": "code",
   "execution_count": null,
   "metadata": {},
   "outputs": [],
   "source": [
    "import urllib.request,urllib.parse\n",
    "import json\n",
    "UniDic={}\n",
    "\n",
    "furl=\"http://universities.hipolabs.com/search?\"\n",
    "country=input(\"Enter country name: \")\n",
    "apurl=urllib.parse.urlencode({\"country\":country})\n",
    "url=furl+apurl\n",
    "\n",
    "data=urllib.request.urlopen(url)\n",
    "jdata=data.read().decode()\n",
    "d=json.loads(jdata)\n",
    "#print(d)\n",
    "k=0\n",
    "for i in d:\n",
    "    UniDic[(d[k]['name'])]=(d[k]['web_pages'][0])\n",
    "    k+=1\n",
    "#print(UniDic)\n",
    "\n",
    "d=json.dumps(UniDic, indent=3, sort_keys=True)\n",
    "\n",
    "\n",
    "f=open('University.json','w')\n",
    "f.write(d)\n",
    "f.close()"
   ]
  },
  {
   "cell_type": "code",
   "execution_count": null,
   "metadata": {},
   "outputs": [],
   "source": [
    "import xml.etree.ElementTree as ET\n",
    "root=ET.parse('a.xml')\n",
    "r=root.getroot()\n",
    "print(r.tag)\n",
    "\n",
    "a=r.findall('users/user')\n",
    "for i in a:\n",
    "    print(i.find('name').text)"
   ]
  }
 ],
 "metadata": {
  "kernelspec": {
   "display_name": "Python 3",
   "language": "python",
   "name": "python3"
  },
  "language_info": {
   "codemirror_mode": {
    "name": "ipython",
    "version": 3
   },
   "file_extension": ".py",
   "mimetype": "text/x-python",
   "name": "python",
   "nbconvert_exporter": "python",
   "pygments_lexer": "ipython3",
   "version": "3.8.3"
  }
 },
 "nbformat": 4,
 "nbformat_minor": 4
}
