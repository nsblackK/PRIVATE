{
 "cells": [
  {
   "cell_type": "code",
   "execution_count": 7,
   "metadata": {},
   "outputs": [
    {
     "name": "stdout",
     "output_type": "stream",
     "text": [
      "production\n",
      "Production in Process\n",
      "Production Done\n",
      "packing 1\n",
      "packing 2\n"
     ]
    }
   ],
   "source": [
    "import threading \n",
    "import time\n",
    "\n",
    "def prod():\n",
    "    print(\"production\")\n",
    "    time.sleep(0.01)\n",
    "    q.acquire()\n",
    "    print(\"Production in Process\") \n",
    "    print(\"Production Done\") \n",
    "    q.notifyAll()\n",
    "    q.release()\n",
    "        \n",
    "\n",
    "def pack():\n",
    "    q.acquire()\n",
    "    q.wait()\n",
    "    print(\"packing 1\")\n",
    "    q.release()\n",
    "    \n",
    "def pack2():\n",
    "    q.acquire()\n",
    "    q.wait()\n",
    "    print(\"packing 2\")\n",
    "    q.release()\n",
    "    \n",
    "c\n",
    "t1=threading.Thread(target=prod)\n",
    "t2=threading.Thread(target=pack)\n",
    "t3=threading.Thread(target=pack2)\n",
    "t1.start()\n",
    "t2.start()\n",
    "t3.start()"
   ]
  }
 ],
 "metadata": {
  "kernelspec": {
   "display_name": "Python 3",
   "language": "python",
   "name": "python3"
  },
  "language_info": {
   "codemirror_mode": {
    "name": "ipython",
    "version": 3
   },
   "file_extension": ".py",
   "mimetype": "text/x-python",
   "name": "python",
   "nbconvert_exporter": "python",
   "pygments_lexer": "ipython3",
   "version": "3.8.3"
  }
 },
 "nbformat": 4,
 "nbformat_minor": 4
}
