{
 "cells": [
  {
   "cell_type": "code",
   "execution_count": 4,
   "metadata": {},
   "outputs": [
    {
     "name": "stdout",
     "output_type": "stream",
     "text": [
      "page1.htm\n"
     ]
    }
   ],
   "source": [
    "import urllib.request\n",
    "from bs4 import BeautifulSoup\n",
    "\n",
    "data=urllib.request.urlopen(\"https://www.dr-chuck.com/page2.htm\").read().decode()\n",
    "\n",
    "soup = BeautifulSoup(data, 'html.parser')\n",
    "a=soup('a')\n",
    "for i in a:\n",
    "    print(i.get('href'))"
   ]
  },
  {
   "cell_type": "code",
   "execution_count": null,
   "metadata": {},
   "outputs": [],
   "source": [
    "import urllib.request\n",
    "from bs4 import BeautifulSoup\n",
    "\n",
    "data=urllib.request.urlopen(\"file:///C:/Users/DELL/OneDrive/Desktop/1.html\").read().decode()\n",
    "\n",
    "soup = BeautifulSoup(data, 'html.parser')\n",
    "a=soup('img')\n",
    "for i in a:\n",
    "    print(i.get('src'))"
   ]
  },
  {
   "cell_type": "code",
   "execution_count": 12,
   "metadata": {},
   "outputs": [
    {
     "name": "stdout",
     "output_type": "stream",
     "text": [
      "{'POS': '1', 'PLAYER': 'Chris\\n                            Gayle', 'Mat': '132', 'Inns': '131', 'NO': '15', 'Runs': '4772', 'HS': '175*', 'Avg': '41.13', 'BF': '3,179', 'SR': '150.11', '100': '6', '50': '31', '4s': '384', '6s': '349'}\n"
     ]
    }
   ],
   "source": [
    "#ipl \n",
    "\n",
    "import urllib.request\n",
    "from bs4 import BeautifulSoup\n",
    "th=[]\n",
    "td=[]\n",
    "data=urllib.request.urlopen(\"https://www.iplt20.com/stats/all-time/highest-scores\").read().decode()\n",
    "\n",
    "soup = BeautifulSoup(data, 'html.parser')\n",
    "th_data=soup('th')\n",
    "for i in th_data:\n",
    "    th.append(i.get_text().strip())\n",
    "\n",
    "td_data=soup('td')\n",
    "for i in td_data:   \n",
    "        td.append(i.text.strip())\n",
    "\n",
    "d={}        \n",
    "for i in range(len(th)):\n",
    "    d.update({th[i]:td[i]}) \n",
    "print(d)"
   ]
  },
  {
   "cell_type": "code",
   "execution_count": 1,
   "metadata": {},
   "outputs": [
    {
     "name": "stdout",
     "output_type": "stream",
     "text": [
      "['GET FEATURED AMONG THE TOP ADVERTISING AGENCIES IN PUNE!', 'Media Moments Founded - 2009', 'Tempest Advertising \\xa0Founded 1998', 'Seagull Advertising\\xa0Founded - 1996', '3 Dots Design Founded - 2015', 'SRV Media\\xa0Founded - 2011', 'Skovian Founded - 2011', 'SRV Media\\xa0Founded - 2011', 'List of Top Advertising Agencies In Pune']\n"
     ]
    }
   ],
   "source": [
    "import urllib.request\n",
    "from bs4 import BeautifulSoup\n",
    "a=[]\n",
    "data=urllib.request.urlopen(\"https://bestdigitalagency.in/best-advertising-agencies-in-pune/\").read().decode()\n",
    "\n",
    "soup = BeautifulSoup(data, 'html.parser')\n",
    "th_data=soup('h2')\n",
    "for i in th_data:\n",
    "    a.append(i.get_text().strip())\n",
    "\n",
    "print(a)"
   ]
  }
 ],
 "metadata": {
  "kernelspec": {
   "display_name": "Python 3",
   "language": "python",
   "name": "python3"
  },
  "language_info": {
   "codemirror_mode": {
    "name": "ipython",
    "version": 3
   },
   "file_extension": ".py",
   "mimetype": "text/x-python",
   "name": "python",
   "nbconvert_exporter": "python",
   "pygments_lexer": "ipython3",
   "version": "3.8.3"
  }
 },
 "nbformat": 4,
 "nbformat_minor": 4
}
