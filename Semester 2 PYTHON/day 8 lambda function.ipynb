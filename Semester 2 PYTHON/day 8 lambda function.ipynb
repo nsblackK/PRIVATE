{
 "cells": [
  {
   "cell_type": "code",
   "execution_count": null,
   "metadata": {},
   "outputs": [],
   "source": [
    "#lambda"
   ]
  },
  {
   "cell_type": "code",
   "execution_count": 2,
   "metadata": {},
   "outputs": [
    {
     "data": {
      "text/plain": [
       "4"
      ]
     },
     "execution_count": 2,
     "metadata": {},
     "output_type": "execute_result"
    }
   ],
   "source": [
    "data=lambda a:a+2\n",
    "data(2)\n"
   ]
  },
  {
   "cell_type": "code",
   "execution_count": 8,
   "metadata": {},
   "outputs": [
    {
     "data": {
      "text/plain": [
       "4"
      ]
     },
     "execution_count": 8,
     "metadata": {},
     "output_type": "execute_result"
    }
   ],
   "source": [
    "greater = lambda a,b:a if a>b else b\n",
    "greater(2,4)"
   ]
  },
  {
   "cell_type": "code",
   "execution_count": null,
   "metadata": {},
   "outputs": [],
   "source": [
    "#filter"
   ]
  },
  {
   "cell_type": "code",
   "execution_count": 13,
   "metadata": {
    "scrolled": true
   },
   "outputs": [
    {
     "name": "stdout",
     "output_type": "stream",
     "text": [
      "89 : pass\n",
      "76 : pass\n",
      "80 : pass\n"
     ]
    }
   ],
   "source": [
    "p=[89,56,76,23,45,80,34]\n",
    "\n",
    "def cal_per(a):\n",
    "    if a>60:\n",
    "        print(a,\": pass\")\n",
    "        \n",
    "data=filter(cal_per,p)\n",
    "for i in data:\n",
    "    print(i)\n"
   ]
  },
  {
   "cell_type": "code",
   "execution_count": 1,
   "metadata": {},
   "outputs": [
    {
     "name": "stdout",
     "output_type": "stream",
     "text": [
      "89\n",
      "76\n",
      "80\n"
     ]
    }
   ],
   "source": [
    "p=[89,56,76,23,45,80,34]\n",
    "\n",
    "\"\"\"def cal_per(a):\n",
    "    if a>60:\n",
    "        print(a,\": pass\")\"\"\"\n",
    "        \n",
    "data=filter(lambda a: a>60,p)\n",
    "for i in data:\n",
    "    print(i)"
   ]
  },
  {
   "cell_type": "code",
   "execution_count": 24,
   "metadata": {},
   "outputs": [
    {
     "name": "stdout",
     "output_type": "stream",
     "text": [
      "89\n",
      "76\n",
      "80\n"
     ]
    }
   ],
   "source": [
    "#Same thing as above with lambda function!\n",
    "p=[89,56,76,23,45,80,34] \n",
    "data=filter(lambda y:y>60,p)\n",
    "for i in data:\n",
    "    print(i)"
   ]
  },
  {
   "cell_type": "code",
   "execution_count": 16,
   "metadata": {
    "scrolled": true
   },
   "outputs": [
    {
     "name": "stdout",
     "output_type": "stream",
     "text": [
      "a\n",
      "e\n",
      "i\n",
      "o\n",
      "u\n"
     ]
    }
   ],
   "source": [
    "letters=['a','e','f','g','i','o','u']\n",
    "\n",
    "def check(b):\n",
    "    if (b=='a' or b=='e'or b=='i' or b=='o'or b=='u'):\n",
    "        return b\n",
    "d=filter(check, letters)\n",
    "for i in d:\n",
    "    print(i)\n",
    "    "
   ]
  },
  {
   "cell_type": "code",
   "execution_count": 25,
   "metadata": {},
   "outputs": [
    {
     "name": "stdout",
     "output_type": "stream",
     "text": [
      "a\n",
      "e\n",
      "i\n",
      "o\n",
      "u\n"
     ]
    }
   ],
   "source": [
    "#same thing as above with lambda\n",
    "letters=['a','e','f','g','i','o','u']\n",
    "d=filter(lambda b:b=='a' or b=='e'or b=='i' or b=='o'or b=='u', letters)\n",
    "for i in d:\n",
    "    print(i)\n",
    "    "
   ]
  },
  {
   "cell_type": "code",
   "execution_count": 17,
   "metadata": {},
   "outputs": [
    {
     "name": "stdout",
     "output_type": "stream",
     "text": [
      "1\n",
      "a\n",
      "223.8\n",
      "True\n"
     ]
    }
   ],
   "source": [
    "a=[1,0,False,'a',223.8,True]\n",
    "d=filter(None, a)\n",
    "for i in d:\n",
    "    print(i)\n",
    "    "
   ]
  },
  {
   "cell_type": "code",
   "execution_count": 18,
   "metadata": {},
   "outputs": [
    {
     "name": "stdout",
     "output_type": "stream",
     "text": [
      "56\n",
      "84\n",
      "56\n",
      "54\n",
      "34\n"
     ]
    }
   ],
   "source": [
    "num=[23,56,84,89,43,56,89,987,54,34]\n",
    "\n",
    "def even(p):\n",
    "    if p%2==0:\n",
    "        return p\n",
    "\n",
    "d=filter(even, num)\n",
    "for i in d:\n",
    "    print(i)\n",
    "    \n",
    "    "
   ]
  },
  {
   "cell_type": "code",
   "execution_count": 23,
   "metadata": {},
   "outputs": [
    {
     "name": "stdout",
     "output_type": "stream",
     "text": [
      "56\n",
      "84\n",
      "56\n",
      "54\n",
      "34\n"
     ]
    }
   ],
   "source": [
    "#same thing with lambda function\n",
    "\n",
    "num=[23,56,84,89,43,56,89,987,54,34]\n",
    "d=filter(lambda x:x%2==0, num)\n",
    "for i in d:\n",
    "    print(i)\n",
    "    "
   ]
  },
  {
   "cell_type": "code",
   "execution_count": null,
   "metadata": {},
   "outputs": [],
   "source": []
  }
 ],
 "metadata": {
  "kernelspec": {
   "display_name": "Python 3",
   "language": "python",
   "name": "python3"
  },
  "language_info": {
   "codemirror_mode": {
    "name": "ipython",
    "version": 3
   },
   "file_extension": ".py",
   "mimetype": "text/x-python",
   "name": "python",
   "nbconvert_exporter": "python",
   "pygments_lexer": "ipython3",
   "version": "3.8.3"
  }
 },
 "nbformat": 4,
 "nbformat_minor": 4
}
