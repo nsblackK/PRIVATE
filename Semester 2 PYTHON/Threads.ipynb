{
 "cells": [
  {
   "cell_type": "code",
   "execution_count": null,
   "metadata": {},
   "outputs": [],
   "source": [
    "#THREADS"
   ]
  },
  {
   "cell_type": "code",
   "execution_count": null,
   "metadata": {},
   "outputs": [],
   "source": [
    "import threading\n",
    "import time\n",
    "def display():\n",
    "    time.sleep(2)\n",
    "    print(\"HEllo \")\n",
    "    \n",
    "def display2():\n",
    "    time.sleep(4)\n",
    "    print(\"dumbass \")\n",
    "    \n",
    "t1=threading.Thread(target=display)\n",
    "t1.start()\n",
    "\n",
    "t2=threading.Thread(target=display2)\n",
    "t2.start()\n",
    "#time.sleep(0.3)\n",
    "print(\"done\")\n",
    "\n",
    "\n"
   ]
  },
  {
   "cell_type": "code",
   "execution_count": null,
   "metadata": {},
   "outputs": [],
   "source": [
    "import threading\n",
    "import time\n",
    "\n",
    "def disp(n):\n",
    "    for i in range(n):\n",
    "        print(i)\n",
    "\n",
    "#time.sleep(0.3)\n",
    "print(\"done\")\n",
    "\n",
    "t=threading.Thread(target=disp,args=(5,))\n",
    "t.start()"
   ]
  },
  {
   "cell_type": "code",
   "execution_count": null,
   "metadata": {},
   "outputs": [],
   "source": [
    "#same list can be updated by 2 clients\n",
    "import threading\n",
    "import time\n",
    "lst=[]\n",
    "\n",
    "def add(a):\n",
    "    for i in range (a):\n",
    "        lst.append(i)\n",
    "        time.sleep(0.3)\n",
    "t1= threading.Thread(target=add,args=(5,))\n",
    "t1.start()\n",
    "\n",
    "t2= threading.Thread(target=add,args=(3,))\n",
    "t2.start()\n",
    "\n",
    "t1.join()\n",
    "t2.join()\n",
    "print(\"list: \", lst)"
   ]
  },
  {
   "cell_type": "code",
   "execution_count": null,
   "metadata": {},
   "outputs": [],
   "source": [
    "import threading\n",
    "import time\n",
    "\n",
    "def disp():\n",
    "    i=0\n",
    "    while True:\n",
    "        print(i)\n",
    "        i+=1\n",
    "        time.sleep(1)\n",
    "t=threading.Thread(target=disp, daemon= True)\n",
    "t.start()\n",
    "inp=input(\"Enter something\")"
   ]
  },
  {
   "cell_type": "code",
   "execution_count": null,
   "metadata": {},
   "outputs": [],
   "source": [
    "import threading\n",
    "import time\n",
    "print(\"you have logged in\")\n",
    "def disp(r):\n",
    "    i=0\n",
    "    while True:\n",
    "        if r=='e':\n",
    "            \n",
    "            print(i)\n",
    "        i+=1\n",
    "        time.sleep(1)\n",
    "        \n",
    "t=threading.Thread(target=disp, args=(d,))\n",
    "t.start()\n",
    "d=input(\"enter e to exit\")"
   ]
  },
  {
   "cell_type": "code",
   "execution_count": null,
   "metadata": {},
   "outputs": [],
   "source": []
  }
 ],
 "metadata": {
  "kernelspec": {
   "display_name": "Python 3",
   "language": "python",
   "name": "python3"
  },
  "language_info": {
   "codemirror_mode": {
    "name": "ipython",
    "version": 3
   },
   "file_extension": ".py",
   "mimetype": "text/x-python",
   "name": "python",
   "nbconvert_exporter": "python",
   "pygments_lexer": "ipython3",
   "version": "3.8.3"
  }
 },
 "nbformat": 4,
 "nbformat_minor": 4
}
