{
 "cells": [
  {
   "cell_type": "code",
   "execution_count": 16,
   "metadata": {},
   "outputs": [
    {
     "name": "stdout",
     "output_type": "stream",
     "text": [
      "<class 'str'>\n",
      "one piece\n",
      "{'luffy': 19}\n",
      "naruto\n",
      "{'naruto': 18}\n",
      "death note\n",
      "{'Light': 20}\n"
     ]
    }
   ],
   "source": [
    "import json\n",
    "\n",
    "data=\"\"\"[{\n",
    "  \"ongoing\": true,\n",
    "  \"name\":\"one piece\",\n",
    "  \"charNames\":[\"luffy\",\"sanji\",\"zoro\"],\n",
    "  \"episodes\":970,\n",
    "  \"age\":[{\"luffy\":19},{\"vivi\":20},{\"nami\":20}]\n",
    "},\n",
    " \n",
    "{   \n",
    "  \"ongoing\":false,\n",
    "  \"name\":\"naruto\",\n",
    "  \"charNames\":[\"naruto\",\"sasuke\",\"kakashi\"],\n",
    "  \"episodes\":550,\n",
    "  \"age\":[{\"naruto\":18},{\"sasuke\":18},{\"kakashi\":26}]\n",
    "},\n",
    "\n",
    " \n",
    "{ \n",
    "  \"ongoing\":false,\n",
    "  \"name\":\"death note\",\n",
    "  \"charNames\":[\"Light\",\"L\"],\n",
    "  \"episodes\":550,\n",
    "  \"age\":[{\"Light\":20},{\"L\":26}]\n",
    "}]\"\"\"\n",
    "\n",
    "print(type(data))\n",
    "d=json.loads(data)\n",
    "for i in d:\n",
    "    print(i.get('name'))\n",
    "    print(i.get(\"age\")[0])"
   ]
  },
  {
   "cell_type": "code",
   "execution_count": 1,
   "metadata": {},
   "outputs": [
    {
     "name": "stdout",
     "output_type": "stream",
     "text": [
      "[{'ongoing': True, 'name': 'one piece', 'charNames': ['luffy', 'sanji', 'zoro'], 'episodes': 970, 'age': [{'luffy': 19}, {'vivi': 20}, {'nami': 20}]}, {'ongoing': False, 'name': 'naruto', 'charNames': ['naruto', 'sasuke', 'kakashi'], 'episodes': 550, 'age': [{'naruto': 18}, {'sasuke': 18}, {'kakashi': 26}]}, {'ongoing': False, 'name': 'death note', 'charNames': ['Light', 'L'], 'episodes': 550, 'age': [{'Light': 20}, {'L': 26}]}]\n"
     ]
    }
   ],
   "source": [
    "import json\n",
    "f= open('testJson','r')\n",
    "d=json.load(f)\n",
    "print(d)"
   ]
  },
  {
   "cell_type": "code",
   "execution_count": 9,
   "metadata": {},
   "outputs": [
    {
     "name": "stdout",
     "output_type": "stream",
     "text": [
      "<class 'dict'>\n",
      "<class 'str'>\n",
      "{\n",
      "   \"age\": 32,\n",
      "   \"id\": 5,\n",
      "   \"name\": \"sam\",\n",
      "   \"phone\": [\n",
      "      324244,\n",
      "      2434241\n",
      "   ]\n",
      "}\n"
     ]
    }
   ],
   "source": [
    "import json\n",
    "\n",
    "data={\"name\":\"sam\",\"id\":5,\"age\":32,\"phone\":[324244,2434241]}\n",
    "\n",
    "print(type(data))\n",
    "d=json.dumps(data, indent=3, sort_keys=True)\n",
    "print(type(d))\n",
    "print(d)\n",
    "\n",
    "f=open('j.json','w')\n",
    "f.write(d)\n",
    "f.close()"
   ]
  },
  {
   "cell_type": "code",
   "execution_count": 34,
   "metadata": {},
   "outputs": [
    {
     "name": "stdout",
     "output_type": "stream",
     "text": [
      "{'lat': 42.2808256, 'lng': -83.7430378}\n"
     ]
    }
   ],
   "source": [
    "f=open('test.json','r')\n",
    "b=json.load(f)\n",
    "#print(b)\n",
    "\n",
    "m=b['results'][0]['geometry'][\"location\"]\n",
    "print(m)"
   ]
  }
 ],
 "metadata": {
  "kernelspec": {
   "display_name": "Python 3",
   "language": "python",
   "name": "python3"
  },
  "language_info": {
   "codemirror_mode": {
    "name": "ipython",
    "version": 3
   },
   "file_extension": ".py",
   "mimetype": "text/x-python",
   "name": "python",
   "nbconvert_exporter": "python",
   "pygments_lexer": "ipython3",
   "version": "3.8.3"
  }
 },
 "nbformat": 4,
 "nbformat_minor": 4
}
