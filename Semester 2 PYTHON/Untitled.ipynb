{
 "cells": [
  {
   "cell_type": "code",
   "execution_count": null,
   "metadata": {},
   "outputs": [],
   "source": [
    "#generators"
   ]
  },
  {
   "cell_type": "code",
   "execution_count": null,
   "metadata": {},
   "outputs": [],
   "source": [
    "def square():\n",
    "    for i in range (1,101):\n",
    "        yield i*i\n",
    "d=square()\n",
    "for i in d:\n",
    "    print(i)\n",
    "print(type(d))"
   ]
  },
  {
   "cell_type": "code",
   "execution_count": null,
   "metadata": {},
   "outputs": [],
   "source": [
    "#decorators"
   ]
  },
  {
   "cell_type": "code",
   "execution_count": null,
   "metadata": {},
   "outputs": [],
   "source": [
    "@dec_diff\n",
    "def diff(a,b):\n",
    "    print(a-b)\n",
    "    \n",
    "#diff(5,7)"
   ]
  },
  {
   "cell_type": "code",
   "execution_count": null,
   "metadata": {},
   "outputs": [],
   "source": [
    "def dec_diff(func):\n",
    "    def wrap_diff(a,b):\n",
    "        if b>a:\n",
    "            print(b-a)\n",
    "        else:\n",
    "            return func(a,b)\n",
    "    return wrap_diff\n",
    "\n",
    "diff(8,7)"
   ]
  },
  {
   "cell_type": "code",
   "execution_count": null,
   "metadata": {},
   "outputs": [],
   "source": [
    "#lambda, filter, map"
   ]
  },
  {
   "cell_type": "code",
   "execution_count": null,
   "metadata": {},
   "outputs": [],
   "source": [
    "marks=[55,65,76,78,96,56,74,80]\n",
    "\n",
    "\"\"\"def check(a):\n",
    "    if a>70:\n",
    "        print(a)\"\"\"\n",
    "d=filter(lambda a:print(\"pass\") if a>70 else print(\"fail\"),marks)\n",
    "\n",
    "for i in d:\n",
    "    print(i)"
   ]
  },
  {
   "cell_type": "code",
   "execution_count": null,
   "metadata": {},
   "outputs": [],
   "source": [
    "marks=[55,65,76,78,96,56,74,80]\n",
    "\n",
    "def add(a):\n",
    "    return a+3\n",
    "d= map(add,marks)\n",
    "\n",
    "for i in d:\n",
    "    print(i)"
   ]
  },
  {
   "cell_type": "code",
   "execution_count": null,
   "metadata": {},
   "outputs": [],
   "source": [
    "    #reduce"
   ]
  },
  {
   "cell_type": "code",
   "execution_count": null,
   "metadata": {},
   "outputs": [],
   "source": [
    "from functools import reduce\n",
    "list1=[1,2,3,4,5,6,7,8,9]\n",
    "\n",
    "def add(a,b):\n",
    "    return a+b\n",
    "d= reduce(add,list1)\n",
    "print(d)"
   ]
  },
  {
   "cell_type": "code",
   "execution_count": null,
   "metadata": {},
   "outputs": [],
   "source": [
    "#partial functions"
   ]
  },
  {
   "cell_type": "code",
   "execution_count": null,
   "metadata": {},
   "outputs": [],
   "source": [
    "from functools import partial\n",
    "\n",
    "def power (base, expo):\n",
    "    return base**expo\n",
    "\n",
    "d=partial(power, expo=4)\n",
    "d(5)\n",
    "d(3)"
   ]
  },
  {
   "cell_type": "code",
   "execution_count": null,
   "metadata": {},
   "outputs": [],
   "source": [
    "#closures"
   ]
  },
  {
   "cell_type": "code",
   "execution_count": null,
   "metadata": {},
   "outputs": [],
   "source": [
    "def func1():\n",
    "    def func2(a):\n",
    "        print(a**5)\n",
    "    return func2\n",
    "\n",
    "d = func1()\n",
    "d(2)"
   ]
  },
  {
   "cell_type": "code",
   "execution_count": null,
   "metadata": {},
   "outputs": [],
   "source": [
    "#threads"
   ]
  },
  {
   "cell_type": "code",
   "execution_count": null,
   "metadata": {},
   "outputs": [],
   "source": [
    "import threading\n",
    "import time\n",
    "\n",
    "def display():\n",
    "    time.sleep(2)\n",
    "    print(\"Hi\")\n",
    "\n",
    "t1=threading.Thread(target=display)\n",
    "t1.start()\n",
    "print(\"There\")"
   ]
  },
  {
   "cell_type": "code",
   "execution_count": null,
   "metadata": {},
   "outputs": [],
   "source": [
    "import threading\n",
    "import time\n",
    "\n",
    "def display():\n",
    "    i=0\n",
    "    while True:\n",
    "        print(i)\n",
    "        i+=1\n",
    "        time.sleep(1)\n",
    "t1=threading.Thread(target=display, daemon=True)\n",
    "t1.start()\n",
    "i = input(\"press anything to stop\")\n"
   ]
  },
  {
   "cell_type": "code",
   "execution_count": 9,
   "metadata": {},
   "outputs": [
    {
     "name": "stdout",
     "output_type": "stream",
     "text": [
      "0\n",
      "2\n",
      "4\n",
      "6\n",
      "8\n",
      "10\n",
      "12\n",
      "14\n",
      "16\n",
      "18\n",
      "20\n",
      "22\n",
      "24\n",
      "26\n",
      "28\n",
      "30\n",
      "32\n",
      "34\n",
      "36\n",
      "38\n",
      "40\n",
      "42\n",
      "44\n",
      "46\n",
      "48\n",
      "50\n",
      "52\n",
      "54\n",
      "56\n",
      "58\n",
      "60\n",
      "62\n",
      "64\n",
      "66\n",
      "68\n",
      "70\n",
      "72\n",
      "74\n",
      "76\n",
      "78\n",
      "80\n",
      "82\n",
      "84\n",
      "86\n",
      "88\n",
      "90\n",
      "92\n",
      "94\n",
      "96\n",
      "98\n"
     ]
    }
   ],
   "source": [
    "#queue\n",
    "import queue\n",
    "import threading\n",
    "q=queue.PriorityQueue()\n",
    "\n",
    "def producer():\n",
    "    c=0\n",
    "    while c<100:\n",
    "        q.put(c)\n",
    "        c+=2\n",
    "    \n",
    "    \n",
    "def consumer():\n",
    "    while not q.empty():\n",
    "        print(q.get())\n",
    "        \n",
    "t1=threading.Thread(target=producer)\n",
    "t2=threading.Thread(target=consumer)\n",
    "t1.start()\n",
    "t2.start()"
   ]
  }
 ],
 "metadata": {
  "kernelspec": {
   "display_name": "Python 3",
   "language": "python",
   "name": "python3"
  },
  "language_info": {
   "codemirror_mode": {
    "name": "ipython",
    "version": 3
   },
   "file_extension": ".py",
   "mimetype": "text/x-python",
   "name": "python",
   "nbconvert_exporter": "python",
   "pygments_lexer": "ipython3",
   "version": "3.8.3"
  }
 },
 "nbformat": 4,
 "nbformat_minor": 4
}
