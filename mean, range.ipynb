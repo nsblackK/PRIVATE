{
 "cells": [
  {
   "cell_type": "code",
   "execution_count": 1,
   "metadata": {
    "scrolled": true
   },
   "outputs": [
    {
     "data": {
      "text/html": [
       "170.666666666667"
      ],
      "text/latex": [
       "170.666666666667"
      ],
      "text/markdown": [
       "170.666666666667"
      ],
      "text/plain": [
       "[1] 170.6667"
      ]
     },
     "metadata": {},
     "output_type": "display_data"
    }
   ],
   "source": [
    "student.height<- c(176,165,160,174,185,164)\n",
    "mean(student.height)"
   ]
  },
  {
   "cell_type": "code",
   "execution_count": 3,
   "metadata": {},
   "outputs": [
    {
     "data": {
      "text/html": [
       "62"
      ],
      "text/latex": [
       "62"
      ],
      "text/markdown": [
       "62"
      ],
      "text/plain": [
       "[1] 62"
      ]
     },
     "metadata": {},
     "output_type": "display_data"
    }
   ],
   "source": [
    "weight<-c (50,57,89,70,56,45,80,54,59,60)\n",
    "mean(weight)"
   ]
  },
  {
   "cell_type": "code",
   "execution_count": 8,
   "metadata": {},
   "outputs": [
    {
     "data": {
      "text/html": [
       "<strong>164:</strong> 2"
      ],
      "text/latex": [
       "\\textbf{164:} 2"
      ],
      "text/markdown": [
       "**164:** 2"
      ],
      "text/plain": [
       "164 \n",
       "  2 "
      ]
     },
     "metadata": {},
     "output_type": "display_data"
    }
   ],
   "source": [
    "#mode\n",
    "student.height<- c(176,165,160,174,185,164,164)\n",
    "a<-table(student.height)\n",
    "sort(a,decreasing=TRUE)[1]"
   ]
  },
  {
   "cell_type": "code",
   "execution_count": 11,
   "metadata": {},
   "outputs": [
    {
     "data": {
      "text/html": [
       "<ol class=list-inline>\n",
       "\t<li>160</li>\n",
       "\t<li>185</li>\n",
       "</ol>\n"
      ],
      "text/latex": [
       "\\begin{enumerate*}\n",
       "\\item 160\n",
       "\\item 185\n",
       "\\end{enumerate*}\n"
      ],
      "text/markdown": [
       "1. 160\n",
       "2. 185\n",
       "\n",
       "\n"
      ],
      "text/plain": [
       "[1] 160 185"
      ]
     },
     "metadata": {},
     "output_type": "display_data"
    },
    {
     "data": {
      "text/html": [
       "<dl class=dl-horizontal>\n",
       "\t<dt>0%</dt>\n",
       "\t\t<dd>160</dd>\n",
       "\t<dt>25%</dt>\n",
       "\t\t<dd>164</dd>\n",
       "\t<dt>50%</dt>\n",
       "\t\t<dd>165</dd>\n",
       "\t<dt>75%</dt>\n",
       "\t\t<dd>175</dd>\n",
       "\t<dt>100%</dt>\n",
       "\t\t<dd>185</dd>\n",
       "</dl>\n"
      ],
      "text/latex": [
       "\\begin{description*}\n",
       "\\item[0\\textbackslash{}\\%] 160\n",
       "\\item[25\\textbackslash{}\\%] 164\n",
       "\\item[50\\textbackslash{}\\%] 165\n",
       "\\item[75\\textbackslash{}\\%] 175\n",
       "\\item[100\\textbackslash{}\\%] 185\n",
       "\\end{description*}\n"
      ],
      "text/markdown": [
       "0%\n",
       ":   16025%\n",
       ":   16450%\n",
       ":   16575%\n",
       ":   175100%\n",
       ":   185\n",
       "\n"
      ],
      "text/plain": [
       "  0%  25%  50%  75% 100% \n",
       " 160  164  165  175  185 "
      ]
     },
     "metadata": {},
     "output_type": "display_data"
    }
   ],
   "source": [
    "student.height<- c(176,165,160,174,185,164,164)\n",
    "range(student.height)\n",
    "quantile(student.height)"
   ]
  },
  {
   "cell_type": "code",
   "execution_count": 12,
   "metadata": {},
   "outputs": [
    {
     "data": {
      "text/html": [
       "<ol class=list-inline>\n",
       "\t<li>160</li>\n",
       "\t<li>185</li>\n",
       "</ol>\n"
      ],
      "text/latex": [
       "\\begin{enumerate*}\n",
       "\\item 160\n",
       "\\item 185\n",
       "\\end{enumerate*}\n"
      ],
      "text/markdown": [
       "1. 160\n",
       "2. 185\n",
       "\n",
       "\n"
      ],
      "text/plain": [
       "[1] 160 185"
      ]
     },
     "metadata": {},
     "output_type": "display_data"
    },
    {
     "data": {
      "text/html": [
       "<dl class=dl-horizontal>\n",
       "\t<dt>0%</dt>\n",
       "\t\t<dd>160</dd>\n",
       "\t<dt>25%</dt>\n",
       "\t\t<dd>164</dd>\n",
       "\t<dt>50%</dt>\n",
       "\t\t<dd>165</dd>\n",
       "\t<dt>75%</dt>\n",
       "\t\t<dd>175</dd>\n",
       "\t<dt>100%</dt>\n",
       "\t\t<dd>185</dd>\n",
       "</dl>\n"
      ],
      "text/latex": [
       "\\begin{description*}\n",
       "\\item[0\\textbackslash{}\\%] 160\n",
       "\\item[25\\textbackslash{}\\%] 164\n",
       "\\item[50\\textbackslash{}\\%] 165\n",
       "\\item[75\\textbackslash{}\\%] 175\n",
       "\\item[100\\textbackslash{}\\%] 185\n",
       "\\end{description*}\n"
      ],
      "text/markdown": [
       "0%\n",
       ":   16025%\n",
       ":   16450%\n",
       ":   16575%\n",
       ":   175100%\n",
       ":   185\n",
       "\n"
      ],
      "text/plain": [
       "  0%  25%  50%  75% 100% \n",
       " 160  164  165  175  185 "
      ]
     },
     "metadata": {},
     "output_type": "display_data"
    }
   ],
   "source": [
    "#measurement of variation\n",
    "student.height<- c(176,165,160,174,185,164,164)\n",
    "range(student.height)\n",
    "quantile(student.height)"
   ]
  },
  {
   "cell_type": "code",
   "execution_count": 20,
   "metadata": {},
   "outputs": [
    {
     "name": "stdout",
     "output_type": "stream",
     "text": [
      "[1] \"inter quartile range: \"\n"
     ]
    },
    {
     "data": {
      "text/html": [
       "11"
      ],
      "text/latex": [
       "11"
      ],
      "text/markdown": [
       "11"
      ],
      "text/plain": [
       "[1] 11"
      ]
     },
     "metadata": {},
     "output_type": "display_data"
    },
    {
     "name": "stdout",
     "output_type": "stream",
     "text": [
      "[1] \"standard daviation: \"\n"
     ]
    },
    {
     "data": {
      "text/html": [
       "8.88283524021255"
      ],
      "text/latex": [
       "8.88283524021255"
      ],
      "text/markdown": [
       "8.88283524021255"
      ],
      "text/plain": [
       "[1] 8.882835"
      ]
     },
     "metadata": {},
     "output_type": "display_data"
    },
    {
     "name": "stdout",
     "output_type": "stream",
     "text": [
      "[1] \"variance: \"\n"
     ]
    },
    {
     "data": {
      "text/html": [
       "78.9047619047619"
      ],
      "text/latex": [
       "78.9047619047619"
      ],
      "text/markdown": [
       "78.9047619047619"
      ],
      "text/plain": [
       "[1] 78.90476"
      ]
     },
     "metadata": {},
     "output_type": "display_data"
    }
   ],
   "source": [
    "#inter quartile range\n",
    "print(\"inter quartile range: \")\n",
    "IQR(student.height)\n",
    "print(\"standard daviation: \")\n",
    "sd(student.height)\n",
    "print(\"variance: \")\n",
    "var(student.height)"
   ]
  },
  {
   "cell_type": "code",
   "execution_count": null,
   "metadata": {},
   "outputs": [],
   "source": [
    "Income leval of State A Per lakh year is \n",
    "20,10,15,20,30,40,50,70,80,10,5,2,65,10\n",
    "Income leval of state B 20,10,5,4,6,10,27,90,10,5"
   ]
  },
  {
   "cell_type": "code",
   "execution_count": 21,
   "metadata": {},
   "outputs": [
    {
     "data": {
      "text/html": [
       "30.5"
      ],
      "text/latex": [
       "30.5"
      ],
      "text/markdown": [
       "30.5"
      ],
      "text/plain": [
       "[1] 30.5"
      ]
     },
     "metadata": {},
     "output_type": "display_data"
    },
    {
     "data": {
      "text/html": [
       "18.7"
      ],
      "text/latex": [
       "18.7"
      ],
      "text/markdown": [
       "18.7"
      ],
      "text/plain": [
       "[1] 18.7"
      ]
     },
     "metadata": {},
     "output_type": "display_data"
    },
    {
     "data": {
      "text/html": [
       "<strong>10:</strong> 3"
      ],
      "text/latex": [
       "\\textbf{10:} 3"
      ],
      "text/markdown": [
       "**10:** 3"
      ],
      "text/plain": [
       "10 \n",
       " 3 "
      ]
     },
     "metadata": {},
     "output_type": "display_data"
    },
    {
     "data": {
      "text/html": [
       "<strong>10:</strong> 3"
      ],
      "text/latex": [
       "\\textbf{10:} 3"
      ],
      "text/markdown": [
       "**10:** 3"
      ],
      "text/plain": [
       "10 \n",
       " 3 "
      ]
     },
     "metadata": {},
     "output_type": "display_data"
    },
    {
     "data": {
      "text/html": [
       "<ol class=list-inline>\n",
       "\t<li>2</li>\n",
       "\t<li>80</li>\n",
       "</ol>\n"
      ],
      "text/latex": [
       "\\begin{enumerate*}\n",
       "\\item 2\n",
       "\\item 80\n",
       "\\end{enumerate*}\n"
      ],
      "text/markdown": [
       "1. 2\n",
       "2. 80\n",
       "\n",
       "\n"
      ],
      "text/plain": [
       "[1]  2 80"
      ]
     },
     "metadata": {},
     "output_type": "display_data"
    },
    {
     "data": {
      "text/html": [
       "<ol class=list-inline>\n",
       "\t<li>4</li>\n",
       "\t<li>90</li>\n",
       "</ol>\n"
      ],
      "text/latex": [
       "\\begin{enumerate*}\n",
       "\\item 4\n",
       "\\item 90\n",
       "\\end{enumerate*}\n"
      ],
      "text/markdown": [
       "1. 4\n",
       "2. 90\n",
       "\n",
       "\n"
      ],
      "text/plain": [
       "[1]  4 90"
      ]
     },
     "metadata": {},
     "output_type": "display_data"
    },
    {
     "data": {
      "text/html": [
       "<dl class=dl-horizontal>\n",
       "\t<dt>0%</dt>\n",
       "\t\t<dd>2</dd>\n",
       "\t<dt>25%</dt>\n",
       "\t\t<dd>10</dd>\n",
       "\t<dt>50%</dt>\n",
       "\t\t<dd>20</dd>\n",
       "\t<dt>75%</dt>\n",
       "\t\t<dd>47.5</dd>\n",
       "\t<dt>100%</dt>\n",
       "\t\t<dd>80</dd>\n",
       "</dl>\n"
      ],
      "text/latex": [
       "\\begin{description*}\n",
       "\\item[0\\textbackslash{}\\%] 2\n",
       "\\item[25\\textbackslash{}\\%] 10\n",
       "\\item[50\\textbackslash{}\\%] 20\n",
       "\\item[75\\textbackslash{}\\%] 47.5\n",
       "\\item[100\\textbackslash{}\\%] 80\n",
       "\\end{description*}\n"
      ],
      "text/markdown": [
       "0%\n",
       ":   225%\n",
       ":   1050%\n",
       ":   2075%\n",
       ":   47.5100%\n",
       ":   80\n",
       "\n"
      ],
      "text/plain": [
       "  0%  25%  50%  75% 100% \n",
       " 2.0 10.0 20.0 47.5 80.0 "
      ]
     },
     "metadata": {},
     "output_type": "display_data"
    },
    {
     "data": {
      "text/html": [
       "<dl class=dl-horizontal>\n",
       "\t<dt>0%</dt>\n",
       "\t\t<dd>4</dd>\n",
       "\t<dt>25%</dt>\n",
       "\t\t<dd>5.25</dd>\n",
       "\t<dt>50%</dt>\n",
       "\t\t<dd>10</dd>\n",
       "\t<dt>75%</dt>\n",
       "\t\t<dd>17.5</dd>\n",
       "\t<dt>100%</dt>\n",
       "\t\t<dd>90</dd>\n",
       "</dl>\n"
      ],
      "text/latex": [
       "\\begin{description*}\n",
       "\\item[0\\textbackslash{}\\%] 4\n",
       "\\item[25\\textbackslash{}\\%] 5.25\n",
       "\\item[50\\textbackslash{}\\%] 10\n",
       "\\item[75\\textbackslash{}\\%] 17.5\n",
       "\\item[100\\textbackslash{}\\%] 90\n",
       "\\end{description*}\n"
      ],
      "text/markdown": [
       "0%\n",
       ":   425%\n",
       ":   5.2550%\n",
       ":   1075%\n",
       ":   17.5100%\n",
       ":   90\n",
       "\n"
      ],
      "text/plain": [
       "   0%   25%   50%   75%  100% \n",
       " 4.00  5.25 10.00 17.50 90.00 "
      ]
     },
     "metadata": {},
     "output_type": "display_data"
    }
   ],
   "source": [
    "Astate<-c(20,10,15,20,30,40,50,70,80,10,5,2,65,10)\n",
    "Bstate<-c(20,10,5,4,6,10,27,90,10,5)\n",
    "\n",
    "#mean\n",
    "mean(Astate)\n",
    "mean(Bstate)\n",
    "\n",
    "#mode\n",
    "a<-table(Astate)\n",
    "b<-table(Bstate)\n",
    "sort(a,decreasing=TRUE)[1]\n",
    "sort(b,decreasing=TRUE)[1]\n",
    "\n",
    "#renage\n",
    "range(Astate)\n",
    "range(Bstate)\n",
    "\n",
    "#quantile\n",
    "quantile(Astate)\n",
    "quantile(Bstate)"
   ]
  },
  {
   "cell_type": "code",
   "execution_count": 25,
   "metadata": {},
   "outputs": [
    {
     "data": {
      "text/html": [
       "85.5726592285303"
      ],
      "text/latex": [
       "85.5726592285303"
      ],
      "text/markdown": [
       "85.5726592285303"
      ],
      "text/plain": [
       "[1] 85.57266"
      ]
     },
     "metadata": {},
     "output_type": "display_data"
    },
    {
     "data": {
      "text/html": [
       "139.570380025143"
      ],
      "text/latex": [
       "139.570380025143"
      ],
      "text/markdown": [
       "139.570380025143"
      ],
      "text/plain": [
       "[1] 139.5704"
      ]
     },
     "metadata": {},
     "output_type": "display_data"
    }
   ],
   "source": [
    "Aconsistancy<-sd(Astate)/mean(Astate)*100\n",
    "Bconsistancy<-sd(Astate)/mean(Bstate)*100\n",
    "Aconsistancy\n",
    "Bconsistancy"
   ]
  }
 ],
 "metadata": {
  "kernelspec": {
   "display_name": "R",
   "language": "R",
   "name": "ir"
  },
  "language_info": {
   "codemirror_mode": "r",
   "file_extension": ".r",
   "mimetype": "text/x-r-source",
   "name": "R",
   "pygments_lexer": "r",
   "version": "3.6.1"
  }
 },
 "nbformat": 4,
 "nbformat_minor": 4
}
