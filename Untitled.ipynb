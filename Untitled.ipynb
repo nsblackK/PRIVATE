{
 "cells": [
  {
   "cell_type": "code",
   "execution_count": 1,
   "metadata": {},
   "outputs": [
    {
     "data": {
      "text/html": [
       "<table>\n",
       "<thead><tr><th scope=col>country</th><th scope=col>year</th><th scope=col>sex</th><th scope=col>age</th><th scope=col>suicides_no</th><th scope=col>population</th><th scope=col>suicides.100k.pop</th><th scope=col>country.year</th><th scope=col>HDI.for.year</th><th scope=col>gdp_for_year....</th><th scope=col>gdp_per_capita....</th><th scope=col>generation</th></tr></thead>\n",
       "<tbody>\n",
       "\t<tr><td>Albania      </td><td>2006         </td><td>female       </td><td>15-24 years  </td><td>0            </td><td>283138       </td><td>0            </td><td>Albania2006  </td><td>NA           </td><td>8,992,642,349</td><td>3235         </td><td>Millenials   </td></tr>\n",
       "\t<tr><td>Albania      </td><td>2006         </td><td>female       </td><td>25-34 years  </td><td>0            </td><td>186391       </td><td>0            </td><td>Albania2006  </td><td>NA           </td><td>8,992,642,349</td><td>3235         </td><td>Generation X </td></tr>\n",
       "\t<tr><td>Albania      </td><td>2006         </td><td>female       </td><td>35-54 years  </td><td>0            </td><td>388746       </td><td>0            </td><td>Albania2006  </td><td>NA           </td><td>8,992,642,349</td><td>3235         </td><td>Boomers      </td></tr>\n",
       "\t<tr><td>Albania      </td><td>2006         </td><td>female       </td><td>5-14 years   </td><td>0            </td><td>267316       </td><td>0            </td><td>Albania2006  </td><td>NA           </td><td>8,992,642,349</td><td>3235         </td><td>Millenials   </td></tr>\n",
       "\t<tr><td>Albania      </td><td>2006         </td><td>female       </td><td>55-74 years  </td><td>0            </td><td>215907       </td><td>0            </td><td>Albania2006  </td><td>NA           </td><td>8,992,642,349</td><td>3235         </td><td>Silent       </td></tr>\n",
       "\t<tr><td>Albania      </td><td>2006         </td><td>female       </td><td>75+ years    </td><td>0            </td><td> 56011       </td><td>0            </td><td>Albania2006  </td><td>NA           </td><td>8,992,642,349</td><td>3235         </td><td>Silent       </td></tr>\n",
       "</tbody>\n",
       "</table>\n"
      ],
      "text/latex": [
       "\\begin{tabular}{r|llllllllllll}\n",
       " country & year & sex & age & suicides\\_no & population & suicides.100k.pop & country.year & HDI.for.year & gdp\\_for\\_year.... & gdp\\_per\\_capita.... & generation\\\\\n",
       "\\hline\n",
       "\t Albania       & 2006          & female        & 15-24 years   & 0             & 283138        & 0             & Albania2006   & NA            & 8,992,642,349 & 3235          & Millenials   \\\\\n",
       "\t Albania       & 2006          & female        & 25-34 years   & 0             & 186391        & 0             & Albania2006   & NA            & 8,992,642,349 & 3235          & Generation X \\\\\n",
       "\t Albania       & 2006          & female        & 35-54 years   & 0             & 388746        & 0             & Albania2006   & NA            & 8,992,642,349 & 3235          & Boomers      \\\\\n",
       "\t Albania       & 2006          & female        & 5-14 years    & 0             & 267316        & 0             & Albania2006   & NA            & 8,992,642,349 & 3235          & Millenials   \\\\\n",
       "\t Albania       & 2006          & female        & 55-74 years   & 0             & 215907        & 0             & Albania2006   & NA            & 8,992,642,349 & 3235          & Silent       \\\\\n",
       "\t Albania       & 2006          & female        & 75+ years     & 0             &  56011        & 0             & Albania2006   & NA            & 8,992,642,349 & 3235          & Silent       \\\\\n",
       "\\end{tabular}\n"
      ],
      "text/markdown": [
       "\n",
       "| country | year | sex | age | suicides_no | population | suicides.100k.pop | country.year | HDI.for.year | gdp_for_year.... | gdp_per_capita.... | generation |\n",
       "|---|---|---|---|---|---|---|---|---|---|---|---|\n",
       "| Albania       | 2006          | female        | 15-24 years   | 0             | 283138        | 0             | Albania2006   | NA            | 8,992,642,349 | 3235          | Millenials    |\n",
       "| Albania       | 2006          | female        | 25-34 years   | 0             | 186391        | 0             | Albania2006   | NA            | 8,992,642,349 | 3235          | Generation X  |\n",
       "| Albania       | 2006          | female        | 35-54 years   | 0             | 388746        | 0             | Albania2006   | NA            | 8,992,642,349 | 3235          | Boomers       |\n",
       "| Albania       | 2006          | female        | 5-14 years    | 0             | 267316        | 0             | Albania2006   | NA            | 8,992,642,349 | 3235          | Millenials    |\n",
       "| Albania       | 2006          | female        | 55-74 years   | 0             | 215907        | 0             | Albania2006   | NA            | 8,992,642,349 | 3235          | Silent        |\n",
       "| Albania       | 2006          | female        | 75+ years     | 0             |  56011        | 0             | Albania2006   | NA            | 8,992,642,349 | 3235          | Silent        |\n",
       "\n"
      ],
      "text/plain": [
       "  country year sex    age         suicides_no population suicides.100k.pop\n",
       "1 Albania 2006 female 15-24 years 0           283138     0                \n",
       "2 Albania 2006 female 25-34 years 0           186391     0                \n",
       "3 Albania 2006 female 35-54 years 0           388746     0                \n",
       "4 Albania 2006 female 5-14 years  0           267316     0                \n",
       "5 Albania 2006 female 55-74 years 0           215907     0                \n",
       "6 Albania 2006 female 75+ years   0            56011     0                \n",
       "  country.year HDI.for.year gdp_for_year.... gdp_per_capita.... generation  \n",
       "1 Albania2006  NA           8,992,642,349    3235               Millenials  \n",
       "2 Albania2006  NA           8,992,642,349    3235               Generation X\n",
       "3 Albania2006  NA           8,992,642,349    3235               Boomers     \n",
       "4 Albania2006  NA           8,992,642,349    3235               Millenials  \n",
       "5 Albania2006  NA           8,992,642,349    3235               Silent      \n",
       "6 Albania2006  NA           8,992,642,349    3235               Silent      "
      ]
     },
     "metadata": {},
     "output_type": "display_data"
    }
   ],
   "source": [
    "df<-read.csv('C:/Users/DELL/Downloads/master.csv')\n",
    "head(df)"
   ]
  },
  {
   "cell_type": "code",
   "execution_count": 2,
   "metadata": {},
   "outputs": [
    {
     "data": {
      "text/plain": [
       "           country          year          sex                age      \n",
       " Armenia       : 130   Min.   :2006   female:5000   15-24 years:1672  \n",
       " Austria       : 130   1st Qu.:2008   male  :5000   25-34 years:1672  \n",
       " Croatia       : 130   Median :2010                 35-54 years:1672  \n",
       " Cyprus        : 130   Mean   :2010                 5-14 years :1640  \n",
       " Czech Republic: 130   3rd Qu.:2013                 55-74 years:1672  \n",
       " Grenada       : 130   Max.   :2016                 75+ years  :1672  \n",
       " (Other)       :9220                                                  \n",
       "  suicides_no        population       suicides.100k.pop\n",
       " Min.   :    0.0   Min.   :     939   Min.   :  0.00   \n",
       " 1st Qu.:    3.0   1st Qu.:  100096   1st Qu.:  0.93   \n",
       " Median :   24.0   Median :  458340   Median :  5.30   \n",
       " Mean   :  231.6   Mean   : 1914977   Mean   : 11.46   \n",
       " 3rd Qu.:  119.0   3rd Qu.: 1536823   3rd Qu.: 14.82   \n",
       " Max.   :14020.0   Max.   :43805214   Max.   :204.92   \n",
       "                                                       \n",
       "                  country.year   HDI.for.year            gdp_for_year....\n",
       " Albania2006            :  12   Min.   :0.611   1,002,219,052,968:  12   \n",
       " Albania2007            :  12   1st Qu.:0.737   1,011,797,457,139:  12   \n",
       " Albania2008            :  12   Median :0.812   1,016,418,229    :  12   \n",
       " Albania2009            :  12   Mean   :0.802   1,033,561,654    :  12   \n",
       " Albania2010            :  12   3rd Qu.:0.881   1,052,584,601,611:  12   \n",
       " Antigua and Barbuda2006:  12   Max.   :0.944   1,052,696,282,279:  12   \n",
       " (Other)                :9928   NA's   :5260    (Other)          :9928   \n",
       " gdp_per_capita....        generation  \n",
       " Min.   :   610     Boomers     :1496  \n",
       " 1st Qu.:  7066     Generation X:1848  \n",
       " Median : 15109     Generation Z:1470  \n",
       " Mean   : 25174     Millenials  :2648  \n",
       " 3rd Qu.: 40328     Silent      :2538  \n",
       " Max.   :126352                        \n",
       "                                       "
      ]
     },
     "metadata": {},
     "output_type": "display_data"
    },
    {
     "data": {
      "text/html": [
       "<ol class=list-inline>\n",
       "\t<li>10000</li>\n",
       "\t<li>12</li>\n",
       "</ol>\n"
      ],
      "text/latex": [
       "\\begin{enumerate*}\n",
       "\\item 10000\n",
       "\\item 12\n",
       "\\end{enumerate*}\n"
      ],
      "text/markdown": [
       "1. 10000\n",
       "2. 12\n",
       "\n",
       "\n"
      ],
      "text/plain": [
       "[1] 10000    12"
      ]
     },
     "metadata": {},
     "output_type": "display_data"
    }
   ],
   "source": [
    "summary(df)\n",
    "dim(df)"
   ]
  },
  {
   "cell_type": "code",
   "execution_count": null,
   "metadata": {},
   "outputs": [
    {
     "name": "stderr",
     "output_type": "stream",
     "text": [
      "Warning message:\n",
      "\"dependency 'foreign' is not available\"also installing the dependencies 'clipr', 'BH', 'forcats', 'readr', 'zip', 'sp', 'haven', 'data.table', 'openxlsx', 'boot', 'nloptr', 'RcppEigen', 'carData', 'abind', 'nnet', 'pbkrtest', 'maptools', 'rio', 'lme4', 'matrixStats', 'car', 'lmtest', 'zoo', 'Rcpp', 'RcppProgress', 'miscTools', 'mcmc', 'SparseM', 'MatrixModels', 'conquer', 'minqa', 'numDeriv', 'mitools', 'survival', 'AER', 'coda', 'Formula', 'geepack', 'sandwich', 'MatchIt', 'maxLik', 'MCMCpack', 'quantreg', 'survey', 'VGAM', 'RcppArmadillo', 'Zelig'\n",
      "\n"
     ]
    }
   ],
   "source": [
    "install.packages('Amelia', dependencies=T)\n",
    "install.packages('ggthemes', dependencies=T)\n",
    "install.packages('dplyr', dependencies=T)"
   ]
  },
  {
   "cell_type": "code",
   "execution_count": null,
   "metadata": {},
   "outputs": [],
   "source": [
    "#plotting missing values\n",
    "missmap(df,main=\"missing data in suicide dataset\",col=c(\"yellow\",\"black\"),legend = FALSE)"
   ]
  },
  {
   "cell_type": "code",
   "execution_count": null,
   "metadata": {},
   "outputs": [],
   "source": [
    "#removinf missing values\n",
    "df$HDI.for.year[is.na(df$HDI.for.year)]<-mean(df$HDI.for.year,na.rm=TRUE)"
   ]
  },
  {
   "cell_type": "code",
   "execution_count": null,
   "metadata": {},
   "outputs": [],
   "source": [
    "library(ggplot2)\n",
    "library(ggthemes)\n",
    "library(dplyr)"
   ]
  },
  {
   "cell_type": "code",
   "execution_count": null,
   "metadata": {},
   "outputs": [],
   "source": [
    "ggplot(df,aes(generation))+geom_bar(aes(fill=factor(generation)),alpha=0.5)"
   ]
  },
  {
   "cell_type": "code",
   "execution_count": null,
   "metadata": {},
   "outputs": [],
   "source": [
    "df %>% group_by(sex) %>%\n",
    "  summarize(suicide_rate=sum(suicides_no)*100000/sum(population)) %>%\n",
    "  ggplot(aes(reorder(sex, suicide_rate), suicide_rate, fill=sex)) +\n",
    "  geom_histogram(stat=\"identity\", color=\"navy\") +\n",
    "  ggtitle(\"Suicide Prevalence by Sex\") +\n",
    "  scale_color_manual(values = c(\"deepskyblue2\", \"navy\"),\n",
    "                     aesthetics = c(\"colour\", \"fill\")) +\n",
    "  labs(x=\"Sex\", y=\"Suicide rate per 100k population\", fill=\"Sex\") "
   ]
  },
  {
   "cell_type": "code",
   "execution_count": null,
   "metadata": {},
   "outputs": [],
   "source": [
    "df %>% group_by(year, sex) %>%\n",
    "  summarize(suicide_rate=sum(suicides_no)*100000/sum(population)) %>%\n",
    "  ggplot(aes(year, suicide_rate, col=sex)) +\n",
    "  geom_line() +\n",
    "  geom_point() +\n",
    "  facet_grid(sex ~ ., scales = \"free_y\") +\n",
    "  scale_x_continuous(breaks = seq(2006, 2016, 2)) +\n",
    "  ggtitle(\"Suicide Rate Trends by Sex\") +\n",
    "  labs(x=\"Year\", y=\"Suicide rate per 100k population\", col=\"Sex\") +\n",
    "  scale_color_manual(values = c(\"deepskyblue2\", \"navy\"),\n",
    "                     aesthetics = c(\"colour\", \"fill\")) +\n",
    "  theme(axis.text.x = element_text(angle = 90), legend.position = \"none\") "
   ]
  },
  {
   "cell_type": "code",
   "execution_count": null,
   "metadata": {},
   "outputs": [],
   "source": [
    "f %>% group_by(age, country) %>%\n",
    "  summarize(suicide_rate=sum(suicides_no)*100000/sum(population)) %>%\n",
    "  ggplot(aes(age, suicide_rate)) +\n",
    "  geom_boxplot(fill=\"deepskyblue2\", col=\"navy\") +\n",
    "  labs(x=\"Age group\", y=\"Suicide rate\") +\n",
    "  ggtitle(\"Suicide Rate by Age Group\") +\n",
    "  theme(axis.text.x = element_text(angle = 30)) "
   ]
  },
  {
   "cell_type": "code",
   "execution_count": null,
   "metadata": {},
   "outputs": [],
   "source": [
    "df%>%\n",
    "  ggplot(aes(suicides.100k.pop)) +\n",
    "  geom_histogram(fill=\"deepskyblue2\", color=\"navy\") +\n",
    "  labs(y=\"Count\", x=\"Suicide rate per 100k\") +\n",
    "  ggtitle(\"Distribution of Suicide Rates per 100K\")"
   ]
  },
  {
   "cell_type": "code",
   "execution_count": null,
   "metadata": {},
   "outputs": [],
   "source": [
    "df %>% \n",
    "  group_by(country) %>%\n",
    "  summarize(country_suicide_rate=sum(suicides_no)*100000/sum(population)) %>%\n",
    "  top_n(25) %>%\n",
    "  ggplot(aes(reorder(country, country_suicide_rate), country_suicide_rate)) +\n",
    "  geom_bar(stat=\"identity\", fill=\"deepskyblue2\", color=\"navy\") +\n",
    "  coord_flip() +\n",
    "  labs(x=\"Country\", y=\"Suicide rate per 100k population\") +\n",
    "  ggtitle(\"Suicide Rates by Country\")\n"
   ]
  }
 ],
 "metadata": {
  "kernelspec": {
   "display_name": "R",
   "language": "R",
   "name": "ir"
  },
  "language_info": {
   "codemirror_mode": "r",
   "file_extension": ".r",
   "mimetype": "text/x-r-source",
   "name": "R",
   "pygments_lexer": "r",
   "version": "3.6.1"
  }
 },
 "nbformat": 4,
 "nbformat_minor": 4
}
