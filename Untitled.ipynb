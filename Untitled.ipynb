{
 "cells": [
  {
   "cell_type": "code",
   "execution_count": 30,
   "metadata": {},
   "outputs": [
    {
     "name": "stdout",
     "output_type": "stream",
     "text": [
      "['A', 'B', 'C', 'D', 'E', 'F', 'G']\n",
      "['A', 'B', 'C']   ['E', 'F', 'G']\n",
      "['A', 'B']      ['F', 'G']\n",
      "['A']       ['G']\n"
     ]
    }
   ],
   "source": [
    "a=['A','B','C','D','E','F','G']\n",
    "lm=len(a)//2\n",
    "rm=lm\n",
    "print(a)\n",
    "print(a[:lm],\" \",a[rm+1:])\n",
    "lm-=1\n",
    "rm+=1\n",
    "for i in range(2,4):\n",
    "    print(a[:lm],\" \"*(i+2),a[rm+1:])\n",
    "    lm-=1\n",
    "    rm+=1\n",
    "    i+=2"
   ]
  },
  {
   "cell_type": "code",
   "execution_count": 28,
   "metadata": {},
   "outputs": [
    {
     "name": "stdout",
     "output_type": "stream",
     "text": [
      "a    a\n",
      "a     a\n",
      "a      a\n",
      "a       a\n",
      "a        a\n",
      "a         a\n",
      "a          a\n"
     ]
    }
   ],
   "source": [
    "for i in range(7):\n",
    "    print(\"a\", \" \"*(i+2),\"a\")\n",
    "    \n",
    "\n",
    "    "
   ]
  }
 ],
 "metadata": {
  "kernelspec": {
   "display_name": "Python 3",
   "language": "python",
   "name": "python3"
  },
  "language_info": {
   "codemirror_mode": {
    "name": "ipython",
    "version": 3
   },
   "file_extension": ".py",
   "mimetype": "text/x-python",
   "name": "python",
   "nbconvert_exporter": "python",
   "pygments_lexer": "ipython3",
   "version": "3.8.3"
  }
 },
 "nbformat": 4,
 "nbformat_minor": 4
}
