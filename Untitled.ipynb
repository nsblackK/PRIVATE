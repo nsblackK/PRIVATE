{
 "cells": [
  {
   "cell_type": "code",
   "execution_count": null,
   "metadata": {},
   "outputs": [],
   "source": [
    "c=input(\"Enter a letter\")\n",
    "\n",
    "if(c.islower()):\n",
    "    print(\"lower case\")\n",
    "else:\n",
    "    print(\"upper case\")"
   ]
  },
  {
   "cell_type": "code",
   "execution_count": 10,
   "metadata": {},
   "outputs": [
    {
     "name": "stdout",
     "output_type": "stream",
     "text": [
      "press q to exit or r to continuer\n",
      "boom\n",
      "press q to exit or r to continuer\n",
      "boom\n",
      "press q to exit or r to continuer\n",
      "boom\n",
      "press q to exit or r to continueq\n",
      "boom\n"
     ]
    }
   ],
   "source": [
    "while True:\n",
    "    c=input(\"press q to exit or r to continue\")\n",
    "    print (\"boom\")\n",
    "    if(c== 'q'):\n",
    "        break"
   ]
  },
  {
   "cell_type": "code",
   "execution_count": 8,
   "metadata": {},
   "outputs": [
    {
     "name": "stdout",
     "output_type": "stream",
     "text": [
      "akshita\n"
     ]
    }
   ],
   "source": [
    "h={1:'akash',2:'ansh',3:'akshita',4:'arun'}\n",
    "print(h.get(3,\"invalid\"))"
   ]
  },
  {
   "cell_type": "code",
   "execution_count": 10,
   "metadata": {},
   "outputs": [
    {
     "name": "stdout",
     "output_type": "stream",
     "text": [
      "[2, 5, 4, 5, 4, 2, 3, 6, 8, 7, 9, 8, 2, 4, 5]\n",
      "{2, 3, 4, 5, 6, 7, 8, 9}\n",
      "[{2, 3, 4, 5, 6, 7, 8, 9}]\n",
      "<class 'list'>\n",
      "[{2, 3, 4, 5, 6, 7, 8, 9}, 2, 3, 4, 5, 6, 7, 8, 9]\n",
      "{2, 3, 5, 6, 7, 8, 9}\n"
     ]
    }
   ],
   "source": [
    "lista=[2,5,4,5,4,2,3,6,8,7,9,8,2,4,5]\n",
    "print(lista)\n",
    "s=set(lista)\n",
    "print(s)\n",
    "listb=[s]\n",
    "print(listb)\n",
    "print(type(listb))\n",
    "\n",
    "for i in s:\n",
    "    listb.append(i)\n",
    "    \n",
    "print(listb)\n",
    "s.discard(4)\n",
    "print(s)"
   ]
  },
  {
   "cell_type": "code",
   "execution_count": 21,
   "metadata": {},
   "outputs": [
    {
     "data": {
      "text/plain": [
       "'default'"
      ]
     },
     "execution_count": 21,
     "metadata": {},
     "output_type": "execute_result"
    }
   ],
   "source": [
    "dicta={1:\"afdfsf\", 2:\"DFSdf\", 3:\"dsfsd\"}\n",
    "dicta.pop(4,\"default\")"
   ]
  },
  {
   "cell_type": "code",
   "execution_count": 2,
   "metadata": {},
   "outputs": [],
   "source": [
    "import tkinter as tk \n",
    "win=tk.Tk() #Tk\n",
    "win.mainloop()"
   ]
  },
  {
   "cell_type": "code",
   "execution_count": 6,
   "metadata": {},
   "outputs": [],
   "source": [
    "from tkinter import *\n",
    "from tkinter.ttk import *\n",
    "import tkinter as tk \n",
    "root = Tk() \n",
    "root.geometry(\"720x520\")\n",
    "\n",
    "def clickS():\n",
    "    #Sblock=Toplevel(wind)\n",
    "    Sblock= Toplevel(root)\n",
    "    Sblock.geometry('500x500')\n",
    "    label=Label(Sblock,text=\"S BLOCK\").pack()\n",
    "    \n",
    "    class Table: \n",
    "\n",
    "        def __init__(self,root): \n",
    "\n",
    "            # code for creating table \n",
    "            for i in range(total_rows): \n",
    "                for j in range(total_columns): \n",
    "\n",
    "                    self.e = Entry(root, width=20, font=('Arial',16,'bold')) \n",
    "\n",
    "                    self.e.grid(row=i, column=j) \n",
    "                    self.e.insert(END, lst[i][j]) \n",
    "group12=[('H', ' '),\n",
    "        ('Li','Be'),\n",
    "        ('Na','Mg'),\n",
    "        ('K','Ca'),\n",
    "        ('Rb','Sr'),\n",
    "        ('Cs','Ba'),\n",
    "        ('Fr','Ra')]\n",
    "total_rows = len(group12) \n",
    "total_columns = len(group12[0]) \n",
    "\n",
    "    \n",
    "    \n",
    "        \n",
    "S_button=Button(root, text = 'S BLOCK', command=clickS)\n",
    "S_button.pack()\n",
    "root.mainloop()"
   ]
  },
  {
   "cell_type": "code",
   "execution_count": 23,
   "metadata": {},
   "outputs": [],
   "source": [
    "from tkinter import *\n",
    "root = Tk() \n",
    "class Table: \n",
    "      \n",
    "    def __init__(self,root): \n",
    "          \n",
    "        # code for creating table \n",
    "        for i in range(total_rows): \n",
    "            for j in range(total_columns): \n",
    "                  \n",
    "                self.e = Entry(root, width=20, fg='blue', \n",
    "                               font=('Arial',16,'bold')) \n",
    "                  \n",
    "                self.e.grid(row=i, column=j) \n",
    "                self.e.insert(END, lst[i][j]) \n",
    "  \n",
    "\n",
    "lst = [(1,'Raj','Mumbai',19), \n",
    "       (2,'Aaryan','Pune',18), \n",
    "       (3,'Vaishnavi','Mumbai',20), \n",
    "       (4,'Rachna','Mumbai',21), \n",
    "       (5,'Shubham','Delhi',21)] \n",
    "   \n",
    "# find total number of rows and \n",
    "# columns in list \n",
    "total_rows = len(lst) \n",
    "total_columns = len(lst[0]) \n",
    "   \n",
    "# create root window \n",
    "\n",
    "t = Table(root) \n",
    "root.mainloop() "
   ]
  },
  {
   "cell_type": "code",
   "execution_count": 22,
   "metadata": {},
   "outputs": [],
   "source": [
    "from tkinter import *\n",
    "from tkinter.ttk import *\n",
    "root = Tk() \n",
    "root.geometry(\"720x520\")\n",
    "\n",
    "def clickS():\n",
    "    #Sblock=Toplevel(wind)\n",
    "    Sblock= Toplevel(root)\n",
    "    Sblock.geometry('500x500')\n",
    "    label=Label(Sblock,text=\"S BLOCK\").pack()\n",
    "    \n",
    "    class Table: \n",
    "\n",
    "        def __init__(self,root): \n",
    "\n",
    "            # code for creating table \n",
    "            for i in range(total_rows): \n",
    "                for j in range(total_columns): \n",
    "\n",
    "                    self.e = Entry(root, width=20, font=('Arial',16,'bold')) \n",
    "\n",
    "                    self.e.grid(row=i, column=j) \n",
    "                    self.e.insert(END, lst[i][j]) \n",
    "group12=[('H', ' '),\n",
    "        ('Li','Be'),\n",
    "        ('Na','Mg'),\n",
    "        ('K','Ca'),\n",
    "        ('Rb','Sr'),\n",
    "        ('Cs','Ba'),\n",
    "        ('Fr','Ra')]\n",
    "total_rows = len(group12) \n",
    "total_columns = len(group12[0]) \n",
    "\n",
    "#ob=clickS()\n",
    "root.mainloop()"
   ]
  },
  {
   "cell_type": "code",
   "execution_count": 5,
   "metadata": {},
   "outputs": [
    {
     "ename": "TclError",
     "evalue": "unknown option \"-activebackground\"",
     "output_type": "error",
     "traceback": [
      "\u001b[1;31m---------------------------------------------------------------------------\u001b[0m",
      "\u001b[1;31mTclError\u001b[0m                                  Traceback (most recent call last)",
      "\u001b[1;32m<ipython-input-5-6820c758cb7c>\u001b[0m in \u001b[0;36m<module>\u001b[1;34m\u001b[0m\n\u001b[0;32m      4\u001b[0m \u001b[0mwin\u001b[0m \u001b[1;33m=\u001b[0m \u001b[0mTk\u001b[0m\u001b[1;33m(\u001b[0m\u001b[1;33m)\u001b[0m\u001b[1;33m\u001b[0m\u001b[1;33m\u001b[0m\u001b[0m\n\u001b[0;32m      5\u001b[0m \u001b[0mwin\u001b[0m\u001b[1;33m.\u001b[0m\u001b[0mgeometry\u001b[0m\u001b[1;33m(\u001b[0m\u001b[1;34m\"720x520\"\u001b[0m\u001b[1;33m)\u001b[0m\u001b[1;33m\u001b[0m\u001b[1;33m\u001b[0m\u001b[0m\n\u001b[1;32m----> 6\u001b[1;33m submitbutton=Button(win, text = \"login\",\n\u001b[0m\u001b[0;32m      7\u001b[0m activebackground = \"blue\", activeforeground = \"blue\").place(x=150,y=180)\n",
      "\u001b[1;32m~\\anaconda3\\lib\\tkinter\\ttk.py\u001b[0m in \u001b[0;36m__init__\u001b[1;34m(self, master, **kw)\u001b[0m\n\u001b[0;32m    610\u001b[0m             \u001b[0mcommand\u001b[0m\u001b[1;33m,\u001b[0m \u001b[0mdefault\u001b[0m\u001b[1;33m,\u001b[0m \u001b[0mwidth\u001b[0m\u001b[1;33m\u001b[0m\u001b[1;33m\u001b[0m\u001b[0m\n\u001b[0;32m    611\u001b[0m         \"\"\"\n\u001b[1;32m--> 612\u001b[1;33m         \u001b[0mWidget\u001b[0m\u001b[1;33m.\u001b[0m\u001b[0m__init__\u001b[0m\u001b[1;33m(\u001b[0m\u001b[0mself\u001b[0m\u001b[1;33m,\u001b[0m \u001b[0mmaster\u001b[0m\u001b[1;33m,\u001b[0m \u001b[1;34m\"ttk::button\"\u001b[0m\u001b[1;33m,\u001b[0m \u001b[0mkw\u001b[0m\u001b[1;33m)\u001b[0m\u001b[1;33m\u001b[0m\u001b[1;33m\u001b[0m\u001b[0m\n\u001b[0m\u001b[0;32m    613\u001b[0m \u001b[1;33m\u001b[0m\u001b[0m\n\u001b[0;32m    614\u001b[0m \u001b[1;33m\u001b[0m\u001b[0m\n",
      "\u001b[1;32m~\\anaconda3\\lib\\tkinter\\ttk.py\u001b[0m in \u001b[0;36m__init__\u001b[1;34m(self, master, widgetname, kw)\u001b[0m\n\u001b[0;32m    555\u001b[0m             \u001b[1;31m# Load tile now, if needed\u001b[0m\u001b[1;33m\u001b[0m\u001b[1;33m\u001b[0m\u001b[1;33m\u001b[0m\u001b[0m\n\u001b[0;32m    556\u001b[0m             \u001b[0m_load_tile\u001b[0m\u001b[1;33m(\u001b[0m\u001b[0mmaster\u001b[0m\u001b[1;33m)\u001b[0m\u001b[1;33m\u001b[0m\u001b[1;33m\u001b[0m\u001b[0m\n\u001b[1;32m--> 557\u001b[1;33m         \u001b[0mtkinter\u001b[0m\u001b[1;33m.\u001b[0m\u001b[0mWidget\u001b[0m\u001b[1;33m.\u001b[0m\u001b[0m__init__\u001b[0m\u001b[1;33m(\u001b[0m\u001b[0mself\u001b[0m\u001b[1;33m,\u001b[0m \u001b[0mmaster\u001b[0m\u001b[1;33m,\u001b[0m \u001b[0mwidgetname\u001b[0m\u001b[1;33m,\u001b[0m \u001b[0mkw\u001b[0m\u001b[1;33m=\u001b[0m\u001b[0mkw\u001b[0m\u001b[1;33m)\u001b[0m\u001b[1;33m\u001b[0m\u001b[1;33m\u001b[0m\u001b[0m\n\u001b[0m\u001b[0;32m    558\u001b[0m \u001b[1;33m\u001b[0m\u001b[0m\n\u001b[0;32m    559\u001b[0m \u001b[1;33m\u001b[0m\u001b[0m\n",
      "\u001b[1;32m~\\anaconda3\\lib\\tkinter\\__init__.py\u001b[0m in \u001b[0;36m__init__\u001b[1;34m(self, master, widgetName, cnf, kw, extra)\u001b[0m\n\u001b[0;32m   2565\u001b[0m         \u001b[1;32mfor\u001b[0m \u001b[0mk\u001b[0m\u001b[1;33m,\u001b[0m \u001b[0mv\u001b[0m \u001b[1;32min\u001b[0m \u001b[0mclasses\u001b[0m\u001b[1;33m:\u001b[0m\u001b[1;33m\u001b[0m\u001b[1;33m\u001b[0m\u001b[0m\n\u001b[0;32m   2566\u001b[0m             \u001b[1;32mdel\u001b[0m \u001b[0mcnf\u001b[0m\u001b[1;33m[\u001b[0m\u001b[0mk\u001b[0m\u001b[1;33m]\u001b[0m\u001b[1;33m\u001b[0m\u001b[1;33m\u001b[0m\u001b[0m\n\u001b[1;32m-> 2567\u001b[1;33m         self.tk.call(\n\u001b[0m\u001b[0;32m   2568\u001b[0m             (widgetName, self._w) + extra + self._options(cnf))\n\u001b[0;32m   2569\u001b[0m         \u001b[1;32mfor\u001b[0m \u001b[0mk\u001b[0m\u001b[1;33m,\u001b[0m \u001b[0mv\u001b[0m \u001b[1;32min\u001b[0m \u001b[0mclasses\u001b[0m\u001b[1;33m:\u001b[0m\u001b[1;33m\u001b[0m\u001b[1;33m\u001b[0m\u001b[0m\n",
      "\u001b[1;31mTclError\u001b[0m: unknown option \"-activebackground\""
     ]
    }
   ],
   "source": [
    "from tkinter import *\n",
    "from tkinter.ttk import *\n",
    "\n",
    "win = Tk() \n",
    "win.geometry(\"720x520\")\n",
    "submitbutton=Button(win, text = \"login\",\n",
    "activebackground = \"blue\", activeforeground = \"blue\").place(x=150,y=180)"
   ]
  },
  {
   "cell_type": "code",
   "execution_count": 16,
   "metadata": {},
   "outputs": [
    {
     "name": "stdout",
     "output_type": "stream",
     "text": [
      "2321\n"
     ]
    }
   ],
   "source": [
    "from functools import partial\n",
    "def add(a,b,c,d):\n",
    "    return 1000*a + 100*b + 10*c +d\n",
    "add_part = partial(add,c=2,d=1)\n",
    "print(add_part(2,3))"
   ]
  }
 ],
 "metadata": {
  "kernelspec": {
   "display_name": "Python 3",
   "language": "python",
   "name": "python3"
  },
  "language_info": {
   "codemirror_mode": {
    "name": "ipython",
    "version": 3
   },
   "file_extension": ".py",
   "mimetype": "text/x-python",
   "name": "python",
   "nbconvert_exporter": "python",
   "pygments_lexer": "ipython3",
   "version": "3.8.3"
  }
 },
 "nbformat": 4,
 "nbformat_minor": 4
}
