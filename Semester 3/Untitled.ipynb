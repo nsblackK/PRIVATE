{
 "cells": [
  {
   "cell_type": "code",
   "execution_count": 7,
   "metadata": {},
   "outputs": [
    {
     "name": "stdout",
     "output_type": "stream",
     "text": [
      "1 1 2 4\n",
      "1 1 4 2\n",
      "1 2 1 4\n",
      "1 2 4 1\n",
      "1 4 1 2\n",
      "1 4 2 1\n",
      "2 1 1 4\n",
      "2 1 4 1\n",
      "2 4 1 1\n",
      "4 1 1 2\n",
      "4 1 2 1\n",
      "4 2 1 1\n"
     ]
    }
   ],
   "source": [
    "for i in range(1,100):\n",
    "    for j in range(1,100):\n",
    "        for k in range(1,100):\n",
    "            for l in range(1,100):\n",
    "                if i+j+k+l==i*j*k*l:\n",
    "                    print(i,j,k,l)"
   ]
  },
  {
   "cell_type": "code",
   "execution_count": null,
   "metadata": {},
   "outputs": [],
   "source": []
  }
 ],
 "metadata": {
  "kernelspec": {
   "display_name": "Python 3",
   "language": "python",
   "name": "python3"
  },
  "language_info": {
   "codemirror_mode": {
    "name": "ipython",
    "version": 3
   },
   "file_extension": ".py",
   "mimetype": "text/x-python",
   "name": "python",
   "nbconvert_exporter": "python",
   "pygments_lexer": "ipython3",
   "version": "3.8.3"
  }
 },
 "nbformat": 4,
 "nbformat_minor": 4
}
