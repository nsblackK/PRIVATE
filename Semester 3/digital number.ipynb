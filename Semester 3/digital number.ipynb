{
 "cells": [
  {
   "cell_type": "code",
   "execution_count": 1,
   "metadata": {},
   "outputs": [
    {
     "name": "stdout",
     "output_type": "stream",
     "text": [
      "[[4128860 6029375 3801155 5570652 6619251]\n",
      " [7536754 4456540 4980805 6029388 7209057]\n",
      " [6488161 7209071 6357092 6029363 6881388]\n",
      " [6029410 6881395 6619252 7340077 6488161]\n",
      " [6357099 6619239 6029427 7667822 7340141]\n",
      " [6029433 7340127 7602297 7536741 7602292]\n",
      " [7536741 6619252 3014770 7929968 7929856]]\n"
     ]
    }
   ],
   "source": [
    "import numpy\n",
    "\n",
    "canvas=numpy.ndarray(shape=(7,5), dtype=int)\n",
    "print(canvas)"
   ]
  },
  {
   "cell_type": "code",
   "execution_count": 2,
   "metadata": {
    "scrolled": true
   },
   "outputs": [
    {
     "name": "stdout",
     "output_type": "stream",
     "text": [
      "[[0 0 0 0 0]\n",
      " [0 0 0 0 0]\n",
      " [0 0 0 0 0]\n",
      " [0 0 0 0 0]\n",
      " [0 0 0 0 0]\n",
      " [0 0 0 0 0]\n",
      " [0 0 0 0 0]]\n"
     ]
    }
   ],
   "source": [
    "#reset\n",
    "for i in range(len(canvas)):\n",
    "    canvas[i]=0\n",
    "print(canvas)"
   ]
  },
  {
   "cell_type": "code",
   "execution_count": 3,
   "metadata": {},
   "outputs": [
    {
     "name": "stdout",
     "output_type": "stream",
     "text": [
      "[[0 0 0 0 0]\n",
      " [0 0 0 0 0]\n",
      " [0 0 0 0 0]\n",
      " [0 0 0 0 0]\n",
      " [0 0 0 0 0]\n",
      " [0 0 0 0 0]\n",
      " [0 0 0 0 0]]\n"
     ]
    }
   ],
   "source": [
    "print(canvas)"
   ]
  },
  {
   "cell_type": "code",
   "execution_count": 4,
   "metadata": {},
   "outputs": [],
   "source": [
    "#vertical line\n",
    "def horizontal(r):\n",
    "    for i in r:\n",
    "        canvas[i]=1\n",
    "        canvas[i,0]=canvas[i,4]=0\n",
    "    #print(canvas)"
   ]
  },
  {
   "cell_type": "code",
   "execution_count": 5,
   "metadata": {},
   "outputs": [],
   "source": [
    "def vertical(c,h):\n",
    "    if h==1:\n",
    "        for i in range(1,4):\n",
    "            canvas[i,c]=1\n",
    "    elif h==-1:\n",
    "        for i in range(3,6):\n",
    "            canvas[i,c]=1\n",
    "    elif h==0:\n",
    "        for i in range(1,6):\n",
    "            canvas[i,c]=1\n",
    "    \n",
    "    #print(canvas)\n",
    "vertical(1,-1)"
   ]
  },
  {
   "cell_type": "code",
   "execution_count": 6,
   "metadata": {},
   "outputs": [
    {
     "name": "stdout",
     "output_type": "stream",
     "text": [
      "[[0 0 0 0 0]\n",
      " [0 1 1 1 0]\n",
      " [0 0 0 0 0]\n",
      " [0 1 1 1 0]\n",
      " [0 1 0 0 0]\n",
      " [0 1 1 1 0]\n",
      " [0 0 0 0 0]]\n"
     ]
    }
   ],
   "source": [
    "#TWO\n",
    "h=[1,3,5] \n",
    "v=[3,1,1,-1]\n",
    "\n",
    "def draw(h,v):\n",
    "    horizontal(h)\n",
    "    j=0\n",
    "    for i in range(3):\n",
    "        if j>len(v):\n",
    "            vertical(v[j],v[j+1])\n",
    "            j+=2\n",
    "    print(canvas)\n",
    "draw(h,v)"
   ]
  }
 ],
 "metadata": {
  "kernelspec": {
   "display_name": "Python 3",
   "language": "python",
   "name": "python3"
  },
  "language_info": {
   "codemirror_mode": {
    "name": "ipython",
    "version": 3
   },
   "file_extension": ".py",
   "mimetype": "text/x-python",
   "name": "python",
   "nbconvert_exporter": "python",
   "pygments_lexer": "ipython3",
   "version": "3.8.3"
  }
 },
 "nbformat": 4,
 "nbformat_minor": 4
}
