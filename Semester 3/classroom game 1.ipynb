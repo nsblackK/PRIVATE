{
 "cells": [
  {
   "cell_type": "code",
   "execution_count": 3,
   "metadata": {},
   "outputs": [
    {
     "name": "stdout",
     "output_type": "stream",
     "text": [
      "number of 1's:  5\n"
     ]
    }
   ],
   "source": [
    "#count number of ones\n",
    "a= [1,0,1,0,1,0,1,1]\n",
    "k=0\n",
    "for i in range (len(a)):\n",
    "    if a[i]==1:\n",
    "        k+=1\n",
    "print(\"number of 1's: \",k)"
   ]
  },
  {
   "cell_type": "code",
   "execution_count": 27,
   "metadata": {},
   "outputs": [],
   "source": [
    "#convert from binary\n",
    "def binary(a):\n",
    "    l=len(a)-1\n",
    "    s=0\n",
    "    for i in range (len(a)):\n",
    "        if a[i]==1:\n",
    "            s=s+2**l\n",
    "        l-=1\n",
    "    print(s)"
   ]
  },
  {
   "cell_type": "code",
   "execution_count": 18,
   "metadata": {},
   "outputs": [
    {
     "name": "stdout",
     "output_type": "stream",
     "text": [
      "3\n"
     ]
    }
   ],
   "source": [
    "#consicutive 1's\n",
    "a= [1,1,1,0,1,0,1,1]\n",
    "k=0\n",
    "l=[]\n",
    "for i in range (len(a)):\n",
    "    if a[i]==1:\n",
    "        k+=1\n",
    "    else:\n",
    "        l.append(k)\n",
    "        k=0\n",
    "        \n",
    "print(max(l))"
   ]
  },
  {
   "cell_type": "code",
   "execution_count": 28,
   "metadata": {},
   "outputs": [
    {
     "name": "stdout",
     "output_type": "stream",
     "text": [
      "5\n",
      "7\n"
     ]
    }
   ],
   "source": [
    "#4th: binary sum\n",
    "\n",
    "n=[1,0,1]\n",
    "m=[1,1,1]\n",
    "\n",
    "n1=binary(n)\n",
    "m1=binary(m)\n"
   ]
  },
  {
   "cell_type": "code",
   "execution_count": 38,
   "metadata": {},
   "outputs": [
    {
     "name": "stdout",
     "output_type": "stream",
     "text": [
      "enter number4\n",
      "~\n",
      "e\n",
      "x\n"
     ]
    }
   ],
   "source": [
    "s=\"zat\"\n",
    "jump=int(input(\"enter number\"))\n",
    "\n",
    "for i in s:\n",
    "    p=(ord(i))+jump\n",
    "    print(chr(p))"
   ]
  },
  {
   "cell_type": "code",
   "execution_count": 47,
   "metadata": {},
   "outputs": [
    {
     "name": "stdout",
     "output_type": "stream",
     "text": [
      "0\n"
     ]
    }
   ],
   "source": [
    "s=\"cat\"\n",
    "d=\"act\"\n",
    "p=[]\n",
    "k=[]\n",
    "dist=0\n",
    "for i in s:\n",
    "    p.append(ord(i))\n",
    "\n",
    "for i in d:\n",
    "    k.append(ord(i))\n",
    "    \n",
    "for i in range(len(s)):\n",
    "    dist=dist+(p[i]-k[i])\n",
    "print(abs(dist))"
   ]
  },
  {
   "cell_type": "code",
   "execution_count": 57,
   "metadata": {},
   "outputs": [
    {
     "name": "stdout",
     "output_type": "stream",
     "text": [
      "c\n",
      "a\n",
      "t\n",
      "\n",
      "c\n",
      "a\n",
      "t\n",
      "\n",
      "c\n",
      "a\n",
      "t\n",
      "\n",
      "c\n",
      "a\n",
      "t\n",
      "\n",
      "c\n",
      "a\n",
      "t\n",
      "\n",
      "c\n",
      "a\n",
      "t\n",
      "\n"
     ]
    }
   ],
   "source": [
    "import math\n",
    "s=\"cat\"\n",
    "for i in range(math.factorial(len(s))):\n",
    "    for j in range (len(s)):\n",
    "        print(s[j])\n",
    "    print(\"\")"
   ]
  },
  {
   "cell_type": "code",
   "execution_count": 58,
   "metadata": {},
   "outputs": [
    {
     "name": "stdout",
     "output_type": "stream",
     "text": [
      "('c', 'a', 't')\n",
      "('c', 't', 'a')\n",
      "('a', 'c', 't')\n",
      "('a', 't', 'c')\n",
      "('t', 'c', 'a')\n",
      "('t', 'a', 'c')\n"
     ]
    }
   ],
   "source": [
    "from itertools import permutations\n",
    " \n",
    "# Get all permutations of [1, 2, 3]\n",
    "perm = permutations(['c', 'a', 't'])\n",
    " \n",
    "# Print the obtained permutations\n",
    "for i in list(perm):\n",
    "    print (i)"
   ]
  },
  {
   "cell_type": "code",
   "execution_count": null,
   "metadata": {},
   "outputs": [],
   "source": [
    "a=1\n",
    "b=2\n",
    "c=3\n",
    "\n",
    "for i in range(6):\n",
    "    "
   ]
  }
 ],
 "metadata": {
  "kernelspec": {
   "display_name": "Python 3",
   "language": "python",
   "name": "python3"
  },
  "language_info": {
   "codemirror_mode": {
    "name": "ipython",
    "version": 3
   },
   "file_extension": ".py",
   "mimetype": "text/x-python",
   "name": "python",
   "nbconvert_exporter": "python",
   "pygments_lexer": "ipython3",
   "version": "3.8.3"
  }
 },
 "nbformat": 4,
 "nbformat_minor": 4
}
