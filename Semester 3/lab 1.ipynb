{
 "cells": [
  {
   "cell_type": "markdown",
   "metadata": {},
   "source": [
    "<h1>List functions<h1>"
   ]
  },
  {
   "cell_type": "code",
   "execution_count": 1,
   "metadata": {},
   "outputs": [
    {
     "name": "stdout",
     "output_type": "stream",
     "text": [
      "[1, 2, 3, 4, 3, 5, 3, 6, 7, 8, 9]\n"
     ]
    }
   ],
   "source": [
    "#append\n",
    "num=[1,2,3,4,3,5,3,6,7]\n",
    "num.append(8)\n",
    "num.append(9)\n",
    "print(num)"
   ]
  },
  {
   "cell_type": "code",
   "execution_count": 2,
   "metadata": {},
   "outputs": [
    {
     "name": "stdout",
     "output_type": "stream",
     "text": [
      "3\n"
     ]
    }
   ],
   "source": [
    "#count\n",
    "c=num.count(3)\n",
    "print(c)"
   ]
  },
  {
   "cell_type": "code",
   "execution_count": 3,
   "metadata": {},
   "outputs": [
    {
     "name": "stdout",
     "output_type": "stream",
     "text": [
      "[1, 2, 3, 4, 3, 5, 3, 6, 7, 8, 9, 100, 200, 300, 400]\n"
     ]
    }
   ],
   "source": [
    "#extend\n",
    "new=[100,200,300,400]\n",
    "num.extend(new)\n",
    "print(num)"
   ]
  },
  {
   "cell_type": "code",
   "execution_count": 4,
   "metadata": {},
   "outputs": [
    {
     "name": "stdout",
     "output_type": "stream",
     "text": [
      "[1, 2, 3, 4, 3, 5, 3, 6, 7, 8, 9, 100, 200, 300]\n"
     ]
    }
   ],
   "source": [
    "#pop\n",
    "num.pop()\n",
    "print(num)"
   ]
  },
  {
   "cell_type": "code",
   "execution_count": 5,
   "metadata": {},
   "outputs": [
    {
     "name": "stdout",
     "output_type": "stream",
     "text": [
      "[2, 3, 4, 3, 5, 3, 6, 7, 8, 9, 100, 200, 300]\n"
     ]
    }
   ],
   "source": [
    "num.remove(1)\n",
    "print(num)"
   ]
  },
  {
   "cell_type": "code",
   "execution_count": 6,
   "metadata": {},
   "outputs": [
    {
     "name": "stdout",
     "output_type": "stream",
     "text": [
      "[300, 200, 100, 9, 8, 7, 6, 3, 5, 3, 4, 3, 2]\n"
     ]
    }
   ],
   "source": [
    "num.reverse()\n",
    "print(num)"
   ]
  },
  {
   "cell_type": "code",
   "execution_count": 7,
   "metadata": {},
   "outputs": [
    {
     "name": "stdout",
     "output_type": "stream",
     "text": [
      "[2, 3, 3, 3, 4, 5, 6, 7, 8, 9, 100, 200, 300]\n"
     ]
    }
   ],
   "source": [
    "num.sort()\n",
    "print(num)"
   ]
  },
  {
   "cell_type": "markdown",
   "metadata": {},
   "source": [
    "<h1>Sort and Search<h1>\n",
    "\n"
   ]
  },
  {
   "cell_type": "code",
   "execution_count": 8,
   "metadata": {},
   "outputs": [],
   "source": [
    "import time\n",
    "import random"
   ]
  },
  {
   "cell_type": "code",
   "execution_count": 9,
   "metadata": {},
   "outputs": [],
   "source": [
    "#CREATING LIST WITH 10 FIXED NUMBERS\n",
    "def create():\n",
    "    listo=[]\n",
    "    for i in range(1,11):\n",
    "        inp=int(input(\"enter a number to be added to list\"))\n",
    "        listo.append(inp)\n",
    "    return listo"
   ]
  },
  {
   "cell_type": "code",
   "execution_count": 10,
   "metadata": {},
   "outputs": [],
   "source": [
    "#Display\n",
    "def Display(listo):\n",
    "    print(listo)"
   ]
  },
  {
   "cell_type": "code",
   "execution_count": 11,
   "metadata": {},
   "outputs": [],
   "source": [
    "#linear search\n",
    "def Lsearch(listo):  \n",
    "    start_time = time.time()\n",
    "    inp=int(input(\"Enter number to be searched\"))\n",
    "    k=0\n",
    "    c=0\n",
    "    for i in range(len(listo)):\n",
    "        c+=1\n",
    "        if inp == listo[i]:\n",
    "            k+=1\n",
    "    end_time = time.time()\n",
    "    if k>0:\n",
    "        print(\"found number {}, {} time(s)\".format(inp,k))\n",
    "    else:\n",
    "        print(\"not found\")\n",
    "        \n",
    "    if (G==1):\n",
    "        print(\"number of iterations: \", c)\n",
    "        print(\"Time taken: \", end_time-start_time)"
   ]
  },
  {
   "cell_type": "code",
   "execution_count": 12,
   "metadata": {},
   "outputs": [],
   "source": [
    "#binary search\n",
    "def Bsearch(listo,inp):\n",
    "    start_time = time.time()\n",
    "    #inp=int(input(\"enter number to be searched\"))\n",
    "    k=0\n",
    "    h=len(listo)-1\n",
    "    l=0\n",
    "    m=0\n",
    "    c=0\n",
    "    f=1\n",
    "    \n",
    "    while l <= h:\n",
    "        c+=1\n",
    "        m = (h + l) // 2\n",
    "        if listo[m] < inp:\n",
    "            l = m + 1\n",
    "        elif listo[m] > inp:\n",
    "            h = m - 1\n",
    "        else:\n",
    "            k+=1\n",
    "            \n",
    "            while (listo[m+f]==inp) :\n",
    "                k+=1\n",
    "                f+=1\n",
    "                #print(m,f)\n",
    "            f=1\n",
    "            while (listo[m-f]==inp):\n",
    "                k+=1\n",
    "                f+=1\n",
    "            break\n",
    "    \n",
    "    end_time = time.time()\n",
    "    if k>0:\n",
    "        #print(\"found\")\n",
    "        print(\"found number {}, {} time(s)\".format(inp,k))\n",
    "    else:\n",
    "        print(\"not found\")\n",
    "    \n",
    "    if (G==1):\n",
    "        print(\"number of iterations: \", c)\n",
    "        print(\"Time taken: \", end_time-start_time)"
   ]
  },
  {
   "cell_type": "code",
   "execution_count": 13,
   "metadata": {},
   "outputs": [],
   "source": [
    "#Test Linear Search\n",
    "def TestL(listo,inp):    \n",
    "    k=0\n",
    "    j=0\n",
    "    for i in range(len(listo)):\n",
    "        if inp[j] == listo[i]:\n",
    "            k+=1\n",
    "            j+=1\n",
    "        if k>0:\n",
    "            print(\"found number {}, {} time(s)\".format(inp[i],k))\n",
    "        else:\n",
    "            print(\"number {}, not found\".format(inp[i]))\n",
    "        k=0 "
   ]
  },
  {
   "cell_type": "code",
   "execution_count": null,
   "metadata": {},
   "outputs": [],
   "source": []
  },
  {
   "cell_type": "code",
   "execution_count": null,
   "metadata": {},
   "outputs": [],
   "source": []
  },
  {
   "cell_type": "markdown",
   "metadata": {},
   "source": [
    "<h4>Testing binary search<h4>"
   ]
  },
  {
   "cell_type": "code",
   "execution_count": 14,
   "metadata": {},
   "outputs": [],
   "source": [
    "#testing\n",
    "def TestB(listo):\n",
    "    for i in range(len(listo)-1):\n",
    "        if listo[i+1]==listo[i]:\n",
    "            i+=1\n",
    "        else:\n",
    "            Bsearch(listo,listo[i])"
   ]
  },
  {
   "cell_type": "code",
   "execution_count": 15,
   "metadata": {},
   "outputs": [],
   "source": [
    "#selection sort\n",
    "def Ssort(listo):\n",
    "    start_time = time.time()\n",
    "    k=0\n",
    "    ji=0\n",
    "    n=len(listo)\n",
    "    for i in range(n-1):\n",
    "        for j in range(i+1,n):\n",
    "            ji+=1\n",
    "            if listo[i]>listo[j]:\n",
    "                k+=1\n",
    "                listo[i],listo[j]=listo[j],listo[i]\n",
    "    end_time = time.time()\n",
    "    #print(listo)\n",
    "    \n",
    "    if (G==1):\n",
    "        print(\"selection Sort\")\n",
    "        print(\"number of swaps: \", k)\n",
    "        print(\"number of iterations: \", ji)\n",
    "        print(\"Time taken: \", end_time-start_time)\n",
    "        print()"
   ]
  },
  {
   "cell_type": "code",
   "execution_count": 16,
   "metadata": {},
   "outputs": [],
   "source": [
    "#bubble sort\n",
    "def Bsort(listo):\n",
    "    start_time = time.time()\n",
    "    k=0\n",
    "    ii=0\n",
    "    ji=0\n",
    "    n=len(listo)\n",
    "    for j in range(n):\n",
    "        for i in range(n-1):\n",
    "            ii+=1\n",
    "            if listo[i]>listo[i+1]:\n",
    "                k+=1\n",
    "                listo[i],listo[i+1]=listo[i+1],listo[i]\n",
    "    end_time = time.time()\n",
    "    #print(listo)\n",
    "    \n",
    "    if (G==1):\n",
    "        print(\"Insertion Sort\")\n",
    "        print(\"number of swaps: \", k)\n",
    "        print(\"number of iterations: \", ii)\n",
    "        print(\"Time taken: \", end_time-start_time)\n",
    "        print()\n",
    "        "
   ]
  },
  {
   "cell_type": "code",
   "execution_count": 17,
   "metadata": {},
   "outputs": [],
   "source": [
    "#insertion sort\n",
    "def Isort(listo):\n",
    "    start_time = time.time()\n",
    "    ii=0\n",
    "    ji=0\n",
    "    n=len(listo)\n",
    "    for i in range(1,n):\n",
    "        ii+=1\n",
    "        j=i-1;\n",
    "        c=listo[i]\n",
    "        while(j>=0 and listo[j]>c):\n",
    "            ji+=1\n",
    "            listo[j+1]=listo[j]\n",
    "            j-=1\n",
    "        listo[j+1]=c\n",
    "    end_time = time.time()\n",
    "    #print(listo)\n",
    "    \n",
    "    if (G==1):\n",
    "        print(\"Insertion Sort\")\n",
    "        print(\"number of iterations: \", ji)\n",
    "        print(\"Time taken: \", end_time-start_time) \n",
    "        print()\n",
    "    \n",
    "    "
   ]
  },
  {
   "cell_type": "code",
   "execution_count": 18,
   "metadata": {},
   "outputs": [],
   "source": [
    "#mess up the array\n",
    "def messup(listo):\n",
    "    for i in range(6):\n",
    "        r1 = random.randint(0, 4)\n",
    "        r2 = random.randint(5, 9)\n",
    "        listo[r1],listo[r2]=listo[r2],listo[r1]"
   ]
  },
  {
   "cell_type": "code",
   "execution_count": 19,
   "metadata": {},
   "outputs": [],
   "source": [
    "#randomly fill array\n",
    "def fill(listo):\n",
    "    length=int(input(\"enter length of the list\"))\n",
    "    for i in range(length):\n",
    "        r1 = random.randint(0, 100)\n",
    "        listo.append(r1)"
   ]
  },
  {
   "cell_type": "code",
   "execution_count": 20,
   "metadata": {},
   "outputs": [],
   "source": [
    "def Toggle(G):\n",
    "    G=G*(-1)\n",
    "    return G\n"
   ]
  },
  {
   "cell_type": "code",
   "execution_count": 21,
   "metadata": {},
   "outputs": [],
   "source": [
    "#ultimate analysis\n",
    "def ulti(listo):\n",
    "    a=[]\n",
    "    b=[]\n",
    "    c=[]\n",
    "    for i in range(len(listo)):\n",
    "        a.append(listo[i])\n",
    "        b.append(listo[i])\n",
    "        c.append(listo[i])\n",
    "    \n",
    "    Ssort(a)\n",
    "    Bsort(b)\n",
    "    Isort(c)"
   ]
  },
  {
   "cell_type": "markdown",
   "metadata": {},
   "source": [
    "#MENU"
   ]
  },
  {
   "cell_type": "code",
   "execution_count": 23,
   "metadata": {},
   "outputs": [
    {
     "name": "stdout",
     "output_type": "stream",
     "text": [
      "1.Create a list with 10 numbers\n",
      "2.Display the list\n",
      "3.Perform Linear Search on it\n",
      "4.Perform Binary Search on it\n",
      "5.Test Linear Search\n",
      "6.Test Binary Search\n",
      "7.Perform Selectioin Sort on it\n",
      "8.Perform Bubble Sort on it\n",
      "9.Perform Insertion Sort on it\n",
      "9.Perform Insertion Sort on it\n",
      "10.Toggle Analytics\n",
      "11.Un-Sort list\n",
      "12.randomly fill list\n",
      "13.ultimate analytics\n",
      "\n",
      "***********************************\n",
      "***********************************\n",
      "\n",
      "Enter your choice: 12\n",
      "enter length of the list10\n",
      "Enter your choice: 2\n",
      "[75, 71, 94, 6, 48, 45, 27, 63, 67, 64]\n",
      "Enter your choice: 9\n",
      "Enter your choice: 2\n",
      "[6, 27, 45, 48, 63, 64, 67, 71, 75, 94]\n",
      "Enter your choice: 999\n"
     ]
    }
   ],
   "source": [
    "#menu\n",
    "G=-1\n",
    "\n",
    "print(\"1.Create a list with 10 numbers\")\n",
    "print(\"2.Display the list\")\n",
    "print(\"3.Perform Linear Search on it\")\n",
    "print(\"4.Perform Binary Search on it\")\n",
    "print(\"5.Test Linear Search\")\n",
    "print(\"6.Test Binary Search\")\n",
    "print(\"7.Perform Selectioin Sort on it\")\n",
    "print(\"8.Perform Bubble Sort on it\")\n",
    "print(\"9.Perform Insertion Sort on it\")\n",
    "print(\"9.Perform Insertion Sort on it\")\n",
    "print(\"10.Toggle Analytics\")\n",
    "print(\"11.Un-Sort list\")\n",
    "print(\"12.randomly fill list\")\n",
    "print(\"13.ultimate analytics\")\n",
    "\n",
    "print()\n",
    "print(\"***********************************\")\n",
    "print(\"***********************************\")\n",
    "print()    \n",
    "    \n",
    "choice=0\n",
    "l=[]\n",
    "while choice!=999:\n",
    "    choice=int(input(\"Enter your choice: \"))\n",
    "    if choice==1:\n",
    "        l=create()\n",
    "    elif choice==2:\n",
    "        Display(l)\n",
    "    elif choice==3:\n",
    "        Lsearch(l)\n",
    "    elif choice==4:\n",
    "        inp=int(input(\"enter number to be searched\"))\n",
    "        Bsearch(l,inp)\n",
    "    elif choice==5:\n",
    "        TestL(l,l)\n",
    "    elif choice==6:\n",
    "        TestB(l)\n",
    "    elif choice==7:\n",
    "        Ssort(l)\n",
    "    elif choice==8:\n",
    "        Bsort(l)\n",
    "    elif choice==9:\n",
    "        Isort(l)\n",
    "    elif choice==10:\n",
    "        G=Toggle(G)\n",
    "    elif choice==11:\n",
    "        messup(l)\n",
    "    elif choice==12:\n",
    "        fill(l)\n",
    "    elif choice==13:\n",
    "        ulti(l)\n",
    "  "
   ]
  }
 ],
 "metadata": {
  "kernelspec": {
   "display_name": "Python 3",
   "language": "python",
   "name": "python3"
  },
  "language_info": {
   "codemirror_mode": {
    "name": "ipython",
    "version": 3
   },
   "file_extension": ".py",
   "mimetype": "text/x-python",
   "name": "python",
   "nbconvert_exporter": "python",
   "pygments_lexer": "ipython3",
   "version": "3.8.3"
  }
 },
 "nbformat": 4,
 "nbformat_minor": 4
}
