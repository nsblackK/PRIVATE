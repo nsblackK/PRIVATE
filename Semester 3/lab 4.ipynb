{
 "cells": [
  {
   "cell_type": "code",
   "execution_count": 54,
   "metadata": {},
   "outputs": [
    {
     "name": "stdout",
     "output_type": "stream",
     "text": [
      "most common number:  1.3\n",
      "second most common number:  1.1\n",
      "probability of 0.5 being generated based on this sample is: 0.0457\n"
     ]
    }
   ],
   "source": [
    "\"\"\"1. Generate a multiple of 0.1 between 0 and 2. Repeat the process 10000 times \n",
    "and find the most common and second most common repeated numbers. Find the probability \n",
    "of 0.5 being generated based on your observations.\"\"\"\n",
    "import statistics\n",
    "import random\n",
    "A=[]\n",
    "\n",
    "#appending numbers in a list\n",
    "for i in range(10001):\n",
    "    num1=random.randint(0,20)*0.1\n",
    "    A.append(num1)\n",
    "    \n",
    "    \n",
    "#most common number\n",
    "mod = statistics.mode(A)\n",
    "print(\"most common number: \",mod)\n",
    "\n",
    "#2nd most common number\n",
    "B=A\n",
    "for i in B:\n",
    "    if i == mod:\n",
    "        B.remove(i)\n",
    "mod1= statistics.mode(B)\n",
    "print(\"second most common number: \",mod1)\n",
    "\n",
    "#probability\n",
    "k=0\n",
    "for i in A:\n",
    "    if i == 0.5:\n",
    "        k+=1\n",
    "pro=k/10000\n",
    "print(\"probability of 0.5 being generated based on this sample is:\", pro)\n"
   ]
  },
  {
   "cell_type": "code",
   "execution_count": 3,
   "metadata": {},
   "outputs": [
    {
     "name": "stdout",
     "output_type": "stream",
     "text": [
      "619\n",
      "enter your guess233\n",
      "gussed number is smaller than the target number, guess again\n",
      "enter your guess619\n",
      "bingo !!\n"
     ]
    }
   ],
   "source": [
    "\"\"\"2. Develop a two player game of Guess the Number. \n",
    "Player 1 will think a number between 1 and 10000, and \n",
    "Player 1 has to guess the number. If the number is above/below the guessed number,\n",
    "the same has to be communicated. The guessing player wins the game if he/she is able correctly \n",
    "find the number within 15 guesses. Player 1 and 2 can be computers. \n",
    "There are 4 possibilities: Human v/s Human, Human v/s Computer, Computer v/s Human and \n",
    "Computer v/s Computer.\"\"\"\n",
    "\n",
    "\n",
    "import random\n",
    "num1=random.randint(1,1000)\n",
    "\n",
    "p1=random.randint(1,1000)\n",
    "for i in range(16):\n",
    "    p2=int(input(\"enter your guess\"))\n",
    "    if p2>p1:\n",
    "        print(\"gussed number is greater than the target number, guess again\")\n",
    "    elif p2<p1:\n",
    "        print(\"gussed number is smaller than the target number, guess again\") \n",
    "    if p1==p2:\n",
    "        print(\"bingo !!\")\n",
    "        break"
   ]
  },
  {
   "cell_type": "code",
   "execution_count": 1,
   "metadata": {},
   "outputs": [
    {
     "name": "stdout",
     "output_type": "stream",
     "text": [
      "enter a number3\n",
      "7\n"
     ]
    }
   ],
   "source": [
    "\"\"\"3. Write a user defined function to define the nth term of the\n",
    "equation A(n) = A(n-1) + 2*A(n-2),whereas A(0) = 1, A(1) = 2\"\"\"\n",
    "\n",
    "def A(n):\n",
    "    return n+1\n",
    "def eqn(n):\n",
    "    return A(n-1)+2*A(n-2)\n",
    "\n",
    "inp=int(input(\"enter a number\"))\n",
    "a=eqn(inp)\n",
    "print(a)\n",
    "    "
   ]
  },
  {
   "cell_type": "code",
   "execution_count": 61,
   "metadata": {},
   "outputs": [
    {
     "name": "stdout",
     "output_type": "stream",
     "text": [
      "Enter which number-th term u wanna find5\n",
      "nth term for this series is:  63\n",
      "sum of the first n terms is:  120\n"
     ]
    }
   ],
   "source": [
    "\"\"\"4. Write user define functions to find the nth term \n",
    "and sum of first n terms of the sequence 1 + 3 + 7 + 15 + 31 + ...\"\"\"\n",
    "\n",
    "\n",
    "def series(k):\n",
    "    n=1\n",
    "    s=1\n",
    "    for i in range (k):\n",
    "        n=n*2+1\n",
    "        s=s+n\n",
    "    print(\"nth term for this series is: \",n)\n",
    "    print(\"sum of the first n terms is: \",s)\n",
    "\n",
    "inp = int(input(\"Enter which number-th term u wanna find\"))    \n",
    "series(inp)\n"
   ]
  }
 ],
 "metadata": {
  "kernelspec": {
   "display_name": "Python 3",
   "language": "python",
   "name": "python3"
  },
  "language_info": {
   "codemirror_mode": {
    "name": "ipython",
    "version": 3
   },
   "file_extension": ".py",
   "mimetype": "text/x-python",
   "name": "python",
   "nbconvert_exporter": "python",
   "pygments_lexer": "ipython3",
   "version": "3.8.3"
  }
 },
 "nbformat": 4,
 "nbformat_minor": 4
}
