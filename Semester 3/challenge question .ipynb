{
 "cells": [
  {
   "cell_type": "code",
   "execution_count": 5,
   "metadata": {},
   "outputs": [
    {
     "name": "stdout",
     "output_type": "stream",
     "text": [
      "[1, 2, 3, 4]\n",
      "[5, 6, 7, 8]\n",
      "[9, 10, 11, 12]\n",
      "[13, 14, 15, 0]\n"
     ]
    }
   ],
   "source": [
    "rows, cols = (4, 4)\n",
    "k=1\n",
    "arr=[]\n",
    "for i in range(rows):\n",
    "    col = []\n",
    "    for j in range(cols):\n",
    "        col.append(k)\n",
    "        k+=1\n",
    "        if k==16:\n",
    "            k=0\n",
    "    arr.append(col)\n",
    "for row in arr:\n",
    "    print(row)\n",
    "\n",
    "R=3\n",
    "C=3\n",
    "\n"
   ]
  },
  {
   "cell_type": "code",
   "execution_count": 7,
   "metadata": {},
   "outputs": [],
   "source": [
    "def upp(r,c):\n",
    "    val=arr[r-1][c]\n",
    "    arr[r][c]=val\n",
    "    arr[r-1][c]=0\n",
    "    global R\n",
    "    R=R-1\n",
    "    for row in arr:\n",
    "        print(row)\n",
    "   "
   ]
  },
  {
   "cell_type": "code",
   "execution_count": 8,
   "metadata": {},
   "outputs": [],
   "source": [
    "def down(r,c):\n",
    "    val=arr[r+1][c]\n",
    "    arr[r][c]=val\n",
    "    arr[r+1][c]=0\n",
    "    global R\n",
    "    R=R+1\n",
    "    for row in arr:\n",
    "        print(row)"
   ]
  },
  {
   "cell_type": "code",
   "execution_count": 9,
   "metadata": {},
   "outputs": [],
   "source": [
    "def right(r,c):\n",
    "    val=arr[r][c+1]\n",
    "    arr[r][c]=val\n",
    "    arr[r][c+1]=0\n",
    "    global C\n",
    "    C=C+1\n",
    "    for row in arr:\n",
    "        print(row)"
   ]
  },
  {
   "cell_type": "code",
   "execution_count": 10,
   "metadata": {},
   "outputs": [],
   "source": [
    "def left(r,c):\n",
    "    val=arr[r][c-1]\n",
    "    arr[r][c]=val\n",
    "    arr[r][c-1]=0\n",
    "    global C\n",
    "    C=C-1\n",
    "    for row in arr:\n",
    "        print(row)"
   ]
  },
  {
   "cell_type": "code",
   "execution_count": 12,
   "metadata": {},
   "outputs": [
    {
     "name": "stdout",
     "output_type": "stream",
     "text": [
      "[1, 2, 3, 4]\n",
      "[5, 6, 7, 0]\n",
      "[9, 10, 11, 8]\n",
      "[13, 14, 15, 12]\n"
     ]
    }
   ],
   "source": [
    "upp(R,C)"
   ]
  },
  {
   "cell_type": "code",
   "execution_count": null,
   "metadata": {},
   "outputs": [],
   "source": [
    "down(R,C)"
   ]
  },
  {
   "cell_type": "code",
   "execution_count": 16,
   "metadata": {},
   "outputs": [
    {
     "name": "stdout",
     "output_type": "stream",
     "text": [
      "[1, 2, 3, 4]\n",
      "[5, 0, 6, 7]\n",
      "[9, 10, 11, 8]\n",
      "[13, 14, 15, 12]\n"
     ]
    }
   ],
   "source": [
    "left(R,C)"
   ]
  },
  {
   "cell_type": "code",
   "execution_count": 17,
   "metadata": {},
   "outputs": [
    {
     "name": "stdout",
     "output_type": "stream",
     "text": [
      "[1, 2, 3, 4]\n",
      "[5, 6, 0, 7]\n",
      "[9, 10, 11, 8]\n",
      "[13, 14, 15, 12]\n"
     ]
    }
   ],
   "source": [
    "right(R,C)"
   ]
  }
 ],
 "metadata": {
  "kernelspec": {
   "display_name": "Python 3",
   "language": "python",
   "name": "python3"
  },
  "language_info": {
   "codemirror_mode": {
    "name": "ipython",
    "version": 3
   },
   "file_extension": ".py",
   "mimetype": "text/x-python",
   "name": "python",
   "nbconvert_exporter": "python",
   "pygments_lexer": "ipython3",
   "version": "3.8.3"
  }
 },
 "nbformat": 4,
 "nbformat_minor": 4
}
