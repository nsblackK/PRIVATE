{
 "cells": [
  {
   "cell_type": "code",
   "execution_count": 6,
   "metadata": {},
   "outputs": [
    {
     "name": "stdout",
     "output_type": "stream",
     "text": [
      "[24, 12, 9, 5, 6, 4]\n",
      "insert 22\n",
      "[24, 12, 22, 5, 6, 4, 9]\n",
      "insert 15\n",
      "[24, 15, 22, 12, 6, 4, 9, 5]\n"
     ]
    }
   ],
   "source": [
    "def reHeapUp (Arr, pos):\n",
    "    if(pos==0):\n",
    "        return\n",
    "    p=(pos-1)//2\n",
    "    if(Arr[p]>Arr[pos]):\n",
    "        return\n",
    "    else:\n",
    "        Arr[p], Arr[pos] = Arr[pos], Arr[p]\n",
    "    reHeapUp(Arr,p)\n",
    "\n",
    "\n",
    "def insert (Arr, i):\n",
    "    n=len(Arr)\n",
    "    Arr.append(i)\n",
    "    reHeapUp(Arr, n)\n",
    "    print(\"insert %d\"% i)\n",
    "\n",
    "\n",
    "arr=[24,12,9,5,6,4]\n",
    "print(arr)\n",
    "insert(arr,22)\n",
    "print(arr)\n",
    "insert(arr,15)\n",
    "print(arr)"
   ]
  }
 ],
 "metadata": {
  "kernelspec": {
   "display_name": "Python 3",
   "language": "python",
   "name": "python3"
  },
  "language_info": {
   "codemirror_mode": {
    "name": "ipython",
    "version": 3
   },
   "file_extension": ".py",
   "mimetype": "text/x-python",
   "name": "python",
   "nbconvert_exporter": "python",
   "pygments_lexer": "ipython3",
   "version": "3.8.3"
  }
 },
 "nbformat": 4,
 "nbformat_minor": 4
}
