{
 "cells": [
  {
   "cell_type": "code",
   "execution_count": 1,
   "metadata": {},
   "outputs": [
    {
     "name": "stdout",
     "output_type": "stream",
     "text": [
      "enter a number1\n",
      "enter a number2\n",
      "enter a number5\n",
      "enter a number4\n",
      "enter a number6\n",
      "enter a number7\n",
      "enter a number5\n",
      "enter a number4\n",
      "enter a number5\n",
      "enter a number3\n",
      "[1, 2, 5, 4, 6, 7, 5, 4, 5, 3]\n"
     ]
    }
   ],
   "source": [
    "A=[]\n",
    "for i in range(1,11):\n",
    "    inp=int(input(\"enter a number\"))\n",
    "    A.append(inp)\n"
   ]
  },
  {
   "cell_type": "code",
   "execution_count": null,
   "metadata": {},
   "outputs": [],
   "source": [
    "print(A)"
   ]
  },
  {
   "cell_type": "code",
   "execution_count": null,
   "metadata": {},
   "outputs": [],
   "source": [
    "A.sort()"
   ]
  },
  {
   "cell_type": "code",
   "execution_count": 3,
   "metadata": {},
   "outputs": [
    {
     "name": "stdout",
     "output_type": "stream",
     "text": [
      "[2, 4, 6, 4, 5, 7, 5, 1, 5, 3]\n"
     ]
    }
   ],
   "source": [
    "for i in range(len(A)):\n",
    "    for j in range(i,len(A)):\n",
    "        if(A[i]%2!=0 and A[j]%2==0):\n",
    "            A[i],A[j]=A[j],A[i]\n",
    "            i+=1\n",
    "print(A)"
   ]
  },
  {
   "cell_type": "code",
   "execution_count": 12,
   "metadata": {},
   "outputs": [
    {
     "name": "stdout",
     "output_type": "stream",
     "text": [
      "5\n"
     ]
    }
   ],
   "source": [
    "B=A\n",
    "m=max(B)\n",
    "B.remove(m)\n",
    "m2=max(A)\n",
    "print(m2)"
   ]
  }
 ],
 "metadata": {
  "kernelspec": {
   "display_name": "Python 3",
   "language": "python",
   "name": "python3"
  },
  "language_info": {
   "codemirror_mode": {
    "name": "ipython",
    "version": 3
   },
   "file_extension": ".py",
   "mimetype": "text/x-python",
   "name": "python",
   "nbconvert_exporter": "python",
   "pygments_lexer": "ipython3",
   "version": "3.8.3"
  }
 },
 "nbformat": 4,
 "nbformat_minor": 4
}
