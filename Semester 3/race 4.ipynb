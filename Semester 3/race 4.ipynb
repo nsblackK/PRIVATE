{
 "cells": [
  {
   "cell_type": "code",
   "execution_count": 5,
   "metadata": {},
   "outputs": [
    {
     "name": "stdout",
     "output_type": "stream",
     "text": [
      "[8, 7, 6, 3, 2, 2, 1]\n"
     ]
    }
   ],
   "source": [
    "a=[1,2,2,3,6,7,8]\n",
    "for i in range(len(a)):\n",
    "    for j in range(len(a)):\n",
    "        if a[i]>a[j]:\n",
    "            a[i],a[j]=a[j],a[i]\n",
    "print(a)"
   ]
  },
  {
   "cell_type": "code",
   "execution_count": 4,
   "metadata": {},
   "outputs": [
    {
     "name": "stdout",
     "output_type": "stream",
     "text": [
      "[1, 1, 2, 3, 4, 6, 7]\n"
     ]
    }
   ],
   "source": [
    "a=[1,4,2,3,6,7,1]\n",
    "for i in range(len(a)):\n",
    "    for j in range(len(a)):\n",
    "        if a[i]<a[j]:\n",
    "            a[i],a[j]=a[j],a[i]\n",
    "print(a)"
   ]
  },
  {
   "cell_type": "code",
   "execution_count": 37,
   "metadata": {},
   "outputs": [
    {
     "name": "stdout",
     "output_type": "stream",
     "text": [
      "enter hours13\n",
      "enter mins50\n",
      "13 : 50\n",
      "enter mins to be added10\n",
      "1 : 60\n"
     ]
    }
   ],
   "source": [
    "h=int(input(\"enter hours\"))\n",
    "m=int(input(\"enter mins\"))\n",
    "\n",
    "print(h,\":\",m)\n",
    "\n",
    "a=int(input(\"enter mins to be added\"))\n",
    "if a<60:\n",
    "    m=m+a\n",
    "    if m>60:\n",
    "        h1=m//60\n",
    "        print(h1)\n",
    "        m1=m/60-(h1*60)\n",
    "        h+=h1\n",
    "        m+=m1\n",
    "        \n",
    "else:\n",
    "    h1=a//60\n",
    "    m1=a-h1*60\n",
    "    h+=h1\n",
    "    m+=m1\n",
    "\n",
    "if(h>12):\n",
    "    h=h-12\n",
    "\n",
    "\n",
    "\n",
    "print(h,\":\",m)"
   ]
  },
  {
   "cell_type": "code",
   "execution_count": 51,
   "metadata": {},
   "outputs": [
    {
     "name": "stdout",
     "output_type": "stream",
     "text": [
      "[3, 6, 7, 5, 2, 1]\n",
      "[3, 6, 6, 5, 2, 1]\n",
      "[3, 5, 6, 4, 2, 1]\n",
      "[3, 5, 6, 3, 2, 1]\n",
      "[2, 5, 6, 3, 1, 0]\n",
      "[2, 5, 6, 3, 1, -1]\n",
      "[2, 5, 6, 3, 1, -2]\n",
      "[2, 5, 6, 3, 1, -3]\n"
     ]
    }
   ],
   "source": [
    "b=[3,6,7,5,2,1]\n",
    "m=max(b)\n",
    "print(b)\n",
    "for j in range(m):\n",
    "    for i in range(len(b)):\n",
    "        if b[i]==m:\n",
    "            b[i]-=1\n",
    "            m-=1\n",
    "    print(b)"
   ]
  },
  {
   "cell_type": "code",
   "execution_count": 61,
   "metadata": {},
   "outputs": [
    {
     "name": "stdout",
     "output_type": "stream",
     "text": [
      "[7, 6, 5, 8, 3, 1]\n",
      "[7, 6, 5, 7, 3, 1]\n",
      "[6, 6, 5, 6, 3, 1]\n",
      "[5, 5, 5, 5, 3, 1]\n",
      "[4, 4, 4, 4, 3, 1]\n",
      "[3, 3, 3, 3, 3, 1]\n",
      "[2, 2, 2, 2, 2, 1]\n",
      "[1, 1, 1, 1, 1, 1]\n",
      "[0, 0, 0, 0, 0, 0]\n"
     ]
    }
   ],
   "source": [
    "#mountain break \n",
    "b=[7,6,5,8,3,1]\n",
    "n=max(b)\n",
    "print(b)\n",
    "\n",
    "for i in range(n):\n",
    "    m=max(b)\n",
    "    for j in range(len(b)):\n",
    "        if b[j]==m:\n",
    "            b[j]=b[j]-1\n",
    "        \n",
    "    print(b)"
   ]
  },
  {
   "cell_type": "code",
   "execution_count": null,
   "metadata": {},
   "outputs": [],
   "source": [
    "a=[1]"
   ]
  }
 ],
 "metadata": {
  "kernelspec": {
   "display_name": "Python 3",
   "language": "python",
   "name": "python3"
  },
  "language_info": {
   "codemirror_mode": {
    "name": "ipython",
    "version": 3
   },
   "file_extension": ".py",
   "mimetype": "text/x-python",
   "name": "python",
   "nbconvert_exporter": "python",
   "pygments_lexer": "ipython3",
   "version": "3.8.3"
  }
 },
 "nbformat": 4,
 "nbformat_minor": 4
}
