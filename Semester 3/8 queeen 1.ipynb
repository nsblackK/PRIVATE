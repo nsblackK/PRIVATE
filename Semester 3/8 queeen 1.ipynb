{
 "cells": [
  {
   "cell_type": "markdown",
   "metadata": {},
   "source": [
    "<h1>8 queen problem<h1>"
   ]
  },
  {
   "cell_type": "code",
   "execution_count": 38,
   "metadata": {},
   "outputs": [],
   "source": [
    "import numpy\n",
    "\n",
    "canvas=numpy.ndarray(shape=(8,8), dtype=int)\n",
    "#print(canvas)"
   ]
  },
  {
   "cell_type": "code",
   "execution_count": 75,
   "metadata": {},
   "outputs": [],
   "source": [
    "#reset\n",
    "def reset():\n",
    "    for i in range(len(canvas)):\n",
    "        canvas[i]=0\n",
    "    #print(canvas)\n",
    "reset()\n",
    "#print(canvas)"
   ]
  },
  {
   "cell_type": "code",
   "execution_count": 78,
   "metadata": {},
   "outputs": [],
   "source": [
    "def put(l,k):\n",
    "    for i in range(len(canvas)):\n",
    "        for j in range(len(canvas)):\n",
    "            #horizontal line\n",
    "            canvas[l,j]=-1\n",
    "            #vertical line\n",
    "            canvas[i,k]=-1\n",
    "            \n",
    "            #diagonals\n",
    "            if l+j<8 and k+j<8 :\n",
    "                #print(j)\n",
    "                canvas[l+j,k+j]=-1\n",
    "                canvas[l-j,k+j]=-1\n",
    "                \n",
    "            if l-j>-1 and k-j>-1:\n",
    "                canvas[l-j,k-j]=-1\n",
    "                canvas[l+j,k-j]=-1\n",
    "                \n",
    "            #placing the queen\n",
    "            canvas[l,k]=1            \n",
    "\n",
    "    #print(canvas)"
   ]
  },
  {
   "cell_type": "code",
   "execution_count": 84,
   "metadata": {},
   "outputs": [
    {
     "name": "stdout",
     "output_type": "stream",
     "text": [
      "0 5\n",
      "1 5\n",
      "2 5\n",
      "3 5\n",
      "4 5\n",
      "5 5\n",
      "6 5\n"
     ]
    }
   ],
   "source": [
    "b=0\n",
    "g=0\n",
    "def queen(b):\n",
    "    #put(0,b)\n",
    "    g=0\n",
    "    if(g!=8):\n",
    "        for i in range(len(canvas)):\n",
    "            for j in range(len(canvas)):  \n",
    "                if canvas[i,j]!=-1:\n",
    "                    put(i,j)\n",
    "                    #print(canvas)\n",
    "                    g+=1\n",
    "    if(g!=8):\n",
    "        #print(g)\n",
    "        reset()\n",
    "        if b<7:\n",
    "            print(b,g)\n",
    "            queen(b+1)\n",
    "    else:\n",
    "        print(\"hey\")\n",
    "        print(g)\n",
    "        print(canvas)\n",
    "        return\n",
    "                \n",
    "queen(b)\n",
    "#print(canvas)      "
   ]
  },
  {
   "cell_type": "code",
   "execution_count": 81,
   "metadata": {},
   "outputs": [
    {
     "name": "stdout",
     "output_type": "stream",
     "text": [
      "[[ 0  0  0 -1  0  0  0  0]\n",
      " [-1  0  0 -1  0  0 -1  0]\n",
      " [ 0 -1  0 -1  0 -1  0  0]\n",
      " [ 0  0 -1 -1 -1  0  0  0]\n",
      " [-1 -1 -1  1 -1 -1 -1 -1]\n",
      " [ 0  0 -1 -1 -1  0  0  0]\n",
      " [ 0 -1  0 -1  0 -1  0  0]\n",
      " [-1  0  0 -1  0  0 -1  0]]\n"
     ]
    }
   ],
   "source": [
    " print(canvas)"
   ]
  },
  {
   "cell_type": "code",
   "execution_count": 80,
   "metadata": {},
   "outputs": [],
   "source": [
    "put(4,3)"
   ]
  }
 ],
 "metadata": {
  "kernelspec": {
   "display_name": "Python 3",
   "language": "python",
   "name": "python3"
  },
  "language_info": {
   "codemirror_mode": {
    "name": "ipython",
    "version": 3
   },
   "file_extension": ".py",
   "mimetype": "text/x-python",
   "name": "python",
   "nbconvert_exporter": "python",
   "pygments_lexer": "ipython3",
   "version": "3.8.3"
  }
 },
 "nbformat": 4,
 "nbformat_minor": 4
}
