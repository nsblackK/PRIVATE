{
 "cells": [
  {
   "cell_type": "code",
   "execution_count": 32,
   "metadata": {},
   "outputs": [],
   "source": [
    "class Node:\n",
    "      def __init__(self, data):\n",
    "        self.data = data  \n",
    "        self.next = None  \n",
    "\n",
    "class LinkedList:\n",
    "    def __init__(self):\n",
    "        self.head = None\n",
    "        \n",
    "    def insert(self, new_data):\n",
    "        new_node = Node(new_data)\n",
    "        if self.head == None:\n",
    "            self.head = new_node\n",
    "        else:\n",
    "            last = self.head\n",
    "            while(last.next!=None):\n",
    "                last = last.next\n",
    "            last.next = new_node\n",
    "            \n",
    "    def insertAtB(self, new_data):\n",
    "        new_node = Node(new_data)\n",
    "        if self.head == None:\n",
    "            self.head = new_node\n",
    "        else:\n",
    "            new_node.next = self.head\n",
    "            self.head = new_node\n",
    "            \n",
    "    def delete(self,data):\n",
    "        if self.head == None:\n",
    "            return\n",
    "        \n",
    "        current =self.head\n",
    "        if current.data==data:\n",
    "            if current.next!=None:\n",
    "                self.head = current.next\n",
    "            else:\n",
    "                self.head=None\n",
    "            \n",
    "        while(current.next.data!=data):\n",
    "            current=current.next\n",
    "        if current.next.next!=None:\n",
    "            current.next= current.next.next\n",
    "        else:\n",
    "            current.next=None\n",
    "            \n",
    "    def printo(self):\n",
    "        current = self.head\n",
    "        while (current!=None):\n",
    "            print(current.data)\n",
    "            current=current.next\n",
    "        "
   ]
  },
  {
   "cell_type": "code",
   "execution_count": 35,
   "metadata": {},
   "outputs": [
    {
     "name": "stdout",
     "output_type": "stream",
     "text": [
      "9\n",
      "23\n",
      "57\n"
     ]
    }
   ],
   "source": [
    "a=LinkedList()\n",
    "a.insert(23)\n",
    "a.insert(57)\n",
    "a.insertAtB(9)\n",
    "a.printo()"
   ]
  }
 ],
 "metadata": {
  "kernelspec": {
   "display_name": "Python 3",
   "language": "python",
   "name": "python3"
  },
  "language_info": {
   "codemirror_mode": {
    "name": "ipython",
    "version": 3
   },
   "file_extension": ".py",
   "mimetype": "text/x-python",
   "name": "python",
   "nbconvert_exporter": "python",
   "pygments_lexer": "ipython3",
   "version": "3.8.3"
  }
 },
 "nbformat": 4,
 "nbformat_minor": 4
}
