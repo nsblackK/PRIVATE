{
 "cells": [
  {
   "cell_type": "markdown",
   "metadata": {},
   "source": [
    "<h1>Lab 2<h1>"
   ]
  },
  {
   "cell_type": "markdown",
   "metadata": {},
   "source": [
    "<h3>Exploring Recursion<h3>"
   ]
  },
  {
   "cell_type": "code",
   "execution_count": 38,
   "metadata": {},
   "outputs": [
    {
     "name": "stdout",
     "output_type": "stream",
     "text": [
      "1\n",
      "2\n",
      "1\n",
      "3\n",
      "1\n",
      "2\n",
      "1\n"
     ]
    }
   ],
   "source": [
    "def Rprint(n):\n",
    "    if n>0:\n",
    "        Rprint(n-1)\n",
    "        print(n)\n",
    "        Rprint(n-1)\n",
    "Rprint(3)"
   ]
  },
  {
   "cell_type": "markdown",
   "metadata": {},
   "source": [
    "\n",
    "\n",
    "\n",
    "\n"
   ]
  },
  {
   "cell_type": "markdown",
   "metadata": {},
   "source": [
    "<h3>Tower of Hanoi<h3>"
   ]
  },
  {
   "cell_type": "code",
   "execution_count": 34,
   "metadata": {
    "scrolled": true
   },
   "outputs": [
    {
     "name": "stdout",
     "output_type": "stream",
     "text": [
      "move from source to destination\n",
      "move from source to temporary\n",
      "move from destination to temporary\n",
      "move from source to destination\n",
      "move from temporary to source\n",
      "move from temporary to destination\n",
      "move from source to destination\n",
      "move from source to temporary\n",
      "move from destination to temporary\n",
      "move from destination to source\n",
      "move from temporary to source\n",
      "move from destination to temporary\n",
      "move from source to destination\n",
      "move from source to temporary\n",
      "move from destination to temporary\n",
      "move from source to destination\n",
      "move from temporary to source\n",
      "move from temporary to destination\n",
      "move from source to destination\n",
      "move from temporary to source\n",
      "move from destination to temporary\n",
      "move from destination to source\n",
      "move from temporary to source\n",
      "move from temporary to destination\n",
      "move from source to destination\n",
      "move from source to temporary\n",
      "move from destination to temporary\n",
      "move from source to destination\n",
      "move from temporary to source\n",
      "move from temporary to destination\n",
      "move from source to destination\n"
     ]
    }
   ],
   "source": [
    "def toh(n,a,b,c):\n",
    "    if n>0:\n",
    "        toh(n-1,a,c,b)\n",
    "        print(\"move from {} to {}\".format(a,c))\n",
    "        toh(n-1,b,a,c)\n",
    "toh(5,\"source\", \"temporary\", \"destination\")"
   ]
  },
  {
   "cell_type": "markdown",
   "metadata": {},
   "source": [
    "\n",
    "\n",
    "\n",
    "\n"
   ]
  },
  {
   "cell_type": "markdown",
   "metadata": {},
   "source": [
    "\n",
    "\n",
    "<h3>Stack<h3>"
   ]
  },
  {
   "cell_type": "code",
   "execution_count": 94,
   "metadata": {},
   "outputs": [],
   "source": [
    "B=[]\n",
    "top=-1"
   ]
  },
  {
   "cell_type": "code",
   "execution_count": 91,
   "metadata": {},
   "outputs": [],
   "source": [
    "refresh()"
   ]
  },
  {
   "cell_type": "code",
   "execution_count": 81,
   "metadata": {
    "scrolled": true
   },
   "outputs": [],
   "source": [
    "\n",
    "def push(A,t):\n",
    "    t+=1\n",
    "    inp=int(input(\"enter a number...\"))\n",
    "    A.append(inp)\n",
    "    \n",
    "def pop(A,t):\n",
    "    del A[t]\n",
    "    t-=1\n",
    "\n",
    "def disp():\n",
    "    print(B)\n"
   ]
  },
  {
   "cell_type": "code",
   "execution_count": 95,
   "metadata": {
    "scrolled": false
   },
   "outputs": [
    {
     "name": "stdout",
     "output_type": "stream",
     "text": [
      "1.Push\n",
      "2.Display the list\n",
      "3.PoP\n",
      "Enter your choice:  2\n",
      "[]\n",
      "Enter your choice:  1\n",
      "enter a number...12\n",
      "Enter your choice:  1\n",
      "enter a number...23\n",
      "Enter your choice:  1\n",
      "enter a number...34\n",
      "Enter your choice:  1\n",
      "enter a number...657\n",
      "Enter your choice:  2\n",
      "[12, 23, 34, 657]\n",
      "Enter your choice:  3\n",
      "Enter your choice:  2\n",
      "[12, 23, 34]\n",
      "Enter your choice:  3\n",
      "Enter your choice:  2\n",
      "[12, 23]\n",
      "Enter your choice:  1\n",
      "enter a number...14\n",
      "Enter your choice:  1\n",
      "enter a number...98\n",
      "Enter your choice:  1\n",
      "enter a number...0\n",
      "Enter your choice:  2\n",
      "[12, 23, 14, 98, 0]\n",
      "Enter your choice:  999\n"
     ]
    }
   ],
   "source": [
    "print(\"1.Push\")\n",
    "print(\"2.Display the list\")\n",
    "print(\"3.PoP\")\n",
    "choice=0\n",
    "while choice!=999:\n",
    "    choice=int(input(\"Enter your choice:  \"))\n",
    "    if choice==1:\n",
    "        push(B,top)\n",
    "    elif choice==2:\n",
    "        disp()\n",
    "    elif choice==3:\n",
    "        pop(B,top)\n"
   ]
  },
  {
   "cell_type": "markdown",
   "metadata": {},
   "source": [
    "\n",
    "\n",
    "\n",
    "\n"
   ]
  },
  {
   "cell_type": "markdown",
   "metadata": {},
   "source": [
    "<h3>QUEUE<h3>\n",
    "    "
   ]
  },
  {
   "cell_type": "code",
   "execution_count": 1,
   "metadata": {},
   "outputs": [],
   "source": [
    "D=[]\n",
    "t=0"
   ]
  },
  {
   "cell_type": "code",
   "execution_count": 2,
   "metadata": {},
   "outputs": [],
   "source": [
    "def insert(A):\n",
    "    inp=int(input(\"enter a number...\"))\n",
    "    A.append(inp)\n",
    "\n",
    "def delete(A,t):\n",
    "    del A[t]\n",
    "    t+=1\n",
    "\n",
    "def display(A):\n",
    "    print(A)"
   ]
  },
  {
   "cell_type": "code",
   "execution_count": 4,
   "metadata": {
    "scrolled": true
   },
   "outputs": [
    {
     "name": "stdout",
     "output_type": "stream",
     "text": [
      "1.insert\n",
      "2.Display the list\n",
      "3.delete\n",
      "Enter your choice:  1\n",
      "enter a number...2\n",
      "Enter your choice:  1\n",
      "enter a number...2\n",
      "Enter your choice:  2\n",
      "[2, 2]\n",
      "Enter your choice:  3\n",
      "Enter your choice:  3\n",
      "Enter your choice:  2\n",
      "[]\n",
      "Enter your choice:  1\n",
      "enter a number...3\n",
      "Enter your choice:  1\n",
      "enter a number...4\n",
      "Enter your choice:  3\n",
      "Enter your choice:  2\n",
      "[4]\n",
      "Enter your choice:  3\n",
      "Enter your choice:  2\n",
      "[]\n",
      "Enter your choice:  999\n"
     ]
    }
   ],
   "source": [
    "print(\"1.insert\")\n",
    "print(\"2.Display the list\")\n",
    "print(\"3.delete\")\n",
    "choice=0\n",
    "while choice!=999:\n",
    "    choice=int(input(\"Enter your choice:  \"))\n",
    "    if choice==1:\n",
    "        insert(D)\n",
    "    elif choice==2:\n",
    "        display(D)\n",
    "    elif choice==3:\n",
    "        delete(D,t)\n"
   ]
  },
  {
   "cell_type": "markdown",
   "metadata": {},
   "source": [
    "\n",
    "\n",
    "\n",
    "\n",
    "\n",
    "\n"
   ]
  },
  {
   "cell_type": "markdown",
   "metadata": {},
   "source": [
    "<h4>Merge Sort<h4>"
   ]
  },
  {
   "cell_type": "code",
   "execution_count": 3,
   "metadata": {},
   "outputs": [],
   "source": [
    "def mergesort(array,s,e):\n",
    "    if (s>=e):\n",
    "        return\n",
    "    m=(s+e)//2\n",
    "    mergesort(array,s,m)\n",
    "    mergesort(array,m+1,e)\n",
    "    merge (array,s,m,e)\n",
    "    \n",
    "def merge (array, s,m,e):\n",
    "    aux=[0]*10\n",
    "    l=s\n",
    "    r=m+1\n",
    "    k=1\n",
    "    while((l<=m) and (r<=e)):\n",
    "        if(array[l]<array[r]):\n",
    "            aux[k]=array[l]\n",
    "            l+=1\n",
    "        else:\n",
    "            aux[k]=array[r]\n",
    "            r+=1\n",
    "        k+=1\n",
    "        \n",
    "        \n",
    "    for i in range(l, m+1):\n",
    "        aux[k] = array[i]\n",
    "        k+=1\n",
    "    for i in range(r, e+1):\n",
    "        aux[k]=array[i]\n",
    "        k+=1\n",
    "    #print(aux)\n",
    "    for i in range (s, e+1):\n",
    "        array[i] = aux[i]\n",
    "   "
   ]
  },
  {
   "cell_type": "code",
   "execution_count": 5,
   "metadata": {},
   "outputs": [
    {
     "name": "stdout",
     "output_type": "stream",
     "text": [
      "[0, 2, 5, 0, 0, 0, 0, 0, 0, 0]\n",
      "[0, 2, 6, 1, 4, 8, 93, 73, 51]\n",
      "[0, 0, 2, 6, 0, 0, 0, 0, 0, 0]\n",
      "[0, 0, 2, 1, 4, 8, 93, 73, 51]\n",
      "[0, 1, 4, 0, 0, 0, 0, 0, 0, 0]\n",
      "[0, 0, 2, 0, 0, 8, 93, 73, 51]\n",
      "[0, 0, 0, 0, 0, 2, 0, 0, 0, 0]\n",
      "[0, 0, 0, 0, 0, 8, 93, 73, 51]\n",
      "[0, 8, 93, 0, 0, 0, 0, 0, 0, 0]\n",
      "[0, 0, 0, 0, 0, 0, 0, 73, 51]\n",
      "[0, 51, 73, 0, 0, 0, 0, 0, 0, 0]\n",
      "[0, 0, 0, 0, 0, 0, 0, 0, 0]\n",
      "[0, 0, 0, 0, 0, 0, 0, 0, 0, 0]\n",
      "[0, 0, 0, 0, 0, 0, 0, 0, 0]\n",
      "[0, 0, 0, 0, 0, 0, 0, 0, 0, 0]\n",
      "[0, 0, 0, 0, 0, 0, 0, 0, 0]\n",
      "[0, 0, 0, 0, 0, 0, 0, 0, 0]\n"
     ]
    }
   ],
   "source": [
    "a=[5,2,6,1,4,8,93,73,51]\n",
    "mergesort(a,0,len(a)-1)\n",
    "print(a)"
   ]
  },
  {
   "cell_type": "code",
   "execution_count": null,
   "metadata": {},
   "outputs": [],
   "source": []
  },
  {
   "cell_type": "code",
   "execution_count": 6,
   "metadata": {},
   "outputs": [
    {
     "name": "stdout",
     "output_type": "stream",
     "text": [
      "[5, 4, 8, 7, 3, 1, 6, 2]\n",
      "|||||||||||||||||||\n",
      "[4, 5, 4, 0, 0, 0, 0, 0]\n",
      "[0, 0, 7, 8, 7, 0, 0, 0]\n",
      "[5, 4, 8, 7, 0, 0, 0, 0]\n",
      "[0, 0, 0, 0, 1, 3, 1, 0]\n"
     ]
    },
    {
     "ename": "IndexError",
     "evalue": "list assignment index out of range",
     "output_type": "error",
     "traceback": [
      "\u001b[1;31m---------------------------------------------------------------------------\u001b[0m",
      "\u001b[1;31mIndexError\u001b[0m                                Traceback (most recent call last)",
      "\u001b[1;32m<ipython-input-6-1b3c214d52f2>\u001b[0m in \u001b[0;36m<module>\u001b[1;34m\u001b[0m\n\u001b[0;32m     20\u001b[0m \u001b[1;33m\u001b[0m\u001b[0m\n\u001b[0;32m     21\u001b[0m \u001b[1;31m#print(len(array)-1)\u001b[0m\u001b[1;33m\u001b[0m\u001b[1;33m\u001b[0m\u001b[1;33m\u001b[0m\u001b[0m\n\u001b[1;32m---> 22\u001b[1;33m \u001b[0msplit\u001b[0m\u001b[1;33m(\u001b[0m\u001b[0marray\u001b[0m\u001b[1;33m,\u001b[0m\u001b[1;36m0\u001b[0m\u001b[1;33m,\u001b[0m\u001b[0mlen\u001b[0m\u001b[1;33m(\u001b[0m\u001b[0marray\u001b[0m\u001b[1;33m)\u001b[0m\u001b[1;33m-\u001b[0m\u001b[1;36m1\u001b[0m\u001b[1;33m)\u001b[0m\u001b[1;33m\u001b[0m\u001b[1;33m\u001b[0m\u001b[0m\n\u001b[0m",
      "\u001b[1;32m<ipython-input-6-1b3c214d52f2>\u001b[0m in \u001b[0;36msplit\u001b[1;34m(arr, s, e)\u001b[0m\n\u001b[0;32m     16\u001b[0m         \u001b[1;31m#print(s,m,e)\u001b[0m\u001b[1;33m\u001b[0m\u001b[1;33m\u001b[0m\u001b[1;33m\u001b[0m\u001b[0m\n\u001b[0;32m     17\u001b[0m         \u001b[0msplit\u001b[0m\u001b[1;33m(\u001b[0m\u001b[0marr\u001b[0m\u001b[1;33m,\u001b[0m\u001b[0ms\u001b[0m\u001b[1;33m,\u001b[0m\u001b[0mm\u001b[0m\u001b[1;33m)\u001b[0m\u001b[1;33m\u001b[0m\u001b[1;33m\u001b[0m\u001b[0m\n\u001b[1;32m---> 18\u001b[1;33m         \u001b[0msplit\u001b[0m\u001b[1;33m(\u001b[0m\u001b[0marr\u001b[0m\u001b[1;33m,\u001b[0m\u001b[0mm\u001b[0m\u001b[1;33m+\u001b[0m\u001b[1;36m1\u001b[0m\u001b[1;33m,\u001b[0m\u001b[0me\u001b[0m\u001b[1;33m)\u001b[0m\u001b[1;33m\u001b[0m\u001b[1;33m\u001b[0m\u001b[0m\n\u001b[0m\u001b[0;32m     19\u001b[0m         \u001b[0mmerge2\u001b[0m\u001b[1;33m(\u001b[0m\u001b[0marr\u001b[0m\u001b[1;33m,\u001b[0m\u001b[0ms\u001b[0m\u001b[1;33m,\u001b[0m\u001b[0mm\u001b[0m\u001b[1;33m,\u001b[0m\u001b[0me\u001b[0m\u001b[1;33m)\u001b[0m\u001b[1;33m\u001b[0m\u001b[1;33m\u001b[0m\u001b[0m\n\u001b[0;32m     20\u001b[0m \u001b[1;33m\u001b[0m\u001b[0m\n",
      "\u001b[1;32m<ipython-input-6-1b3c214d52f2>\u001b[0m in \u001b[0;36msplit\u001b[1;34m(arr, s, e)\u001b[0m\n\u001b[0;32m     16\u001b[0m         \u001b[1;31m#print(s,m,e)\u001b[0m\u001b[1;33m\u001b[0m\u001b[1;33m\u001b[0m\u001b[1;33m\u001b[0m\u001b[0m\n\u001b[0;32m     17\u001b[0m         \u001b[0msplit\u001b[0m\u001b[1;33m(\u001b[0m\u001b[0marr\u001b[0m\u001b[1;33m,\u001b[0m\u001b[0ms\u001b[0m\u001b[1;33m,\u001b[0m\u001b[0mm\u001b[0m\u001b[1;33m)\u001b[0m\u001b[1;33m\u001b[0m\u001b[1;33m\u001b[0m\u001b[0m\n\u001b[1;32m---> 18\u001b[1;33m         \u001b[0msplit\u001b[0m\u001b[1;33m(\u001b[0m\u001b[0marr\u001b[0m\u001b[1;33m,\u001b[0m\u001b[0mm\u001b[0m\u001b[1;33m+\u001b[0m\u001b[1;36m1\u001b[0m\u001b[1;33m,\u001b[0m\u001b[0me\u001b[0m\u001b[1;33m)\u001b[0m\u001b[1;33m\u001b[0m\u001b[1;33m\u001b[0m\u001b[0m\n\u001b[0m\u001b[0;32m     19\u001b[0m         \u001b[0mmerge2\u001b[0m\u001b[1;33m(\u001b[0m\u001b[0marr\u001b[0m\u001b[1;33m,\u001b[0m\u001b[0ms\u001b[0m\u001b[1;33m,\u001b[0m\u001b[0mm\u001b[0m\u001b[1;33m,\u001b[0m\u001b[0me\u001b[0m\u001b[1;33m)\u001b[0m\u001b[1;33m\u001b[0m\u001b[1;33m\u001b[0m\u001b[0m\n\u001b[0;32m     20\u001b[0m \u001b[1;33m\u001b[0m\u001b[0m\n",
      "\u001b[1;32m<ipython-input-6-1b3c214d52f2>\u001b[0m in \u001b[0;36msplit\u001b[1;34m(arr, s, e)\u001b[0m\n\u001b[0;32m     17\u001b[0m         \u001b[0msplit\u001b[0m\u001b[1;33m(\u001b[0m\u001b[0marr\u001b[0m\u001b[1;33m,\u001b[0m\u001b[0ms\u001b[0m\u001b[1;33m,\u001b[0m\u001b[0mm\u001b[0m\u001b[1;33m)\u001b[0m\u001b[1;33m\u001b[0m\u001b[1;33m\u001b[0m\u001b[0m\n\u001b[0;32m     18\u001b[0m         \u001b[0msplit\u001b[0m\u001b[1;33m(\u001b[0m\u001b[0marr\u001b[0m\u001b[1;33m,\u001b[0m\u001b[0mm\u001b[0m\u001b[1;33m+\u001b[0m\u001b[1;36m1\u001b[0m\u001b[1;33m,\u001b[0m\u001b[0me\u001b[0m\u001b[1;33m)\u001b[0m\u001b[1;33m\u001b[0m\u001b[1;33m\u001b[0m\u001b[0m\n\u001b[1;32m---> 19\u001b[1;33m         \u001b[0mmerge2\u001b[0m\u001b[1;33m(\u001b[0m\u001b[0marr\u001b[0m\u001b[1;33m,\u001b[0m\u001b[0ms\u001b[0m\u001b[1;33m,\u001b[0m\u001b[0mm\u001b[0m\u001b[1;33m,\u001b[0m\u001b[0me\u001b[0m\u001b[1;33m)\u001b[0m\u001b[1;33m\u001b[0m\u001b[1;33m\u001b[0m\u001b[0m\n\u001b[0m\u001b[0;32m     20\u001b[0m \u001b[1;33m\u001b[0m\u001b[0m\n\u001b[0;32m     21\u001b[0m \u001b[1;31m#print(len(array)-1)\u001b[0m\u001b[1;33m\u001b[0m\u001b[1;33m\u001b[0m\u001b[1;33m\u001b[0m\u001b[0m\n",
      "\u001b[1;32m<ipython-input-5-9af780358b63>\u001b[0m in \u001b[0;36mmerge2\u001b[1;34m(arr, s, m, e)\u001b[0m\n\u001b[0;32m     15\u001b[0m \u001b[1;33m\u001b[0m\u001b[0m\n\u001b[0;32m     16\u001b[0m     \u001b[1;32mfor\u001b[0m \u001b[0mi\u001b[0m \u001b[1;32min\u001b[0m \u001b[0mrange\u001b[0m\u001b[1;33m(\u001b[0m\u001b[0ml\u001b[0m\u001b[1;33m,\u001b[0m\u001b[0mr\u001b[0m\u001b[1;33m)\u001b[0m\u001b[1;33m:\u001b[0m\u001b[1;33m\u001b[0m\u001b[1;33m\u001b[0m\u001b[0m\n\u001b[1;32m---> 17\u001b[1;33m         \u001b[0mA\u001b[0m\u001b[1;33m[\u001b[0m\u001b[0mk\u001b[0m\u001b[1;33m]\u001b[0m \u001b[1;33m=\u001b[0m \u001b[0marr\u001b[0m\u001b[1;33m[\u001b[0m\u001b[0mi\u001b[0m\u001b[1;33m]\u001b[0m\u001b[1;33m\u001b[0m\u001b[1;33m\u001b[0m\u001b[0m\n\u001b[0m\u001b[0;32m     18\u001b[0m         \u001b[0mk\u001b[0m\u001b[1;33m+=\u001b[0m\u001b[1;36m1\u001b[0m\u001b[1;33m\u001b[0m\u001b[1;33m\u001b[0m\u001b[0m\n\u001b[0;32m     19\u001b[0m     \u001b[1;32mfor\u001b[0m \u001b[0mi\u001b[0m \u001b[1;32min\u001b[0m \u001b[0mrange\u001b[0m\u001b[1;33m(\u001b[0m\u001b[0mr\u001b[0m\u001b[1;33m,\u001b[0m\u001b[0me\u001b[0m\u001b[1;33m+\u001b[0m\u001b[1;36m1\u001b[0m\u001b[1;33m)\u001b[0m\u001b[1;33m:\u001b[0m\u001b[1;33m\u001b[0m\u001b[1;33m\u001b[0m\u001b[0m\n",
      "\u001b[1;31mIndexError\u001b[0m: list assignment index out of range"
     ]
    }
   ],
   "source": [
    "array=[5,4,8,7,3,1,6,2]\n",
    "print(array)\n",
    "print(\"|||||||||||||||||||\")\n",
    "\n",
    "def split(arr,s,e):\n",
    "    if(s==e):\n",
    "        return\n",
    "    else:\n",
    "        m=(s+e)//2\n",
    "        Left = [] \n",
    "        Right= []\n",
    "        for i in range(0,m+1):\n",
    "            Left.append(arr[i])\n",
    "        for i in range(m+1,e+1):\n",
    "            Right.append(arr[i])\n",
    "        #print(s,m,e)\n",
    "        split(arr,s,m)\n",
    "        split(arr,m+1,e)\n",
    "        merge2(arr,s,m,e)\n",
    "\n",
    "#print(len(array)-1)\n",
    "split(array,0,len(array)-1)"
   ]
  },
  {
   "cell_type": "code",
   "execution_count": 5,
   "metadata": {},
   "outputs": [],
   "source": [
    "def merge2(arr, s,m,e):\n",
    "    A=[0]*8\n",
    "    l=s\n",
    "    r=m+1\n",
    "    k=s\n",
    "    \n",
    "    while((l<=m) and (r<=e)):\n",
    "        if(arr[l]<arr[r]):\n",
    "            A[k]=arr[l]\n",
    "            l+=1\n",
    "        else:\n",
    "            A[k]=arr[r]\n",
    "            r+=1\n",
    "        k+=1\n",
    "        \n",
    "    for i in range(l,r):\n",
    "        A[k] = arr[i]\n",
    "        k+=1\n",
    "    for i in range(r,e+1):\n",
    "        A[k] = arr[i]\n",
    "        k+=1\n",
    "    print(A)"
   ]
  },
  {
   "cell_type": "code",
   "execution_count": null,
   "metadata": {},
   "outputs": [],
   "source": [
    "a=[1,4,2,7.8]\n",
    "b=[4,6,2,3,9]\n",
    "merge2(a,b)"
   ]
  }
 ],
 "metadata": {
  "kernelspec": {
   "display_name": "Python 3",
   "language": "python",
   "name": "python3"
  },
  "language_info": {
   "codemirror_mode": {
    "name": "ipython",
    "version": 3
   },
   "file_extension": ".py",
   "mimetype": "text/x-python",
   "name": "python",
   "nbconvert_exporter": "python",
   "pygments_lexer": "ipython3",
   "version": "3.8.3"
  }
 },
 "nbformat": 4,
 "nbformat_minor": 4
}
