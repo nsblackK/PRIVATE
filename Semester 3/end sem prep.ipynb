{
 "cells": [
  {
   "cell_type": "markdown",
   "metadata": {},
   "source": [
    "selection sort"
   ]
  },
  {
   "cell_type": "code",
   "execution_count": 11,
   "metadata": {},
   "outputs": [
    {
     "name": "stdout",
     "output_type": "stream",
     "text": [
      "[2, 64, 25, 12, 22, 11]\n",
      "[2, 11, 25, 12, 22, 64]\n",
      "[2, 11, 12, 25, 22, 64]\n",
      "[2, 11, 12, 22, 25, 64]\n",
      "[2, 11, 12, 22, 25, 64]\n",
      "[2, 11, 12, 22, 25, 64]\n"
     ]
    }
   ],
   "source": [
    "A = [64, 2, 25, 12, 22, 11]\n",
    "\n",
    "for i in range(len(A)):\n",
    "    minn = i\n",
    "    for j in range(i+1, len(A)):\n",
    "        if A[minn] > A[j]:\n",
    "            minn = j\n",
    "                   \n",
    "    A[i], A[minn] = A[minn], A[i]\n",
    "    print(A)\n"
   ]
  },
  {
   "cell_type": "markdown",
   "metadata": {},
   "source": [
    "insertion sort"
   ]
  },
  {
   "cell_type": "code",
   "execution_count": 4,
   "metadata": {},
   "outputs": [
    {
     "name": "stdout",
     "output_type": "stream",
     "text": [
      "[2, 64, 25, 12, 22, 11]\n",
      "[2, 25, 64, 12, 22, 11]\n",
      "[2, 12, 25, 64, 22, 11]\n",
      "[2, 12, 22, 25, 64, 11]\n",
      "[2, 11, 12, 22, 25, 64]\n"
     ]
    }
   ],
   "source": [
    "A = [64, 2, 25, 12, 22, 11]\n",
    "for i in range(1, len(A)):\n",
    "        temp = A[i]\n",
    "        j = i-1\n",
    "        while j >= 0 and temp < A[j] :\n",
    "                A[j + 1] = A[j]\n",
    "                j -= 1\n",
    "        A[j + 1] = temp\n",
    "        print(A)"
   ]
  },
  {
   "cell_type": "markdown",
   "metadata": {},
   "source": [
    "bubble sort"
   ]
  },
  {
   "cell_type": "code",
   "execution_count": 26,
   "metadata": {},
   "outputs": [
    {
     "name": "stdout",
     "output_type": "stream",
     "text": [
      "[2, 25, 12, 22, 11, 64]\n",
      "[2, 12, 22, 11, 25, 64]\n",
      "[2, 12, 11, 22, 25, 64]\n",
      "[2, 11, 12, 22, 25, 64]\n",
      "[2, 11, 12, 22, 25, 64]\n",
      "[2, 11, 12, 22, 25, 64]\n"
     ]
    }
   ],
   "source": [
    "A = [64, 2, 25, 12, 22, 11]\n",
    "for i in range(len(A)):\n",
    "    for j in range(0,len(A)-1):\n",
    "        if A[j]>A[j+1]:\n",
    "            A[j],A[j+1]=A[j+1],A[j]\n",
    "    print(A)"
   ]
  },
  {
   "cell_type": "markdown",
   "metadata": {},
   "source": [
    "merge sort"
   ]
  },
  {
   "cell_type": "code",
   "execution_count": 40,
   "metadata": {},
   "outputs": [
    {
     "name": "stdout",
     "output_type": "stream",
     "text": [
      "[2, 11, 12, 22, 25, 64]\n"
     ]
    }
   ],
   "source": [
    "def mergeSort(arr):\n",
    "    if len(arr) > 1:\n",
    "  \n",
    "        mid = len(arr)//2\n",
    "        L = arr[:mid]\n",
    "        R = arr[mid:]\n",
    "  \n",
    "        mergeSort(L)\n",
    "        mergeSort(R)\n",
    "  \n",
    "        i = j = k = 0\n",
    "  \n",
    "        # Copy data to temp arrays L[] and R[]\n",
    "        while i < len(L) and j < len(R):\n",
    "            if L[i] < R[j]:\n",
    "                arr[k] = L[i]\n",
    "                i += 1\n",
    "            else:\n",
    "                arr[k] = R[j]\n",
    "                j += 1\n",
    "            k += 1\n",
    "  \n",
    "        # Checking if any element was left\n",
    "        while i < len(L):\n",
    "            arr[k] = L[i]\n",
    "            i += 1\n",
    "            k += 1\n",
    "  \n",
    "        while j < len(R):\n",
    "            arr[k] = R[j]\n",
    "            j += 1\n",
    "            k += 1\n",
    "            \n",
    "arr = [64, 2, 25, 12, 22, 11]\n",
    "mergeSort(arr)\n",
    "print(arr)"
   ]
  },
  {
   "cell_type": "markdown",
   "metadata": {},
   "source": [
    "binary search"
   ]
  },
  {
   "cell_type": "code",
   "execution_count": 58,
   "metadata": {},
   "outputs": [
    {
     "name": "stdout",
     "output_type": "stream",
     "text": [
      "enter number to be searched33\n",
      "not found\n"
     ]
    }
   ],
   "source": [
    "arr=[2, 11, 12, 22, 25, 64]\n",
    "\n",
    "def bs(a):\n",
    "    inp=int(input(\"enter number to be searched\"))\n",
    "    l=0\n",
    "    h=len(a)\n",
    "    k=0\n",
    "\n",
    "    while l<=h:\n",
    "        n=h-l\n",
    "        m=l+n//2\n",
    "        if a[m]==inp:\n",
    "            print(\"found\")\n",
    "            k=1\n",
    "        if inp>a[m]:\n",
    "            l=m+1\n",
    "        else:\n",
    "            h=m-1\n",
    "    \n",
    "    if k==0:\n",
    "        print(\"not found\")\n",
    "        \n",
    "            \n",
    "bs(arr)"
   ]
  },
  {
   "cell_type": "markdown",
   "metadata": {},
   "source": [
    "Linked List\n"
   ]
  },
  {
   "cell_type": "code",
   "execution_count": 2,
   "metadata": {},
   "outputs": [
    {
     "name": "stdout",
     "output_type": "stream",
     "text": [
      "9\n",
      "23\n",
      "57\n",
      "9\n",
      "57\n"
     ]
    }
   ],
   "source": [
    "class Node:\n",
    "      def __init__(self, data):\n",
    "        self.data = data  \n",
    "        self.next = None  \n",
    "\n",
    "class LinkedList:\n",
    "    def __init__(self):\n",
    "        self.head = None\n",
    "        \n",
    "    def insert(self, new_data):\n",
    "        new_node = Node(new_data)\n",
    "        if self.head == None:\n",
    "            self.head = new_node\n",
    "        else:\n",
    "            last = self.head\n",
    "            while(last.next!=None):\n",
    "                last = last.next\n",
    "            last.next = new_node\n",
    "            \n",
    "    def insertAtB(self, new_data):\n",
    "        new_node = Node(new_data)\n",
    "        if self.head == None:\n",
    "            self.head = new_node\n",
    "        else:\n",
    "            new_node.next = self.head\n",
    "            self.head = new_node\n",
    "            \n",
    "    def delete(self,data):\n",
    "        if self.head == None:\n",
    "            return\n",
    "        \n",
    "        current =self.head\n",
    "        if current.data==data:\n",
    "            if current.next!=None:\n",
    "                self.head = current.next\n",
    "            else:\n",
    "                self.head=None\n",
    "            \n",
    "        while(current.next.data!=data):\n",
    "            current=current.next\n",
    "        if current.next.next!=None:\n",
    "            current.next= current.next.next\n",
    "        else:\n",
    "            current.next=None\n",
    "            \n",
    "    def printo(self):\n",
    "        current = self.head\n",
    "        while (current!=None):\n",
    "            print(current.data)\n",
    "            current=current.next\n",
    "            \n",
    "a=LinkedList()\n",
    "a.insert(23)\n",
    "a.insert(57)\n",
    "a.insertAtB(9)\n",
    "a.printo()\n",
    "a.delete(23)\n",
    "a.printo()\n",
    "        "
   ]
  },
  {
   "cell_type": "markdown",
   "metadata": {},
   "source": [
    "Stack Using Linked List"
   ]
  },
  {
   "cell_type": "code",
   "execution_count": 7,
   "metadata": {},
   "outputs": [
    {
     "name": "stdout",
     "output_type": "stream",
     "text": [
      "43\n",
      "19\n",
      "9\n",
      "\n",
      "19\n",
      "9\n",
      "\n",
      "9\n"
     ]
    }
   ],
   "source": [
    "class Node:\n",
    "      def __init__(self, data):\n",
    "        self.data = data  \n",
    "        self.next = None  \n",
    "\n",
    "class LinkedList:\n",
    "    def __init__(self):\n",
    "        self.head = None\n",
    "            \n",
    "    def insertAtB(self, new_data):\n",
    "        new_node = Node(new_data)\n",
    "        if self.head == None:\n",
    "            self.head = new_node\n",
    "        else:\n",
    "            new_node.next = self.head\n",
    "            self.head = new_node\n",
    "            \n",
    "    def delete(self):\n",
    "        if self.head == None:\n",
    "            return\n",
    "        current=self.head\n",
    "        self.head=current.next\n",
    "        \n",
    "            \n",
    "    def printo(self):\n",
    "        current = self.head\n",
    "        while (current!=None):\n",
    "            print(current.data)\n",
    "            current=current.next\n",
    "            \n",
    "a=LinkedList()\n",
    "a.insertAtB(9)\n",
    "a.insertAtB(19)\n",
    "a.insertAtB(43)\n",
    "a.printo()\n",
    "a.delete()\n",
    "print()\n",
    "a.printo()\n",
    "        \n",
    "a.delete()\n",
    "print()\n",
    "a.printo()"
   ]
  },
  {
   "cell_type": "markdown",
   "metadata": {},
   "source": [
    "Queue Using Linked List"
   ]
  },
  {
   "cell_type": "code",
   "execution_count": 11,
   "metadata": {},
   "outputs": [
    {
     "name": "stdout",
     "output_type": "stream",
     "text": [
      "23\n",
      "57\n",
      "9\n",
      "57\n",
      "9\n",
      "9\n"
     ]
    }
   ],
   "source": [
    "class Node:\n",
    "      def __init__(self, data):\n",
    "        self.data = data  \n",
    "        self.next = None  \n",
    "\n",
    "class LinkedList:\n",
    "    def __init__(self):\n",
    "        self.head = None\n",
    "        \n",
    "    def insert(self, new_data):\n",
    "        new_node = Node(new_data)\n",
    "        if self.head == None:\n",
    "            self.head = new_node\n",
    "        else:\n",
    "            last = self.head\n",
    "            while(last.next!=None):\n",
    "                last = last.next\n",
    "            last.next = new_node\n",
    "            \n",
    "            \n",
    "    def delete(self):\n",
    "        if self.head == None:\n",
    "            return\n",
    "        current=self.head\n",
    "        self.head=current.next\n",
    "            \n",
    "    def printo(self):\n",
    "        current = self.head\n",
    "        while (current!=None):\n",
    "            print(current.data)\n",
    "            current=current.next\n",
    "            \n",
    "a=LinkedList()\n",
    "a.insert(23)\n",
    "a.insert(57)\n",
    "a.insert(9)\n",
    "a.printo()\n",
    "a.delete()\n",
    "a.printo()\n",
    "        \n",
    "a.delete()\n",
    "a.printo()"
   ]
  },
  {
   "cell_type": "markdown",
   "metadata": {},
   "source": [
    "Tower of Hannoy\n"
   ]
  },
  {
   "cell_type": "code",
   "execution_count": 12,
   "metadata": {},
   "outputs": [
    {
     "name": "stdout",
     "output_type": "stream",
     "text": [
      "move from source to destination\n",
      "move from source to temporary\n",
      "move from destination to temporary\n",
      "move from source to destination\n",
      "move from temporary to source\n",
      "move from temporary to destination\n",
      "move from source to destination\n",
      "move from source to temporary\n",
      "move from destination to temporary\n",
      "move from destination to source\n",
      "move from temporary to source\n",
      "move from destination to temporary\n",
      "move from source to destination\n",
      "move from source to temporary\n",
      "move from destination to temporary\n",
      "move from source to destination\n",
      "move from temporary to source\n",
      "move from temporary to destination\n",
      "move from source to destination\n",
      "move from temporary to source\n",
      "move from destination to temporary\n",
      "move from destination to source\n",
      "move from temporary to source\n",
      "move from temporary to destination\n",
      "move from source to destination\n",
      "move from source to temporary\n",
      "move from destination to temporary\n",
      "move from source to destination\n",
      "move from temporary to source\n",
      "move from temporary to destination\n",
      "move from source to destination\n"
     ]
    }
   ],
   "source": [
    "def toh(n,a,b,c):\n",
    "    if n>0:\n",
    "        toh(n-1,a,c,b)\n",
    "        print(\"move from {} to {}\".format(a,c))\n",
    "        toh(n-1,b,a,c)\n",
    "toh(5,\"source\", \"temporary\", \"destination\")"
   ]
  },
  {
   "cell_type": "markdown",
   "metadata": {},
   "source": [
    "doubly linked list"
   ]
  },
  {
   "cell_type": "code",
   "execution_count": null,
   "metadata": {},
   "outputs": [],
   "source": []
  }
 ],
 "metadata": {
  "kernelspec": {
   "display_name": "Python 3",
   "language": "python",
   "name": "python3"
  },
  "language_info": {
   "codemirror_mode": {
    "name": "ipython",
    "version": 3
   },
   "file_extension": ".py",
   "mimetype": "text/x-python",
   "name": "python",
   "nbconvert_exporter": "python",
   "pygments_lexer": "ipython3",
   "version": "3.8.3"
  }
 },
 "nbformat": 4,
 "nbformat_minor": 4
}
