{
 "cells": [
  {
   "cell_type": "code",
   "execution_count": 31,
   "metadata": {},
   "outputs": [
    {
     "name": "stdout",
     "output_type": "stream",
     "text": [
      "19\n",
      "7\n",
      "27\n"
     ]
    }
   ],
   "source": [
    "def age(d1,m1,y1,d2,m2,y2):\n",
    "    y=0\n",
    "    m=0\n",
    "    d=0\n",
    "    #current month is more than birth month\n",
    "    if m2>m1:\n",
    "        y=y2-y1\n",
    "        if d1>d2:\n",
    "            m=m2-m1-1\n",
    "            if m2%2!=0:\n",
    "                d=30-d1+d2\n",
    "            else:\n",
    "                d=31-d1+d2\n",
    "            if m2==3:\n",
    "                d=28-d1+d2\n",
    "        elif d2>d1:\n",
    "            m=m2-m1\n",
    "            d=d2-d1\n",
    "    #current month is less than birth month        \n",
    "    elif m2<m1:\n",
    "        y=y2-y1-1\n",
    "        if d1>d2:\n",
    "            m=12-(m1-m2)-1\n",
    "            if m2%2!=0:\n",
    "                d=30-d1+d2\n",
    "            else:\n",
    "                d=31-d1+d2\n",
    "            if m2==3:\n",
    "                d=28-d1+d2\n",
    "        elif d2>d1:\n",
    "            m=12-(m1-m2)\n",
    "            d=d2-d1\n",
    "\n",
    "        \n",
    "    #current month is same as birth month\n",
    "    else:\n",
    "        #current day is more than birth day\n",
    "        if d2>d1:\n",
    "            y=y2-y1\n",
    "            m=0\n",
    "            d=d2-d1\n",
    "        #current day is less than birth day\n",
    "        else:\n",
    "            y=y2-y1-1\n",
    "            m=11\n",
    "            if m2%2!=0:\n",
    "                d=30-d1+d2\n",
    "            else:\n",
    "                d=31-d1+d2\n",
    "            if m2==3:\n",
    "                d=28-d1+d2\n",
    "    print(y)\n",
    "    print(m)\n",
    "    print(d)\n",
    "age(20,11,2001,17,7,2021)"
   ]
  }
 ],
 "metadata": {
  "celltoolbar": "Edit Metadata",
  "kernelspec": {
   "display_name": "Python 3",
   "language": "python",
   "name": "python3"
  },
  "language_info": {
   "codemirror_mode": {
    "name": "ipython",
    "version": 3
   },
   "file_extension": ".py",
   "mimetype": "text/x-python",
   "name": "python",
   "nbconvert_exporter": "python",
   "pygments_lexer": "ipython3",
   "version": "3.8.3"
  }
 },
 "nbformat": 4,
 "nbformat_minor": 4
}
