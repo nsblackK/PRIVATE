{
 "cells": [
  {
   "cell_type": "code",
   "execution_count": 2,
   "metadata": {},
   "outputs": [
    {
     "name": "stdout",
     "output_type": "stream",
     "text": [
      "7\n"
     ]
    }
   ],
   "source": [
    "c=[3,6,8,2,5,1,7]\n",
    "h=max(c)\n",
    "l=min(c)\n",
    "print(h-l)"
   ]
  },
  {
   "cell_type": "code",
   "execution_count": 13,
   "metadata": {},
   "outputs": [
    {
     "name": "stdout",
     "output_type": "stream",
     "text": [
      "7\n"
     ]
    }
   ],
   "source": [
    "c=[3,6,8,2,5,1,7]\n",
    "h=c[0]\n",
    "l=c[0]\n",
    "for i in c:\n",
    "    if i >h:\n",
    "        h=i\n",
    "    if i<l:\n",
    "        l=i\n",
    "    s=h-l\n",
    "print(s)"
   ]
  },
  {
   "cell_type": "code",
   "execution_count": 20,
   "metadata": {},
   "outputs": [
    {
     "name": "stdout",
     "output_type": "stream",
     "text": [
      "false\n"
     ]
    },
    {
     "ename": "NameError",
     "evalue": "name 'true' is not defined",
     "output_type": "error",
     "traceback": [
      "\u001b[1;31m---------------------------------------------------------------------------\u001b[0m",
      "\u001b[1;31mNameError\u001b[0m                                 Traceback (most recent call last)",
      "\u001b[1;32m<ipython-input-20-0b4b0985dc7a>\u001b[0m in \u001b[0;36m<module>\u001b[1;34m\u001b[0m\n\u001b[0;32m     11\u001b[0m                 \u001b[1;32mif\u001b[0m \u001b[0ms\u001b[0m\u001b[1;33m[\u001b[0m\u001b[0mj\u001b[0m\u001b[1;33m+\u001b[0m\u001b[1;36m1\u001b[0m\u001b[1;33m]\u001b[0m\u001b[1;33m!=\u001b[0m\u001b[0mi\u001b[0m\u001b[1;33m+\u001b[0m\u001b[1;36m1\u001b[0m\u001b[1;33m:\u001b[0m\u001b[1;33m\u001b[0m\u001b[1;33m\u001b[0m\u001b[0m\n\u001b[0;32m     12\u001b[0m                     \u001b[0mprint\u001b[0m\u001b[1;33m(\u001b[0m\u001b[1;34m\"false\"\u001b[0m\u001b[1;33m)\u001b[0m\u001b[1;33m\u001b[0m\u001b[1;33m\u001b[0m\u001b[0m\n\u001b[1;32m---> 13\u001b[1;33m         \u001b[0mprint\u001b[0m\u001b[1;33m(\u001b[0m\u001b[0mtrue\u001b[0m\u001b[1;33m)\u001b[0m\u001b[1;33m\u001b[0m\u001b[1;33m\u001b[0m\u001b[0m\n\u001b[0m\u001b[0;32m     14\u001b[0m \u001b[1;33m\u001b[0m\u001b[0m\n\u001b[0;32m     15\u001b[0m \u001b[1;33m\u001b[0m\u001b[0m\n",
      "\u001b[1;31mNameError\u001b[0m: name 'true' is not defined"
     ]
    }
   ],
   "source": [
    "c=[3,6,8,2,5,1,7]\n",
    "s=\"68\"\n",
    "f1=(int(s[0]))\n",
    "\n",
    "for i in c:\n",
    "    if f1==i:\n",
    "        if len(s)==1:\n",
    "            print(\"true\")\n",
    "        else:\n",
    "            for j in range(len(s)-1):\n",
    "                if s[j+1]!=i+1:\n",
    "                    print(\"false\")\n",
    "        print(true)\n",
    "        \n",
    "            \n"
   ]
  },
  {
   "cell_type": "code",
   "execution_count": 29,
   "metadata": {},
   "outputs": [
    {
     "name": "stdout",
     "output_type": "stream",
     "text": [
      "number of bulls 1\n",
      "number of cows 2\n"
     ]
    }
   ],
   "source": [
    "l1=[3,2,0,7]\n",
    "l2=[3,7,6,2]\n",
    "c=0\n",
    "b=0\n",
    "for i in l1:\n",
    "    for j in l2:\n",
    "        if i==j:\n",
    "            c+=1\n",
    "\n",
    "\n",
    "for i in range(len(l1)):\n",
    "    for j in range(len(l2)):\n",
    "        if l1[i]==l2[j] and i==j:\n",
    "            b+=1\n",
    "print(\"number of bulls\",b)     \n",
    "print(\"number of cows\",c-b)\n",
    "            "
   ]
  },
  {
   "cell_type": "code",
   "execution_count": 46,
   "metadata": {},
   "outputs": [
    {
     "name": "stdout",
     "output_type": "stream",
     "text": [
      "c2 is bigger\n"
     ]
    }
   ],
   "source": [
    "c1=[1,0,1,1,0,0]\n",
    "c2=[1,0,1,1,0,1]\n",
    "k==0\n",
    "\n",
    "for i in range(len(c1)):\n",
    "    if c1[i]!=c2[i]:\n",
    "        if c1[i]==1:\n",
    "            k=1\n",
    "        else:\n",
    "            k=2\n",
    "        break\n",
    "if k==1:\n",
    "    print(\"c1 is bigger\")\n",
    "else:\n",
    "    print(\"c2 is bigger\")"
   ]
  },
  {
   "cell_type": "code",
   "execution_count": 39,
   "metadata": {},
   "outputs": [
    {
     "name": "stdout",
     "output_type": "stream",
     "text": [
      "even\n"
     ]
    }
   ],
   "source": [
    "if(c1[-1]==0):\n",
    "    print(\"even\")\n",
    "else:\n",
    "    print(\"odd\")"
   ]
  },
  {
   "cell_type": "code",
   "execution_count": 52,
   "metadata": {},
   "outputs": [
    {
     "name": "stdout",
     "output_type": "stream",
     "text": [
      "[5, 2, 3]\n",
      "5\n"
     ]
    }
   ],
   "source": [
    "c=[1,1,1,1,1,0,1,1,0,1,1,1]\n",
    "k=0\n",
    "s=[]\n",
    "for i in c:\n",
    "    if i==1:\n",
    "        k+=1\n",
    "    else:\n",
    "        s.append(k)\n",
    "        k=0\n",
    "s.append(k)\n",
    "print(s)\n",
    "print(max(s))"
   ]
  },
  {
   "cell_type": "code",
   "execution_count": 4,
   "metadata": {},
   "outputs": [
    {
     "name": "stdout",
     "output_type": "stream",
     "text": [
      "[2]\n",
      "[2, 2]\n",
      "[2, 2, 2]\n",
      "[2, 2, 2]\n",
      "6\n"
     ]
    }
   ],
   "source": [
    "s=[3,1,3,1,3]\n",
    "l=len(s)\n",
    "water=[]\n",
    "def three(s):\n",
    "    if(s[1]<s[0] and s[1]<s[2]):\n",
    "        w=min(s[0],s[2])\n",
    "        water.append(w-s[1])\n",
    "        print(water)\n",
    "         \n",
    "            \n",
    "for p in range(3):\n",
    "    i=0\n",
    "    j=3\n",
    "    l=s[i:j]\n",
    "    three(l)\n",
    "    i+p\n",
    "    j+p\n",
    "    \n",
    "    \n",
    "s1=0\n",
    "for i in range(len(water)):\n",
    "    s1=s1+water[i]\n",
    "print(water)    \n",
    "print(s1)"
   ]
  },
  {
   "cell_type": "code",
   "execution_count": 22,
   "metadata": {},
   "outputs": [
    {
     "ename": "TypeError",
     "evalue": "unsupported operand type(s) for +: 'int' and 'NoneType'",
     "output_type": "error",
     "traceback": [
      "\u001b[1;31m---------------------------------------------------------------------------\u001b[0m",
      "\u001b[1;31mTypeError\u001b[0m                                 Traceback (most recent call last)",
      "\u001b[1;32m<ipython-input-22-3b685eb4fa20>\u001b[0m in \u001b[0;36m<module>\u001b[1;34m\u001b[0m\n\u001b[0;32m     11\u001b[0m \u001b[0mr\u001b[0m\u001b[1;33m=\u001b[0m\u001b[0mthree1\u001b[0m\u001b[1;33m(\u001b[0m\u001b[0ma\u001b[0m\u001b[1;33m[\u001b[0m\u001b[1;36m2\u001b[0m\u001b[1;33m:\u001b[0m\u001b[1;33m]\u001b[0m\u001b[1;33m)\u001b[0m\u001b[1;33m\u001b[0m\u001b[1;33m\u001b[0m\u001b[0m\n\u001b[0;32m     12\u001b[0m \u001b[1;33m\u001b[0m\u001b[0m\n\u001b[1;32m---> 13\u001b[1;33m \u001b[0ms\u001b[0m\u001b[1;33m=\u001b[0m\u001b[0mp\u001b[0m\u001b[1;33m+\u001b[0m\u001b[0mq\u001b[0m\u001b[1;33m+\u001b[0m\u001b[0mr\u001b[0m\u001b[1;33m\u001b[0m\u001b[1;33m\u001b[0m\u001b[0m\n\u001b[0m\u001b[0;32m     14\u001b[0m \u001b[0mprint\u001b[0m\u001b[1;33m(\u001b[0m\u001b[0ms\u001b[0m\u001b[1;33m)\u001b[0m\u001b[1;33m\u001b[0m\u001b[1;33m\u001b[0m\u001b[0m\n\u001b[0;32m     15\u001b[0m \u001b[1;33m\u001b[0m\u001b[0m\n",
      "\u001b[1;31mTypeError\u001b[0m: unsupported operand type(s) for +: 'int' and 'NoneType'"
     ]
    }
   ],
   "source": [
    "a=[3,1,3,1,3]\n",
    "water=[]\n",
    "def three1(s):\n",
    "    if(s[1]<s[0] and s[1]<s[2]):\n",
    "        w=min(s[0],s[2])\n",
    "        water.append(w-s[1])\n",
    "        return(w-s[1])\n",
    "        \n",
    "p=three1(a[:3])\n",
    "q=three1(a[1:4])\n",
    "r=three1(a[2:])\n",
    "\n",
    "s=p+q+r\n",
    "print(s)\n",
    "\n",
    "    "
   ]
  },
  {
   "cell_type": "code",
   "execution_count": 20,
   "metadata": {},
   "outputs": [
    {
     "name": "stdout",
     "output_type": "stream",
     "text": [
      "[4, 2, 5]\n",
      "[2, 5, 3]\n",
      "[5, 3, 4]\n"
     ]
    }
   ],
   "source": [
    "a=[4,2,5,3,4]\n",
    "print(a[:3])\n",
    "print(a[1:4])\n",
    "print(a[2:])"
   ]
  }
 ],
 "metadata": {
  "kernelspec": {
   "display_name": "Python 3",
   "language": "python",
   "name": "python3"
  },
  "language_info": {
   "codemirror_mode": {
    "name": "ipython",
    "version": 3
   },
   "file_extension": ".py",
   "mimetype": "text/x-python",
   "name": "python",
   "nbconvert_exporter": "python",
   "pygments_lexer": "ipython3",
   "version": "3.8.3"
  }
 },
 "nbformat": 4,
 "nbformat_minor": 4
}
