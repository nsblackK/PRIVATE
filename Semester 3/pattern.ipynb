{
 "cells": [
  {
   "cell_type": "code",
   "execution_count": 9,
   "metadata": {},
   "outputs": [
    {
     "name": "stdout",
     "output_type": "stream",
     "text": [
      "1 \n",
      "1 1 \n",
      "1 1 1 \n",
      "1 1 1 1 \n"
     ]
    }
   ],
   "source": [
    "\n",
    "def patt1(n):\n",
    "    k=1\n",
    "    for i in range(n):\n",
    "        for j in range(k):\n",
    "            print(1,end=\" \")\n",
    "        print(\"\")\n",
    "        k=k+1\n",
    "patt1(4)      "
   ]
  },
  {
   "cell_type": "code",
   "execution_count": 15,
   "metadata": {},
   "outputs": [
    {
     "name": "stdout",
     "output_type": "stream",
     "text": [
      "\n",
      "1 \n",
      "1 2 \n",
      "1 2 3 \n",
      "1 2 3 4 \n",
      "1 2 3 4 5 \n"
     ]
    }
   ],
   "source": [
    "#pattern2\n",
    "k=1\n",
    "for i in range(6):\n",
    "        for j in range(1,k):\n",
    "            print(j,end=\" \")\n",
    "        print(\"\")\n",
    "        k+=1"
   ]
  },
  {
   "cell_type": "code",
   "execution_count": 18,
   "metadata": {},
   "outputs": [
    {
     "name": "stdout",
     "output_type": "stream",
     "text": [
      "\n",
      "\n",
      "\n",
      "\n",
      "\n",
      "\n",
      "1 \n",
      "\n",
      "\n",
      "\n",
      "\n",
      "1 \n",
      "\n",
      "\n",
      "\n",
      "1 \n",
      "\n",
      "\n",
      "1 \n",
      "\n",
      "1 \n",
      "1 "
     ]
    }
   ],
   "source": [
    "#pattern2\n",
    "k=1\n",
    "n=6\n",
    "for i in range(n):\n",
    "    for j in range(n-i):\n",
    "        print(\"\")\n",
    "    print(1,end=\" \")\n",
    "    #print(\"\")\n",
    "    k+=1"
   ]
  }
 ],
 "metadata": {
  "kernelspec": {
   "display_name": "Python 3",
   "language": "python",
   "name": "python3"
  },
  "language_info": {
   "codemirror_mode": {
    "name": "ipython",
    "version": 3
   },
   "file_extension": ".py",
   "mimetype": "text/x-python",
   "name": "python",
   "nbconvert_exporter": "python",
   "pygments_lexer": "ipython3",
   "version": "3.8.3"
  }
 },
 "nbformat": 4,
 "nbformat_minor": 4
}
