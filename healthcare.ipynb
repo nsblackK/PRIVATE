{
 "cells": [
  {
   "cell_type": "code",
   "execution_count": 3,
   "metadata": {},
   "outputs": [
    {
     "name": "stdout",
     "output_type": "stream",
     "text": [
      "# A tibble: 5,110 x 12\n",
      "      id gender   age hypertension heart_disease ever_married work_type    \n",
      "   <dbl> <chr>  <dbl>        <dbl>         <dbl> <chr>        <chr>        \n",
      " 1  9046 Male      67            0             1 Yes          Private      \n",
      " 2 51676 Female    61            0             0 Yes          Self-employed\n",
      " 3 31112 Male      80            0             1 Yes          Private      \n",
      " 4 60182 Female    49            0             0 Yes          Private      \n",
      " 5  1665 Female    79            1             0 Yes          Self-employed\n",
      " 6 56669 Male      81            0             0 Yes          Private      \n",
      " 7 53882 Male      74            1             1 Yes          Private      \n",
      " 8 10434 Female    69            0             0 No           Private      \n",
      " 9 27419 Female    59            0             0 Yes          Private      \n",
      "10 60491 Female    78            0             0 Yes          Private      \n",
      "# ... with 5,100 more rows, and 5 more variables: Residence_type <chr>,\n",
      "#   avg_glucose_level <dbl>, bmi <chr>, smoking_status <chr>, stroke <dbl>\n"
     ]
    }
   ],
   "source": [
    "library(readxl)\n",
    "data <- read_excel(\"C:/Users/DELL/Downloads/healthcare.xlsx\")\n",
    "print(data)"
   ]
  }
 ],
 "metadata": {
  "kernelspec": {
   "display_name": "R",
   "language": "R",
   "name": "ir"
  },
  "language_info": {
   "codemirror_mode": "r",
   "file_extension": ".r",
   "mimetype": "text/x-r-source",
   "name": "R",
   "pygments_lexer": "r",
   "version": "3.6.1"
  }
 },
 "nbformat": 4,
 "nbformat_minor": 4
}
